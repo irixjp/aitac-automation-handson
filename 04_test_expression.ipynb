{
 "cells": [
  {
   "cell_type": "markdown",
   "metadata": {
    "deletable": false,
    "editable": false,
    "lc_cell_meme": {
     "current": "a19fe674-f2e6-11e7-9edf-0242ac110002",
     "next": "a19fe7d2-f2e6-11e7-9edf-0242ac110002",
     "previous": null
    },
    "run_through_control": {
     "frozen": true,
     "read_only": false
    }
   },
   "source": [
    "# Ansible からのテスト"
   ]
  },
  {
   "cell_type": "markdown",
   "metadata": {
    "deletable": false,
    "editable": false,
    "lc_cell_meme": {
     "current": "a19fe7d2-f2e6-11e7-9edf-0242ac110002",
     "history": [
      {
       "current": "a19fe7d2-f2e6-11e7-9edf-0242ac110002",
       "next": null,
       "previous": "a19fe674-f2e6-11e7-9edf-0242ac110002"
      }
     ],
     "next": "e928def6-f2e6-11e7-9edf-0242ac110002",
     "previous": "a19fe674-f2e6-11e7-9edf-0242ac110002"
    },
    "run_through_control": {
     "frozen": true
    }
   },
   "source": [
    "Ansible では様々なモジュールを使うことで様々な作業を自動で行うことができます。そして Ansible のモジュールは冪等性の担保のために「宣言した状態になっているか？」を事前に確認するため、ある意味でテストも一緒に行われているとも考えることができます。\n",
    "\n",
    "しかし、実際に自動化を動かした際には、「本当に設定が入って、自分の想定通りになっているか？」という不安は常につきまといます。\n",
    "\n",
    "また、他のケースでも、作業ではなくテストをAnsibleから網羅的に実施したいという状況にも多々遭遇します。\n",
    "\n",
    "自動化において、この様な「不安をテストする」というのは非常に重要です。"
   ]
  },
  {
   "cell_type": "markdown",
   "metadata": {
    "deletable": false,
    "editable": false,
    "lc_cell_meme": {
     "current": "e928def6-f2e6-11e7-9edf-0242ac110002",
     "next": "e928e248-f2e6-11e7-9edf-0242ac110002",
     "previous": "a19fe7d2-f2e6-11e7-9edf-0242ac110002"
    },
    "run_through_control": {
     "frozen": true,
     "read_only": false
    }
   },
   "source": [
    "ここでは、Ansible を使って、テストを記述する方法を解説してきます。"
   ]
  },
  {
   "cell_type": "markdown",
   "metadata": {
    "deletable": false,
    "editable": false,
    "lc_cell_meme": {
     "current": "e928e248-f2e6-11e7-9edf-0242ac110002",
     "next": "e928e3a6-f2e6-11e7-9edf-0242ac110002",
     "previous": "e928def6-f2e6-11e7-9edf-0242ac110002"
    },
    "run_through_control": {
     "frozen": true,
     "read_only": false
    }
   },
   "source": [
    "## テストに使えるモジュール"
   ]
  },
  {
   "cell_type": "markdown",
   "metadata": {
    "deletable": false,
    "editable": false,
    "lc_cell_meme": {
     "current": "e928e3a6-f2e6-11e7-9edf-0242ac110002",
     "history": [
      {
       "current": "e928e3a6-f2e6-11e7-9edf-0242ac110002",
       "next": null,
       "previous": "e928e248-f2e6-11e7-9edf-0242ac110002"
      }
     ],
     "next": "30b2c9a8-f2e7-11e7-9edf-0242ac110002",
     "previous": "e928e248-f2e6-11e7-9edf-0242ac110002"
    },
    "run_through_control": {
     "frozen": true
    }
   },
   "source": [
    "Ansible ではテストに使えるモジュールが各種用意されています。通常、モジュールは何らかの設定作業や変更作業を行いますが、ここで紹介するモジュールは、状態を取得する、状態をテストするためのものになります。"
   ]
  },
  {
   "cell_type": "markdown",
   "metadata": {
    "deletable": false,
    "editable": false,
    "lc_cell_meme": {
     "current": "30b2c9a8-f2e7-11e7-9edf-0242ac110002",
     "history": [
      {
       "current": "30b2c9a8-f2e7-11e7-9edf-0242ac110002",
       "next": null,
       "previous": "e928e3a6-f2e6-11e7-9edf-0242ac110002"
      },
      {
       "current": "30b2c9a8-f2e7-11e7-9edf-0242ac110002",
       "next": "1f9ea334-f2e8-11e7-9edf-0242ac110002",
       "previous": "e928e3a6-f2e6-11e7-9edf-0242ac110002"
      },
      {
       "current": "30b2c9a8-f2e7-11e7-9edf-0242ac110002",
       "next": "cf499470-f2ec-11e7-9edf-0242ac110002",
       "previous": "e928e3a6-f2e6-11e7-9edf-0242ac110002"
      }
     ],
     "next": "7c7d9820-f2ee-11e7-9edf-0242ac110002",
     "previous": "e928e3a6-f2e6-11e7-9edf-0242ac110002"
    },
    "run_through_control": {
     "frozen": true
    }
   },
   "source": [
    "* [setup](http://docs.ansible.com/ansible/latest/setup_module.html) ・・・実行すると、作業対象サーバー（Linux系サーバーのみ）の設定情報を取得して、JSON形式で返します。Playbookの設定で gather_facts: true に設定されている場合、Playbookの実行前に自動的に処理が実行されます。\n",
    "* [assert](http://docs.ansible.com/ansible/latest/assert_module.html) ・・・様々な条件を与えて、その条件を満たさない場合はエラーとして処理を停止します。\n",
    "* [fail](http://docs.ansible.com/ansible/latest/fail_module.html) ・・・ assert の逆で、条件を満たした場合に失敗となりエラーで処理が停止します。\n",
    "* [wait_for](http://docs.ansible.com/ansible/latest/wait_for_module.html) ・・・ファイルの作成・削除やポートのOpen/Closeを一定時間待ちます。設定時間を超えても指定した状態にならない場合にはエラーで処理が停止します。\n",
    "* [shell](http://docs.ansible.com/ansible/latest/shell_module.html) ・・・一般的なシェルを実行して、その結果を取得します（戻り値や標準出力の結果を assert に渡すことができます）\n",
    "* [set_fact](http://docs.ansible.com/ansible/latest/set_fact_module.html) ・・・変数に値をセットします。値を加工して使う場合によく利用します。"
   ]
  },
  {
   "cell_type": "markdown",
   "metadata": {
    "deletable": false,
    "editable": false,
    "lc_cell_meme": {
     "current": "7c7d9820-f2ee-11e7-9edf-0242ac110002",
     "next": "7c7d9a46-f2ee-11e7-9edf-0242ac110002",
     "previous": "30b2c9a8-f2e7-11e7-9edf-0242ac110002"
    },
    "run_through_control": {
     "frozen": true,
     "read_only": false
    }
   },
   "source": [
    "## Jinja2 フィルター"
   ]
  },
  {
   "cell_type": "markdown",
   "metadata": {
    "deletable": false,
    "editable": false,
    "lc_cell_meme": {
     "current": "7c7d9a46-f2ee-11e7-9edf-0242ac110002",
     "next": "cf499470-f2ec-11e7-9edf-0242ac110002",
     "previous": "7c7d9820-f2ee-11e7-9edf-0242ac110002"
    },
    "run_through_control": {
     "frozen": true
    }
   },
   "source": [
    "Ansible には、Ansibleが出力する様々な値に対してフィルターを行い、値の抽出や整形、判定を行う事ができます。ここでは Jinja2 形式のフィルターが利用できます。\n",
    "\n",
    "Playbook の中では以下の形式で利用できます。\n",
    "\n",
    "`\"{{ result | successed }}\"`\n",
    "\n",
    "これは、モジュールの実行結果を result という変数に格納し、その変数 result に フィルタ「successed」を適用しています。このフィルタは格納された値の中からリターンコードが0であれば真を返します。逆に 「failed」 フィルターはリターンコードが0以外であれば真となります。\n",
    "\n",
    "他にもAnsibleには様々なフィルターが存在しています。\n",
    "\n",
    "[Filters](http://docs.ansible.com/ansible/latest/playbooks_filters.html)\n",
    "\n",
    "演習ではこれらの一部を利用してテストを実施していきます。"
   ]
  },
  {
   "cell_type": "markdown",
   "metadata": {
    "deletable": false,
    "editable": false,
    "lc_cell_meme": {
     "current": "cf499470-f2ec-11e7-9edf-0242ac110002",
     "history": [
      {
       "current": "cf499470-f2ec-11e7-9edf-0242ac110002",
       "next": "cf4999de-f2ec-11e7-9edf-0242ac110002",
       "previous": "30b2c9a8-f2e7-11e7-9edf-0242ac110002"
      }
     ],
     "next": "cf4999de-f2ec-11e7-9edf-0242ac110002",
     "previous": "7c7d9a46-f2ee-11e7-9edf-0242ac110002"
    },
    "run_through_control": {
     "frozen": true,
     "read_only": false
    }
   },
   "source": [
    "## サンプルテストの実施"
   ]
  },
  {
   "cell_type": "markdown",
   "metadata": {
    "deletable": false,
    "editable": false,
    "lc_cell_meme": {
     "current": "cf4999de-f2ec-11e7-9edf-0242ac110002",
     "history": [
      {
       "current": "cf4999de-f2ec-11e7-9edf-0242ac110002",
       "next": "1f9ea334-f2e8-11e7-9edf-0242ac110002",
       "previous": "cf499470-f2ec-11e7-9edf-0242ac110002"
      }
     ],
     "next": "16d3de7c-f2ed-11e7-9edf-0242ac110002",
     "previous": "cf499470-f2ec-11e7-9edf-0242ac110002"
    },
    "run_through_control": {
     "frozen": true,
     "read_only": false
    }
   },
   "source": [
    "演習2で作成した環境をテストするPlaybookのサンプルが準備されているので、こちらを実行してテストを実行してください。\n",
    "\n",
    "[server_ops_httpd_on_test.yml](/edit/aitac-automation-handson/server_ops_httpd_on_test.yml)\n",
    "\n",
    "少し複雑に見るかかもしれませんが、テストしている内容はいたってシンプルです。まずは、実行してみてください。"
   ]
  },
  {
   "cell_type": "code",
   "execution_count": null,
   "metadata": {
    "lc_cell_meme": {
     "current": "16d3de7c-f2ed-11e7-9edf-0242ac110002",
     "history": [
      {
       "current": "16d3de7c-f2ed-11e7-9edf-0242ac110002",
       "next": "f8b50afc-f2eb-11e7-9edf-0242ac110002",
       "previous": "cf4999de-f2ec-11e7-9edf-0242ac110002"
      },
      {
       "current": "16d3de7c-f2ed-11e7-9edf-0242ac110002",
       "next": "5e5962f8-f2ed-11e7-9edf-0242ac110002",
       "previous": "cf4999de-f2ec-11e7-9edf-0242ac110002"
      }
     ],
     "next": "ed6bc45e-f2ed-11e7-9edf-0242ac110002",
     "previous": "cf4999de-f2ec-11e7-9edf-0242ac110002"
    }
   },
   "outputs": [],
   "source": [
    "# この Cell を実行します。\n",
    "\n",
    "ansible-playbook -i inventories/02_server_ops \\\n",
    "                 --private-key aitac-automation-key.pem -u centos -b \\\n",
    "                 server_ops_httpd_on_test.yml"
   ]
  },
  {
   "cell_type": "markdown",
   "metadata": {
    "deletable": false,
    "editable": false,
    "lc_cell_meme": {
     "current": "ed6bc45e-f2ed-11e7-9edf-0242ac110002",
     "history": [
      {
       "current": "ed6bc45e-f2ed-11e7-9edf-0242ac110002",
       "next": "5e5962f8-f2ed-11e7-9edf-0242ac110002",
       "previous": "16d3de7c-f2ed-11e7-9edf-0242ac110002"
      }
     ],
     "next": "34f3c010-f2ee-11e7-9edf-0242ac110002",
     "previous": "16d3de7c-f2ed-11e7-9edf-0242ac110002"
    },
    "run_through_control": {
     "frozen": true,
     "read_only": false
    }
   },
   "source": [
    "ここまでの演習が問題なければ、正常に終了するはずです。"
   ]
  },
  {
   "cell_type": "markdown",
   "metadata": {
    "deletable": false,
    "editable": false,
    "lc_cell_meme": {
     "current": "34f3c010-f2ee-11e7-9edf-0242ac110002",
     "next": "5e5962f8-f2ed-11e7-9edf-0242ac110002",
     "previous": "ed6bc45e-f2ed-11e7-9edf-0242ac110002"
    },
    "run_through_control": {
     "frozen": true,
     "read_only": false
    }
   },
   "source": [
    "では、わざとエラーとなるように、HTTPDを停止して再度Playbookを実行してください。"
   ]
  },
  {
   "cell_type": "code",
   "execution_count": null,
   "metadata": {
    "lc_cell_meme": {
     "current": "5e5962f8-f2ed-11e7-9edf-0242ac110002",
     "history": [
      {
       "current": "5e5962f8-f2ed-11e7-9edf-0242ac110002",
       "next": "16d3de7c-f2ed-11e7-9edf-0242ac110002",
       "previous": "16d3de7c-f2ed-11e7-9edf-0242ac110002"
      },
      {
       "current": "5e5962f8-f2ed-11e7-9edf-0242ac110002",
       "next": "16d3de7c-f2ed-11e7-9edf-0242ac110002",
       "previous": "5e5962f8-f2ed-11e7-9edf-0242ac110002"
      },
      {
       "current": "5e5962f8-f2ed-11e7-9edf-0242ac110002",
       "next": "16d3de7c-f2ed-11e7-9edf-0242ac110002",
       "previous": "ed6bc45e-f2ed-11e7-9edf-0242ac110002"
      }
     ],
     "next": "16d3de7c-f2ed-11e7-9edf-0242ac110002",
     "previous": "34f3c010-f2ee-11e7-9edf-0242ac110002"
    }
   },
   "outputs": [],
   "source": [
    "# この Cell を実行します。\n",
    "ansible target -i inventories/02_server_ops \\\n",
    "               --private-key aitac-automation-key.pem -u centos -b \\\n",
    "               -m shell -a \"systemctl stop httpd\""
   ]
  },
  {
   "cell_type": "code",
   "execution_count": null,
   "metadata": {
    "lc_cell_meme": {
     "current": "16d3de7c-f2ed-11e7-9edf-0242ac110002",
     "history": [
      {
       "current": "16d3de7c-f2ed-11e7-9edf-0242ac110002",
       "next": "f8b50afc-f2eb-11e7-9edf-0242ac110002",
       "previous": "cf4999de-f2ec-11e7-9edf-0242ac110002"
      },
      {
       "current": "16d3de7c-f2ed-11e7-9edf-0242ac110002",
       "next": "87c4ad56-f2ec-11e7-9edf-0242ac110002",
       "previous": "5e5962f8-f2ed-11e7-9edf-0242ac110002"
      },
      {
       "current": "16d3de7c-f2ed-11e7-9edf-0242ac110002",
       "next": "5e5962f8-f2ed-11e7-9edf-0242ac110002",
       "previous": "5e5962f8-f2ed-11e7-9edf-0242ac110002"
      }
     ],
     "next": "34f3c218-f2ee-11e7-9edf-0242ac110002",
     "previous": "5e5962f8-f2ed-11e7-9edf-0242ac110002"
    }
   },
   "outputs": [],
   "source": [
    "# この Cell を実行します。\n",
    "\n",
    "ansible-playbook -i inventories/02_server_ops \\\n",
    "                 --private-key aitac-automation-key.pem -u centos -b \\\n",
    "                 server_ops_httpd_on_test.yml"
   ]
  },
  {
   "cell_type": "markdown",
   "metadata": {
    "deletable": false,
    "editable": false,
    "lc_cell_meme": {
     "current": "34f3c218-f2ee-11e7-9edf-0242ac110002",
     "next": "5e5962f8-f2ed-11e7-9edf-0242ac110002",
     "previous": "16d3de7c-f2ed-11e7-9edf-0242ac110002"
    },
    "run_through_control": {
     "frozen": true,
     "read_only": false
    }
   },
   "source": [
    "今度はエラーになったはずです。\n",
    "\n",
    "HTTPDを再開して再度テストを実行してください。"
   ]
  },
  {
   "cell_type": "code",
   "execution_count": null,
   "metadata": {
    "lc_cell_meme": {
     "current": "5e5962f8-f2ed-11e7-9edf-0242ac110002",
     "history": [
      {
       "current": "5e5962f8-f2ed-11e7-9edf-0242ac110002",
       "next": "16d3de7c-f2ed-11e7-9edf-0242ac110002",
       "previous": "16d3de7c-f2ed-11e7-9edf-0242ac110002"
      },
      {
       "current": "5e5962f8-f2ed-11e7-9edf-0242ac110002",
       "next": "16d3de7c-f2ed-11e7-9edf-0242ac110002",
       "previous": "5e5962f8-f2ed-11e7-9edf-0242ac110002"
      },
      {
       "current": "5e5962f8-f2ed-11e7-9edf-0242ac110002",
       "next": "16d3de7c-f2ed-11e7-9edf-0242ac110002",
       "previous": "16d3de7c-f2ed-11e7-9edf-0242ac110002"
      },
      {
       "current": "5e5962f8-f2ed-11e7-9edf-0242ac110002",
       "next": "16d3de7c-f2ed-11e7-9edf-0242ac110002",
       "previous": "34f3c218-f2ee-11e7-9edf-0242ac110002"
      },
      {
       "current": "5e5962f8-f2ed-11e7-9edf-0242ac110002",
       "next": "5e5962f8-f2ed-11e7-9edf-0242ac110002",
       "previous": "34f3c218-f2ee-11e7-9edf-0242ac110002"
      }
     ],
     "next": "16d3de7c-f2ed-11e7-9edf-0242ac110002",
     "previous": "34f3c218-f2ee-11e7-9edf-0242ac110002"
    }
   },
   "outputs": [],
   "source": [
    "# この Cell を実行します。\n",
    "ansible target -i inventories/02_server_ops \\\n",
    "               --private-key aitac-automation-key.pem -u centos -b \\\n",
    "               -m shell -a \"systemctl start httpd\""
   ]
  },
  {
   "cell_type": "code",
   "execution_count": null,
   "metadata": {
    "lc_cell_meme": {
     "current": "16d3de7c-f2ed-11e7-9edf-0242ac110002",
     "history": [
      {
       "current": "16d3de7c-f2ed-11e7-9edf-0242ac110002",
       "next": "f8b50afc-f2eb-11e7-9edf-0242ac110002",
       "previous": "cf4999de-f2ec-11e7-9edf-0242ac110002"
      },
      {
       "current": "16d3de7c-f2ed-11e7-9edf-0242ac110002",
       "next": "87c4ad56-f2ec-11e7-9edf-0242ac110002",
       "previous": "5e5962f8-f2ed-11e7-9edf-0242ac110002"
      },
      {
       "current": "16d3de7c-f2ed-11e7-9edf-0242ac110002",
       "next": "16d3de7c-f2ed-11e7-9edf-0242ac110002",
       "previous": "5e5962f8-f2ed-11e7-9edf-0242ac110002"
      },
      {
       "current": "16d3de7c-f2ed-11e7-9edf-0242ac110002",
       "next": "87c4ad56-f2ec-11e7-9edf-0242ac110002",
       "previous": "5e5962f8-f2ed-11e7-9edf-0242ac110002"
      },
      {
       "current": "16d3de7c-f2ed-11e7-9edf-0242ac110002",
       "next": "16d3de7c-f2ed-11e7-9edf-0242ac110002",
       "previous": "5e5962f8-f2ed-11e7-9edf-0242ac110002"
      }
     ],
     "next": "87c4ad56-f2ec-11e7-9edf-0242ac110002",
     "previous": "5e5962f8-f2ed-11e7-9edf-0242ac110002"
    }
   },
   "outputs": [],
   "source": [
    "# この Cell を実行します。\n",
    "\n",
    "ansible-playbook -i inventories/02_server_ops \\\n",
    "                 --private-key aitac-automation-key.pem -u centos -b \\\n",
    "                 server_ops_httpd_on_test.yml"
   ]
  },
  {
   "cell_type": "markdown",
   "metadata": {
    "deletable": false,
    "editable": false,
    "lc_cell_meme": {
     "current": "87c4ad56-f2ec-11e7-9edf-0242ac110002",
     "history": [
      {
       "current": "87c4ad56-f2ec-11e7-9edf-0242ac110002",
       "next": null,
       "previous": "87c4ab3a-f2ec-11e7-9edf-0242ac110002"
      },
      {
       "current": "87c4ad56-f2ec-11e7-9edf-0242ac110002",
       "next": null,
       "previous": "16d3de7c-f2ed-11e7-9edf-0242ac110002"
      }
     ],
     "next": "34f3c358-f2ee-11e7-9edf-0242ac110002",
     "previous": "16d3de7c-f2ed-11e7-9edf-0242ac110002"
    },
    "run_through_control": {
     "frozen": true,
     "read_only": false
    }
   },
   "source": [
    "再びテストが成功するようになったはずです。"
   ]
  },
  {
   "cell_type": "markdown",
   "metadata": {
    "deletable": false,
    "editable": false,
    "lc_cell_meme": {
     "current": "34f3c358-f2ee-11e7-9edf-0242ac110002",
     "history": [
      {
       "current": "34f3c358-f2ee-11e7-9edf-0242ac110002",
       "next": null,
       "previous": "87c4ad56-f2ec-11e7-9edf-0242ac110002"
      }
     ],
     "next": "4867389a-f2f1-11e7-9edf-0242ac110002",
     "previous": "87c4ad56-f2ec-11e7-9edf-0242ac110002"
    },
    "run_through_control": {
     "frozen": true,
     "read_only": false
    }
   },
   "source": [
    "ここで行われているテストは以下となります。\n",
    "\n",
    "* rpm -qa の結果に httpd が含まれているかを確認 → 含まれていればパッケージがインストールされている\n",
    "* ps -ef の結果に httpd が含まれているかを確認 → 含まれていればhttpdが起動している\n",
    "* 他のホストから target サーバーのポート80がACTIVEになっているかを確認\n",
    "* index.html が存在しているか？\n",
    "* 他のホストから target サーバーへ接続して、コンテンツが取得できるか？\n",
    "* 取得したコンテンツに特定の文字列が含まれているか？\n",
    "\n",
    "サンプルですので、やや冗長なテストを実施していますが、Ansible からこのようなテストを実施することが可能です。\n",
    "\n"
   ]
  },
  {
   "cell_type": "markdown",
   "metadata": {
    "deletable": false,
    "editable": false,
    "lc_cell_meme": {
     "current": "4867389a-f2f1-11e7-9edf-0242ac110002",
     "history": [
      {
       "current": "4867389a-f2f1-11e7-9edf-0242ac110002",
       "next": null,
       "previous": "34f3c358-f2ee-11e7-9edf-0242ac110002"
      },
      {
       "current": "4867389a-f2f1-11e7-9edf-0242ac110002",
       "next": "6696c47e-f2f2-11e7-9edf-0242ac110002",
       "previous": "34f3c358-f2ee-11e7-9edf-0242ac110002"
      }
     ],
     "next": "e7e8b1b4-f378-11e7-9edf-0242ac110002",
     "previous": "34f3c358-f2ee-11e7-9edf-0242ac110002"
    },
    "run_through_control": {
     "frozen": true
    }
   },
   "source": [
    "一度記述したテストは何度も実行可能です。従来は構築や何らかの変更作業の後に、様々な確認を人手で行っていたとおもいますが、Ansibleではそのようなテストも自動化し、何度もコスト0で実行することが可能です。"
   ]
  },
  {
   "cell_type": "markdown",
   "metadata": {
    "deletable": false,
    "editable": false,
    "lc_cell_meme": {
     "current": "e7e8b1b4-f378-11e7-9edf-0242ac110002",
     "next": "e7e8b40c-f378-11e7-9edf-0242ac110002",
     "previous": "4867389a-f2f1-11e7-9edf-0242ac110002"
    },
    "run_through_control": {
     "frozen": true
    }
   },
   "source": [
    "以下は、ダイナミックインベントリを利用した場合の例です。\n",
    "\n",
    "[server_ops_httpd_on_test_with_dinv.yml](/edit/aitac-automation-handson/server_ops_httpd_on_test_with_dinv.yml)\n",
    "\n",
    "Playbook の中で指定している `hosts:` 部分だけが異なっています。"
   ]
  },
  {
   "cell_type": "code",
   "execution_count": null,
   "metadata": {
    "lc_cell_meme": {
     "current": "e7e8b40c-f378-11e7-9edf-0242ac110002",
     "history": [
      {
       "current": "e7e8b40c-f378-11e7-9edf-0242ac110002",
       "next": "6696c47e-f2f2-11e7-9edf-0242ac110002",
       "previous": "e7e8b1b4-f378-11e7-9edf-0242ac110002"
      }
     ],
     "next": "d4e813e6-f433-11e7-b6b4-0242ac110002",
     "previous": "e7e8b1b4-f378-11e7-9edf-0242ac110002"
    }
   },
   "outputs": [],
   "source": [
    "# この Cell を実行します。\n",
    "\n",
    "ansible-playbook -i ./inventories/ec2.py \\\n",
    "                 -u centos --private-key aitac-automation-key.pem \\\n",
    "                 server_ops_httpd_on_test_with_dinv.yml"
   ]
  },
  {
   "cell_type": "markdown",
   "metadata": {
    "deletable": false,
    "editable": false,
    "lc_cell_meme": {
     "current": "d4e813e6-f433-11e7-b6b4-0242ac110002",
     "next": "6696c47e-f2f2-11e7-9edf-0242ac110002",
     "previous": "e7e8b40c-f378-11e7-9edf-0242ac110002"
    },
    "run_through_control": {
     "frozen": true
    }
   },
   "source": [
    "結果は通常のインベントリを使用した場合と同様になるはずです。"
   ]
  },
  {
   "cell_type": "markdown",
   "metadata": {
    "deletable": false,
    "editable": false,
    "lc_cell_meme": {
     "current": "6696c47e-f2f2-11e7-9edf-0242ac110002",
     "history": [
      {
       "current": "6696c47e-f2f2-11e7-9edf-0242ac110002",
       "next": null,
       "previous": "4867389a-f2f1-11e7-9edf-0242ac110002"
      },
      {
       "current": "6696c47e-f2f2-11e7-9edf-0242ac110002",
       "next": null,
       "previous": "e7e8b40c-f378-11e7-9edf-0242ac110002"
      }
     ],
     "next": null,
     "previous": "d4e813e6-f433-11e7-b6b4-0242ac110002"
    },
    "run_through_control": {
     "frozen": true,
     "read_only": false
    }
   },
   "source": [
    "本演習は以上です。"
   ]
  }
 ],
 "metadata": {
  "kernelspec": {
   "display_name": "Bash",
   "language": "bash",
   "name": "bash"
  },
  "language_info": {
   "codemirror_mode": "shell",
   "file_extension": ".sh",
   "mimetype": "text/x-sh",
   "name": "bash"
  },
  "lc_notebook_meme": {
   "current": "a19fe1c4-f2e6-11e7-9edf-0242ac110002",
   "lc_server_signature": {
    "current": {
     "notebook_dir": "/notebooks",
     "notebook_path": "/aitac-automation-handson",
     "server_url": "http://localhost:8888/",
     "signature_id": "a30ccda8-f42e-11e7-b6b4-0242ac110002"
    },
    "history": [
     {
      "notebook_dir": "/notebooks",
      "notebook_path": "/aitac-automation-handson",
      "server_url": "http://13.112.122.31:8888/",
      "signature_id": "a266f498-eebe-11e7-9edf-0242ac110002"
     }
    ]
   }
  },
  "toc": {
   "nav_menu": {},
   "number_sections": true,
   "sideBar": true,
   "skip_h1_title": true,
   "title_cell": "Table of Contents",
   "title_sidebar": "Contents",
   "toc_cell": false,
   "toc_position": {},
   "toc_section_display": true,
   "toc_window_display": true
  }
 },
 "nbformat": 4,
 "nbformat_minor": 2
}
