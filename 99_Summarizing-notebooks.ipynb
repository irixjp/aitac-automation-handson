{
 "cells": [
  {
   "cell_type": "markdown",
   "metadata": {
    "collapsed": true,
    "lc_cell_meme": {
     "current": "f64e43ee-13c3-11e7-b31a-0242ac12000d",
     "history": [
      {
       "current": "f64e43ee-13c3-11e7-b31a-0242ac12000d",
       "next": "f64e4628-13c3-11e7-b31a-0242ac12000d",
       "previous": null
      }
     ],
     "next": "771e4f2e-1fd0-11e7-b31a-0242ac12000d",
     "previous": null
    },
    "nbpresent": {
     "id": "40314b59-e8b3-4aad-a218-07584ba2b71d"
    }
   },
   "source": [
    "# About: Notebookの利用フローまとめ\n",
    "\n",
    "----\n",
    "\n",
    "Notebookの利用フローを図としてまとめる例です。"
   ]
  },
  {
   "cell_type": "markdown",
   "metadata": {
    "lc_cell_meme": {
     "current": "771e4f2e-1fd0-11e7-b31a-0242ac12000d",
     "history": [
      {
       "current": "771e4f2e-1fd0-11e7-b31a-0242ac12000d",
       "next": "f64e4628-13c3-11e7-b31a-0242ac12000d",
       "previous": "f64e43ee-13c3-11e7-b31a-0242ac12000d"
      },
      {
       "current": "771e4f2e-1fd0-11e7-b31a-0242ac12000d",
       "next": "bea97c06-1fd0-11e7-b31a-0242ac12000d",
       "previous": "f64e43ee-13c3-11e7-b31a-0242ac12000d"
      }
     ],
     "next": "0630e4d8-1fd1-11e7-b31a-0242ac12000d",
     "previous": "f64e43ee-13c3-11e7-b31a-0242ac12000d"
    }
   },
   "source": [
    "# 必要なツール\n",
    "\n",
    "このNotebookの実行には[blockdiag](http://blockdiag.com/ja/blockdiag/)が必要です。"
   ]
  },
  {
   "cell_type": "code",
   "execution_count": null,
   "metadata": {
    "lc_cell_meme": {
     "current": "0630e4d8-1fd1-11e7-b31a-0242ac12000d",
     "next": "0630e942-1fd1-11e7-b31a-0242ac12000d",
     "previous": "771e4f2e-1fd0-11e7-b31a-0242ac12000d"
    },
    "run_control": {
     "frozen": true
    }
   },
   "outputs": [],
   "source": [
    "!which blockdiag"
   ]
  },
  {
   "cell_type": "markdown",
   "metadata": {
    "lc_cell_meme": {
     "current": "0630e942-1fd1-11e7-b31a-0242ac12000d",
     "next": "bea97c06-1fd0-11e7-b31a-0242ac12000d",
     "previous": "0630e4d8-1fd1-11e7-b31a-0242ac12000d"
    }
   },
   "source": [
    "このNotebook環境にblockdiagコマンドがインストールされていない場合は、以下のようにしてblockdiagパッケージをインストールします。\n",
    "(pipコマンドの場所は環境により異なります。)\n",
    "\n",
    "lxmlも必要なので入れておきます。"
   ]
  },
  {
   "cell_type": "code",
   "execution_count": null,
   "metadata": {
    "lc_cell_meme": {
     "current": "bea97c06-1fd0-11e7-b31a-0242ac12000d",
     "history": [
      {
       "current": "bea97c06-1fd0-11e7-b31a-0242ac12000d",
       "next": "f64e4628-13c3-11e7-b31a-0242ac12000d",
       "previous": "771e4f2e-1fd0-11e7-b31a-0242ac12000d"
      },
      {
       "current": "bea97c06-1fd0-11e7-b31a-0242ac12000d",
       "next": "f64e4bfa-13c3-11e7-b31a-0242ac12000d",
       "previous": "0630e942-1fd1-11e7-b31a-0242ac12000d"
      }
     ],
     "next": "79dae028-a717-11e7-870a-02420aff0006",
     "previous": "0630e942-1fd1-11e7-b31a-0242ac12000d"
    },
    "run_control": {
     "frozen": true
    }
   },
   "outputs": [],
   "source": [
    "!sudo pip2 install blockdiag lxml"
   ]
  },
  {
   "cell_type": "markdown",
   "metadata": {
    "lc_cell_meme": {
     "current": "79dae028-a717-11e7-870a-02420aff0006",
     "next": "79dae51e-a717-11e7-870a-02420aff0006",
     "previous": "bea97c06-1fd0-11e7-b31a-0242ac12000d"
    }
   },
   "source": [
    "fonts-japanese-gothic.ttfも入れておく"
   ]
  },
  {
   "cell_type": "code",
   "execution_count": null,
   "metadata": {
    "lc_cell_meme": {
     "current": "79dae51e-a717-11e7-870a-02420aff0006",
     "next": "f64e4bfa-13c3-11e7-b31a-0242ac12000d",
     "previous": "79dae028-a717-11e7-870a-02420aff0006"
    }
   },
   "outputs": [],
   "source": [
    "!sudo apt-get update && sudo apt-get upgrade -y\n",
    "!sudo apt-get install -y fonts-ipaexfont-gothic"
   ]
  },
  {
   "cell_type": "markdown",
   "metadata": {
    "collapsed": true,
    "lc_cell_meme": {
     "current": "f64e4bfa-13c3-11e7-b31a-0242ac12000d",
     "history": [
      {
       "current": "f64e4bfa-13c3-11e7-b31a-0242ac12000d",
       "next": "f64e4dd0-13c3-11e7-b31a-0242ac12000d",
       "previous": "f64e4a1a-13c3-11e7-b31a-0242ac12000d"
      },
      {
       "current": "f64e4bfa-13c3-11e7-b31a-0242ac12000d",
       "next": "3dd51a6c-13c4-11e7-b31a-0242ac12000d",
       "previous": "f64e4a1a-13c3-11e7-b31a-0242ac12000d"
      },
      {
       "current": "f64e4bfa-13c3-11e7-b31a-0242ac12000d",
       "next": "3dd51a6c-13c4-11e7-b31a-0242ac12000d",
       "previous": "250a00b2-13f9-11e7-b31a-0242ac12000d"
      },
      {
       "current": "f64e4bfa-13c3-11e7-b31a-0242ac12000d",
       "next": "3dd51a6c-13c4-11e7-b31a-0242ac12000d",
       "previous": "f64e5c30-13c3-11e7-b31a-0242ac12000d"
      },
      {
       "current": "f64e4bfa-13c3-11e7-b31a-0242ac12000d",
       "next": "f64e4dd0-13c3-11e7-b31a-0242ac12000d",
       "previous": "bea97c06-1fd0-11e7-b31a-0242ac12000d"
      },
      {
       "current": "f64e4bfa-13c3-11e7-b31a-0242ac12000d",
       "next": "4db6179c-1fd1-11e7-b31a-0242ac12000d",
       "previous": "bea97c06-1fd0-11e7-b31a-0242ac12000d"
      }
     ],
     "next": "4db6179c-1fd1-11e7-b31a-0242ac12000d",
     "previous": "79dae51e-a717-11e7-870a-02420aff0006"
    },
    "nbpresent": {
     "id": "254432a4-e8fc-4d50-ac21-04a62e34643a"
    }
   },
   "source": [
    "# ブロック図による一覧生成\n",
    "\n",
    "以下のセルを実行(`Run All Below`)することで、Notebookがそれぞれどのような局面での利用を想定しているのか、ブロック図で確認することができます。\n",
    "\n",
    "ブロック図は `images/notebooks-filled.svg` として保存し、他のNotebookから必要に応じて参照することとします。"
   ]
  },
  {
   "cell_type": "markdown",
   "metadata": {
    "lc_cell_meme": {
     "current": "4db6179c-1fd1-11e7-b31a-0242ac12000d",
     "next": "f64e4dd0-13c3-11e7-b31a-0242ac12000d",
     "previous": "f64e4bfa-13c3-11e7-b31a-0242ac12000d"
    }
   },
   "source": [
    "一時ファイルは以下のディレクトリに作成します。"
   ]
  },
  {
   "cell_type": "code",
   "execution_count": null,
   "metadata": {
    "lc_cell_meme": {
     "current": "f64e4dd0-13c3-11e7-b31a-0242ac12000d",
     "history": [
      {
       "current": "f64e4dd0-13c3-11e7-b31a-0242ac12000d",
       "next": "f64e4f9c-13c3-11e7-b31a-0242ac12000d",
       "previous": "f64e4bfa-13c3-11e7-b31a-0242ac12000d"
      },
      {
       "current": "f64e4dd0-13c3-11e7-b31a-0242ac12000d",
       "next": "f64e4f9c-13c3-11e7-b31a-0242ac12000d",
       "previous": "3dd51a6c-13c4-11e7-b31a-0242ac12000d"
      },
      {
       "current": "f64e4dd0-13c3-11e7-b31a-0242ac12000d",
       "next": "f64e4f9c-13c3-11e7-b31a-0242ac12000d",
       "previous": "f64e4bfa-13c3-11e7-b31a-0242ac12000d"
      }
     ],
     "next": "4db61d64-1fd1-11e7-b31a-0242ac12000d",
     "previous": "4db6179c-1fd1-11e7-b31a-0242ac12000d"
    },
    "run_control": {
     "frozen": true
    }
   },
   "outputs": [],
   "source": [
    "import tempfile\n",
    "work_dir = tempfile.mkdtemp()\n",
    "work_dir"
   ]
  },
  {
   "cell_type": "markdown",
   "metadata": {
    "lc_cell_meme": {
     "current": "4db61d64-1fd1-11e7-b31a-0242ac12000d",
     "next": "f64e4f9c-13c3-11e7-b31a-0242ac12000d",
     "previous": "f64e4dd0-13c3-11e7-b31a-0242ac12000d"
    }
   },
   "source": [
    "## 雛形の生成\n",
    "\n",
    "まず、Notebookの利用フローを表したブロック図の雛形を作成します。\n",
    "\n",
    "今回は雛形作成は人手により行っています。各ブロックには、Notebook名の先頭文字列を与えるものとします。"
   ]
  },
  {
   "cell_type": "code",
   "execution_count": null,
   "metadata": {
    "lc_cell_meme": {
     "current": "f64e4f9c-13c3-11e7-b31a-0242ac12000d",
     "history": [
      {
       "current": "f64e4f9c-13c3-11e7-b31a-0242ac12000d",
       "next": "f64e5168-13c3-11e7-b31a-0242ac12000d",
       "previous": "f64e4dd0-13c3-11e7-b31a-0242ac12000d"
      },
      {
       "current": "f64e4f9c-13c3-11e7-b31a-0242ac12000d",
       "next": "f64e5168-13c3-11e7-b31a-0242ac12000d",
       "previous": "4db61d64-1fd1-11e7-b31a-0242ac12000d"
      }
     ],
     "next": "855aa226-13c4-11e7-b31a-0242ac12000d",
     "previous": "4db61d64-1fd1-11e7-b31a-0242ac12000d"
    },
    "run_control": {
     "frozen": true
    }
   },
   "outputs": [],
   "source": [
    "%%writefile {work_dir}/notebooks.diag\n",
    "blockdiag {\n",
    "    node_width = 220;\n",
    "    node_height = 180;\n",
    "\n",
    "    00_start_here -> 01_cloud_ops_and_ansible_basic [folded]\n",
    "    01_cloud_ops_and_ansible_basic -> 02_server_ops\n",
    "    02_server_ops -> 03_dynamic_inventory\n",
    "    03_dynamic_inventory -> 04_test_expression [folded]\n",
    "    04_test_expression -> 05_delete_target_servers\n",
    "    05_delete_target_servers -> 06_loop_include_import_role_etc [folded]\n",
    "    06_loop_include_import_role_etc -> 10_advanced_handson\n",
    "\n",
    "    group {\n",
    "        label = \"はじめに\"\n",
    "        00_start_here\n",
    "    }\n",
    "\n",
    "    group {\n",
    "        label = \"基本\"\n",
    "        01_cloud_ops_and_ansible_basic\n",
    "        02_server_ops\n",
    "        03_dynamic_inventory\n",
    "        04_test_expression\n",
    "        05_delete_target_servers\n",
    "    }\n",
    "\n",
    "    group {\n",
    "        label = \"応用\"\n",
    "        06_loop_include_import_role_etc\n",
    "        10_advanced_handson\n",
    "    }\n",
    "}"
   ]
  },
  {
   "cell_type": "markdown",
   "metadata": {
    "lc_cell_meme": {
     "current": "855aa226-13c4-11e7-b31a-0242ac12000d",
     "history": [
      {
       "current": "855aa226-13c4-11e7-b31a-0242ac12000d",
       "next": "f64e5334-13c3-11e7-b31a-0242ac12000d",
       "previous": "f64e5168-13c3-11e7-b31a-0242ac12000d"
      }
     ],
     "next": "f64e5334-13c3-11e7-b31a-0242ac12000d",
     "previous": "f64e4f9c-13c3-11e7-b31a-0242ac12000d"
    }
   },
   "source": [
    "雛形を作成します。以下のような表示となります。"
   ]
  },
  {
   "cell_type": "code",
   "execution_count": null,
   "metadata": {
    "lc_cell_meme": {
     "current": "f64e5334-13c3-11e7-b31a-0242ac12000d",
     "history": [
      {
       "current": "f64e5334-13c3-11e7-b31a-0242ac12000d",
       "next": "f64e550a-13c3-11e7-b31a-0242ac12000d",
       "previous": "f64e5168-13c3-11e7-b31a-0242ac12000d"
      }
     ],
     "next": "855aa7d0-13c4-11e7-b31a-0242ac12000d",
     "previous": "855aa226-13c4-11e7-b31a-0242ac12000d"
    },
    "pinned_outputs": [
     {
      "execution_count": 6,
      "outputs": [
       {
        "data": {
         "image/svg+xml": "<svg viewBox=\"0 0 916 920\" xmlns=\"http://www.w3.org/2000/svg\" xmlns:inkspace=\"http://www.inkscape.org/namespaces/inkscape\" xmlns:xlink=\"http://www.w3.org/1999/xlink\">\n  <defs id=\"defs_block\">\n    <filter height=\"1.504\" id=\"filter_blur\" inkspace:collect=\"always\" width=\"1.1575\" x=\"-0.07875\" y=\"-0.252\">\n      <feGaussianBlur id=\"feGaussianBlur3780\" inkspace:collect=\"always\" stdDeviation=\"4.2\"/>\n    </filter>\n  </defs>\n  <title>blockdiag</title>\n  <desc>blockdiag {\n    node_width = 220;\n    node_height = 180;\n\n    00_start_here -&gt; 01_cloud_ops_and_ansible_basic [folded]\n    01_cloud_ops_and_ansible_basic -&gt; 02_server_ops\n    02_server_ops -&gt; 03_dynamic_inventory\n    03_dynamic_inventory -&gt; 04_test_expression [folded]\n    04_test_expression -&gt; 05_delete_target_servers\n    05_delete_target_servers -&gt; 06_loop_include_import_role_etc [folded]\n    06_loop_include_import_role_etc -&gt; 10_advanced_handson\n\n    group {\n        label = &quot;はじめに&quot;\n        00_start_here\n    }\n\n    group {\n        label = &quot;基本&quot;\n        01_cloud_ops_and_ansible_basic\n        02_server_ops\n        03_dynamic_inventory\n        04_test_expression\n        05_delete_target_servers\n    }\n\n    group {\n        label = &quot;応用&quot;\n        06_loop_include_import_role_etc\n        10_advanced_handson\n    }\n}</desc>\n  <rect fill=\"rgb(243,152,0)\" height=\"200\" style=\"filter:url(#filter_blur)\" width=\"236\" x=\"56\" y=\"30\"/>\n  <rect fill=\"rgb(243,152,0)\" height=\"420\" style=\"filter:url(#filter_blur)\" width=\"804\" x=\"56\" y=\"250\"/>\n  <rect fill=\"rgb(243,152,0)\" height=\"200\" style=\"filter:url(#filter_blur)\" width=\"520\" x=\"56\" y=\"690\"/>\n  <rect fill=\"rgb(0,0,0)\" height=\"180\" stroke=\"rgb(0,0,0)\" style=\"filter:url(#filter_blur);opacity:0.7;fill-opacity:1\" width=\"220\" x=\"67\" y=\"46\"/>\n  <rect fill=\"rgb(0,0,0)\" height=\"180\" stroke=\"rgb(0,0,0)\" style=\"filter:url(#filter_blur);opacity:0.7;fill-opacity:1\" width=\"220\" x=\"67\" y=\"266\"/>\n  <rect fill=\"rgb(0,0,0)\" height=\"180\" stroke=\"rgb(0,0,0)\" style=\"filter:url(#filter_blur);opacity:0.7;fill-opacity:1\" width=\"220\" x=\"351\" y=\"266\"/>\n  <rect fill=\"rgb(0,0,0)\" height=\"180\" stroke=\"rgb(0,0,0)\" style=\"filter:url(#filter_blur);opacity:0.7;fill-opacity:1\" width=\"220\" x=\"635\" y=\"266\"/>\n  <rect fill=\"rgb(0,0,0)\" height=\"180\" stroke=\"rgb(0,0,0)\" style=\"filter:url(#filter_blur);opacity:0.7;fill-opacity:1\" width=\"220\" x=\"67\" y=\"486\"/>\n  <rect fill=\"rgb(0,0,0)\" height=\"180\" stroke=\"rgb(0,0,0)\" style=\"filter:url(#filter_blur);opacity:0.7;fill-opacity:1\" width=\"220\" x=\"351\" y=\"486\"/>\n  <rect fill=\"rgb(0,0,0)\" height=\"180\" stroke=\"rgb(0,0,0)\" style=\"filter:url(#filter_blur);opacity:0.7;fill-opacity:1\" width=\"220\" x=\"67\" y=\"706\"/>\n  <rect fill=\"rgb(0,0,0)\" height=\"180\" stroke=\"rgb(0,0,0)\" style=\"filter:url(#filter_blur);opacity:0.7;fill-opacity:1\" width=\"220\" x=\"351\" y=\"706\"/>\n  <rect fill=\"rgb(255,255,255)\" height=\"180\" stroke=\"rgb(0,0,0)\" width=\"220\" x=\"64\" y=\"40\"/>\n  <text fill=\"rgb(0,0,0)\" font-family=\"sans-serif\" font-size=\"11\" font-style=\"normal\" font-weight=\"normal\" text-anchor=\"middle\" textLength=\"72\" x=\"174\" y=\"136\">00_start_here</text>\n  <rect fill=\"rgb(255,255,255)\" height=\"180\" stroke=\"rgb(0,0,0)\" width=\"220\" x=\"64\" y=\"260\"/>\n  <text fill=\"rgb(0,0,0)\" font-family=\"sans-serif\" font-size=\"11\" font-style=\"normal\" font-weight=\"normal\" text-anchor=\"middle\" textLength=\"177\" x=\"174\" y=\"356\">01_cloud_ops_and_ansible_basic</text>\n  <rect fill=\"rgb(255,255,255)\" height=\"180\" stroke=\"rgb(0,0,0)\" width=\"220\" x=\"348\" y=\"260\"/>\n  <text fill=\"rgb(0,0,0)\" font-family=\"sans-serif\" font-size=\"11\" font-style=\"normal\" font-weight=\"normal\" text-anchor=\"middle\" textLength=\"75\" x=\"458\" y=\"357\">02_server_ops</text>\n  <rect fill=\"rgb(255,255,255)\" height=\"180\" stroke=\"rgb(0,0,0)\" width=\"220\" x=\"632\" y=\"260\"/>\n  <text fill=\"rgb(0,0,0)\" font-family=\"sans-serif\" font-size=\"11\" font-style=\"normal\" font-weight=\"normal\" text-anchor=\"middle\" textLength=\"119\" x=\"742\" y=\"356\">03_dynamic_inventory</text>\n  <rect fill=\"rgb(255,255,255)\" height=\"180\" stroke=\"rgb(0,0,0)\" width=\"220\" x=\"64\" y=\"480\"/>\n  <text fill=\"rgb(0,0,0)\" font-family=\"sans-serif\" font-size=\"11\" font-style=\"normal\" font-weight=\"normal\" text-anchor=\"middle\" textLength=\"100\" x=\"174\" y=\"577\">04_test_expression</text>\n  <rect fill=\"rgb(255,255,255)\" height=\"180\" stroke=\"rgb(0,0,0)\" width=\"220\" x=\"348\" y=\"480\"/>\n  <text fill=\"rgb(0,0,0)\" font-family=\"sans-serif\" font-size=\"11\" font-style=\"normal\" font-weight=\"normal\" text-anchor=\"middle\" textLength=\"129\" x=\"458\" y=\"576\">05_delete_target_servers</text>\n  <rect fill=\"rgb(255,255,255)\" height=\"180\" stroke=\"rgb(0,0,0)\" width=\"220\" x=\"64\" y=\"700\"/>\n  <text fill=\"rgb(0,0,0)\" font-family=\"sans-serif\" font-size=\"11\" font-style=\"normal\" font-weight=\"normal\" text-anchor=\"middle\" textLength=\"178\" x=\"174\" y=\"796\">06_loop_include_import_role_etc</text>\n  <rect fill=\"rgb(255,255,255)\" height=\"180\" stroke=\"rgb(0,0,0)\" width=\"220\" x=\"348\" y=\"700\"/>\n  <text fill=\"rgb(0,0,0)\" font-family=\"sans-serif\" font-size=\"11\" font-style=\"normal\" font-weight=\"normal\" text-anchor=\"middle\" textLength=\"122\" x=\"458\" y=\"796\">10_advanced_handson</text>\n  <path d=\"M 174 220 L 174 252\" fill=\"none\" stroke=\"rgb(0,0,0)\"/>\n  <polygon fill=\"rgb(0,0,0)\" points=\"174,259 170,252 178,252 174,259\" stroke=\"rgb(0,0,0)\"/>\n  <path d=\"M 284 350 L 340 350\" fill=\"none\" stroke=\"rgb(0,0,0)\"/>\n  <polygon fill=\"rgb(0,0,0)\" points=\"347,350 340,346 340,354 347,350\" stroke=\"rgb(0,0,0)\"/>\n  <path d=\"M 568 350 L 624 350\" fill=\"none\" stroke=\"rgb(0,0,0)\"/>\n  <polygon fill=\"rgb(0,0,0)\" points=\"631,350 624,346 624,354 631,350\" stroke=\"rgb(0,0,0)\"/>\n  <path d=\"M 742 440 L 742 460\" fill=\"none\" stroke=\"rgb(0,0,0)\"/>\n  <path d=\"M 174 460 L 742 460\" fill=\"none\" stroke=\"rgb(0,0,0)\"/>\n  <path d=\"M 174 460 L 174 472\" fill=\"none\" stroke=\"rgb(0,0,0)\"/>\n  <polygon fill=\"rgb(0,0,0)\" points=\"174,479 170,472 178,472 174,479\" stroke=\"rgb(0,0,0)\"/>\n  <path d=\"M 284 570 L 340 570\" fill=\"none\" stroke=\"rgb(0,0,0)\"/>\n  <polygon fill=\"rgb(0,0,0)\" points=\"347,570 340,566 340,574 347,570\" stroke=\"rgb(0,0,0)\"/>\n  <path d=\"M 458 660 L 458 680\" fill=\"none\" stroke=\"rgb(0,0,0)\"/>\n  <path d=\"M 174 680 L 458 680\" fill=\"none\" stroke=\"rgb(0,0,0)\"/>\n  <path d=\"M 174 680 L 174 692\" fill=\"none\" stroke=\"rgb(0,0,0)\"/>\n  <polygon fill=\"rgb(0,0,0)\" points=\"174,699 170,692 178,692 174,699\" stroke=\"rgb(0,0,0)\"/>\n  <path d=\"M 284 790 L 340 790\" fill=\"none\" stroke=\"rgb(0,0,0)\"/>\n  <polygon fill=\"rgb(0,0,0)\" points=\"347,790 340,786 340,794 347,790\" stroke=\"rgb(0,0,0)\"/>\n  <text fill=\"rgb(0,0,0)\" font-family=\"sans-serif\" font-size=\"11\" font-style=\"normal\" font-weight=\"normal\" text-anchor=\"middle\" textLength=\"44\" x=\"174\" y=\"35\">はじめに</text>\n  <text fill=\"rgb(0,0,0)\" font-family=\"sans-serif\" font-size=\"11\" font-style=\"normal\" font-weight=\"normal\" text-anchor=\"middle\" textLength=\"22\" x=\"458\" y=\"256\">基本</text>\n  <text fill=\"rgb(0,0,0)\" font-family=\"sans-serif\" font-size=\"11\" font-style=\"normal\" font-weight=\"normal\" text-anchor=\"middle\" textLength=\"22\" x=\"316\" y=\"696\">応用</text>\n</svg>",
         "text/plain": "<IPython.core.display.SVG object>"
        },
        "execution_count": 6,
        "metadata": {},
        "output_type": "execute_result"
       }
      ]
     }
    ],
    "run_control": {
     "frozen": true
    },
    "scrolled": false
   },
   "outputs": [],
   "source": [
    "import os\n",
    "from IPython.display import SVG\n",
    "\n",
    "!blockdiag -f /usr/share/fonts/truetype/fonts-japanese-gothic.ttf -Tsvg \\\n",
    "           -o {work_dir}/notebooks.svg {work_dir}/notebooks.diag\n",
    "SVG(filename=os.path.join(work_dir, 'notebooks.svg'))"
   ]
  },
  {
   "cell_type": "markdown",
   "metadata": {
    "lc_cell_meme": {
     "current": "855aa7d0-13c4-11e7-b31a-0242ac12000d",
     "history": [
      {
       "current": "855aa7d0-13c4-11e7-b31a-0242ac12000d",
       "next": "f64e550a-13c3-11e7-b31a-0242ac12000d",
       "previous": "f64e5334-13c3-11e7-b31a-0242ac12000d"
      },
      {
       "current": "855aa7d0-13c4-11e7-b31a-0242ac12000d",
       "next": "a4bb6fc2-4a7b-11e7-b37f-02420aff0006",
       "previous": "f64e5334-13c3-11e7-b31a-0242ac12000d"
      }
     ],
     "next": "ec3bef98-4a7b-11e7-b37f-02420aff0006",
     "previous": "f64e5334-13c3-11e7-b31a-0242ac12000d"
    }
   },
   "source": [
    "## 詳細情報の埋め込み\n",
    "\n",
    "生成した雛形に対して、見出しの情報など詳細な情報を埋め込みます。\n",
    "\n",
    "この手順により、人手での図編集作業を最低限にとどめつつ、Notebookのわかりやすい利用フロー図を生成できるようにしています。"
   ]
  },
  {
   "cell_type": "code",
   "execution_count": null,
   "metadata": {
    "lc_cell_meme": {
     "current": "ec3bef98-4a7b-11e7-b37f-02420aff0006",
     "next": "f64e550a-13c3-11e7-b31a-0242ac12000d",
     "previous": "855aa7d0-13c4-11e7-b31a-0242ac12000d"
    },
    "run_control": {
     "frozen": true
    }
   },
   "outputs": [],
   "source": [
    "disabled = {}"
   ]
  },
  {
   "cell_type": "code",
   "execution_count": null,
   "metadata": {
    "lc_cell_meme": {
     "current": "f64e550a-13c3-11e7-b31a-0242ac12000d",
     "history": [
      {
       "current": "f64e550a-13c3-11e7-b31a-0242ac12000d",
       "next": "f64e56d6-13c3-11e7-b31a-0242ac12000d",
       "previous": "f64e5334-13c3-11e7-b31a-0242ac12000d"
      },
      {
       "current": "f64e550a-13c3-11e7-b31a-0242ac12000d",
       "next": "f64e56d6-13c3-11e7-b31a-0242ac12000d",
       "previous": "855aa7d0-13c4-11e7-b31a-0242ac12000d"
      },
      {
       "current": "f64e550a-13c3-11e7-b31a-0242ac12000d",
       "next": "ccdd077e-13c4-11e7-b31a-0242ac12000d",
       "previous": "855aa7d0-13c4-11e7-b31a-0242ac12000d"
      },
      {
       "current": "f64e550a-13c3-11e7-b31a-0242ac12000d",
       "next": "f64e5c30-13c3-11e7-b31a-0242ac12000d",
       "previous": "855aa7d0-13c4-11e7-b31a-0242ac12000d"
      },
      {
       "current": "f64e550a-13c3-11e7-b31a-0242ac12000d",
       "next": "f64e5e10-13c3-11e7-b31a-0242ac12000d",
       "previous": "855aa7d0-13c4-11e7-b31a-0242ac12000d"
      },
      {
       "current": "f64e550a-13c3-11e7-b31a-0242ac12000d",
       "next": "0d37e028-1fd2-11e7-b31a-0242ac12000d",
       "previous": "855aa7d0-13c4-11e7-b31a-0242ac12000d"
      },
      {
       "current": "f64e550a-13c3-11e7-b31a-0242ac12000d",
       "next": "0d37e028-1fd2-11e7-b31a-0242ac12000d",
       "previous": "a4bb6fc2-4a7b-11e7-b37f-02420aff0006"
      }
     ],
     "next": "0d37e028-1fd2-11e7-b31a-0242ac12000d",
     "previous": "ec3bef98-4a7b-11e7-b37f-02420aff0006"
    },
    "pinned_outputs": [
     {
      "execution_count": 8,
      "outputs": [
       {
        "data": {
         "image/svg+xml": "<svg viewBox=\"0 0 916 920\" xmlns=\"http://www.w3.org/2000/svg\" xmlns:inkspace=\"http://www.inkscape.org/namespaces/inkscape\" xmlns:xlink=\"http://www.w3.org/1999/xlink\">\n  <defs id=\"defs_block\">\n    <filter height=\"1.504\" id=\"filter_blur\" inkspace:collect=\"always\" width=\"1.1575\" x=\"-0.07875\" y=\"-0.252\">\n      <feGaussianBlur id=\"feGaussianBlur3780\" inkspace:collect=\"always\" stdDeviation=\"4.2\"/>\n    </filter>\n  </defs>\n  <title>blockdiag</title>\n  <desc>blockdiag {\n    node_width = 220;\n    node_height = 180;\n\n    00_start_here -&gt; 01_cloud_ops_and_ansible_basic [folded]\n    01_cloud_ops_and_ansible_basic -&gt; 02_server_ops\n    02_server_ops -&gt; 03_dynamic_inventory\n    03_dynamic_inventory -&gt; 04_test_expression [folded]\n    04_test_expression -&gt; 05_delete_target_servers\n    05_delete_target_servers -&gt; 06_loop_include_import_role_etc [folded]\n    06_loop_include_import_role_etc -&gt; 10_advanced_handson\n\n    group {\n        label = &quot;はじめに&quot;\n        00_start_here\n    }\n\n    group {\n        label = &quot;基本&quot;\n        01_cloud_ops_and_ansible_basic\n        02_server_ops\n        03_dynamic_inventory\n        04_test_expression\n        05_delete_target_servers\n    }\n\n    group {\n        label = &quot;応用&quot;\n        06_loop_include_import_role_etc\n        10_advanced_handson\n    }\n}</desc>\n  <rect fill=\"rgb(243,152,0)\" height=\"200\" style=\"filter:url(#filter_blur)\" width=\"236\" x=\"56\" y=\"30\"/>\n  <rect fill=\"rgb(243,152,0)\" height=\"420\" style=\"filter:url(#filter_blur)\" width=\"804\" x=\"56\" y=\"250\"/>\n  <rect fill=\"rgb(243,152,0)\" height=\"200\" style=\"filter:url(#filter_blur)\" width=\"520\" x=\"56\" y=\"690\"/>\n  <rect fill=\"rgb(0,0,0)\" height=\"180\" stroke=\"rgb(0,0,0)\" style=\"filter:url(#filter_blur);opacity:0.7;fill-opacity:1\" width=\"220\" x=\"67\" y=\"46\"/>\n  <rect fill=\"rgb(0,0,0)\" height=\"180\" stroke=\"rgb(0,0,0)\" style=\"filter:url(#filter_blur);opacity:0.7;fill-opacity:1\" width=\"220\" x=\"67\" y=\"266\"/>\n  <rect fill=\"rgb(0,0,0)\" height=\"180\" stroke=\"rgb(0,0,0)\" style=\"filter:url(#filter_blur);opacity:0.7;fill-opacity:1\" width=\"220\" x=\"351\" y=\"266\"/>\n  <rect fill=\"rgb(0,0,0)\" height=\"180\" stroke=\"rgb(0,0,0)\" style=\"filter:url(#filter_blur);opacity:0.7;fill-opacity:1\" width=\"220\" x=\"635\" y=\"266\"/>\n  <rect fill=\"rgb(0,0,0)\" height=\"180\" stroke=\"rgb(0,0,0)\" style=\"filter:url(#filter_blur);opacity:0.7;fill-opacity:1\" width=\"220\" x=\"67\" y=\"486\"/>\n  <rect fill=\"rgb(0,0,0)\" height=\"180\" stroke=\"rgb(0,0,0)\" style=\"filter:url(#filter_blur);opacity:0.7;fill-opacity:1\" width=\"220\" x=\"351\" y=\"486\"/>\n  <rect fill=\"rgb(0,0,0)\" height=\"180\" stroke=\"rgb(0,0,0)\" style=\"filter:url(#filter_blur);opacity:0.7;fill-opacity:1\" width=\"220\" x=\"67\" y=\"706\"/>\n  <rect fill=\"rgb(0,0,0)\" height=\"180\" stroke=\"rgb(0,0,0)\" style=\"filter:url(#filter_blur);opacity:0.7;fill-opacity:1\" width=\"220\" x=\"351\" y=\"706\"/>\n  <rect fill=\"rgb(255,255,255)\" height=\"180\" stroke=\"rgb(0,0,0)\" width=\"220\" x=\"64\" y=\"40\"/>\n  <text fill=\"rgb(0,0,0)\" font-anchor=\"middle\" font-family=\"sans-serif\" font-size=\"9\" font-style=\"normal\" font-weight=\"normal\" width=\"216\" x=\"66\" y=\"137\">- 演習の開始</text><text fill=\"rgb(0,0,0)\" font-anchor=\"middle\" font-family=\"sans-serif\" font-size=\"9\" font-style=\"normal\" font-weight=\"normal\" width=\"216\" x=\"66\" y=\"126\">- Jupyter の使い方</text><text fill=\"rgb(0,0,0)\" font-anchor=\"middle\" font-family=\"sans-serif\" font-size=\"9\" font-style=\"normal\" font-weight=\"normal\" width=\"216\" x=\"66\" y=\"115\">- 演習環境について</text><text fill=\"rgb(0,0,0)\" font-anchor=\"middle\" font-family=\"sans-serif\" font-size=\"9\" font-style=\"italic\" font-weight=\"normal\" width=\"216\" x=\"66\" y=\"91\"/><a xlink:href=\"00_start_here.ipynb\"><text fill=\"rgb(0,0,0)\" font-anchor=\"middle\" font-family=\"sans-serif\" font-size=\"14\" font-style=\"normal\" font-weight=\"bold\" width=\"216\" x=\"66\" y=\"59\">AITAC ITインフラ構築と運用の</text><text fill=\"rgb(0,0,0)\" font-anchor=\"middle\" font-family=\"sans-serif\" font-size=\"14\" font-style=\"normal\" font-weight=\"bold\" width=\"216\" x=\"66\" y=\"75\">自動化 演習</text></a><rect fill=\"rgb(255,255,255)\" height=\"180\" stroke=\"rgb(0,0,0)\" width=\"220\" x=\"64\" y=\"260\"/>\n  <text fill=\"rgb(0,0,0)\" font-anchor=\"middle\" font-family=\"sans-serif\" font-size=\"9\" font-style=\"normal\" font-weight=\"normal\" width=\"216\" x=\"66\" y=\"368\">- インスタンスの作成</text><text fill=\"rgb(0,0,0)\" font-anchor=\"middle\" font-family=\"sans-serif\" font-size=\"9\" font-style=\"normal\" font-weight=\"normal\" width=\"216\" x=\"66\" y=\"357\">- Ansibleの実行</text><text fill=\"rgb(0,0,0)\" font-anchor=\"middle\" font-family=\"sans-serif\" font-size=\"9\" font-style=\"normal\" font-weight=\"normal\" width=\"216\" x=\"66\" y=\"346\">- AWSを操作する準備</text><text fill=\"rgb(0,0,0)\" font-anchor=\"middle\" font-family=\"sans-serif\" font-size=\"9\" font-style=\"normal\" font-weight=\"normal\" width=\"216\" x=\"66\" y=\"335\">- 演習の概要</text><text fill=\"rgb(0,0,0)\" font-anchor=\"middle\" font-family=\"sans-serif\" font-size=\"9\" font-style=\"italic\" font-weight=\"normal\" width=\"216\" x=\"66\" y=\"311\"/><a xlink:href=\"01_cloud_ops_and_ansible_basic.ipynb\"><text fill=\"rgb(0,0,0)\" font-anchor=\"middle\" font-family=\"sans-serif\" font-size=\"14\" font-style=\"normal\" font-weight=\"bold\" width=\"216\" x=\"66\" y=\"279\">Ansible によるクラウドの</text><text fill=\"rgb(0,0,0)\" font-anchor=\"middle\" font-family=\"sans-serif\" font-size=\"14\" font-style=\"normal\" font-weight=\"bold\" width=\"216\" x=\"66\" y=\"295\">操作(インスタンスの起動)</text></a><rect fill=\"rgb(255,255,255)\" height=\"180\" stroke=\"rgb(0,0,0)\" width=\"220\" x=\"348\" y=\"260\"/>\n  <text fill=\"rgb(0,0,0)\" font-anchor=\"middle\" font-family=\"sans-serif\" font-size=\"9\" font-style=\"normal\" font-weight=\"normal\" width=\"216\" x=\"350\" y=\"390\">- Ansible の冪等性（べきとうせい）</text><text fill=\"rgb(0,0,0)\" font-anchor=\"middle\" font-family=\"sans-serif\" font-size=\"9\" font-style=\"normal\" font-weight=\"normal\" width=\"216\" x=\"350\" y=\"379\">- HTTPDのセットアップ</text><text fill=\"rgb(0,0,0)\" font-anchor=\"middle\" font-family=\"sans-serif\" font-size=\"9\" font-style=\"normal\" font-weight=\"normal\" width=\"216\" x=\"350\" y=\"368\">- ad-hoc 実行</text><text fill=\"rgb(0,0,0)\" font-anchor=\"middle\" font-family=\"sans-serif\" font-size=\"9\" font-style=\"normal\" font-weight=\"normal\" width=\"216\" x=\"350\" y=\"357\">- テスト接続の実行</text><text fill=\"rgb(0,0,0)\" font-anchor=\"middle\" font-family=\"sans-serif\" font-size=\"9\" font-style=\"normal\" font-weight=\"normal\" width=\"216\" x=\"350\" y=\"346\">- インベントリの作成</text><text fill=\"rgb(0,0,0)\" font-anchor=\"middle\" font-family=\"sans-serif\" font-size=\"9\" font-style=\"normal\" font-weight=\"normal\" width=\"216\" x=\"350\" y=\"335\">- 鍵のアップロード</text><text fill=\"rgb(0,0,0)\" font-anchor=\"middle\" font-family=\"sans-serif\" font-size=\"9\" font-style=\"italic\" font-weight=\"normal\" width=\"216\" x=\"350\" y=\"311\"/><a xlink:href=\"02_server_ops.ipynb\"><text fill=\"rgb(0,0,0)\" font-anchor=\"middle\" font-family=\"sans-serif\" font-size=\"14\" font-style=\"normal\" font-weight=\"bold\" width=\"216\" x=\"350\" y=\"287\">Ansible によるサーバー操作</text></a><rect fill=\"rgb(255,255,255)\" height=\"180\" stroke=\"rgb(0,0,0)\" width=\"220\" x=\"632\" y=\"260\"/>\n  <text fill=\"rgb(0,0,0)\" font-anchor=\"middle\" font-family=\"sans-serif\" font-size=\"9\" font-style=\"normal\" font-weight=\"normal\" width=\"216\" x=\"634\" y=\"357\">- ダイナミックインベントリの利用</text><text fill=\"rgb(0,0,0)\" font-anchor=\"middle\" font-family=\"sans-serif\" font-size=\"9\" font-style=\"normal\" font-weight=\"normal\" width=\"216\" x=\"634\" y=\"346\">- ダイナミックインベントリのサンプル</text><text fill=\"rgb(0,0,0)\" font-anchor=\"middle\" font-family=\"sans-serif\" font-size=\"9\" font-style=\"normal\" font-weight=\"normal\" width=\"216\" x=\"634\" y=\"335\">- ダイナミックインベントリ</text><text fill=\"rgb(0,0,0)\" font-anchor=\"middle\" font-family=\"sans-serif\" font-size=\"9\" font-style=\"italic\" font-weight=\"normal\" width=\"216\" x=\"634\" y=\"311\"/><a xlink:href=\"03_dynamic_inventory.ipynb\"><text fill=\"rgb(0,0,0)\" font-anchor=\"middle\" font-family=\"sans-serif\" font-size=\"14\" font-style=\"normal\" font-weight=\"bold\" width=\"216\" x=\"634\" y=\"287\">インベントリの動的生成</text></a><rect fill=\"rgb(255,255,255)\" height=\"180\" stroke=\"rgb(0,0,0)\" width=\"220\" x=\"64\" y=\"480\"/>\n  <text fill=\"rgb(0,0,0)\" font-anchor=\"middle\" font-family=\"sans-serif\" font-size=\"9\" font-style=\"normal\" font-weight=\"normal\" width=\"216\" x=\"66\" y=\"577\">- サンプルテストの実施</text><text fill=\"rgb(0,0,0)\" font-anchor=\"middle\" font-family=\"sans-serif\" font-size=\"9\" font-style=\"normal\" font-weight=\"normal\" width=\"216\" x=\"66\" y=\"566\">- Jinja2 フィルター</text><text fill=\"rgb(0,0,0)\" font-anchor=\"middle\" font-family=\"sans-serif\" font-size=\"9\" font-style=\"normal\" font-weight=\"normal\" width=\"216\" x=\"66\" y=\"555\">- テストに使えるモジュール</text><text fill=\"rgb(0,0,0)\" font-anchor=\"middle\" font-family=\"sans-serif\" font-size=\"9\" font-style=\"italic\" font-weight=\"normal\" width=\"216\" x=\"66\" y=\"531\"/><a xlink:href=\"04_test_expression.ipynb\"><text fill=\"rgb(0,0,0)\" font-anchor=\"middle\" font-family=\"sans-serif\" font-size=\"14\" font-style=\"normal\" font-weight=\"bold\" width=\"216\" x=\"66\" y=\"507\">Ansible からのテスト</text></a><rect fill=\"rgb(255,255,255)\" height=\"180\" stroke=\"rgb(0,0,0)\" width=\"220\" x=\"348\" y=\"480\"/>\n  <text fill=\"rgb(0,0,0)\" font-anchor=\"middle\" font-family=\"sans-serif\" font-size=\"9\" font-style=\"normal\" font-weight=\"normal\" width=\"216\" x=\"350\" y=\"555\">- Targetサーバーの削除</text><text fill=\"rgb(0,0,0)\" font-anchor=\"middle\" font-family=\"sans-serif\" font-size=\"9\" font-style=\"italic\" font-weight=\"normal\" width=\"216\" x=\"350\" y=\"531\"/><a xlink:href=\"05_delete_target_servers.ipynb\"><text fill=\"rgb(0,0,0)\" font-anchor=\"middle\" font-family=\"sans-serif\" font-size=\"14\" font-style=\"normal\" font-weight=\"bold\" width=\"216\" x=\"350\" y=\"507\">演習サーバーの削除</text></a><rect fill=\"rgb(255,255,255)\" height=\"180\" stroke=\"rgb(0,0,0)\" width=\"220\" x=\"64\" y=\"700\"/>\n  <text fill=\"rgb(0,0,0)\" font-anchor=\"middle\" font-family=\"sans-serif\" font-size=\"9\" font-style=\"normal\" font-weight=\"normal\" width=\"216\" x=\"66\" y=\"841\">- 自由演習（時間が余った方向け）</text><text fill=\"rgb(0,0,0)\" font-anchor=\"middle\" font-family=\"sans-serif\" font-size=\"9\" font-style=\"normal\" font-weight=\"normal\" width=\"216\" x=\"66\" y=\"830\">- その他の情報</text><text fill=\"rgb(0,0,0)\" font-anchor=\"middle\" font-family=\"sans-serif\" font-size=\"9\" font-style=\"normal\" font-weight=\"normal\" width=\"216\" x=\"66\" y=\"819\">- Playbook実行中のインベントリの動的生成</text><text fill=\"rgb(0,0,0)\" font-anchor=\"middle\" font-family=\"sans-serif\" font-size=\"9\" font-style=\"normal\" font-weight=\"normal\" width=\"216\" x=\"66\" y=\"808\">- ansible galaxy</text><text fill=\"rgb(0,0,0)\" font-anchor=\"middle\" font-family=\"sans-serif\" font-size=\"9\" font-style=\"normal\" font-weight=\"normal\" width=\"216\" x=\"66\" y=\"797\">- role によるPlaybook管理</text><text fill=\"rgb(0,0,0)\" font-anchor=\"middle\" font-family=\"sans-serif\" font-size=\"9\" font-style=\"normal\" font-weight=\"normal\" width=\"216\" x=\"66\" y=\"786\">- include, import</text><text fill=\"rgb(0,0,0)\" font-anchor=\"middle\" font-family=\"sans-serif\" font-size=\"9\" font-style=\"normal\" font-weight=\"normal\" width=\"216\" x=\"66\" y=\"775\">- ループ処理</text><text fill=\"rgb(0,0,0)\" font-anchor=\"middle\" font-family=\"sans-serif\" font-size=\"9\" font-style=\"italic\" font-weight=\"normal\" width=\"216\" x=\"66\" y=\"751\"/><a xlink:href=\"06_loop_include_import_role_etc.ipynb\"><text fill=\"rgb(0,0,0)\" font-anchor=\"middle\" font-family=\"sans-serif\" font-size=\"14\" font-style=\"normal\" font-weight=\"bold\" width=\"216\" x=\"66\" y=\"727\">その他の情報</text></a><rect fill=\"rgb(255,255,255)\" height=\"180\" stroke=\"rgb(0,0,0)\" width=\"220\" x=\"348\" y=\"700\"/>\n  <text fill=\"rgb(0,0,0)\" font-anchor=\"middle\" font-family=\"sans-serif\" font-size=\"9\" font-style=\"normal\" font-weight=\"normal\" width=\"216\" x=\"350\" y=\"819\">- 解答例</text><text fill=\"rgb(0,0,0)\" font-anchor=\"middle\" font-family=\"sans-serif\" font-size=\"9\" font-style=\"normal\" font-weight=\"normal\" width=\"216\" x=\"350\" y=\"808\">- 全ての設定作業を連結</text><text fill=\"rgb(0,0,0)\" font-anchor=\"middle\" font-family=\"sans-serif\" font-size=\"9\" font-style=\"normal\" font-weight=\"normal\" width=\"216\" x=\"350\" y=\"797\">- ロードバランサーの設定</text><text fill=\"rgb(0,0,0)\" font-anchor=\"middle\" font-family=\"sans-serif\" font-size=\"9\" font-style=\"normal\" font-weight=\"normal\" width=\"216\" x=\"350\" y=\"786\">- role 化</text><text fill=\"rgb(0,0,0)\" font-anchor=\"middle\" font-family=\"sans-serif\" font-size=\"9\" font-style=\"normal\" font-weight=\"normal\" width=\"216\" x=\"350\" y=\"775\">- Playbookの再利用</text><text fill=\"rgb(0,0,0)\" font-anchor=\"middle\" font-family=\"sans-serif\" font-size=\"9\" font-style=\"italic\" font-weight=\"normal\" width=\"216\" x=\"350\" y=\"751\"/><a xlink:href=\"10_advanced_handson.ipynb\"><text fill=\"rgb(0,0,0)\" font-anchor=\"middle\" font-family=\"sans-serif\" font-size=\"14\" font-style=\"normal\" font-weight=\"bold\" width=\"216\" x=\"350\" y=\"727\">応用演習</text></a><path d=\"M 174 220 L 174 252\" fill=\"none\" stroke=\"rgb(0,0,0)\"/>\n  <polygon fill=\"rgb(0,0,0)\" points=\"174,259 170,252 178,252 174,259\" stroke=\"rgb(0,0,0)\"/>\n  <path d=\"M 284 350 L 340 350\" fill=\"none\" stroke=\"rgb(0,0,0)\"/>\n  <polygon fill=\"rgb(0,0,0)\" points=\"347,350 340,346 340,354 347,350\" stroke=\"rgb(0,0,0)\"/>\n  <path d=\"M 568 350 L 624 350\" fill=\"none\" stroke=\"rgb(0,0,0)\"/>\n  <polygon fill=\"rgb(0,0,0)\" points=\"631,350 624,346 624,354 631,350\" stroke=\"rgb(0,0,0)\"/>\n  <path d=\"M 742 440 L 742 460\" fill=\"none\" stroke=\"rgb(0,0,0)\"/>\n  <path d=\"M 174 460 L 742 460\" fill=\"none\" stroke=\"rgb(0,0,0)\"/>\n  <path d=\"M 174 460 L 174 472\" fill=\"none\" stroke=\"rgb(0,0,0)\"/>\n  <polygon fill=\"rgb(0,0,0)\" points=\"174,479 170,472 178,472 174,479\" stroke=\"rgb(0,0,0)\"/>\n  <path d=\"M 284 570 L 340 570\" fill=\"none\" stroke=\"rgb(0,0,0)\"/>\n  <polygon fill=\"rgb(0,0,0)\" points=\"347,570 340,566 340,574 347,570\" stroke=\"rgb(0,0,0)\"/>\n  <path d=\"M 458 660 L 458 680\" fill=\"none\" stroke=\"rgb(0,0,0)\"/>\n  <path d=\"M 174 680 L 458 680\" fill=\"none\" stroke=\"rgb(0,0,0)\"/>\n  <path d=\"M 174 680 L 174 692\" fill=\"none\" stroke=\"rgb(0,0,0)\"/>\n  <polygon fill=\"rgb(0,0,0)\" points=\"174,699 170,692 178,692 174,699\" stroke=\"rgb(0,0,0)\"/>\n  <path d=\"M 284 790 L 340 790\" fill=\"none\" stroke=\"rgb(0,0,0)\"/>\n  <polygon fill=\"rgb(0,0,0)\" points=\"347,790 340,786 340,794 347,790\" stroke=\"rgb(0,0,0)\"/>\n  <text fill=\"rgb(0,0,0)\" font-family=\"sans-serif\" font-size=\"11\" font-style=\"normal\" font-weight=\"normal\" text-anchor=\"middle\" textLength=\"44\" x=\"174\" y=\"35\">はじめに</text>\n  <text fill=\"rgb(0,0,0)\" font-family=\"sans-serif\" font-size=\"11\" font-style=\"normal\" font-weight=\"normal\" text-anchor=\"middle\" textLength=\"22\" x=\"458\" y=\"256\">基本</text>\n  <text fill=\"rgb(0,0,0)\" font-family=\"sans-serif\" font-size=\"11\" font-style=\"normal\" font-weight=\"normal\" text-anchor=\"middle\" textLength=\"22\" x=\"316\" y=\"696\">応用</text>\n</svg>",
         "text/plain": "<IPython.core.display.SVG object>"
        },
        "execution_count": 8,
        "metadata": {},
        "output_type": "execute_result"
       }
      ]
     }
    ],
    "run_control": {
     "frozen": true
    },
    "scrolled": false
   },
   "outputs": [],
   "source": [
    "import re\n",
    "from lxml import etree\n",
    "%run generate-diagram.py\n",
    "\n",
    "# Notebookの一覧列挙\n",
    "ref_notebooks = filter(lambda m: m, map(lambda n: re.match(r'(00_start_here|01_cloud_ops_and_ansible_basic|02_server_ops|03_dynamic_inventory|04_test_expression|05_delete_target_servers|06_loop_include_import_role_etc|10_advanced_handson)\\.ipynb', n), os.listdir('.')))\n",
    "ref_notebooks = sorted(ref_notebooks, key=lambda m: m.group(1))\n",
    "notebook_headers = [(m.group(1), parse_headers(m.group(0))) for m in ref_notebooks]\n",
    "\n",
    "# 雛形の読み込み\n",
    "tree = etree.parse(os.path.join(work_dir, 'notebooks.svg'))\n",
    "        \n",
    "# 雛形をNotebook情報で置き換え\n",
    "for elem in list(tree.findall('{http://www.w3.org/2000/svg}text')):\n",
    "    if elem.getprevious() is not None and elem.getprevious().tag == '{http://www.w3.org/2000/svg}rect' \\\n",
    "       and len(elem.text) > 0:\n",
    "        target_headers = [(name, h) for name, h in notebook_headers if name.startswith(elem.text)]\n",
    "        rect_elem = elem.getprevious()\n",
    "        if len(target_headers) > 0:\n",
    "            rect = ((int(rect_elem.attrib['x']), int(rect_elem.attrib['y'])), (int(rect_elem.attrib['width']),\n",
    "                                                                               int(rect_elem.attrib['height'])))\n",
    "        \n",
    "            childpos = elem.getparent().index(elem)\n",
    "            parent_elem = elem.getparent()\n",
    "            remove_texts(elem)\n",
    "            insert_title(parent_elem, childpos, rect, target_headers[0][1][0][0], target_headers[0][0] + '.ipynb')            \n",
    "            insert_summary(parent_elem, childpos, rect, target_headers[0][1][0][1])\n",
    "            insert_headers(parent_elem, childpos, rect, target_headers[0][1][1:])\n",
    "        elif elem.text in disabled:\n",
    "            rect_elem.attrib['fill'] = 'rgb(192, 192, 192)'\n",
    "            rect = ((int(rect_elem.attrib['x']), int(rect_elem.attrib['y'])), (int(rect_elem.attrib['width']),\n",
    "                                                                               int(rect_elem.attrib['height'])))\n",
    "        \n",
    "            childpos = elem.getparent().index(elem)\n",
    "            parent_elem = elem.getparent()\n",
    "            remove_texts(elem)\n",
    "            insert_title(parent_elem, childpos, rect, disabled[elem.text][0])\n",
    "            insert_summary(parent_elem, childpos, rect, u'本デモ環境では利用できません')\n",
    "            insert_headers(parent_elem, childpos, rect, disabled[elem.text][1])\n",
    "        else:\n",
    "            print(elem.text)\n",
    "\n",
    "# SVGの保存・表示\n",
    "with open('readme.svg', 'w') as f:\n",
    "    f.write(etree.tostring(tree, method='xml', pretty_print=True))\n",
    "\n",
    "SVG(filename='readme.svg')"
   ]
  },
  {
   "cell_type": "markdown",
   "metadata": {
    "lc_cell_meme": {
     "current": "0d37e028-1fd2-11e7-b31a-0242ac12000d",
     "next": "f11e7dfc-13c4-11e7-b31a-0242ac12000d",
     "previous": "f64e550a-13c3-11e7-b31a-0242ac12000d"
    }
   },
   "source": [
    "# 後始末\n",
    "\n",
    "一時ファイルを削除します。"
   ]
  },
  {
   "cell_type": "code",
   "execution_count": null,
   "metadata": {
    "lc_cell_meme": {
     "current": "f11e7dfc-13c4-11e7-b31a-0242ac12000d",
     "history": [
      {
       "current": "f11e7dfc-13c4-11e7-b31a-0242ac12000d",
       "next": null,
       "previous": "f64e6540-13c3-11e7-b31a-0242ac12000d"
      }
     ],
     "next": null,
     "previous": "0d37e028-1fd2-11e7-b31a-0242ac12000d"
    },
    "run_control": {
     "frozen": true
    }
   },
   "outputs": [],
   "source": [
    "!rm -fr {work_dir}"
   ]
  }
 ],
 "metadata": {
  "anaconda-cloud": {},
  "kernelspec": {
   "display_name": "Python 2 (LC_wrapper)",
   "language": "python",
   "name": "python2-wrapper"
  },
  "language_info": {
   "file_extension": ".py",
   "mimetype": "text/x-python",
   "name": "python",
   "nbconvert_exporter": "python",
   "pygments_lexer": "ipython2",
   "version": "2.7.9"
  },
  "lc_notebook_meme": {
   "current": "f64e4038-13c3-11e7-b31a-0242ac12000d",
   "lc_server_signature": {
    "current": {
     "notebook_dir": "/notebooks",
     "notebook_path": "/aitac-automation-handson",
     "server_url": "http://localhost:8888/",
     "signature_id": "e5e55ab0-2358-11e8-a5d1-0242ac130002"
    },
    "history": [
     {
      "notebook_dir": "/notebooks",
      "notebook_path": "/evaluation-tracer",
      "server_url": "http://pwd10-0-9-3-8888.host4.labs.play-with-docker.com/",
      "signature_id": "6a48c2b2-a715-11e7-870a-02420aff0006"
     },
     {
      "notebook_dir": "/notebooks",
      "notebook_path": "/evaluation-tracer",
      "server_url": "http://localhost:8888/",
      "signature_id": "cdfb1abc-a986-11e7-b932-0242ac130002"
     },
     {
      "notebook_dir": "/notebooks",
      "notebook_path": "/wifi",
      "server_url": "http://192.168.14.2:8888/",
      "signature_id": "5169c75c-d986-11e7-a0fe-0242ac120002"
     }
    ]
   }
  },
  "toc": {
   "nav_menu": {
    "height": "191px",
    "width": "252px"
   },
   "number_sections": true,
   "sideBar": true,
   "skip_h1_title": false,
   "title_cell": "Table of Contents",
   "title_sidebar": "Contents",
   "toc_cell": false,
   "toc_position": {
    "height": "823px",
    "left": "0px",
    "right": "1455px",
    "top": "106px",
    "width": "212px"
   },
   "toc_section_display": "block",
   "toc_window_display": true
  }
 },
 "nbformat": 4,
 "nbformat_minor": 1
}
