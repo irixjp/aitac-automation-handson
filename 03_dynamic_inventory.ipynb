{
 "cells": [
  {
   "cell_type": "markdown",
   "metadata": {
    "deletable": false,
    "editable": false,
    "lc_cell_meme": {
     "current": "0c5fd04e-f2df-11e7-9edf-0242ac110002",
     "next": "0c5fd198-f2df-11e7-9edf-0242ac110002",
     "previous": null
    },
    "run_through_control": {
     "frozen": true,
     "read_only": false
    }
   },
   "source": [
    "# インベントリの動的生成"
   ]
  },
  {
   "cell_type": "markdown",
   "metadata": {
    "deletable": false,
    "editable": false,
    "lc_cell_meme": {
     "current": "0c5fd198-f2df-11e7-9edf-0242ac110002",
     "next": "0c5fd2b0-f2df-11e7-9edf-0242ac110002",
     "previous": "0c5fd04e-f2df-11e7-9edf-0242ac110002"
    },
    "run_through_control": {
     "frozen": true
    }
   },
   "source": [
    "ここまでの演習で、Ansibleから操作する対象のサーバーはインベントリファイル（[02_server_ops](/edit/aitac-automation-handson/inventories/02_server_ops)）へ人がIPアドレス（やホスト名）を書き込んでいました。\n",
    "\n",
    "もちろんこの方法でもAnsibleによる自動化は可能ですが、転記する際にミスしたり管理対象が多くなるとインベントリの管理自体も大変になってきます。\n",
    "\n",
    "そこで、Ansible ではインベントリを動的に生成する手法が準備されています。この方法をDynamic Inventoryと呼びます。"
   ]
  },
  {
   "cell_type": "markdown",
   "metadata": {
    "deletable": false,
    "editable": false,
    "lc_cell_meme": {
     "current": "0c5fd2b0-f2df-11e7-9edf-0242ac110002",
     "history": [
      {
       "current": "0c5fd2b0-f2df-11e7-9edf-0242ac110002",
       "next": null,
       "previous": "0c5fd198-f2df-11e7-9edf-0242ac110002"
      }
     ],
     "next": "72097b60-f2e0-11e7-9edf-0242ac110002",
     "previous": "0c5fd198-f2df-11e7-9edf-0242ac110002"
    },
    "run_through_control": {
     "frozen": true,
     "read_only": false
    }
   },
   "source": [
    "## ダイナミックインベントリ"
   ]
  },
  {
   "cell_type": "markdown",
   "metadata": {
    "deletable": false,
    "editable": false,
    "lc_cell_meme": {
     "current": "72097b60-f2e0-11e7-9edf-0242ac110002",
     "next": "72097dfe-f2e0-11e7-9edf-0242ac110002",
     "previous": "0c5fd2b0-f2df-11e7-9edf-0242ac110002"
    },
    "run_through_control": {
     "frozen": true,
     "read_only": false
    }
   },
   "source": [
    "通常、Ansible から自動化を行う際は、\n",
    "\n",
    "`ansible-playbook -i inventory_file_name playbook.yml`\n",
    "\n",
    "という形式でコマンドを実行しますが、-i に続いて実行可能なファイル（スクリプトなど）を指定することで、そのスクリプトが返す値をインベントリとして利用することが可能です。"
   ]
  },
  {
   "cell_type": "markdown",
   "metadata": {
    "deletable": false,
    "editable": false,
    "lc_cell_meme": {
     "current": "72097dfe-f2e0-11e7-9edf-0242ac110002",
     "history": [
      {
       "current": "72097dfe-f2e0-11e7-9edf-0242ac110002",
       "next": null,
       "previous": "72097b60-f2e0-11e7-9edf-0242ac110002"
      }
     ],
     "next": "011a9302-f2e1-11e7-9edf-0242ac110002",
     "previous": "72097b60-f2e0-11e7-9edf-0242ac110002"
    },
    "run_through_control": {
     "frozen": true
    }
   },
   "source": [
    "この「実行するとインベントリを生成するスクリプト」の要件は、「決められた形式（JSON）で値を返す」ということだけです。\n",
    "\n",
    "[Dynamic Inventory](http://docs.ansible.com/ansible/latest/intro_dynamic_inventory.html)\n",
    "\n",
    "スクリプトに使える言語には制限はありませんので、シェルスクリプト、PythonやRubyなど好きな言語で処理を記述できます。"
   ]
  },
  {
   "cell_type": "markdown",
   "metadata": {
    "deletable": false,
    "editable": false,
    "lc_cell_meme": {
     "current": "011a9302-f2e1-11e7-9edf-0242ac110002",
     "history": [
      {
       "current": "011a9302-f2e1-11e7-9edf-0242ac110002",
       "next": null,
       "previous": "72097dfe-f2e0-11e7-9edf-0242ac110002"
      }
     ],
     "next": "48a27faa-f2e1-11e7-9edf-0242ac110002",
     "previous": "72097dfe-f2e0-11e7-9edf-0242ac110002"
    },
    "run_through_control": {
     "frozen": true
    }
   },
   "source": [
    "ダイナミックインベントリが利用されるケースとして以下があります。\n",
    "\n",
    "* 自動化の実行時にまだ対象が存在していないケース（今から実行する自動化で対象のサーバーが作られる）\n",
    "* 大量のサーバーを管理する場合に、システムに問い合わせて接続先を取得するため、どれだけ対象が多くても人手によるミスが発生しない。"
   ]
  },
  {
   "cell_type": "markdown",
   "metadata": {
    "deletable": false,
    "editable": false,
    "lc_cell_meme": {
     "current": "48a27faa-f2e1-11e7-9edf-0242ac110002",
     "next": "48a281c6-f2e1-11e7-9edf-0242ac110002",
     "previous": "011a9302-f2e1-11e7-9edf-0242ac110002"
    },
    "run_through_control": {
     "frozen": true,
     "read_only": false
    }
   },
   "source": [
    "## ダイナミックインベントリのサンプル"
   ]
  },
  {
   "cell_type": "markdown",
   "metadata": {
    "deletable": false,
    "editable": false,
    "lc_cell_meme": {
     "current": "48a281c6-f2e1-11e7-9edf-0242ac110002",
     "history": [
      {
       "current": "48a281c6-f2e1-11e7-9edf-0242ac110002",
       "next": null,
       "previous": "48a27faa-f2e1-11e7-9edf-0242ac110002"
      }
     ],
     "next": "d7b0f3e8-f2e1-11e7-9edf-0242ac110002",
     "previous": "48a27faa-f2e1-11e7-9edf-0242ac110002"
    },
    "run_through_control": {
     "frozen": true,
     "read_only": false
    }
   },
   "source": [
    "スクリプトは一から作成することもできますが、デフォルトでいくつかのサンプルが付属しています。\n",
    "\n",
    "[Dynamic Inventory Script](https://github.com/ansible/ansible/tree/devel/contrib/inventory)\n",
    "\n",
    "上記のリンクを眺めると、EC2 や Azure、GCEといったメジャーなパブリッククラウドから、OpenStackやVMwareといったプライベートな基盤に対して問合せを行うスクリプトが準備されていることが確認できます。"
   ]
  },
  {
   "cell_type": "markdown",
   "metadata": {
    "deletable": false,
    "editable": false,
    "lc_cell_meme": {
     "current": "d7b0f3e8-f2e1-11e7-9edf-0242ac110002",
     "next": "d7b0f60e-f2e1-11e7-9edf-0242ac110002",
     "previous": "48a281c6-f2e1-11e7-9edf-0242ac110002"
    },
    "run_through_control": {
     "frozen": true,
     "read_only": false
    }
   },
   "source": [
    "ここでは、EC2用のサンプルを演習環境にダウンロードしてありますので、こちらを使ってみましょう。"
   ]
  },
  {
   "cell_type": "code",
   "execution_count": 1,
   "metadata": {
    "deletable": false,
    "editable": false,
    "lc_cell_meme": {
     "current": "d7b0f60e-f2e1-11e7-9edf-0242ac110002",
     "history": [
      {
       "current": "d7b0f60e-f2e1-11e7-9edf-0242ac110002",
       "next": null,
       "previous": "d7b0f3e8-f2e1-11e7-9edf-0242ac110002"
      }
     ],
     "next": "1f38c59c-f2e2-11e7-9edf-0242ac110002",
     "previous": "d7b0f3e8-f2e1-11e7-9edf-0242ac110002"
    },
    "run_through_control": {
     "frozen": true,
     "read_only": false
    },
    "scrolled": true
   },
   "outputs": [
    {
     "name": "stdout",
     "output_type": "stream",
     "text": [
      "{\n",
      "  \"_meta\": {\n",
      "    \"hostvars\": {\n",
      "      \"13.112.122.31\": {\n",
      "        \"ansible_host\": \"13.112.122.31\", \n",
      "        \"ec2__in_monitoring_element\": false, \n",
      "        \"ec2_account_id\": \"996856287150\", \n",
      "        \"ec2_ami_launch_index\": \"0\", \n",
      "        \"ec2_architecture\": \"x86_64\", \n",
      "        \"ec2_block_devices\": {\n",
      "          \"sda1\": \"vol-083fbe3dd88212d8b\"\n",
      "        }, \n",
      "        \"ec2_client_token\": \"151472089157447212\", \n",
      "        \"ec2_dns_name\": \"ec2-13-112-122-31.ap-northeast-1.compute.amazonaws.com\", \n",
      "        \"ec2_ebs_optimized\": false, \n",
      "        \"ec2_eventsSet\": \"\", \n",
      "        \"ec2_group_name\": \"\", \n",
      "        \"ec2_hypervisor\": \"xen\", \n",
      "        \"ec2_id\": \"i-0452e56226c443d76\", \n",
      "        \"ec2_image_id\": \"ami-4dd5522b\", \n",
      "        \"ec2_instance_profile\": \"\", \n",
      "        \"ec2_instance_type\": \"t2.micro\", \n",
      "        \"ec2_ip_address\": \"13.112.122.31\", \n",
      "        \"ec2_item\": \"\", \n",
      "        \"ec2_kernel\": \"\", \n",
      "        \"ec2_key_name\": \"aitac-automation-key\", \n",
      "        \"ec2_launch_time\": \"2017-12-31T11:48:15.000Z\", \n",
      "        \"ec2_monitored\": false, \n",
      "        \"ec2_monitoring\": \"\", \n",
      "        \"ec2_monitoring_state\": \"disabled\", \n",
      "        \"ec2_persistent\": false, \n",
      "        \"ec2_placement\": \"ap-northeast-1a\", \n",
      "        \"ec2_platform\": \"\", \n",
      "        \"ec2_previous_state\": \"\", \n",
      "        \"ec2_previous_state_code\": 0, \n",
      "        \"ec2_private_dns_name\": \"ip-172-31-26-42.ap-northeast-1.compute.internal\", \n",
      "        \"ec2_private_ip_address\": \"172.31.26.42\", \n",
      "        \"ec2_public_dns_name\": \"ec2-13-112-122-31.ap-northeast-1.compute.amazonaws.com\", \n",
      "        \"ec2_ramdisk\": \"\", \n",
      "        \"ec2_reason\": \"\", \n",
      "        \"ec2_region\": \"ap-northeast-1\", \n",
      "        \"ec2_requester_id\": \"\", \n",
      "        \"ec2_root_device_name\": \"/dev/sda1\", \n",
      "        \"ec2_root_device_type\": \"ebs\", \n",
      "        \"ec2_security_group_ids\": \"sg-e870c591\", \n",
      "        \"ec2_security_group_names\": \"aitac-automation-sg\", \n",
      "        \"ec2_sourceDestCheck\": \"true\", \n",
      "        \"ec2_spot_instance_request_id\": \"\", \n",
      "        \"ec2_state\": \"running\", \n",
      "        \"ec2_state_code\": 16, \n",
      "        \"ec2_state_reason\": \"\", \n",
      "        \"ec2_subnet_id\": \"subnet-caea7083\", \n",
      "        \"ec2_tag_Name\": \"bation\", \n",
      "        \"ec2_tag_automation_group\": \"manager\", \n",
      "        \"ec2_virtualization_type\": \"hvm\", \n",
      "        \"ec2_vpc_id\": \"vpc-16cb0c71\"\n",
      "      }, \n",
      "      \"13.115.202.69\": {\n",
      "        \"ansible_host\": \"13.115.202.69\", \n",
      "        \"ec2__in_monitoring_element\": false, \n",
      "        \"ec2_account_id\": \"996856287150\", \n",
      "        \"ec2_ami_launch_index\": \"1\", \n",
      "        \"ec2_architecture\": \"x86_64\", \n",
      "        \"ec2_block_devices\": {\n",
      "          \"sda1\": \"vol-04c7538b096b583ad\"\n",
      "        }, \n",
      "        \"ec2_client_token\": \"\", \n",
      "        \"ec2_dns_name\": \"ec2-13-115-202-69.ap-northeast-1.compute.amazonaws.com\", \n",
      "        \"ec2_ebs_optimized\": false, \n",
      "        \"ec2_eventsSet\": \"\", \n",
      "        \"ec2_group_name\": \"\", \n",
      "        \"ec2_hypervisor\": \"xen\", \n",
      "        \"ec2_id\": \"i-0b2f6f42c6bf77f36\", \n",
      "        \"ec2_image_id\": \"ami-4dd5522b\", \n",
      "        \"ec2_instance_profile\": \"\", \n",
      "        \"ec2_instance_type\": \"t2.micro\", \n",
      "        \"ec2_ip_address\": \"13.115.202.69\", \n",
      "        \"ec2_item\": \"\", \n",
      "        \"ec2_kernel\": \"\", \n",
      "        \"ec2_key_name\": \"aitac-automation-key\", \n",
      "        \"ec2_launch_time\": \"2018-01-01T12:53:07.000Z\", \n",
      "        \"ec2_monitored\": false, \n",
      "        \"ec2_monitoring\": \"\", \n",
      "        \"ec2_monitoring_state\": \"disabled\", \n",
      "        \"ec2_persistent\": false, \n",
      "        \"ec2_placement\": \"ap-northeast-1a\", \n",
      "        \"ec2_platform\": \"\", \n",
      "        \"ec2_previous_state\": \"\", \n",
      "        \"ec2_previous_state_code\": 0, \n",
      "        \"ec2_private_dns_name\": \"ip-172-31-19-104.ap-northeast-1.compute.internal\", \n",
      "        \"ec2_private_ip_address\": \"172.31.19.104\", \n",
      "        \"ec2_public_dns_name\": \"ec2-13-115-202-69.ap-northeast-1.compute.amazonaws.com\", \n",
      "        \"ec2_ramdisk\": \"\", \n",
      "        \"ec2_reason\": \"\", \n",
      "        \"ec2_region\": \"ap-northeast-1\", \n",
      "        \"ec2_requester_id\": \"\", \n",
      "        \"ec2_root_device_name\": \"/dev/sda1\", \n",
      "        \"ec2_root_device_type\": \"ebs\", \n",
      "        \"ec2_security_group_ids\": \"sg-e870c591\", \n",
      "        \"ec2_security_group_names\": \"aitac-automation-sg\", \n",
      "        \"ec2_sourceDestCheck\": \"true\", \n",
      "        \"ec2_spot_instance_request_id\": \"\", \n",
      "        \"ec2_state\": \"running\", \n",
      "        \"ec2_state_code\": 16, \n",
      "        \"ec2_state_reason\": \"\", \n",
      "        \"ec2_subnet_id\": \"subnet-caea7083\", \n",
      "        \"ec2_tag_Name\": \"ansible-target\", \n",
      "        \"ec2_tag_automation_group\": \"target\", \n",
      "        \"ec2_virtualization_type\": \"hvm\", \n",
      "        \"ec2_vpc_id\": \"vpc-16cb0c71\"\n",
      "      }, \n",
      "      \"13.230.56.76\": {\n",
      "        \"ansible_host\": \"13.230.56.76\", \n",
      "        \"ec2__in_monitoring_element\": false, \n",
      "        \"ec2_account_id\": \"996856287150\", \n",
      "        \"ec2_ami_launch_index\": \"0\", \n",
      "        \"ec2_architecture\": \"x86_64\", \n",
      "        \"ec2_block_devices\": {\n",
      "          \"sda1\": \"vol-0adfa4832f33f7d2a\"\n",
      "        }, \n",
      "        \"ec2_client_token\": \"\", \n",
      "        \"ec2_dns_name\": \"ec2-13-230-56-76.ap-northeast-1.compute.amazonaws.com\", \n",
      "        \"ec2_ebs_optimized\": false, \n",
      "        \"ec2_eventsSet\": \"\", \n",
      "        \"ec2_group_name\": \"\", \n",
      "        \"ec2_hypervisor\": \"xen\", \n",
      "        \"ec2_id\": \"i-0cfa57de889ac453e\", \n",
      "        \"ec2_image_id\": \"ami-4dd5522b\", \n",
      "        \"ec2_instance_profile\": \"\", \n",
      "        \"ec2_instance_type\": \"t2.micro\", \n",
      "        \"ec2_ip_address\": \"13.230.56.76\", \n",
      "        \"ec2_item\": \"\", \n",
      "        \"ec2_kernel\": \"\", \n",
      "        \"ec2_key_name\": \"aitac-automation-key\", \n",
      "        \"ec2_launch_time\": \"2018-01-01T12:53:07.000Z\", \n",
      "        \"ec2_monitored\": false, \n",
      "        \"ec2_monitoring\": \"\", \n",
      "        \"ec2_monitoring_state\": \"disabled\", \n",
      "        \"ec2_persistent\": false, \n",
      "        \"ec2_placement\": \"ap-northeast-1a\", \n",
      "        \"ec2_platform\": \"\", \n",
      "        \"ec2_previous_state\": \"\", \n",
      "        \"ec2_previous_state_code\": 0, \n",
      "        \"ec2_private_dns_name\": \"ip-172-31-19-209.ap-northeast-1.compute.internal\", \n",
      "        \"ec2_private_ip_address\": \"172.31.19.209\", \n",
      "        \"ec2_public_dns_name\": \"ec2-13-230-56-76.ap-northeast-1.compute.amazonaws.com\", \n",
      "        \"ec2_ramdisk\": \"\", \n",
      "        \"ec2_reason\": \"\", \n",
      "        \"ec2_region\": \"ap-northeast-1\", \n",
      "        \"ec2_requester_id\": \"\", \n",
      "        \"ec2_root_device_name\": \"/dev/sda1\", \n",
      "        \"ec2_root_device_type\": \"ebs\", \n",
      "        \"ec2_security_group_ids\": \"sg-e870c591\", \n",
      "        \"ec2_security_group_names\": \"aitac-automation-sg\", \n",
      "        \"ec2_sourceDestCheck\": \"true\", \n",
      "        \"ec2_spot_instance_request_id\": \"\", \n",
      "        \"ec2_state\": \"running\", \n",
      "        \"ec2_state_code\": 16, \n",
      "        \"ec2_state_reason\": \"\", \n",
      "        \"ec2_subnet_id\": \"subnet-caea7083\", \n",
      "        \"ec2_tag_Name\": \"ansible-target\", \n",
      "        \"ec2_tag_automation_group\": \"target\", \n",
      "        \"ec2_virtualization_type\": \"hvm\", \n",
      "        \"ec2_vpc_id\": \"vpc-16cb0c71\"\n",
      "      }\n",
      "    }\n",
      "  }, \n",
      "  \"ami_4dd5522b\": [\n",
      "    \"13.112.122.31\", \n",
      "    \"13.115.202.69\", \n",
      "    \"13.230.56.76\"\n",
      "  ], \n",
      "  \"ap-northeast-1\": [\n",
      "    \"13.112.122.31\", \n",
      "    \"13.115.202.69\", \n",
      "    \"13.230.56.76\"\n",
      "  ], \n",
      "  \"ap-northeast-1a\": [\n",
      "    \"13.112.122.31\", \n",
      "    \"13.115.202.69\", \n",
      "    \"13.230.56.76\"\n",
      "  ], \n",
      "  \"ec2\": [\n",
      "    \"13.112.122.31\", \n",
      "    \"13.115.202.69\", \n",
      "    \"13.230.56.76\"\n",
      "  ], \n",
      "  \"i-0452e56226c443d76\": [\n",
      "    \"13.112.122.31\"\n",
      "  ], \n",
      "  \"i-0b2f6f42c6bf77f36\": [\n",
      "    \"13.115.202.69\"\n",
      "  ], \n",
      "  \"i-0cfa57de889ac453e\": [\n",
      "    \"13.230.56.76\"\n",
      "  ], \n",
      "  \"key_aitac_automation_key\": [\n",
      "    \"13.112.122.31\", \n",
      "    \"13.115.202.69\", \n",
      "    \"13.230.56.76\"\n",
      "  ], \n",
      "  \"platform_undefined\": [\n",
      "    \"13.112.122.31\", \n",
      "    \"13.115.202.69\", \n",
      "    \"13.230.56.76\"\n",
      "  ], \n",
      "  \"security_group_aitac_automation_sg\": [\n",
      "    \"13.112.122.31\", \n",
      "    \"13.115.202.69\", \n",
      "    \"13.230.56.76\"\n",
      "  ], \n",
      "  \"tag_Name_ansible_target\": [\n",
      "    \"13.115.202.69\", \n",
      "    \"13.230.56.76\"\n",
      "  ], \n",
      "  \"tag_Name_bation\": [\n",
      "    \"13.112.122.31\"\n",
      "  ], \n",
      "  \"tag_automation_group_manager\": [\n",
      "    \"13.112.122.31\"\n",
      "  ], \n",
      "  \"tag_automation_group_target\": [\n",
      "    \"13.115.202.69\", \n",
      "    \"13.230.56.76\"\n",
      "  ], \n",
      "  \"type_t2_micro\": [\n",
      "    \"13.112.122.31\", \n",
      "    \"13.115.202.69\", \n",
      "    \"13.230.56.76\"\n",
      "  ], \n",
      "  \"vpc_id_vpc_16cb0c71\": [\n",
      "    \"13.112.122.31\", \n",
      "    \"13.115.202.69\", \n",
      "    \"13.230.56.76\"\n",
      "  ]\n",
      "}\n"
     ]
    }
   ],
   "source": [
    "# 実行例\n",
    "\n",
    "./inventories/ec2.py --list"
   ]
  },
  {
   "cell_type": "code",
   "execution_count": null,
   "metadata": {
    "lc_cell_meme": {
     "current": "1f38c59c-f2e2-11e7-9edf-0242ac110002",
     "next": "1f38c7cc-f2e2-11e7-9edf-0242ac110002",
     "previous": "d7b0f60e-f2e1-11e7-9edf-0242ac110002"
    }
   },
   "outputs": [],
   "source": [
    "# この Cell を実行してください。1分ほどかかります。\n",
    "\n",
    "./inventories/ec2.py --list"
   ]
  },
  {
   "cell_type": "markdown",
   "metadata": {
    "deletable": false,
    "editable": false,
    "lc_cell_meme": {
     "current": "1f38c7cc-f2e2-11e7-9edf-0242ac110002",
     "history": [
      {
       "current": "1f38c7cc-f2e2-11e7-9edf-0242ac110002",
       "next": null,
       "previous": "1f38c59c-f2e2-11e7-9edf-0242ac110002"
      }
     ],
     "next": "66c207e8-f2e2-11e7-9edf-0242ac110002",
     "previous": "1f38c59c-f2e2-11e7-9edf-0242ac110002"
    },
    "run_through_control": {
     "frozen": true
    }
   },
   "source": [
    "この ec2.py は先の演習で設定した AWS のアクセス情報を使って EC2 のAPIに問合せを行い、インスタンス一覧とそれぞれのインスタンスの情報を取得し、取得した情報を元にグループ仕分けした形式で返します。"
   ]
  },
  {
   "cell_type": "markdown",
   "metadata": {
    "deletable": false,
    "editable": false,
    "lc_cell_meme": {
     "current": "66c207e8-f2e2-11e7-9edf-0242ac110002",
     "history": [
      {
       "current": "66c207e8-f2e2-11e7-9edf-0242ac110002",
       "next": null,
       "previous": "1f38c7cc-f2e2-11e7-9edf-0242ac110002"
      }
     ],
     "next": "ae48c78c-f2e2-11e7-9edf-0242ac110002",
     "previous": "1f38c7cc-f2e2-11e7-9edf-0242ac110002"
    },
    "run_through_control": {
     "frozen": true,
     "read_only": false
    }
   },
   "source": [
    "上記の実行例では、\n",
    "\n",
    "vpc_id vpc_16cb0c71 に接続しているインスタンスの一覧を、\n",
    "\n",
    "```\n",
    "\"vpc_id_vpc_16cb0c71\": [\n",
    "  \"13.112.122.31\", \n",
    "  \"13.115.202.69\", \n",
    "  \"13.230.56.76\"\n",
    "]\n",
    "```\n",
    "\n",
    "という形式で返しており、\n",
    "\n",
    "インスタンスに付与された tag が automation_group=manager, automation_group=target を\n",
    "\n",
    "```\n",
    "  \"tag_automation_group_manager\": [\n",
    "    \"13.112.122.31\"\n",
    "  ], \n",
    "  \"tag_automation_group_target\": [\n",
    "    \"13.115.202.69\", \n",
    "    \"13.230.56.76\"\n",
    "  ], \n",
    "```\n",
    "\n",
    "のように返しています。"
   ]
  },
  {
   "cell_type": "markdown",
   "metadata": {
    "deletable": false,
    "editable": false,
    "lc_cell_meme": {
     "current": "ae48c78c-f2e2-11e7-9edf-0242ac110002",
     "history": [
      {
       "current": "ae48c78c-f2e2-11e7-9edf-0242ac110002",
       "next": null,
       "previous": "66c207e8-f2e2-11e7-9edf-0242ac110002"
      }
     ],
     "next": "3d59e8fc-f2e3-11e7-9edf-0242ac110002",
     "previous": "66c207e8-f2e2-11e7-9edf-0242ac110002"
    },
    "run_through_control": {
     "frozen": true
    }
   },
   "source": [
    "つまり、この ec2.py を利用して以下のように実行すると、"
   ]
  },
  {
   "cell_type": "code",
   "execution_count": null,
   "metadata": {
    "lc_cell_meme": {
     "current": "3d59e8fc-f2e3-11e7-9edf-0242ac110002",
     "next": "3d59eb2c-f2e3-11e7-9edf-0242ac110002",
     "previous": "ae48c78c-f2e2-11e7-9edf-0242ac110002"
    }
   },
   "outputs": [],
   "source": [
    "# この Cell を実行（1分ほどかかります）\n",
    "\n",
    "ansible tag_automation_group_manager -i ./inventories/ec2.py \\\n",
    "        --private-key aitac-automation-key.pem \\\n",
    "        -u centos -b \\\n",
    "        -m ping"
   ]
  },
  {
   "cell_type": "markdown",
   "metadata": {
    "deletable": false,
    "editable": false,
    "lc_cell_meme": {
     "current": "3d59eb2c-f2e3-11e7-9edf-0242ac110002",
     "history": [
      {
       "current": "3d59eb2c-f2e3-11e7-9edf-0242ac110002",
       "next": "3d59ec76-f2e3-11e7-9edf-0242ac110002",
       "previous": "3d59e8fc-f2e3-11e7-9edf-0242ac110002"
      }
     ],
     "next": "3d59e8fc-f2e3-11e7-9edf-0242ac110002",
     "previous": "3d59e8fc-f2e3-11e7-9edf-0242ac110002"
    },
    "run_through_control": {
     "frozen": true
    }
   },
   "source": [
    "Tag で automation_group=manager が設定されたサーバーに対して処理を実行することができます。\n",
    "\n",
    "さらに、以下のようにすると、"
   ]
  },
  {
   "cell_type": "code",
   "execution_count": null,
   "metadata": {
    "lc_cell_meme": {
     "current": "3d59e8fc-f2e3-11e7-9edf-0242ac110002",
     "history": [
      {
       "current": "3d59e8fc-f2e3-11e7-9edf-0242ac110002",
       "next": "3d59eb2c-f2e3-11e7-9edf-0242ac110002",
       "previous": "ae48c78c-f2e2-11e7-9edf-0242ac110002"
      }
     ],
     "next": "3d59ec76-f2e3-11e7-9edf-0242ac110002",
     "previous": "3d59eb2c-f2e3-11e7-9edf-0242ac110002"
    }
   },
   "outputs": [],
   "source": [
    "# この Cell を実行（1分ほどかかります）\n",
    "\n",
    "ansible tag_automation_group_target -i ./inventories/ec2.py \\\n",
    "        --private-key aitac-automation-key.pem \\\n",
    "        -u centos -b \\\n",
    "        -m ping"
   ]
  },
  {
   "cell_type": "markdown",
   "metadata": {
    "deletable": false,
    "editable": false,
    "lc_cell_meme": {
     "current": "3d59ec76-f2e3-11e7-9edf-0242ac110002",
     "history": [
      {
       "current": "3d59ec76-f2e3-11e7-9edf-0242ac110002",
       "next": null,
       "previous": "3d59eb2c-f2e3-11e7-9edf-0242ac110002"
      },
      {
       "current": "3d59ec76-f2e3-11e7-9edf-0242ac110002",
       "next": null,
       "previous": "3d59e8fc-f2e3-11e7-9edf-0242ac110002"
      }
     ],
     "next": "cc6b682c-f2e3-11e7-9edf-0242ac110002",
     "previous": "3d59e8fc-f2e3-11e7-9edf-0242ac110002"
    },
    "run_through_control": {
     "frozen": true,
     "read_only": false
    }
   },
   "source": [
    "Tag で automation_group=target が設定されたサーバーに対して処理を実行できます。"
   ]
  },
  {
   "cell_type": "markdown",
   "metadata": {
    "deletable": false,
    "editable": false,
    "lc_cell_meme": {
     "current": "cc6b682c-f2e3-11e7-9edf-0242ac110002",
     "history": [
      {
       "current": "cc6b682c-f2e3-11e7-9edf-0242ac110002",
       "next": null,
       "previous": "3d59ec76-f2e3-11e7-9edf-0242ac110002"
      }
     ],
     "next": "13f289d2-f2e4-11e7-9edf-0242ac110002",
     "previous": "3d59ec76-f2e3-11e7-9edf-0242ac110002"
    },
    "run_through_control": {
     "frozen": true,
     "read_only": false
    }
   },
   "source": [
    "## ダイナミックインベントリの利用"
   ]
  },
  {
   "cell_type": "markdown",
   "metadata": {
    "deletable": false,
    "editable": false,
    "lc_cell_meme": {
     "current": "13f289d2-f2e4-11e7-9edf-0242ac110002",
     "history": [
      {
       "current": "13f289d2-f2e4-11e7-9edf-0242ac110002",
       "next": "13f28bf8-f2e4-11e7-9edf-0242ac110002",
       "previous": "cc6b682c-f2e3-11e7-9edf-0242ac110002"
      }
     ],
     "next": "ea8eeb02-f2e4-11e7-9edf-0242ac110002",
     "previous": "cc6b682c-f2e3-11e7-9edf-0242ac110002"
    },
    "run_through_control": {
     "frozen": true,
     "read_only": false
    }
   },
   "source": [
    "では実際に、Playbookと合わせてダイナミックインベントリを実行してみます。\n",
    "\n",
    "ここで使うPlaybook は先の演習2で使ったものとほとんど同じですが、ターゲットとなるホストの指定方法が異なっています。\n",
    "\n",
    "[server_ops_httpd_on_with_dinv.yml](/edit/aitac-automation-handson/server_ops_httpd_on_with_dinv.yml)\n",
    "\n",
    "* 演習2では hosts: target （手動で作成したインベントリファイル内で定義したグループ）\n",
    "* ここでは hosts: tag_automation_group_target （ダイナミックインベントリが返すグループ）"
   ]
  },
  {
   "cell_type": "markdown",
   "metadata": {
    "deletable": false,
    "editable": false,
    "lc_cell_meme": {
     "current": "ea8eeb02-f2e4-11e7-9edf-0242ac110002",
     "next": "13f28bf8-f2e4-11e7-9edf-0242ac110002",
     "previous": "13f289d2-f2e4-11e7-9edf-0242ac110002"
    },
    "run_through_control": {
     "frozen": true,
     "read_only": false
    }
   },
   "source": [
    "では、このPlaybookをダイナミックインベントリと合わせて実行してみましょう。"
   ]
  },
  {
   "cell_type": "code",
   "execution_count": null,
   "metadata": {
    "lc_cell_meme": {
     "current": "13f28bf8-f2e4-11e7-9edf-0242ac110002",
     "history": [
      {
       "current": "13f28bf8-f2e4-11e7-9edf-0242ac110002",
       "next": null,
       "previous": "13f289d2-f2e4-11e7-9edf-0242ac110002"
      },
      {
       "current": "13f28bf8-f2e4-11e7-9edf-0242ac110002",
       "next": null,
       "previous": "13f28bf8-f2e4-11e7-9edf-0242ac110002"
      }
     ],
     "next": "321810d4-f2e5-11e7-9edf-0242ac110002",
     "previous": "ea8eeb02-f2e4-11e7-9edf-0242ac110002"
    }
   },
   "outputs": [],
   "source": [
    "# この Cell を実行（1分ほどかかります）\n",
    "\n",
    "ansible-playbook -i ./inventories/ec2.py \\\n",
    "                 -u centos --private-key aitac-automation-key.pem \\\n",
    "                 server_ops_httpd_on_with_dinv.yml"
   ]
  },
  {
   "cell_type": "markdown",
   "metadata": {
    "deletable": false,
    "editable": false,
    "lc_cell_meme": {
     "current": "321810d4-f2e5-11e7-9edf-0242ac110002",
     "next": "32181318-f2e5-11e7-9edf-0242ac110002",
     "previous": "13f28bf8-f2e4-11e7-9edf-0242ac110002"
    },
    "run_through_control": {
     "frozen": true,
     "read_only": false
    }
   },
   "source": [
    "実行結果は演習2と同じ状態になるはずです。"
   ]
  },
  {
   "cell_type": "markdown",
   "metadata": {
    "deletable": false,
    "editable": false,
    "lc_cell_meme": {
     "current": "32181318-f2e5-11e7-9edf-0242ac110002",
     "history": [
      {
       "current": "32181318-f2e5-11e7-9edf-0242ac110002",
       "next": null,
       "previous": "321810d4-f2e5-11e7-9edf-0242ac110002"
      }
     ],
     "next": "79a1d110-f2e5-11e7-9edf-0242ac110002",
     "previous": "321810d4-f2e5-11e7-9edf-0242ac110002"
    },
    "run_through_control": {
     "frozen": true,
     "read_only": false
    }
   },
   "source": [
    "このケースではサーバーが2台しかないので、ダイナミックインベントリを利用してもさほどメリットを感じないかもしれません。しかし、これが50台のサーバーが対象の時はどうでしょうか？\n",
    "\n",
    "または、インスタンスの起動 → サーバーの設定を連続して行いたい場合はどうでしょうか？\n",
    "\n",
    "上記のようなケースでダイナミックインベントリは効果を発揮します。"
   ]
  },
  {
   "cell_type": "markdown",
   "metadata": {
    "deletable": false,
    "editable": false,
    "lc_cell_meme": {
     "current": "79a1d110-f2e5-11e7-9edf-0242ac110002",
     "next": null,
     "previous": "32181318-f2e5-11e7-9edf-0242ac110002"
    },
    "run_through_control": {
     "frozen": true,
     "read_only": false
    }
   },
   "source": [
    "本演習はここまでです。"
   ]
  }
 ],
 "metadata": {
  "kernelspec": {
   "display_name": "Bash",
   "language": "bash",
   "name": "bash"
  },
  "language_info": {
   "codemirror_mode": "shell",
   "file_extension": ".sh",
   "mimetype": "text/x-sh",
   "name": "bash"
  },
  "lc_notebook_meme": {
   "current": "0c5fcdec-f2df-11e7-9edf-0242ac110002",
   "lc_server_signature": {
    "current": {
     "notebook_dir": "/notebooks",
     "notebook_path": "/aitac-automation-handson",
     "server_url": "http://localhost:8888/",
     "signature_id": "a30ccda8-f42e-11e7-b6b4-0242ac110002"
    },
    "history": [
     {
      "notebook_dir": "/notebooks",
      "notebook_path": "/aitac-automation-handson",
      "server_url": "http://13.112.122.31:8888/",
      "signature_id": "a266f498-eebe-11e7-9edf-0242ac110002"
     }
    ]
   }
  },
  "toc": {
   "nav_menu": {},
   "number_sections": true,
   "sideBar": true,
   "skip_h1_title": true,
   "title_cell": "Table of Contents",
   "title_sidebar": "Contents",
   "toc_cell": false,
   "toc_position": {},
   "toc_section_display": true,
   "toc_window_display": true
  }
 },
 "nbformat": 4,
 "nbformat_minor": 2
}
