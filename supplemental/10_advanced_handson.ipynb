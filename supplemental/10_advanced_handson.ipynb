{
 "cells": [
  {
   "cell_type": "markdown",
   "metadata": {
    "deletable": false,
    "editable": false,
    "lc_cell_meme": {
     "current": "2e0db09a-f315-11e7-9edf-0242ac110002",
     "history": [
      {
       "current": "2e0db09a-f315-11e7-9edf-0242ac110002",
       "next": "2e0db1f8-f315-11e7-9edf-0242ac110002",
       "previous": null
      }
     ],
     "next": "18b3845c-f43e-11e7-b6b4-0242ac110002",
     "previous": null
    },
    "run_through_control": {
     "frozen": true,
     "read_only": false
    }
   },
   "source": [
    "# 応用演習"
   ]
  },
  {
   "cell_type": "markdown",
   "metadata": {
    "deletable": false,
    "editable": false,
    "lc_cell_meme": {
     "current": "18b3845c-f43e-11e7-b6b4-0242ac110002",
     "next": "2e0db1f8-f315-11e7-9edf-0242ac110002",
     "previous": "2e0db09a-f315-11e7-9edf-0242ac110002"
    },
    "run_through_control": {
     "frozen": true
    }
   },
   "source": [
    "基礎演習が終わった方から、応用問題に取り組んでみてください。\n",
    "\n",
    "解答は本Notebookの最後に付属していますが、できるだけ解答を見ずにチャレンジしてください。"
   ]
  },
  {
   "cell_type": "markdown",
   "metadata": {
    "deletable": false,
    "editable": false,
    "lc_cell_meme": {
     "current": "2e0db1f8-f315-11e7-9edf-0242ac110002",
     "history": [
      {
       "current": "2e0db1f8-f315-11e7-9edf-0242ac110002",
       "next": null,
       "previous": "2e0db09a-f315-11e7-9edf-0242ac110002"
      },
      {
       "current": "2e0db1f8-f315-11e7-9edf-0242ac110002",
       "next": "04a6c560-f316-11e7-9edf-0242ac110002",
       "previous": "2e0db09a-f315-11e7-9edf-0242ac110002"
      },
      {
       "current": "2e0db1f8-f315-11e7-9edf-0242ac110002",
       "next": "7336ebc0-f3ae-11e7-9edf-0242ac110002",
       "previous": "2e0db09a-f315-11e7-9edf-0242ac110002"
      }
     ],
     "next": "7336ebc0-f3ae-11e7-9edf-0242ac110002",
     "previous": "18b3845c-f43e-11e7-b6b4-0242ac110002"
    },
    "run_through_control": {
     "frozen": true,
     "read_only": false
    }
   },
   "source": [
    "## Playbookの再利用"
   ]
  },
  {
   "cell_type": "markdown",
   "metadata": {
    "deletable": false,
    "editable": false,
    "lc_cell_meme": {
     "current": "7336ebc0-f3ae-11e7-9edf-0242ac110002",
     "next": "04a6c560-f316-11e7-9edf-0242ac110002",
     "previous": "2e0db1f8-f315-11e7-9edf-0242ac110002"
    },
    "run_through_control": {
     "frozen": true,
     "read_only": false
    }
   },
   "source": [
    "### 問題"
   ]
  },
  {
   "cell_type": "markdown",
   "metadata": {
    "deletable": false,
    "editable": false,
    "lc_cell_meme": {
     "current": "04a6c560-f316-11e7-9edf-0242ac110002",
     "history": [
      {
       "current": "04a6c560-f316-11e7-9edf-0242ac110002",
       "next": null,
       "previous": "2e0db1f8-f315-11e7-9edf-0242ac110002"
      },
      {
       "current": "04a6c560-f316-11e7-9edf-0242ac110002",
       "next": "22ca9980-f317-11e7-9edf-0242ac110002",
       "previous": "2e0db1f8-f315-11e7-9edf-0242ac110002"
      }
     ],
     "next": "22ca9980-f317-11e7-9edf-0242ac110002",
     "previous": "7336ebc0-f3ae-11e7-9edf-0242ac110002"
    },
    "run_through_control": {
     "frozen": true
    }
   },
   "source": [
    "ここまでの基礎演習の内容を利用して、以下の作業を [advanced/01_site.yml](/edit/aitac-automation-handson/advanced/01_site.yml) として1つのPlaybookから実行できるようにしてください。\n",
    "\n",
    "* 2台のインスタンスを起動する（基礎演習１）\n",
    "* 起動したインスタンスをインベントリへ追加する（基礎演習6）→ [advanced/01_add_host_and_wait.yml](/edit/aitac-automation-handson/advanced/01_add_host_and_wait.yml)\n",
    "* 2台のインスタンスがログイン可能になるのを待つ（[wait_for](http://docs.ansible.com/ansible/latest/wait_for_module.html)を使う   → [advanced/01_add_host_and_wait.yml](/edit/aitac-automation-handson/advanced/01_add_host_and_wait.yml)）\n",
    "* 起動したインスタンスへhttpdをインストールし、index.htmlを配置してから起動する（基礎演習３）\n",
    "* 設定した内容が正しく動作しているかテストする（基礎演習４）"
   ]
  },
  {
   "cell_type": "code",
   "execution_count": null,
   "metadata": {
    "deletable": false,
    "editable": false,
    "lc_cell_meme": {
     "current": "22ca9980-f317-11e7-9edf-0242ac110002",
     "history": [
      {
       "current": "22ca9980-f317-11e7-9edf-0242ac110002",
       "next": "22ca9bb0-f317-11e7-9edf-0242ac110002",
       "previous": "04a6c560-f316-11e7-9edf-0242ac110002"
      }
     ],
     "next": "7336edd2-f3ae-11e7-9edf-0242ac110002",
     "previous": "04a6c560-f316-11e7-9edf-0242ac110002"
    },
    "run_through_control": {
     "frozen": true,
     "read_only": false
    }
   },
   "outputs": [],
   "source": [
    "# 実行例\n",
    "\n",
    "ansible-playbook advanced/01_site.yml"
   ]
  },
  {
   "cell_type": "markdown",
   "metadata": {
    "deletable": false,
    "editable": false,
    "lc_cell_meme": {
     "current": "7336edd2-f3ae-11e7-9edf-0242ac110002",
     "next": "22ca9bb0-f317-11e7-9edf-0242ac110002",
     "previous": "22ca9980-f317-11e7-9edf-0242ac110002"
    },
    "run_through_control": {
     "frozen": true,
     "read_only": false
    }
   },
   "source": [
    "### ヒント"
   ]
  },
  {
   "cell_type": "markdown",
   "metadata": {
    "deletable": false,
    "editable": false,
    "lc_cell_meme": {
     "current": "22ca9bb0-f317-11e7-9edf-0242ac110002",
     "history": [
      {
       "current": "22ca9bb0-f317-11e7-9edf-0242ac110002",
       "next": null,
       "previous": "22ca9980-f317-11e7-9edf-0242ac110002"
      },
      {
       "current": "22ca9bb0-f317-11e7-9edf-0242ac110002",
       "next": "6a5373c6-f317-11e7-9edf-0242ac110002",
       "previous": "22ca9980-f317-11e7-9edf-0242ac110002"
      },
      {
       "current": "22ca9bb0-f317-11e7-9edf-0242ac110002",
       "next": "b1dd4c3a-f317-11e7-9edf-0242ac110002",
       "previous": "22ca9980-f317-11e7-9edf-0242ac110002"
      }
     ],
     "next": "7336ef12-f3ae-11e7-9edf-0242ac110002",
     "previous": "7336edd2-f3ae-11e7-9edf-0242ac110002"
    },
    "run_through_control": {
     "frozen": true
    }
   },
   "source": [
    "* import_playbook でここまでに利用した Playbook をそのまま利用する。\n",
    "* 一部のPlaybookは環境変数としていくつかの値を与えていたので、別の方法でPlaybookに変数を与える必要がある。\n",
    "* EC2インスタンスの起動時に、結果をec2をいう変数に格納しているので、これを使って add_host を行い、インベントリを生成する。\n",
    "* 移動したばかりのインスンタンスはすぐにはログインできないので、 wait_for を使って SSH ログイン可能になるのを待つ必要がある（60秒程度）"
   ]
  },
  {
   "cell_type": "markdown",
   "metadata": {
    "deletable": false,
    "editable": false,
    "lc_cell_meme": {
     "current": "7336ef12-f3ae-11e7-9edf-0242ac110002",
     "next": "b1dd4c3a-f317-11e7-9edf-0242ac110002",
     "previous": "22ca9bb0-f317-11e7-9edf-0242ac110002"
    },
    "run_through_control": {
     "frozen": true,
     "read_only": false
    }
   },
   "source": [
    "### 注意"
   ]
  },
  {
   "cell_type": "markdown",
   "metadata": {
    "deletable": false,
    "editable": false,
    "lc_cell_meme": {
     "current": "b1dd4c3a-f317-11e7-9edf-0242ac110002",
     "history": [
      {
       "current": "b1dd4c3a-f317-11e7-9edf-0242ac110002",
       "next": "6a5373c6-f317-11e7-9edf-0242ac110002",
       "previous": "22ca9bb0-f317-11e7-9edf-0242ac110002"
      },
      {
       "current": "b1dd4c3a-f317-11e7-9edf-0242ac110002",
       "next": "6a5373c6-f317-11e7-9edf-0242ac110002",
       "previous": "7336ef12-f3ae-11e7-9edf-0242ac110002"
      },
      {
       "current": "b1dd4c3a-f317-11e7-9edf-0242ac110002",
       "next": "0246356e-f3af-11e7-9edf-0242ac110002",
       "previous": "7336ef12-f3ae-11e7-9edf-0242ac110002"
      }
     ],
     "next": "6a5373c6-f317-11e7-9edf-0242ac110002",
     "previous": "7336ef12-f3ae-11e7-9edf-0242ac110002"
    },
    "run_through_control": {
     "frozen": true
    }
   },
   "source": [
    "* 次の問いに移る前に、[演習サーバーの削除](/notebooks/aitac-automation-handson/05_delete_target_servers.ipynb)を参考に、起動した演習サーバーを削除しておいてください。\n",
    "* 演習に利用しているスペックの低いインスタンスでは、インスタンスの起動 → yum モジュールの操作を連続して行うと、yum の部分で非常に時間がかかることがあります。\n",
    "* 一時的に性能を上げて試したい場合は、Playbookで指定している インスタンスタイプを `m4.large` に、ボリュームタイプを `gp2`、ボリュームサイズを `300GB` すると性能が向上します。"
   ]
  },
  {
   "cell_type": "markdown",
   "metadata": {
    "deletable": false,
    "editable": false,
    "lc_cell_meme": {
     "current": "6a5373c6-f317-11e7-9edf-0242ac110002",
     "history": [
      {
       "current": "6a5373c6-f317-11e7-9edf-0242ac110002",
       "next": null,
       "previous": "22ca9bb0-f317-11e7-9edf-0242ac110002"
      },
      {
       "current": "6a5373c6-f317-11e7-9edf-0242ac110002",
       "next": "b1dd4f28-f317-11e7-9edf-0242ac110002",
       "previous": "b1dd4c3a-f317-11e7-9edf-0242ac110002"
      },
      {
       "current": "6a5373c6-f317-11e7-9edf-0242ac110002",
       "next": "7336f034-f3ae-11e7-9edf-0242ac110002",
       "previous": "b1dd4c3a-f317-11e7-9edf-0242ac110002"
      },
      {
       "current": "6a5373c6-f317-11e7-9edf-0242ac110002",
       "next": "7336f034-f3ae-11e7-9edf-0242ac110002",
       "previous": "0246379e-f3af-11e7-9edf-0242ac110002"
      }
     ],
     "next": "7336f034-f3ae-11e7-9edf-0242ac110002",
     "previous": "b1dd4c3a-f317-11e7-9edf-0242ac110002"
    },
    "run_through_control": {
     "frozen": true,
     "read_only": false
    }
   },
   "source": [
    "## role 化"
   ]
  },
  {
   "cell_type": "markdown",
   "metadata": {
    "deletable": false,
    "editable": false,
    "lc_cell_meme": {
     "current": "7336f034-f3ae-11e7-9edf-0242ac110002",
     "history": [
      {
       "current": "7336f034-f3ae-11e7-9edf-0242ac110002",
       "next": "9ca70b2c-f31b-11e7-9edf-0242ac110002",
       "previous": "c60773d6-f31a-11e7-9edf-0242ac110002"
      },
      {
       "current": "7336f034-f3ae-11e7-9edf-0242ac110002",
       "next": "9ca70b2c-f31b-11e7-9edf-0242ac110002",
       "previous": "c60773d6-f31a-11e7-9edf-0242ac110002"
      },
      {
       "current": "7336f034-f3ae-11e7-9edf-0242ac110002",
       "next": "9ca70b2c-f31b-11e7-9edf-0242ac110002",
       "previous": "c60773d6-f31a-11e7-9edf-0242ac110002"
      },
      {
       "current": "7336f034-f3ae-11e7-9edf-0242ac110002",
       "next": "9ca70b2c-f31b-11e7-9edf-0242ac110002",
       "previous": "c60773d6-f31a-11e7-9edf-0242ac110002"
      },
      {
       "current": "7336f034-f3ae-11e7-9edf-0242ac110002",
       "next": "9ca70b2c-f31b-11e7-9edf-0242ac110002",
       "previous": "c60773d6-f31a-11e7-9edf-0242ac110002"
      },
      {
       "current": "7336f034-f3ae-11e7-9edf-0242ac110002",
       "next": "9ca70b2c-f31b-11e7-9edf-0242ac110002",
       "previous": "c60773d6-f31a-11e7-9edf-0242ac110002"
      },
      {
       "current": "7336f034-f3ae-11e7-9edf-0242ac110002",
       "next": "9ca70b2c-f31b-11e7-9edf-0242ac110002",
       "previous": "c60773d6-f31a-11e7-9edf-0242ac110002"
      },
      {
       "current": "7336f034-f3ae-11e7-9edf-0242ac110002",
       "next": "9ca70b2c-f31b-11e7-9edf-0242ac110002",
       "previous": "c60773d6-f31a-11e7-9edf-0242ac110002"
      },
      {
       "current": "7336f034-f3ae-11e7-9edf-0242ac110002",
       "next": "9ca70b2c-f31b-11e7-9edf-0242ac110002",
       "previous": "c60773d6-f31a-11e7-9edf-0242ac110002"
      },
      {
       "current": "7336f034-f3ae-11e7-9edf-0242ac110002",
       "next": "9ca70b2c-f31b-11e7-9edf-0242ac110002",
       "previous": "c60773d6-f31a-11e7-9edf-0242ac110002"
      },
      {
       "current": "7336f034-f3ae-11e7-9edf-0242ac110002",
       "next": "9ca70b2c-f31b-11e7-9edf-0242ac110002",
       "previous": "c60773d6-f31a-11e7-9edf-0242ac110002"
      },
      {
       "current": "7336f034-f3ae-11e7-9edf-0242ac110002",
       "next": "9ca70b2c-f31b-11e7-9edf-0242ac110002",
       "previous": "c60773d6-f31a-11e7-9edf-0242ac110002"
      },
      {
       "current": "7336f034-f3ae-11e7-9edf-0242ac110002",
       "next": "9ca70b2c-f31b-11e7-9edf-0242ac110002",
       "previous": "c60773d6-f31a-11e7-9edf-0242ac110002"
      },
      {
       "current": "7336f034-f3ae-11e7-9edf-0242ac110002",
       "next": "9ca70b2c-f31b-11e7-9edf-0242ac110002",
       "previous": "c60773d6-f31a-11e7-9edf-0242ac110002"
      },
      {
       "current": "7336f034-f3ae-11e7-9edf-0242ac110002",
       "next": "9ca70b2c-f31b-11e7-9edf-0242ac110002",
       "previous": "c60773d6-f31a-11e7-9edf-0242ac110002"
      },
      {
       "current": "7336f034-f3ae-11e7-9edf-0242ac110002",
       "next": "9ca70b2c-f31b-11e7-9edf-0242ac110002",
       "previous": "c60773d6-f31a-11e7-9edf-0242ac110002"
      },
      {
       "current": "7336f034-f3ae-11e7-9edf-0242ac110002",
       "next": "9ca70b2c-f31b-11e7-9edf-0242ac110002",
       "previous": "c60773d6-f31a-11e7-9edf-0242ac110002"
      },
      {
       "current": "7336f034-f3ae-11e7-9edf-0242ac110002",
       "next": "9ca70b2c-f31b-11e7-9edf-0242ac110002",
       "previous": "c60773d6-f31a-11e7-9edf-0242ac110002"
      },
      {
       "current": "7336f034-f3ae-11e7-9edf-0242ac110002",
       "next": "9ca70b2c-f31b-11e7-9edf-0242ac110002",
       "previous": "c60773d6-f31a-11e7-9edf-0242ac110002"
      },
      {
       "current": "7336f034-f3ae-11e7-9edf-0242ac110002",
       "next": "9ca70b2c-f31b-11e7-9edf-0242ac110002",
       "previous": "c60773d6-f31a-11e7-9edf-0242ac110002"
      },
      {
       "current": "7336f034-f3ae-11e7-9edf-0242ac110002",
       "next": "9ca70b2c-f31b-11e7-9edf-0242ac110002",
       "previous": "c60773d6-f31a-11e7-9edf-0242ac110002"
      },
      {
       "current": "7336f034-f3ae-11e7-9edf-0242ac110002",
       "next": "9ca70b2c-f31b-11e7-9edf-0242ac110002",
       "previous": "c60773d6-f31a-11e7-9edf-0242ac110002"
      },
      {
       "current": "7336f034-f3ae-11e7-9edf-0242ac110002",
       "next": "9ca70b2c-f31b-11e7-9edf-0242ac110002",
       "previous": "c60773d6-f31a-11e7-9edf-0242ac110002"
      },
      {
       "current": "7336f034-f3ae-11e7-9edf-0242ac110002",
       "next": "9ca70b2c-f31b-11e7-9edf-0242ac110002",
       "previous": "c60773d6-f31a-11e7-9edf-0242ac110002"
      },
      {
       "current": "7336f034-f3ae-11e7-9edf-0242ac110002",
       "next": "9ca70b2c-f31b-11e7-9edf-0242ac110002",
       "previous": "c60773d6-f31a-11e7-9edf-0242ac110002"
      },
      {
       "current": "7336f034-f3ae-11e7-9edf-0242ac110002",
       "next": "9ca70b2c-f31b-11e7-9edf-0242ac110002",
       "previous": "c60773d6-f31a-11e7-9edf-0242ac110002"
      },
      {
       "current": "7336f034-f3ae-11e7-9edf-0242ac110002",
       "next": "9ca70b2c-f31b-11e7-9edf-0242ac110002",
       "previous": "c60773d6-f31a-11e7-9edf-0242ac110002"
      },
      {
       "current": "7336f034-f3ae-11e7-9edf-0242ac110002",
       "next": "9ca70b2c-f31b-11e7-9edf-0242ac110002",
       "previous": "c60773d6-f31a-11e7-9edf-0242ac110002"
      },
      {
       "current": "7336f034-f3ae-11e7-9edf-0242ac110002",
       "next": "9ca70b2c-f31b-11e7-9edf-0242ac110002",
       "previous": "c60773d6-f31a-11e7-9edf-0242ac110002"
      },
      {
       "current": "7336f034-f3ae-11e7-9edf-0242ac110002",
       "next": "9ca70b2c-f31b-11e7-9edf-0242ac110002",
       "previous": "c60773d6-f31a-11e7-9edf-0242ac110002"
      },
      {
       "current": "7336f034-f3ae-11e7-9edf-0242ac110002",
       "next": "9ca70b2c-f31b-11e7-9edf-0242ac110002",
       "previous": "c60773d6-f31a-11e7-9edf-0242ac110002"
      },
      {
       "current": "7336f034-f3ae-11e7-9edf-0242ac110002",
       "next": "9ca70b2c-f31b-11e7-9edf-0242ac110002",
       "previous": "c60773d6-f31a-11e7-9edf-0242ac110002"
      },
      {
       "current": "7336f034-f3ae-11e7-9edf-0242ac110002",
       "next": "9ca70b2c-f31b-11e7-9edf-0242ac110002",
       "previous": "c60773d6-f31a-11e7-9edf-0242ac110002"
      },
      {
       "current": "7336f034-f3ae-11e7-9edf-0242ac110002",
       "next": "9ca70b2c-f31b-11e7-9edf-0242ac110002",
       "previous": "c60773d6-f31a-11e7-9edf-0242ac110002"
      },
      {
       "current": "7336f034-f3ae-11e7-9edf-0242ac110002",
       "next": "9ca70b2c-f31b-11e7-9edf-0242ac110002",
       "previous": "c60773d6-f31a-11e7-9edf-0242ac110002"
      },
      {
       "current": "7336f034-f3ae-11e7-9edf-0242ac110002",
       "next": "9ca70b2c-f31b-11e7-9edf-0242ac110002",
       "previous": "c60773d6-f31a-11e7-9edf-0242ac110002"
      },
      {
       "current": "7336f034-f3ae-11e7-9edf-0242ac110002",
       "next": "9ca70b2c-f31b-11e7-9edf-0242ac110002",
       "previous": "c60773d6-f31a-11e7-9edf-0242ac110002"
      },
      {
       "current": "7336f034-f3ae-11e7-9edf-0242ac110002",
       "next": "9ca70b2c-f31b-11e7-9edf-0242ac110002",
       "previous": "c60773d6-f31a-11e7-9edf-0242ac110002"
      },
      {
       "current": "7336f034-f3ae-11e7-9edf-0242ac110002",
       "next": "9ca70b2c-f31b-11e7-9edf-0242ac110002",
       "previous": "c60773d6-f31a-11e7-9edf-0242ac110002"
      },
      {
       "current": "7336f034-f3ae-11e7-9edf-0242ac110002",
       "next": "9ca70b2c-f31b-11e7-9edf-0242ac110002",
       "previous": "c60773d6-f31a-11e7-9edf-0242ac110002"
      },
      {
       "current": "7336f034-f3ae-11e7-9edf-0242ac110002",
       "next": "9ca70b2c-f31b-11e7-9edf-0242ac110002",
       "previous": "c60773d6-f31a-11e7-9edf-0242ac110002"
      },
      {
       "current": "7336f034-f3ae-11e7-9edf-0242ac110002",
       "next": "9ca70b2c-f31b-11e7-9edf-0242ac110002",
       "previous": "c60773d6-f31a-11e7-9edf-0242ac110002"
      },
      {
       "current": "7336f034-f3ae-11e7-9edf-0242ac110002",
       "next": "9ca70b2c-f31b-11e7-9edf-0242ac110002",
       "previous": "c60773d6-f31a-11e7-9edf-0242ac110002"
      }
     ],
     "next": "b1dd4f28-f317-11e7-9edf-0242ac110002",
     "previous": "6a5373c6-f317-11e7-9edf-0242ac110002"
    },
    "run_through_control": {
     "frozen": true,
     "read_only": false
    }
   },
   "source": [
    "### 問題"
   ]
  },
  {
   "cell_type": "markdown",
   "metadata": {
    "deletable": false,
    "editable": false,
    "lc_cell_meme": {
     "current": "b1dd4f28-f317-11e7-9edf-0242ac110002",
     "history": [
      {
       "current": "b1dd4f28-f317-11e7-9edf-0242ac110002",
       "next": null,
       "previous": "6a5373c6-f317-11e7-9edf-0242ac110002"
      },
      {
       "current": "b1dd4f28-f317-11e7-9edf-0242ac110002",
       "next": "22ca9980-f317-11e7-9edf-0242ac110002",
       "previous": "6a5373c6-f317-11e7-9edf-0242ac110002"
      }
     ],
     "next": "22ca9980-f317-11e7-9edf-0242ac110002",
     "previous": "7336f034-f3ae-11e7-9edf-0242ac110002"
    },
    "run_through_control": {
     "frozen": true,
     "read_only": false
    }
   },
   "source": [
    "応用演習１で使用した各Playbookを role 化し、より汎用性を高めてください。作成する role は以下になります。\n",
    "\n",
    "* advanced/roles/ec2_instance_create\n",
    "* advanced/roles/wait_server_boot\n",
    "* advanced/roles/httpd_on\n",
    "* advanced/roles/httpd_on_test\n",
    "\n",
    "これらの作成した role を [advanced/02_site.yml](/edit/aitac-automation-handson/advanced/02_site.yml)  として実行できるようにしてください。"
   ]
  },
  {
   "cell_type": "code",
   "execution_count": null,
   "metadata": {
    "deletable": false,
    "editable": false,
    "lc_cell_meme": {
     "current": "22ca9980-f317-11e7-9edf-0242ac110002",
     "history": [
      {
       "current": "22ca9980-f317-11e7-9edf-0242ac110002",
       "next": "22ca9bb0-f317-11e7-9edf-0242ac110002",
       "previous": "04a6c560-f316-11e7-9edf-0242ac110002"
      },
      {
       "current": "22ca9980-f317-11e7-9edf-0242ac110002",
       "next": "b1dd4c3a-f317-11e7-9edf-0242ac110002",
       "previous": "b1dd4f28-f317-11e7-9edf-0242ac110002"
      },
      {
       "current": "22ca9980-f317-11e7-9edf-0242ac110002",
       "next": "36f62638-f31a-11e7-9edf-0242ac110002",
       "previous": "b1dd4f28-f317-11e7-9edf-0242ac110002"
      },
      {
       "current": "22ca9980-f317-11e7-9edf-0242ac110002",
       "next": "b1dd4c3a-f317-11e7-9edf-0242ac110002",
       "previous": "b1dd4f28-f317-11e7-9edf-0242ac110002"
      }
     ],
     "next": "7336f138-f3ae-11e7-9edf-0242ac110002",
     "previous": "b1dd4f28-f317-11e7-9edf-0242ac110002"
    },
    "run_through_control": {
     "frozen": true,
     "read_only": false
    }
   },
   "outputs": [],
   "source": [
    "# 実行例\n",
    "\n",
    "ansible-playbook advanced/02_site.yml"
   ]
  },
  {
   "cell_type": "markdown",
   "metadata": {
    "deletable": false,
    "editable": false,
    "lc_cell_meme": {
     "current": "7336f138-f3ae-11e7-9edf-0242ac110002",
     "history": [
      {
       "current": "7336f138-f3ae-11e7-9edf-0242ac110002",
       "next": "b1dd4c3a-f317-11e7-9edf-0242ac110002",
       "previous": "22ca9980-f317-11e7-9edf-0242ac110002"
      }
     ],
     "next": "f0219a22-f43a-11e7-b6b4-0242ac110002",
     "previous": "22ca9980-f317-11e7-9edf-0242ac110002"
    },
    "run_through_control": {
     "frozen": true
    }
   },
   "source": [
    "### ヒント"
   ]
  },
  {
   "cell_type": "markdown",
   "metadata": {
    "deletable": false,
    "editable": false,
    "lc_cell_meme": {
     "current": "f0219a22-f43a-11e7-b6b4-0242ac110002",
     "next": "7336f138-f3ae-11e7-9edf-0242ac110002",
     "previous": "7336f138-f3ae-11e7-9edf-0242ac110002"
    },
    "run_through_control": {
     "frozen": true
    }
   },
   "source": [
    "* 先の演習で add_host と ec2_instance_create ロールに含めると処理がわかりやすくなります。"
   ]
  },
  {
   "cell_type": "markdown",
   "metadata": {
    "deletable": false,
    "editable": false,
    "lc_cell_meme": {
     "current": "7336f138-f3ae-11e7-9edf-0242ac110002",
     "history": [
      {
       "current": "7336f138-f3ae-11e7-9edf-0242ac110002",
       "next": "b1dd4c3a-f317-11e7-9edf-0242ac110002",
       "previous": "22ca9980-f317-11e7-9edf-0242ac110002"
      }
     ],
     "next": "b1dd4c3a-f317-11e7-9edf-0242ac110002",
     "previous": "f0219a22-f43a-11e7-b6b4-0242ac110002"
    },
    "run_through_control": {
     "frozen": true
    }
   },
   "source": [
    "### 注意"
   ]
  },
  {
   "cell_type": "markdown",
   "metadata": {
    "deletable": false,
    "editable": false,
    "lc_cell_meme": {
     "current": "b1dd4c3a-f317-11e7-9edf-0242ac110002",
     "history": [
      {
       "current": "b1dd4c3a-f317-11e7-9edf-0242ac110002",
       "next": "6a5373c6-f317-11e7-9edf-0242ac110002",
       "previous": "22ca9bb0-f317-11e7-9edf-0242ac110002"
      },
      {
       "current": "b1dd4c3a-f317-11e7-9edf-0242ac110002",
       "next": "6a5373c6-f317-11e7-9edf-0242ac110002",
       "previous": "22ca9bb0-f317-11e7-9edf-0242ac110002"
      },
      {
       "current": "b1dd4c3a-f317-11e7-9edf-0242ac110002",
       "next": "c60773d6-f31a-11e7-9edf-0242ac110002",
       "previous": "22ca9bb0-f317-11e7-9edf-0242ac110002"
      },
      {
       "current": "b1dd4c3a-f317-11e7-9edf-0242ac110002",
       "next": "c60773d6-f31a-11e7-9edf-0242ac110002",
       "previous": "22ca9bb0-f317-11e7-9edf-0242ac110002"
      },
      {
       "current": "b1dd4c3a-f317-11e7-9edf-0242ac110002",
       "next": "c60773d6-f31a-11e7-9edf-0242ac110002",
       "previous": "22ca9bb0-f317-11e7-9edf-0242ac110002"
      },
      {
       "current": "b1dd4c3a-f317-11e7-9edf-0242ac110002",
       "next": "c60773d6-f31a-11e7-9edf-0242ac110002",
       "previous": "22ca9bb0-f317-11e7-9edf-0242ac110002"
      },
      {
       "current": "b1dd4c3a-f317-11e7-9edf-0242ac110002",
       "next": "36f62638-f31a-11e7-9edf-0242ac110002",
       "previous": "22ca9980-f317-11e7-9edf-0242ac110002"
      },
      {
       "current": "b1dd4c3a-f317-11e7-9edf-0242ac110002",
       "next": "36f62638-f31a-11e7-9edf-0242ac110002",
       "previous": "7336f138-f3ae-11e7-9edf-0242ac110002"
      },
      {
       "current": "b1dd4c3a-f317-11e7-9edf-0242ac110002",
       "next": "0246356e-f3af-11e7-9edf-0242ac110002",
       "previous": "7336f138-f3ae-11e7-9edf-0242ac110002"
      }
     ],
     "next": "36f62638-f31a-11e7-9edf-0242ac110002",
     "previous": "7336f138-f3ae-11e7-9edf-0242ac110002"
    },
    "run_through_control": {
     "frozen": true
    }
   },
   "source": [
    "* ここでの環境は引き続き利用するので、この段階では削除しないようにお願いします。\n",
    "* 先の演習と同様に、性能を上げたい場合はインスタンスタイプ、ボリュームサイズに大きめの値を設定してください。"
   ]
  },
  {
   "cell_type": "markdown",
   "metadata": {
    "deletable": false,
    "editable": false,
    "lc_cell_meme": {
     "current": "36f62638-f31a-11e7-9edf-0242ac110002",
     "history": [
      {
       "current": "36f62638-f31a-11e7-9edf-0242ac110002",
       "next": null,
       "previous": "b1dd4c3a-f317-11e7-9edf-0242ac110002"
      },
      {
       "current": "36f62638-f31a-11e7-9edf-0242ac110002",
       "next": "7e7dfd00-f31a-11e7-9edf-0242ac110002",
       "previous": "b1dd4c3a-f317-11e7-9edf-0242ac110002"
      },
      {
       "current": "36f62638-f31a-11e7-9edf-0242ac110002",
       "next": "7e7dfd00-f31a-11e7-9edf-0242ac110002",
       "previous": "22ca9980-f317-11e7-9edf-0242ac110002"
      },
      {
       "current": "36f62638-f31a-11e7-9edf-0242ac110002",
       "next": "7e7dfd00-f31a-11e7-9edf-0242ac110002",
       "previous": "b1dd4c3a-f317-11e7-9edf-0242ac110002"
      },
      {
       "current": "36f62638-f31a-11e7-9edf-0242ac110002",
       "next": "7336f034-f3ae-11e7-9edf-0242ac110002",
       "previous": "b1dd4c3a-f317-11e7-9edf-0242ac110002"
      },
      {
       "current": "36f62638-f31a-11e7-9edf-0242ac110002",
       "next": "7336f034-f3ae-11e7-9edf-0242ac110002",
       "previous": "bb6ac112-f3bf-11e7-9edf-0242ac110002"
      }
     ],
     "next": "7336f034-f3ae-11e7-9edf-0242ac110002",
     "previous": "b1dd4c3a-f317-11e7-9edf-0242ac110002"
    },
    "run_through_control": {
     "frozen": true,
     "read_only": false
    }
   },
   "source": [
    "## ロードバランサーの設定"
   ]
  },
  {
   "cell_type": "markdown",
   "metadata": {
    "deletable": false,
    "editable": false,
    "lc_cell_meme": {
     "current": "7336f034-f3ae-11e7-9edf-0242ac110002",
     "history": [
      {
       "current": "7336f034-f3ae-11e7-9edf-0242ac110002",
       "next": "9ca70b2c-f31b-11e7-9edf-0242ac110002",
       "previous": "c60773d6-f31a-11e7-9edf-0242ac110002"
      },
      {
       "current": "7336f034-f3ae-11e7-9edf-0242ac110002",
       "next": "9ca70b2c-f31b-11e7-9edf-0242ac110002",
       "previous": "c60773d6-f31a-11e7-9edf-0242ac110002"
      },
      {
       "current": "7336f034-f3ae-11e7-9edf-0242ac110002",
       "next": "9ca70b2c-f31b-11e7-9edf-0242ac110002",
       "previous": "c60773d6-f31a-11e7-9edf-0242ac110002"
      },
      {
       "current": "7336f034-f3ae-11e7-9edf-0242ac110002",
       "next": "9ca70b2c-f31b-11e7-9edf-0242ac110002",
       "previous": "c60773d6-f31a-11e7-9edf-0242ac110002"
      },
      {
       "current": "7336f034-f3ae-11e7-9edf-0242ac110002",
       "next": "9ca70b2c-f31b-11e7-9edf-0242ac110002",
       "previous": "c60773d6-f31a-11e7-9edf-0242ac110002"
      },
      {
       "current": "7336f034-f3ae-11e7-9edf-0242ac110002",
       "next": "9ca70b2c-f31b-11e7-9edf-0242ac110002",
       "previous": "c60773d6-f31a-11e7-9edf-0242ac110002"
      },
      {
       "current": "7336f034-f3ae-11e7-9edf-0242ac110002",
       "next": "9ca70b2c-f31b-11e7-9edf-0242ac110002",
       "previous": "c60773d6-f31a-11e7-9edf-0242ac110002"
      },
      {
       "current": "7336f034-f3ae-11e7-9edf-0242ac110002",
       "next": "9ca70b2c-f31b-11e7-9edf-0242ac110002",
       "previous": "c60773d6-f31a-11e7-9edf-0242ac110002"
      },
      {
       "current": "7336f034-f3ae-11e7-9edf-0242ac110002",
       "next": "9ca70b2c-f31b-11e7-9edf-0242ac110002",
       "previous": "c60773d6-f31a-11e7-9edf-0242ac110002"
      },
      {
       "current": "7336f034-f3ae-11e7-9edf-0242ac110002",
       "next": "9ca70b2c-f31b-11e7-9edf-0242ac110002",
       "previous": "c60773d6-f31a-11e7-9edf-0242ac110002"
      },
      {
       "current": "7336f034-f3ae-11e7-9edf-0242ac110002",
       "next": "9ca70b2c-f31b-11e7-9edf-0242ac110002",
       "previous": "c60773d6-f31a-11e7-9edf-0242ac110002"
      },
      {
       "current": "7336f034-f3ae-11e7-9edf-0242ac110002",
       "next": "9ca70b2c-f31b-11e7-9edf-0242ac110002",
       "previous": "c60773d6-f31a-11e7-9edf-0242ac110002"
      },
      {
       "current": "7336f034-f3ae-11e7-9edf-0242ac110002",
       "next": "9ca70b2c-f31b-11e7-9edf-0242ac110002",
       "previous": "c60773d6-f31a-11e7-9edf-0242ac110002"
      },
      {
       "current": "7336f034-f3ae-11e7-9edf-0242ac110002",
       "next": "9ca70b2c-f31b-11e7-9edf-0242ac110002",
       "previous": "c60773d6-f31a-11e7-9edf-0242ac110002"
      },
      {
       "current": "7336f034-f3ae-11e7-9edf-0242ac110002",
       "next": "9ca70b2c-f31b-11e7-9edf-0242ac110002",
       "previous": "c60773d6-f31a-11e7-9edf-0242ac110002"
      },
      {
       "current": "7336f034-f3ae-11e7-9edf-0242ac110002",
       "next": "9ca70b2c-f31b-11e7-9edf-0242ac110002",
       "previous": "c60773d6-f31a-11e7-9edf-0242ac110002"
      },
      {
       "current": "7336f034-f3ae-11e7-9edf-0242ac110002",
       "next": "9ca70b2c-f31b-11e7-9edf-0242ac110002",
       "previous": "c60773d6-f31a-11e7-9edf-0242ac110002"
      },
      {
       "current": "7336f034-f3ae-11e7-9edf-0242ac110002",
       "next": "9ca70b2c-f31b-11e7-9edf-0242ac110002",
       "previous": "c60773d6-f31a-11e7-9edf-0242ac110002"
      },
      {
       "current": "7336f034-f3ae-11e7-9edf-0242ac110002",
       "next": "9ca70b2c-f31b-11e7-9edf-0242ac110002",
       "previous": "c60773d6-f31a-11e7-9edf-0242ac110002"
      },
      {
       "current": "7336f034-f3ae-11e7-9edf-0242ac110002",
       "next": "9ca70b2c-f31b-11e7-9edf-0242ac110002",
       "previous": "c60773d6-f31a-11e7-9edf-0242ac110002"
      },
      {
       "current": "7336f034-f3ae-11e7-9edf-0242ac110002",
       "next": "9ca70b2c-f31b-11e7-9edf-0242ac110002",
       "previous": "c60773d6-f31a-11e7-9edf-0242ac110002"
      },
      {
       "current": "7336f034-f3ae-11e7-9edf-0242ac110002",
       "next": "9ca70b2c-f31b-11e7-9edf-0242ac110002",
       "previous": "c60773d6-f31a-11e7-9edf-0242ac110002"
      },
      {
       "current": "7336f034-f3ae-11e7-9edf-0242ac110002",
       "next": "9ca70b2c-f31b-11e7-9edf-0242ac110002",
       "previous": "c60773d6-f31a-11e7-9edf-0242ac110002"
      },
      {
       "current": "7336f034-f3ae-11e7-9edf-0242ac110002",
       "next": "9ca70b2c-f31b-11e7-9edf-0242ac110002",
       "previous": "c60773d6-f31a-11e7-9edf-0242ac110002"
      },
      {
       "current": "7336f034-f3ae-11e7-9edf-0242ac110002",
       "next": "9ca70b2c-f31b-11e7-9edf-0242ac110002",
       "previous": "c60773d6-f31a-11e7-9edf-0242ac110002"
      },
      {
       "current": "7336f034-f3ae-11e7-9edf-0242ac110002",
       "next": "9ca70b2c-f31b-11e7-9edf-0242ac110002",
       "previous": "c60773d6-f31a-11e7-9edf-0242ac110002"
      },
      {
       "current": "7336f034-f3ae-11e7-9edf-0242ac110002",
       "next": "9ca70b2c-f31b-11e7-9edf-0242ac110002",
       "previous": "c60773d6-f31a-11e7-9edf-0242ac110002"
      },
      {
       "current": "7336f034-f3ae-11e7-9edf-0242ac110002",
       "next": "9ca70b2c-f31b-11e7-9edf-0242ac110002",
       "previous": "c60773d6-f31a-11e7-9edf-0242ac110002"
      },
      {
       "current": "7336f034-f3ae-11e7-9edf-0242ac110002",
       "next": "9ca70b2c-f31b-11e7-9edf-0242ac110002",
       "previous": "c60773d6-f31a-11e7-9edf-0242ac110002"
      },
      {
       "current": "7336f034-f3ae-11e7-9edf-0242ac110002",
       "next": "9ca70b2c-f31b-11e7-9edf-0242ac110002",
       "previous": "c60773d6-f31a-11e7-9edf-0242ac110002"
      },
      {
       "current": "7336f034-f3ae-11e7-9edf-0242ac110002",
       "next": "9ca70b2c-f31b-11e7-9edf-0242ac110002",
       "previous": "c60773d6-f31a-11e7-9edf-0242ac110002"
      },
      {
       "current": "7336f034-f3ae-11e7-9edf-0242ac110002",
       "next": "9ca70b2c-f31b-11e7-9edf-0242ac110002",
       "previous": "c60773d6-f31a-11e7-9edf-0242ac110002"
      },
      {
       "current": "7336f034-f3ae-11e7-9edf-0242ac110002",
       "next": "9ca70b2c-f31b-11e7-9edf-0242ac110002",
       "previous": "c60773d6-f31a-11e7-9edf-0242ac110002"
      },
      {
       "current": "7336f034-f3ae-11e7-9edf-0242ac110002",
       "next": "9ca70b2c-f31b-11e7-9edf-0242ac110002",
       "previous": "c60773d6-f31a-11e7-9edf-0242ac110002"
      },
      {
       "current": "7336f034-f3ae-11e7-9edf-0242ac110002",
       "next": "9ca70b2c-f31b-11e7-9edf-0242ac110002",
       "previous": "c60773d6-f31a-11e7-9edf-0242ac110002"
      },
      {
       "current": "7336f034-f3ae-11e7-9edf-0242ac110002",
       "next": "9ca70b2c-f31b-11e7-9edf-0242ac110002",
       "previous": "c60773d6-f31a-11e7-9edf-0242ac110002"
      },
      {
       "current": "7336f034-f3ae-11e7-9edf-0242ac110002",
       "next": "9ca70b2c-f31b-11e7-9edf-0242ac110002",
       "previous": "c60773d6-f31a-11e7-9edf-0242ac110002"
      },
      {
       "current": "7336f034-f3ae-11e7-9edf-0242ac110002",
       "next": "9ca70b2c-f31b-11e7-9edf-0242ac110002",
       "previous": "c60773d6-f31a-11e7-9edf-0242ac110002"
      },
      {
       "current": "7336f034-f3ae-11e7-9edf-0242ac110002",
       "next": "9ca70b2c-f31b-11e7-9edf-0242ac110002",
       "previous": "c60773d6-f31a-11e7-9edf-0242ac110002"
      },
      {
       "current": "7336f034-f3ae-11e7-9edf-0242ac110002",
       "next": "9ca70b2c-f31b-11e7-9edf-0242ac110002",
       "previous": "c60773d6-f31a-11e7-9edf-0242ac110002"
      },
      {
       "current": "7336f034-f3ae-11e7-9edf-0242ac110002",
       "next": "9ca70b2c-f31b-11e7-9edf-0242ac110002",
       "previous": "c60773d6-f31a-11e7-9edf-0242ac110002"
      },
      {
       "current": "7336f034-f3ae-11e7-9edf-0242ac110002",
       "next": "9ca70b2c-f31b-11e7-9edf-0242ac110002",
       "previous": "c60773d6-f31a-11e7-9edf-0242ac110002"
      },
      {
       "current": "7336f034-f3ae-11e7-9edf-0242ac110002",
       "next": "9ca70b2c-f31b-11e7-9edf-0242ac110002",
       "previous": "c60773d6-f31a-11e7-9edf-0242ac110002"
      }
     ],
     "next": "7e7dfd00-f31a-11e7-9edf-0242ac110002",
     "previous": "36f62638-f31a-11e7-9edf-0242ac110002"
    },
    "run_through_control": {
     "frozen": true,
     "read_only": false
    }
   },
   "source": [
    "### 問題"
   ]
  },
  {
   "cell_type": "markdown",
   "metadata": {
    "deletable": false,
    "editable": false,
    "lc_cell_meme": {
     "current": "7e7dfd00-f31a-11e7-9edf-0242ac110002",
     "history": [
      {
       "current": "7e7dfd00-f31a-11e7-9edf-0242ac110002",
       "next": null,
       "previous": "36f62638-f31a-11e7-9edf-0242ac110002"
      },
      {
       "current": "7e7dfd00-f31a-11e7-9edf-0242ac110002",
       "next": "c60773d6-f31a-11e7-9edf-0242ac110002",
       "previous": "36f62638-f31a-11e7-9edf-0242ac110002"
      },
      {
       "current": "7e7dfd00-f31a-11e7-9edf-0242ac110002",
       "next": "22ca9bb0-f317-11e7-9edf-0242ac110002",
       "previous": "36f62638-f31a-11e7-9edf-0242ac110002"
      },
      {
       "current": "7e7dfd00-f31a-11e7-9edf-0242ac110002",
       "next": "22ca9980-f317-11e7-9edf-0242ac110002",
       "previous": "36f62638-f31a-11e7-9edf-0242ac110002"
      }
     ],
     "next": "22ca9980-f317-11e7-9edf-0242ac110002",
     "previous": "7336f034-f3ae-11e7-9edf-0242ac110002"
    },
    "run_through_control": {
     "frozen": true
    }
   },
   "source": [
    "応用演習2で構築した環境に対してHTTPの負荷分散を行うように設定してください。負荷分散には Nginxを利用し、応用演習2で構築したサーバー上に同居するように設定します。この時にNginxが待ち受けるポートは8080となるように設定します。\n",
    "\n",
    "動作要件\n",
    "\n",
    "* nginx をインストールする\n",
    "* nginx は起動されるとポート8080で待ち受ける\n",
    "* 受け付けたアクセスは、応用演習2で起動した2台のHTTPDへのロードバランス処理を行う\n",
    "* バランシングが行われている事をテストする。\n",
    "\n",
    "以下の role を作成してください。\n",
    "\n",
    "* advanced/roles/nginx_lb\n",
    "* advanced/roles/nginx_lb_test\n",
    "\n",
    "作成した role を [advanced/03_site.yml](/edit/aitac-automation-handson/advanced/03_site.yml)  として実行できるようにしてください。この時にはダイナミックインベントリを利用して対象を指定してください。"
   ]
  },
  {
   "cell_type": "code",
   "execution_count": null,
   "metadata": {
    "deletable": false,
    "editable": false,
    "lc_cell_meme": {
     "current": "22ca9980-f317-11e7-9edf-0242ac110002",
     "history": [
      {
       "current": "22ca9980-f317-11e7-9edf-0242ac110002",
       "next": "22ca9bb0-f317-11e7-9edf-0242ac110002",
       "previous": "04a6c560-f316-11e7-9edf-0242ac110002"
      },
      {
       "current": "22ca9980-f317-11e7-9edf-0242ac110002",
       "next": "b1dd4c3a-f317-11e7-9edf-0242ac110002",
       "previous": "b1dd4f28-f317-11e7-9edf-0242ac110002"
      },
      {
       "current": "22ca9980-f317-11e7-9edf-0242ac110002",
       "next": "36f62638-f31a-11e7-9edf-0242ac110002",
       "previous": "b1dd4f28-f317-11e7-9edf-0242ac110002"
      },
      {
       "current": "22ca9980-f317-11e7-9edf-0242ac110002",
       "next": "22ca9bb0-f317-11e7-9edf-0242ac110002",
       "previous": "7e7dfd00-f31a-11e7-9edf-0242ac110002"
      }
     ],
     "next": "bac413be-f3ae-11e7-9edf-0242ac110002",
     "previous": "7e7dfd00-f31a-11e7-9edf-0242ac110002"
    },
    "run_through_control": {
     "frozen": true,
     "read_only": false
    }
   },
   "outputs": [],
   "source": [
    "# 実行例\n",
    "\n",
    "ansible-playbook -i inventories/ec2.py --private-key aitac-automation-key.pem -u centos solutions/03_site.yml"
   ]
  },
  {
   "cell_type": "markdown",
   "metadata": {
    "deletable": false,
    "editable": false,
    "lc_cell_meme": {
     "current": "bac413be-f3ae-11e7-9edf-0242ac110002",
     "next": "22ca9bb0-f317-11e7-9edf-0242ac110002",
     "previous": "22ca9980-f317-11e7-9edf-0242ac110002"
    },
    "run_through_control": {
     "frozen": true,
     "read_only": false
    }
   },
   "source": [
    "### ヒント"
   ]
  },
  {
   "cell_type": "markdown",
   "metadata": {
    "deletable": false,
    "editable": false,
    "lc_cell_meme": {
     "current": "22ca9bb0-f317-11e7-9edf-0242ac110002",
     "history": [
      {
       "current": "22ca9bb0-f317-11e7-9edf-0242ac110002",
       "next": null,
       "previous": "22ca9980-f317-11e7-9edf-0242ac110002"
      },
      {
       "current": "22ca9bb0-f317-11e7-9edf-0242ac110002",
       "next": "6a5373c6-f317-11e7-9edf-0242ac110002",
       "previous": "22ca9980-f317-11e7-9edf-0242ac110002"
      },
      {
       "current": "22ca9bb0-f317-11e7-9edf-0242ac110002",
       "next": "b1dd4c3a-f317-11e7-9edf-0242ac110002",
       "previous": "22ca9980-f317-11e7-9edf-0242ac110002"
      },
      {
       "current": "22ca9bb0-f317-11e7-9edf-0242ac110002",
       "next": "c60773d6-f31a-11e7-9edf-0242ac110002",
       "previous": "7e7dfd00-f31a-11e7-9edf-0242ac110002"
      },
      {
       "current": "22ca9bb0-f317-11e7-9edf-0242ac110002",
       "next": "c60773d6-f31a-11e7-9edf-0242ac110002",
       "previous": "22ca9980-f317-11e7-9edf-0242ac110002"
      },
      {
       "current": "22ca9bb0-f317-11e7-9edf-0242ac110002",
       "next": "b1dd4c3a-f317-11e7-9edf-0242ac110002",
       "previous": "22ca9980-f317-11e7-9edf-0242ac110002"
      },
      {
       "current": "22ca9bb0-f317-11e7-9edf-0242ac110002",
       "next": "7336f49e-f3ae-11e7-9edf-0242ac110002",
       "previous": "22ca9980-f317-11e7-9edf-0242ac110002"
      }
     ],
     "next": "7336f49e-f3ae-11e7-9edf-0242ac110002",
     "previous": "bac413be-f3ae-11e7-9edf-0242ac110002"
    },
    "run_through_control": {
     "frozen": true
    }
   },
   "source": [
    "* nginx のインストールには EPEL を有効にする必要がある（epel-release のインストール → nginx のインストール と順番が重要です）\n",
    "* nginx の設定ファイルは template モジュールを利用する\n",
    "* バランシングの確認には shellモジュールや url モジュールと assert の組み合わせて行う。"
   ]
  },
  {
   "cell_type": "markdown",
   "metadata": {
    "deletable": false,
    "editable": false,
    "lc_cell_meme": {
     "current": "7336f49e-f3ae-11e7-9edf-0242ac110002",
     "next": "b1dd4c3a-f317-11e7-9edf-0242ac110002",
     "previous": "22ca9bb0-f317-11e7-9edf-0242ac110002"
    },
    "run_through_control": {
     "frozen": true,
     "read_only": false
    }
   },
   "source": [
    "### 注意"
   ]
  },
  {
   "cell_type": "markdown",
   "metadata": {
    "deletable": false,
    "editable": false,
    "lc_cell_meme": {
     "current": "b1dd4c3a-f317-11e7-9edf-0242ac110002",
     "history": [
      {
       "current": "b1dd4c3a-f317-11e7-9edf-0242ac110002",
       "next": "6a5373c6-f317-11e7-9edf-0242ac110002",
       "previous": "22ca9bb0-f317-11e7-9edf-0242ac110002"
      },
      {
       "current": "b1dd4c3a-f317-11e7-9edf-0242ac110002",
       "next": "6a5373c6-f317-11e7-9edf-0242ac110002",
       "previous": "22ca9bb0-f317-11e7-9edf-0242ac110002"
      },
      {
       "current": "b1dd4c3a-f317-11e7-9edf-0242ac110002",
       "next": "c60773d6-f31a-11e7-9edf-0242ac110002",
       "previous": "22ca9bb0-f317-11e7-9edf-0242ac110002"
      },
      {
       "current": "b1dd4c3a-f317-11e7-9edf-0242ac110002",
       "next": "c60773d6-f31a-11e7-9edf-0242ac110002",
       "previous": "22ca9bb0-f317-11e7-9edf-0242ac110002"
      },
      {
       "current": "b1dd4c3a-f317-11e7-9edf-0242ac110002",
       "next": "c60773d6-f31a-11e7-9edf-0242ac110002",
       "previous": "22ca9bb0-f317-11e7-9edf-0242ac110002"
      },
      {
       "current": "b1dd4c3a-f317-11e7-9edf-0242ac110002",
       "next": "c60773d6-f31a-11e7-9edf-0242ac110002",
       "previous": "22ca9bb0-f317-11e7-9edf-0242ac110002"
      },
      {
       "current": "b1dd4c3a-f317-11e7-9edf-0242ac110002",
       "next": "c60773d6-f31a-11e7-9edf-0242ac110002",
       "previous": "7336f49e-f3ae-11e7-9edf-0242ac110002"
      },
      {
       "current": "b1dd4c3a-f317-11e7-9edf-0242ac110002",
       "next": "0246356e-f3af-11e7-9edf-0242ac110002",
       "previous": "7336f49e-f3ae-11e7-9edf-0242ac110002"
      }
     ],
     "next": "c60773d6-f31a-11e7-9edf-0242ac110002",
     "previous": "7336f49e-f3ae-11e7-9edf-0242ac110002"
    },
    "run_through_control": {
     "frozen": true
    }
   },
   "source": [
    "* 次の問いに移る前に、[演習サーバーの削除](/notebooks/aitac-automation-handson/05_delete_target_servers.ipynb)を参考に、起動した演習サーバーを削除しておいてください。"
   ]
  },
  {
   "cell_type": "markdown",
   "metadata": {
    "deletable": false,
    "editable": false,
    "lc_cell_meme": {
     "current": "c60773d6-f31a-11e7-9edf-0242ac110002",
     "history": [
      {
       "current": "c60773d6-f31a-11e7-9edf-0242ac110002",
       "next": null,
       "previous": "7e7dfd00-f31a-11e7-9edf-0242ac110002"
      },
      {
       "current": "c60773d6-f31a-11e7-9edf-0242ac110002",
       "next": null,
       "previous": "22ca9bb0-f317-11e7-9edf-0242ac110002"
      },
      {
       "current": "c60773d6-f31a-11e7-9edf-0242ac110002",
       "next": "9ca70b2c-f31b-11e7-9edf-0242ac110002",
       "previous": "22ca9bb0-f317-11e7-9edf-0242ac110002"
      },
      {
       "current": "c60773d6-f31a-11e7-9edf-0242ac110002",
       "next": "9ca70b2c-f31b-11e7-9edf-0242ac110002",
       "previous": "b1dd4c3a-f317-11e7-9edf-0242ac110002"
      },
      {
       "current": "c60773d6-f31a-11e7-9edf-0242ac110002",
       "next": "7336f034-f3ae-11e7-9edf-0242ac110002",
       "previous": "b1dd4c3a-f317-11e7-9edf-0242ac110002"
      },
      {
       "current": "c60773d6-f31a-11e7-9edf-0242ac110002",
       "next": "7336f034-f3ae-11e7-9edf-0242ac110002",
       "previous": "06eb2ab0-f3d3-11e7-9edf-0242ac110002"
      }
     ],
     "next": "7336f034-f3ae-11e7-9edf-0242ac110002",
     "previous": "b1dd4c3a-f317-11e7-9edf-0242ac110002"
    },
    "run_through_control": {
     "frozen": true,
     "read_only": false
    }
   },
   "source": [
    "## 全ての設定作業を連結"
   ]
  },
  {
   "cell_type": "markdown",
   "metadata": {
    "deletable": false,
    "editable": false,
    "lc_cell_meme": {
     "current": "7336f034-f3ae-11e7-9edf-0242ac110002",
     "history": [
      {
       "current": "7336f034-f3ae-11e7-9edf-0242ac110002",
       "next": "9ca70b2c-f31b-11e7-9edf-0242ac110002",
       "previous": "c60773d6-f31a-11e7-9edf-0242ac110002"
      },
      {
       "current": "7336f034-f3ae-11e7-9edf-0242ac110002",
       "next": "9ca70b2c-f31b-11e7-9edf-0242ac110002",
       "previous": "c60773d6-f31a-11e7-9edf-0242ac110002"
      },
      {
       "current": "7336f034-f3ae-11e7-9edf-0242ac110002",
       "next": "9ca70b2c-f31b-11e7-9edf-0242ac110002",
       "previous": "c60773d6-f31a-11e7-9edf-0242ac110002"
      },
      {
       "current": "7336f034-f3ae-11e7-9edf-0242ac110002",
       "next": "9ca70b2c-f31b-11e7-9edf-0242ac110002",
       "previous": "c60773d6-f31a-11e7-9edf-0242ac110002"
      },
      {
       "current": "7336f034-f3ae-11e7-9edf-0242ac110002",
       "next": "9ca70b2c-f31b-11e7-9edf-0242ac110002",
       "previous": "c60773d6-f31a-11e7-9edf-0242ac110002"
      },
      {
       "current": "7336f034-f3ae-11e7-9edf-0242ac110002",
       "next": "9ca70b2c-f31b-11e7-9edf-0242ac110002",
       "previous": "c60773d6-f31a-11e7-9edf-0242ac110002"
      },
      {
       "current": "7336f034-f3ae-11e7-9edf-0242ac110002",
       "next": "9ca70b2c-f31b-11e7-9edf-0242ac110002",
       "previous": "c60773d6-f31a-11e7-9edf-0242ac110002"
      },
      {
       "current": "7336f034-f3ae-11e7-9edf-0242ac110002",
       "next": "9ca70b2c-f31b-11e7-9edf-0242ac110002",
       "previous": "c60773d6-f31a-11e7-9edf-0242ac110002"
      },
      {
       "current": "7336f034-f3ae-11e7-9edf-0242ac110002",
       "next": "9ca70b2c-f31b-11e7-9edf-0242ac110002",
       "previous": "c60773d6-f31a-11e7-9edf-0242ac110002"
      },
      {
       "current": "7336f034-f3ae-11e7-9edf-0242ac110002",
       "next": "9ca70b2c-f31b-11e7-9edf-0242ac110002",
       "previous": "c60773d6-f31a-11e7-9edf-0242ac110002"
      },
      {
       "current": "7336f034-f3ae-11e7-9edf-0242ac110002",
       "next": "9ca70b2c-f31b-11e7-9edf-0242ac110002",
       "previous": "c60773d6-f31a-11e7-9edf-0242ac110002"
      },
      {
       "current": "7336f034-f3ae-11e7-9edf-0242ac110002",
       "next": "9ca70b2c-f31b-11e7-9edf-0242ac110002",
       "previous": "c60773d6-f31a-11e7-9edf-0242ac110002"
      },
      {
       "current": "7336f034-f3ae-11e7-9edf-0242ac110002",
       "next": "9ca70b2c-f31b-11e7-9edf-0242ac110002",
       "previous": "c60773d6-f31a-11e7-9edf-0242ac110002"
      },
      {
       "current": "7336f034-f3ae-11e7-9edf-0242ac110002",
       "next": "9ca70b2c-f31b-11e7-9edf-0242ac110002",
       "previous": "c60773d6-f31a-11e7-9edf-0242ac110002"
      },
      {
       "current": "7336f034-f3ae-11e7-9edf-0242ac110002",
       "next": "9ca70b2c-f31b-11e7-9edf-0242ac110002",
       "previous": "c60773d6-f31a-11e7-9edf-0242ac110002"
      },
      {
       "current": "7336f034-f3ae-11e7-9edf-0242ac110002",
       "next": "9ca70b2c-f31b-11e7-9edf-0242ac110002",
       "previous": "c60773d6-f31a-11e7-9edf-0242ac110002"
      },
      {
       "current": "7336f034-f3ae-11e7-9edf-0242ac110002",
       "next": "9ca70b2c-f31b-11e7-9edf-0242ac110002",
       "previous": "c60773d6-f31a-11e7-9edf-0242ac110002"
      },
      {
       "current": "7336f034-f3ae-11e7-9edf-0242ac110002",
       "next": "9ca70b2c-f31b-11e7-9edf-0242ac110002",
       "previous": "c60773d6-f31a-11e7-9edf-0242ac110002"
      },
      {
       "current": "7336f034-f3ae-11e7-9edf-0242ac110002",
       "next": "9ca70b2c-f31b-11e7-9edf-0242ac110002",
       "previous": "c60773d6-f31a-11e7-9edf-0242ac110002"
      },
      {
       "current": "7336f034-f3ae-11e7-9edf-0242ac110002",
       "next": "9ca70b2c-f31b-11e7-9edf-0242ac110002",
       "previous": "c60773d6-f31a-11e7-9edf-0242ac110002"
      },
      {
       "current": "7336f034-f3ae-11e7-9edf-0242ac110002",
       "next": "9ca70b2c-f31b-11e7-9edf-0242ac110002",
       "previous": "c60773d6-f31a-11e7-9edf-0242ac110002"
      },
      {
       "current": "7336f034-f3ae-11e7-9edf-0242ac110002",
       "next": "9ca70b2c-f31b-11e7-9edf-0242ac110002",
       "previous": "c60773d6-f31a-11e7-9edf-0242ac110002"
      },
      {
       "current": "7336f034-f3ae-11e7-9edf-0242ac110002",
       "next": "9ca70b2c-f31b-11e7-9edf-0242ac110002",
       "previous": "c60773d6-f31a-11e7-9edf-0242ac110002"
      },
      {
       "current": "7336f034-f3ae-11e7-9edf-0242ac110002",
       "next": "9ca70b2c-f31b-11e7-9edf-0242ac110002",
       "previous": "c60773d6-f31a-11e7-9edf-0242ac110002"
      },
      {
       "current": "7336f034-f3ae-11e7-9edf-0242ac110002",
       "next": "9ca70b2c-f31b-11e7-9edf-0242ac110002",
       "previous": "c60773d6-f31a-11e7-9edf-0242ac110002"
      },
      {
       "current": "7336f034-f3ae-11e7-9edf-0242ac110002",
       "next": "9ca70b2c-f31b-11e7-9edf-0242ac110002",
       "previous": "c60773d6-f31a-11e7-9edf-0242ac110002"
      },
      {
       "current": "7336f034-f3ae-11e7-9edf-0242ac110002",
       "next": "9ca70b2c-f31b-11e7-9edf-0242ac110002",
       "previous": "c60773d6-f31a-11e7-9edf-0242ac110002"
      },
      {
       "current": "7336f034-f3ae-11e7-9edf-0242ac110002",
       "next": "9ca70b2c-f31b-11e7-9edf-0242ac110002",
       "previous": "c60773d6-f31a-11e7-9edf-0242ac110002"
      },
      {
       "current": "7336f034-f3ae-11e7-9edf-0242ac110002",
       "next": "9ca70b2c-f31b-11e7-9edf-0242ac110002",
       "previous": "c60773d6-f31a-11e7-9edf-0242ac110002"
      },
      {
       "current": "7336f034-f3ae-11e7-9edf-0242ac110002",
       "next": "9ca70b2c-f31b-11e7-9edf-0242ac110002",
       "previous": "c60773d6-f31a-11e7-9edf-0242ac110002"
      },
      {
       "current": "7336f034-f3ae-11e7-9edf-0242ac110002",
       "next": "9ca70b2c-f31b-11e7-9edf-0242ac110002",
       "previous": "c60773d6-f31a-11e7-9edf-0242ac110002"
      },
      {
       "current": "7336f034-f3ae-11e7-9edf-0242ac110002",
       "next": "9ca70b2c-f31b-11e7-9edf-0242ac110002",
       "previous": "c60773d6-f31a-11e7-9edf-0242ac110002"
      },
      {
       "current": "7336f034-f3ae-11e7-9edf-0242ac110002",
       "next": "9ca70b2c-f31b-11e7-9edf-0242ac110002",
       "previous": "c60773d6-f31a-11e7-9edf-0242ac110002"
      },
      {
       "current": "7336f034-f3ae-11e7-9edf-0242ac110002",
       "next": "9ca70b2c-f31b-11e7-9edf-0242ac110002",
       "previous": "c60773d6-f31a-11e7-9edf-0242ac110002"
      },
      {
       "current": "7336f034-f3ae-11e7-9edf-0242ac110002",
       "next": "9ca70b2c-f31b-11e7-9edf-0242ac110002",
       "previous": "c60773d6-f31a-11e7-9edf-0242ac110002"
      },
      {
       "current": "7336f034-f3ae-11e7-9edf-0242ac110002",
       "next": "9ca70b2c-f31b-11e7-9edf-0242ac110002",
       "previous": "c60773d6-f31a-11e7-9edf-0242ac110002"
      },
      {
       "current": "7336f034-f3ae-11e7-9edf-0242ac110002",
       "next": "9ca70b2c-f31b-11e7-9edf-0242ac110002",
       "previous": "c60773d6-f31a-11e7-9edf-0242ac110002"
      },
      {
       "current": "7336f034-f3ae-11e7-9edf-0242ac110002",
       "next": "9ca70b2c-f31b-11e7-9edf-0242ac110002",
       "previous": "c60773d6-f31a-11e7-9edf-0242ac110002"
      },
      {
       "current": "7336f034-f3ae-11e7-9edf-0242ac110002",
       "next": "9ca70b2c-f31b-11e7-9edf-0242ac110002",
       "previous": "c60773d6-f31a-11e7-9edf-0242ac110002"
      },
      {
       "current": "7336f034-f3ae-11e7-9edf-0242ac110002",
       "next": "9ca70b2c-f31b-11e7-9edf-0242ac110002",
       "previous": "c60773d6-f31a-11e7-9edf-0242ac110002"
      },
      {
       "current": "7336f034-f3ae-11e7-9edf-0242ac110002",
       "next": "9ca70b2c-f31b-11e7-9edf-0242ac110002",
       "previous": "c60773d6-f31a-11e7-9edf-0242ac110002"
      },
      {
       "current": "7336f034-f3ae-11e7-9edf-0242ac110002",
       "next": "9ca70b2c-f31b-11e7-9edf-0242ac110002",
       "previous": "c60773d6-f31a-11e7-9edf-0242ac110002"
      }
     ],
     "next": "9ca70b2c-f31b-11e7-9edf-0242ac110002",
     "previous": "c60773d6-f31a-11e7-9edf-0242ac110002"
    },
    "run_through_control": {
     "frozen": true,
     "read_only": false
    }
   },
   "source": [
    "### 問題"
   ]
  },
  {
   "cell_type": "markdown",
   "metadata": {
    "lc_cell_meme": {
     "current": "9ca70b2c-f31b-11e7-9edf-0242ac110002",
     "history": [
      {
       "current": "9ca70b2c-f31b-11e7-9edf-0242ac110002",
       "next": "9ca70e88-f31b-11e7-9edf-0242ac110002",
       "previous": "c60773d6-f31a-11e7-9edf-0242ac110002"
      },
      {
       "current": "9ca70b2c-f31b-11e7-9edf-0242ac110002",
       "next": "22ca9980-f317-11e7-9edf-0242ac110002",
       "previous": "c60773d6-f31a-11e7-9edf-0242ac110002"
      }
     ],
     "next": "22ca9980-f317-11e7-9edf-0242ac110002",
     "previous": "7336f034-f3ae-11e7-9edf-0242ac110002"
    }
   },
   "source": [
    "応用演習2,3 で実施した内容を全て連結して [advanced/04_site.yml](/edit/aitac-automation-handson/advanced/04_site.yml) として実行できるようにしてください。\n",
    "\n",
    "* インスタンスの起動\n",
    "* HTTPD のインストールと設定、テスト\n",
    "* Nginx のインストールと設定、テスト"
   ]
  },
  {
   "cell_type": "code",
   "execution_count": null,
   "metadata": {
    "deletable": false,
    "editable": false,
    "lc_cell_meme": {
     "current": "22ca9980-f317-11e7-9edf-0242ac110002",
     "history": [
      {
       "current": "22ca9980-f317-11e7-9edf-0242ac110002",
       "next": "22ca9bb0-f317-11e7-9edf-0242ac110002",
       "previous": "04a6c560-f316-11e7-9edf-0242ac110002"
      },
      {
       "current": "22ca9980-f317-11e7-9edf-0242ac110002",
       "next": "b1dd4c3a-f317-11e7-9edf-0242ac110002",
       "previous": "b1dd4f28-f317-11e7-9edf-0242ac110002"
      },
      {
       "current": "22ca9980-f317-11e7-9edf-0242ac110002",
       "next": "36f62638-f31a-11e7-9edf-0242ac110002",
       "previous": "b1dd4f28-f317-11e7-9edf-0242ac110002"
      },
      {
       "current": "22ca9980-f317-11e7-9edf-0242ac110002",
       "next": "22ca9bb0-f317-11e7-9edf-0242ac110002",
       "previous": "7e7dfd00-f31a-11e7-9edf-0242ac110002"
      }
     ],
     "next": "9ca70e88-f31b-11e7-9edf-0242ac110002",
     "previous": "9ca70b2c-f31b-11e7-9edf-0242ac110002"
    },
    "run_through_control": {
     "frozen": true,
     "read_only": false
    }
   },
   "outputs": [],
   "source": [
    "# 実行例\n",
    "\n",
    "ansible-playbook advanced/04_site.yml"
   ]
  },
  {
   "cell_type": "markdown",
   "metadata": {
    "deletable": false,
    "editable": false,
    "lc_cell_meme": {
     "current": "9ca70e88-f31b-11e7-9edf-0242ac110002",
     "history": [
      {
       "current": "9ca70e88-f31b-11e7-9edf-0242ac110002",
       "next": null,
       "previous": "9ca70b2c-f31b-11e7-9edf-0242ac110002"
      },
      {
       "current": "9ca70e88-f31b-11e7-9edf-0242ac110002",
       "next": null,
       "previous": "22ca9980-f317-11e7-9edf-0242ac110002"
      }
     ],
     "next": "dd891910-f3d3-11e7-9edf-0242ac110002",
     "previous": "22ca9980-f317-11e7-9edf-0242ac110002"
    },
    "run_through_control": {
     "frozen": true,
     "read_only": false
    }
   },
   "source": [
    "応用演習は以上となります。"
   ]
  },
  {
   "cell_type": "markdown",
   "metadata": {
    "deletable": false,
    "editable": false,
    "lc_cell_meme": {
     "current": "dd891910-f3d3-11e7-9edf-0242ac110002",
     "next": "0246356e-f3af-11e7-9edf-0242ac110002",
     "previous": "9ca70e88-f31b-11e7-9edf-0242ac110002"
    },
    "run_through_control": {
     "frozen": true,
     "read_only": false
    }
   },
   "source": [
    "## 解答例"
   ]
  },
  {
   "cell_type": "markdown",
   "metadata": {
    "deletable": false,
    "editable": false,
    "lc_cell_meme": {
     "current": "0246356e-f3af-11e7-9edf-0242ac110002",
     "history": [
      {
       "current": "0246356e-f3af-11e7-9edf-0242ac110002",
       "next": "0246379e-f3af-11e7-9edf-0242ac110002",
       "previous": "b1dd4c3a-f317-11e7-9edf-0242ac110002"
      }
     ],
     "next": "0246379e-f3af-11e7-9edf-0242ac110002",
     "previous": "dd891910-f3d3-11e7-9edf-0242ac110002"
    },
    "run_through_control": {
     "frozen": true,
     "read_only": false
    }
   },
   "source": [
    "### 解答例"
   ]
  },
  {
   "cell_type": "markdown",
   "metadata": {
    "deletable": false,
    "editable": false,
    "lc_cell_meme": {
     "current": "0246379e-f3af-11e7-9edf-0242ac110002",
     "history": [
      {
       "current": "0246379e-f3af-11e7-9edf-0242ac110002",
       "next": "6a5373c6-f317-11e7-9edf-0242ac110002",
       "previous": "0246356e-f3af-11e7-9edf-0242ac110002"
      }
     ],
     "next": "0246356e-f3af-11e7-9edf-0242ac110002",
     "previous": "0246356e-f3af-11e7-9edf-0242ac110002"
    },
    "run_through_control": {
     "frozen": true,
     "read_only": false
    }
   },
   "source": [
    "* [solutions/01_site.yml](/edit/aitac-automation-handson/solutions/01_site.yml)\n",
    "* [solutions/01_add_host_and_wait.yml](/edit/aitac-automation-handson/solutions/01_add_host_and_wait.yml)\n",
    "\n",
    "実行方法： `ansible-playbook solutions/01_site.yml`"
   ]
  },
  {
   "cell_type": "markdown",
   "metadata": {
    "deletable": false,
    "editable": false,
    "lc_cell_meme": {
     "current": "0246356e-f3af-11e7-9edf-0242ac110002",
     "history": [
      {
       "current": "0246356e-f3af-11e7-9edf-0242ac110002",
       "next": "0246379e-f3af-11e7-9edf-0242ac110002",
       "previous": "b1dd4c3a-f317-11e7-9edf-0242ac110002"
      },
      {
       "current": "0246356e-f3af-11e7-9edf-0242ac110002",
       "next": "bb6ac112-f3bf-11e7-9edf-0242ac110002",
       "previous": "b1dd4c3a-f317-11e7-9edf-0242ac110002"
      }
     ],
     "next": "bb6ac112-f3bf-11e7-9edf-0242ac110002",
     "previous": "0246379e-f3af-11e7-9edf-0242ac110002"
    },
    "run_through_control": {
     "frozen": true,
     "read_only": false
    }
   },
   "source": [
    "### 解答例"
   ]
  },
  {
   "cell_type": "markdown",
   "metadata": {
    "deletable": false,
    "editable": false,
    "lc_cell_meme": {
     "current": "bb6ac112-f3bf-11e7-9edf-0242ac110002",
     "history": [
      {
       "current": "bb6ac112-f3bf-11e7-9edf-0242ac110002",
       "next": "36f62638-f31a-11e7-9edf-0242ac110002",
       "previous": "0246356e-f3af-11e7-9edf-0242ac110002"
      }
     ],
     "next": "0246356e-f3af-11e7-9edf-0242ac110002",
     "previous": "0246356e-f3af-11e7-9edf-0242ac110002"
    },
    "run_through_control": {
     "frozen": true,
     "read_only": false
    }
   },
   "source": [
    "* [solutions/02_site.yml](/edit/aitac-automation-handson/solutions/02_site.yml)\n",
    "* [solutions/roles/ec2_instance_create/tasks/main.yml](/edit/aitac-automation-handson/solutions/roles/ec2_instance_create/tasks/main.yml)\n",
    "* [solutions/roles/ec2_instance_create/defaults/main.yml](/edit/aitac-automation-handson/solutions/roles/ec2_instance_create/defaults/main.yml)\n",
    "* [solutions/roles/wait_server_boot/tasks/main.yml](/edit/aitac-automation-handson/solutions/roles/wait_server_boot/tasks/main.yml)\n",
    "* [solutions/roles/httpd_on/tasks/main.yml](/edit/aitac-automation-handson/solutions/roles/httpd_on/tasks/main.yml)\n",
    "* [solutions/roles/httpd_on/templates/index.html.j2](/edit/aitac-automation-handson/solutions/roles/httpd_on/templates/index.html.j2)\n",
    "* [solutions/roles/httpd_on_test/tasks/main.yml](/edit/aitac-automation-handson/solutions/roles/httpd_on_test/tasks/main.yml)\n",
    "\n",
    "実行方法： `ansible-playbook solutions/02_site.yml`"
   ]
  },
  {
   "cell_type": "markdown",
   "metadata": {
    "deletable": false,
    "editable": false,
    "lc_cell_meme": {
     "current": "0246356e-f3af-11e7-9edf-0242ac110002",
     "history": [
      {
       "current": "0246356e-f3af-11e7-9edf-0242ac110002",
       "next": "0246379e-f3af-11e7-9edf-0242ac110002",
       "previous": "b1dd4c3a-f317-11e7-9edf-0242ac110002"
      },
      {
       "current": "0246356e-f3af-11e7-9edf-0242ac110002",
       "next": "bb6ac112-f3bf-11e7-9edf-0242ac110002",
       "previous": "b1dd4c3a-f317-11e7-9edf-0242ac110002"
      },
      {
       "current": "0246356e-f3af-11e7-9edf-0242ac110002",
       "next": "06eb2ab0-f3d3-11e7-9edf-0242ac110002",
       "previous": "b1dd4c3a-f317-11e7-9edf-0242ac110002"
      }
     ],
     "next": "06eb2ab0-f3d3-11e7-9edf-0242ac110002",
     "previous": "bb6ac112-f3bf-11e7-9edf-0242ac110002"
    },
    "run_through_control": {
     "frozen": true,
     "read_only": false
    }
   },
   "source": [
    "### 解答例"
   ]
  },
  {
   "cell_type": "markdown",
   "metadata": {
    "deletable": false,
    "editable": false,
    "lc_cell_meme": {
     "current": "06eb2ab0-f3d3-11e7-9edf-0242ac110002",
     "history": [
      {
       "current": "06eb2ab0-f3d3-11e7-9edf-0242ac110002",
       "next": "c60773d6-f31a-11e7-9edf-0242ac110002",
       "previous": "0246356e-f3af-11e7-9edf-0242ac110002"
      }
     ],
     "next": "dd891b2c-f3d3-11e7-9edf-0242ac110002",
     "previous": "0246356e-f3af-11e7-9edf-0242ac110002"
    },
    "run_through_control": {
     "frozen": true,
     "read_only": false
    }
   },
   "source": [
    "* [solutions/03_site.yml](/edit/aitac-automation-handson/solutions/03_site.yml)\n",
    "* [solutions/roles/nginx_lb/tasks/main.yml](/edit/aitac-automation-handson/solutions/roles/nginx_lb/tasks/main.yml)\n",
    "* [solutions/roles/nginx_lb/templates/nginx.conf.j2](/edit/aitac-automation-handson/solutions/roles/nginx_lb/templates/nginx.conf.j2)\n",
    "* [solutions/roles/nginx_lb_test/tasks/main.yml](/edit/aitac-automation-handson/solutions/roles/nginx_lb_test/tasks/main.yml)\n",
    "\n",
    "実行方法： `ansible-playbook -i inventories/ec2.py --private-key aitac-automation-key.pem -u centos solutions/03_site.yml`"
   ]
  },
  {
   "cell_type": "markdown",
   "metadata": {
    "deletable": false,
    "editable": false,
    "lc_cell_meme": {
     "current": "dd891b2c-f3d3-11e7-9edf-0242ac110002",
     "history": [
      {
       "current": "dd891b2c-f3d3-11e7-9edf-0242ac110002",
       "next": null,
       "previous": "06eb2ab0-f3d3-11e7-9edf-0242ac110002"
      }
     ],
     "next": "1459bb2a-f3d4-11e7-9edf-0242ac110002",
     "previous": "06eb2ab0-f3d3-11e7-9edf-0242ac110002"
    },
    "run_through_control": {
     "frozen": true,
     "read_only": false
    }
   },
   "source": [
    "### 解答例"
   ]
  },
  {
   "cell_type": "markdown",
   "metadata": {
    "deletable": false,
    "editable": false,
    "lc_cell_meme": {
     "current": "1459bb2a-f3d4-11e7-9edf-0242ac110002",
     "next": null,
     "previous": "dd891b2c-f3d3-11e7-9edf-0242ac110002"
    },
    "run_through_control": {
     "frozen": true,
     "read_only": false
    }
   },
   "source": [
    "* [solutions/04_site.yml](/edit/aitac-automation-handson/solutions/04_site.yml)\n",
    "\n",
    "実行方法： `ansible-playbook solutions/04_site.yml`"
   ]
  }
 ],
 "metadata": {
  "kernelspec": {
   "display_name": "Bash",
   "language": "bash",
   "name": "bash"
  },
  "language_info": {
   "codemirror_mode": "shell",
   "file_extension": ".sh",
   "mimetype": "text/x-sh",
   "name": "bash"
  },
  "lc_notebook_meme": {
   "current": "2e0dae24-f315-11e7-9edf-0242ac110002",
   "lc_server_signature": {
    "current": {
     "notebook_dir": "/notebooks",
     "notebook_path": "/aitac-automation-handson",
     "server_url": "http://localhost:8888/",
     "signature_id": "a30ccda8-f42e-11e7-b6b4-0242ac110002"
    },
    "history": [
     {
      "notebook_dir": "/notebooks",
      "notebook_path": "/aitac-automation-handson",
      "server_url": "http://13.112.122.31:8888/",
      "signature_id": "a266f498-eebe-11e7-9edf-0242ac110002"
     }
    ]
   }
  },
  "toc": {
   "nav_menu": {},
   "number_sections": true,
   "sideBar": true,
   "skip_h1_title": true,
   "title_cell": "Table of Contents",
   "title_sidebar": "Contents",
   "toc_cell": false,
   "toc_position": {},
   "toc_section_display": true,
   "toc_window_display": true
  }
 },
 "nbformat": 4,
 "nbformat_minor": 2
}
