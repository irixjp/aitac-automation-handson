{
 "cells": [
  {
   "cell_type": "markdown",
   "metadata": {
    "deletable": false,
    "editable": false,
    "lc_cell_meme": {
     "current": "742e4282-ee2f-11e7-80ef-0242ac110002",
     "history": [
      {
       "current": "742e4282-ee2f-11e7-80ef-0242ac110002",
       "next": null,
       "previous": null
      },
      {
       "current": "742e4282-ee2f-11e7-80ef-0242ac110002",
       "next": "bb862316-ee2f-11e7-80ef-0242ac110002",
       "previous": null
      }
     ],
     "next": "bb86250a-ee2f-11e7-80ef-0242ac110002",
     "previous": null
    },
    "run_through_control": {
     "frozen": true,
     "read_only": false
    }
   },
   "source": [
    "# AITAC ITインフラ構築と運用の自動化 演習"
   ]
  },
  {
   "cell_type": "markdown",
   "metadata": {
    "deletable": false,
    "editable": false,
    "lc_cell_meme": {
     "current": "bb86250a-ee2f-11e7-80ef-0242ac110002",
     "history": [
      {
       "current": "bb86250a-ee2f-11e7-80ef-0242ac110002",
       "next": "bb86262c-ee2f-11e7-80ef-0242ac110002",
       "previous": "bb862316-ee2f-11e7-80ef-0242ac110002"
      }
     ],
     "next": "bb86262c-ee2f-11e7-80ef-0242ac110002",
     "previous": "742e4282-ee2f-11e7-80ef-0242ac110002"
    },
    "run_through_control": {
     "frozen": true,
     "read_only": false
    }
   },
   "source": [
    "## 演習環境について"
   ]
  },
  {
   "cell_type": "markdown",
   "metadata": {
    "deletable": false,
    "editable": false,
    "lc_cell_meme": {
     "current": "bb86262c-ee2f-11e7-80ef-0242ac110002",
     "history": [
      {
       "current": "bb86262c-ee2f-11e7-80ef-0242ac110002",
       "next": null,
       "previous": "bb86250a-ee2f-11e7-80ef-0242ac110002"
      }
     ],
     "next": "030f3998-ee30-11e7-80ef-0242ac110002",
     "previous": "bb86250a-ee2f-11e7-80ef-0242ac110002"
    },
    "run_through_control": {
     "frozen": true
    }
   },
   "source": [
    "本演習環境は通常のコンソールではなく Jupyter Notebook を用いて行います。\n",
    "\n",
    "この Jupyter 環境は国立情報学研究所（以下NII）によるLiterate Computingの研究成果を組み込み拡張されたJupyter環境を、本演習向けにカスタマイズしたとなっております。\n",
    "\n",
    "本環境のオリジナルに関する詳細は以下になります。\n",
    "\n",
    "- [Jupyter Notebook for Literate Computing for Reproducible Infrastructure](https://github.com/NII-cloud-operation/Jupyter-LC_docker)\n",
    "\n",
    "実際に演習を開始する前に Jupyter Notebook の使い方を解説します。"
   ]
  },
  {
   "cell_type": "markdown",
   "metadata": {
    "deletable": false,
    "editable": false,
    "lc_cell_meme": {
     "current": "030f3998-ee30-11e7-80ef-0242ac110002",
     "history": [
      {
       "current": "030f3998-ee30-11e7-80ef-0242ac110002",
       "next": null,
       "previous": "bb86262c-ee2f-11e7-80ef-0242ac110002"
      }
     ],
     "next": "21397e28-ee31-11e7-80ef-0242ac110002",
     "previous": "bb86262c-ee2f-11e7-80ef-0242ac110002"
    },
    "run_through_control": {
     "frozen": true,
     "read_only": false
    }
   },
   "source": [
    "## Jupyter の使い方"
   ]
  },
  {
   "cell_type": "markdown",
   "metadata": {
    "deletable": false,
    "editable": false,
    "lc_cell_meme": {
     "current": "21397e28-ee31-11e7-80ef-0242ac110002",
     "history": [
      {
       "current": "21397e28-ee31-11e7-80ef-0242ac110002",
       "next": null,
       "previous": "030f3998-ee30-11e7-80ef-0242ac110002"
      },
      {
       "current": "21397e28-ee31-11e7-80ef-0242ac110002",
       "next": "1ccea6d4-ee3a-11e7-80ef-0242ac110002",
       "previous": "030f3998-ee30-11e7-80ef-0242ac110002"
      },
      {
       "current": "21397e28-ee31-11e7-80ef-0242ac110002",
       "next": "3aea3ef2-ee3b-11e7-80ef-0242ac110002",
       "previous": "030f3998-ee30-11e7-80ef-0242ac110002"
      }
     ],
     "next": "8a66ac58-f6c5-11e7-a87b-0242ac110002",
     "previous": "030f3998-ee30-11e7-80ef-0242ac110002"
    },
    "run_through_control": {
     "frozen": true,
     "read_only": false
    }
   },
   "source": [
    "Jupyter では現在開いているような \\*.ipynb という形式のファイルを **ノートブック** と呼びます。ノートブックの使い方はシンプルです。\n",
    "\n",
    "**Cell** に対して、処理かMarkdown形式でのドキュメントを記述していきます。"
   ]
  },
  {
   "cell_type": "markdown",
   "metadata": {
    "deletable": false,
    "editable": false,
    "lc_cell_meme": {
     "current": "8a66ac58-f6c5-11e7-a87b-0242ac110002",
     "next": "3aea3ef2-ee3b-11e7-80ef-0242ac110002",
     "previous": "21397e28-ee31-11e7-80ef-0242ac110002"
    },
    "run_through_control": {
     "frozen": true,
     "read_only": false
    }
   },
   "source": [
    "Cell では以下のような操作が可能です。\n",
    "\n",
    "* 自分のやりたい処理をメモとして記載する\n",
    "* 実際の処理を記述して実行 → 結果が記録される\n",
    "* 結果に対するコメントを記載するなど"
   ]
  },
  {
   "cell_type": "markdown",
   "metadata": {
    "deletable": false,
    "editable": false,
    "lc_cell_meme": {
     "current": "3aea3ef2-ee3b-11e7-80ef-0242ac110002",
     "history": [
      {
       "current": "3aea3ef2-ee3b-11e7-80ef-0242ac110002",
       "next": "3aea4104-ee3b-11e7-80ef-0242ac110002",
       "previous": "21397e28-ee31-11e7-80ef-0242ac110002"
      },
      {
       "current": "3aea3ef2-ee3b-11e7-80ef-0242ac110002",
       "next": "3aea4104-ee3b-11e7-80ef-0242ac110002",
       "previous": "8a66ac58-f6c5-11e7-a87b-0242ac110002"
      }
     ],
     "next": "8cd50d08-1c78-11e8-a3f3-0242ac110002",
     "previous": "8a66ac58-f6c5-11e7-a87b-0242ac110002"
    },
    "run_through_control": {
     "frozen": true,
     "read_only": false
    }
   },
   "source": [
    "### Cell の実行"
   ]
  },
  {
   "cell_type": "markdown",
   "metadata": {
    "deletable": false,
    "editable": false,
    "lc_cell_meme": {
     "current": "8cd50d08-1c78-11e8-a3f3-0242ac110002",
     "next": "8cd5117c-1c78-11e8-a3f3-0242ac110002",
     "previous": "3aea3ef2-ee3b-11e7-80ef-0242ac110002"
    },
    "run_through_control": {
     "frozen": true,
     "read_only": false
    }
   },
   "source": [
    "この行にマウスカーソルをあわせてクリックしてください。この行が選択状態になったと思います。\n",
    "\n",
    "今の状態は「Cell が選択」された状態です。"
   ]
  },
  {
   "cell_type": "markdown",
   "metadata": {
    "deletable": false,
    "editable": false,
    "lc_cell_meme": {
     "current": "8cd5117c-1c78-11e8-a3f3-0242ac110002",
     "next": "3aea4104-ee3b-11e7-80ef-0242ac110002",
     "previous": "8cd50d08-1c78-11e8-a3f3-0242ac110002"
    },
    "run_through_control": {
     "frozen": true,
     "read_only": false
    }
   },
   "source": [
    "次に、↑ ↓ キーを使って選択された Cell を上下に変更してください。この様にキーボードでもCellの選択を変更できます。"
   ]
  },
  {
   "cell_type": "markdown",
   "metadata": {
    "deletable": false,
    "editable": false,
    "lc_cell_meme": {
     "current": "3aea4104-ee3b-11e7-80ef-0242ac110002",
     "history": [
      {
       "current": "3aea4104-ee3b-11e7-80ef-0242ac110002",
       "next": "1ccea6d4-ee3a-11e7-80ef-0242ac110002",
       "previous": "3aea3ef2-ee3b-11e7-80ef-0242ac110002"
      }
     ],
     "next": "1ccea6d4-ee3a-11e7-80ef-0242ac110002",
     "previous": "8cd5117c-1c78-11e8-a3f3-0242ac110002"
    },
    "run_through_control": {
     "frozen": true,
     "read_only": false
    }
   },
   "source": [
    "**Shift + Enter** で Cell に記述した処理を実行することができます。"
   ]
  },
  {
   "cell_type": "markdown",
   "metadata": {
    "deletable": false,
    "editable": false,
    "lc_cell_meme": {
     "current": "1ccea6d4-ee3a-11e7-80ef-0242ac110002",
     "history": [
      {
       "current": "1ccea6d4-ee3a-11e7-80ef-0242ac110002",
       "next": null,
       "previous": "21397e28-ee31-11e7-80ef-0242ac110002"
      },
      {
       "current": "1ccea6d4-ee3a-11e7-80ef-0242ac110002",
       "next": "abdafe04-ee3a-11e7-80ef-0242ac110002",
       "previous": "21397e28-ee31-11e7-80ef-0242ac110002"
      }
     ],
     "next": "abdafe04-ee3a-11e7-80ef-0242ac110002",
     "previous": "3aea4104-ee3b-11e7-80ef-0242ac110002"
    },
    "run_through_control": {
     "frozen": true,
     "read_only": false
    }
   },
   "source": [
    "試しに下のCellのフォーカスをあわせて、Shift + Enter を押してください。"
   ]
  },
  {
   "cell_type": "code",
   "execution_count": null,
   "metadata": {
    "lc_cell_meme": {
     "current": "abdafe04-ee3a-11e7-80ef-0242ac110002",
     "history": [
      {
       "current": "abdafe04-ee3a-11e7-80ef-0242ac110002",
       "next": "abdb01c4-ee3a-11e7-80ef-0242ac110002",
       "previous": "1ccea6d4-ee3a-11e7-80ef-0242ac110002"
      },
      {
       "current": "abdafe04-ee3a-11e7-80ef-0242ac110002",
       "next": "117e2870-ee3c-11e7-80ef-0242ac110002",
       "previous": "1ccea6d4-ee3a-11e7-80ef-0242ac110002"
      }
     ],
     "next": "d4607536-1c78-11e8-a3f3-0242ac110002",
     "previous": "1ccea6d4-ee3a-11e7-80ef-0242ac110002"
    }
   },
   "outputs": [],
   "source": [
    "# ここにフォーカスをあわせて Shift+Enter\n",
    "\n",
    "ls -alF"
   ]
  },
  {
   "cell_type": "markdown",
   "metadata": {
    "deletable": false,
    "editable": false,
    "lc_cell_meme": {
     "current": "d4607536-1c78-11e8-a3f3-0242ac110002",
     "history": [
      {
       "current": "d4607536-1c78-11e8-a3f3-0242ac110002",
       "next": "117e2870-ee3c-11e7-80ef-0242ac110002",
       "previous": "abdafe04-ee3a-11e7-80ef-0242ac110002"
      }
     ],
     "next": "1beb0e52-1c79-11e8-a3f3-0242ac110002",
     "previous": "abdafe04-ee3a-11e7-80ef-0242ac110002"
    },
    "run_through_control": {
     "frozen": true,
     "read_only": false
    }
   },
   "source": [
    "Cell が実行されて、Cell の下にコマンドの実行結果が表示されたと思います。"
   ]
  },
  {
   "cell_type": "markdown",
   "metadata": {
    "deletable": false,
    "editable": false,
    "lc_cell_meme": {
     "current": "1beb0e52-1c79-11e8-a3f3-0242ac110002",
     "next": "117e2870-ee3c-11e7-80ef-0242ac110002",
     "previous": "d4607536-1c78-11e8-a3f3-0242ac110002"
    },
    "run_through_control": {
     "frozen": true,
     "read_only": false
    }
   },
   "source": [
    "続けて、以下の3つの Cell を実行してみてください。"
   ]
  },
  {
   "cell_type": "code",
   "execution_count": null,
   "metadata": {
    "lc_cell_meme": {
     "current": "117e2870-ee3c-11e7-80ef-0242ac110002",
     "history": [
      {
       "current": "117e2870-ee3c-11e7-80ef-0242ac110002",
       "next": "117e2b18-ee3c-11e7-80ef-0242ac110002",
       "previous": "abdafe04-ee3a-11e7-80ef-0242ac110002"
      },
      {
       "current": "117e2870-ee3c-11e7-80ef-0242ac110002",
       "next": "117e2b18-ee3c-11e7-80ef-0242ac110002",
       "previous": "d4607536-1c78-11e8-a3f3-0242ac110002"
      }
     ],
     "next": "117e2b18-ee3c-11e7-80ef-0242ac110002",
     "previous": "1beb0e52-1c79-11e8-a3f3-0242ac110002"
    }
   },
   "outputs": [],
   "source": [
    "# ここにフォーカスをあわせて Shift+Enter\n",
    "\n",
    "pwd"
   ]
  },
  {
   "cell_type": "code",
   "execution_count": null,
   "metadata": {
    "lc_cell_meme": {
     "current": "117e2b18-ee3c-11e7-80ef-0242ac110002",
     "history": [
      {
       "current": "117e2b18-ee3c-11e7-80ef-0242ac110002",
       "next": "abdb01c4-ee3a-11e7-80ef-0242ac110002",
       "previous": "117e2870-ee3c-11e7-80ef-0242ac110002"
      }
     ],
     "next": "a9550724-ee3f-11e7-80ef-0242ac110002",
     "previous": "117e2870-ee3c-11e7-80ef-0242ac110002"
    }
   },
   "outputs": [],
   "source": [
    "# ここにフォーカスをあわせて Shift+Enter\n",
    "\n",
    "hostname\n",
    "date"
   ]
  },
  {
   "cell_type": "code",
   "execution_count": null,
   "metadata": {
    "lc_cell_meme": {
     "current": "a9550724-ee3f-11e7-80ef-0242ac110002",
     "next": "abdb01c4-ee3a-11e7-80ef-0242ac110002",
     "previous": "117e2b18-ee3c-11e7-80ef-0242ac110002"
    }
   },
   "outputs": [],
   "source": [
    "# ここにフォーカスをあわせて Shift+Enter\n",
    "\n",
    "ansible --version"
   ]
  },
  {
   "cell_type": "markdown",
   "metadata": {
    "deletable": false,
    "editable": false,
    "lc_cell_meme": {
     "current": "abdb01c4-ee3a-11e7-80ef-0242ac110002",
     "history": [
      {
       "current": "abdb01c4-ee3a-11e7-80ef-0242ac110002",
       "next": "abdb030e-ee3a-11e7-80ef-0242ac110002",
       "previous": "abdafe04-ee3a-11e7-80ef-0242ac110002"
      },
      {
       "current": "abdb01c4-ee3a-11e7-80ef-0242ac110002",
       "next": "abdb041c-ee3a-11e7-80ef-0242ac110002",
       "previous": "abdafe04-ee3a-11e7-80ef-0242ac110002"
      },
      {
       "current": "abdb01c4-ee3a-11e7-80ef-0242ac110002",
       "next": "3aea423a-ee3b-11e7-80ef-0242ac110002",
       "previous": "abdafe04-ee3a-11e7-80ef-0242ac110002"
      },
      {
       "current": "abdb01c4-ee3a-11e7-80ef-0242ac110002",
       "next": "3aea423a-ee3b-11e7-80ef-0242ac110002",
       "previous": "117e2b18-ee3c-11e7-80ef-0242ac110002"
      },
      {
       "current": "abdb01c4-ee3a-11e7-80ef-0242ac110002",
       "next": "3aea423a-ee3b-11e7-80ef-0242ac110002",
       "previous": "a9550724-ee3f-11e7-80ef-0242ac110002"
      }
     ],
     "next": "a88e606c-f6c6-11e7-a87b-0242ac110002",
     "previous": "a9550724-ee3f-11e7-80ef-0242ac110002"
    },
    "run_through_control": {
     "frozen": true,
     "read_only": false
    }
   },
   "source": [
    "このように、処理を記述して実行すると、実行結果が記録されます。"
   ]
  },
  {
   "cell_type": "markdown",
   "metadata": {
    "deletable": false,
    "editable": false,
    "lc_cell_meme": {
     "current": "a88e606c-f6c6-11e7-a87b-0242ac110002",
     "next": "3aea423a-ee3b-11e7-80ef-0242ac110002",
     "previous": "abdb01c4-ee3a-11e7-80ef-0242ac110002"
    },
    "run_through_control": {
     "frozen": true
    }
   },
   "source": [
    "処理が実行された Cell には色が付きます。\n",
    "\n",
    "* <font color=\"green\">緑 → 成功</font>\n",
    "* <font color=\"red\">赤 → 失敗</font>\n",
    "\n",
    "です。実行に成功したCellはロックされ編集や実行ができなくなります。失敗の場合にはコマンドを修正して再実行することも可能です。"
   ]
  },
  {
   "cell_type": "markdown",
   "metadata": {
    "deletable": false,
    "editable": false,
    "lc_cell_meme": {
     "current": "3aea423a-ee3b-11e7-80ef-0242ac110002",
     "history": [
      {
       "current": "3aea423a-ee3b-11e7-80ef-0242ac110002",
       "next": "abdb041c-ee3a-11e7-80ef-0242ac110002",
       "previous": "abdb01c4-ee3a-11e7-80ef-0242ac110002"
      },
      {
       "current": "3aea423a-ee3b-11e7-80ef-0242ac110002",
       "next": "826cb354-ee3b-11e7-80ef-0242ac110002",
       "previous": "abdb01c4-ee3a-11e7-80ef-0242ac110002"
      }
     ],
     "next": "826cb354-ee3b-11e7-80ef-0242ac110002",
     "previous": "a88e606c-f6c6-11e7-a87b-0242ac110002"
    },
    "run_through_control": {
     "frozen": true,
     "read_only": false
    }
   },
   "source": [
    "### Cell の挿入と削除、やり直し"
   ]
  },
  {
   "cell_type": "markdown",
   "metadata": {
    "deletable": false,
    "editable": false,
    "lc_cell_meme": {
     "current": "826cb354-ee3b-11e7-80ef-0242ac110002",
     "next": "abdb041c-ee3a-11e7-80ef-0242ac110002",
     "previous": "3aea423a-ee3b-11e7-80ef-0242ac110002"
    },
    "run_through_control": {
     "frozen": true,
     "read_only": false
    }
   },
   "source": [
    "Cell は任意に挿入、削除が可能です。\n",
    "\n",
    "この行にフォーカスを当てて、 b を押してください。"
   ]
  },
  {
   "cell_type": "markdown",
   "metadata": {
    "deletable": false,
    "editable": false,
    "lc_cell_meme": {
     "current": "abdb041c-ee3a-11e7-80ef-0242ac110002",
     "history": [
      {
       "current": "abdb041c-ee3a-11e7-80ef-0242ac110002",
       "next": null,
       "previous": "abdb030e-ee3a-11e7-80ef-0242ac110002"
      },
      {
       "current": "abdb041c-ee3a-11e7-80ef-0242ac110002",
       "next": "f17b74ca-ee3a-11e7-80ef-0242ac110002",
       "previous": "abdb01c4-ee3a-11e7-80ef-0242ac110002"
      },
      {
       "current": "abdb041c-ee3a-11e7-80ef-0242ac110002",
       "next": "f17b74ca-ee3a-11e7-80ef-0242ac110002",
       "previous": "3aea423a-ee3b-11e7-80ef-0242ac110002"
      },
      {
       "current": "abdb041c-ee3a-11e7-80ef-0242ac110002",
       "next": "f17b74ca-ee3a-11e7-80ef-0242ac110002",
       "previous": "826cb354-ee3b-11e7-80ef-0242ac110002"
      },
      {
       "current": "abdb041c-ee3a-11e7-80ef-0242ac110002",
       "next": "17ba691c-f42f-11e7-b6b4-0242ac110002",
       "previous": "826cb354-ee3b-11e7-80ef-0242ac110002"
      },
      {
       "current": "abdb041c-ee3a-11e7-80ef-0242ac110002",
       "next": "abdb041c-ee3a-11e7-80ef-0242ac110002",
       "previous": "826cb354-ee3b-11e7-80ef-0242ac110002"
      },
      {
       "current": "abdb041c-ee3a-11e7-80ef-0242ac110002",
       "next": "17ba691c-f42f-11e7-b6b4-0242ac110002",
       "previous": "826cb354-ee3b-11e7-80ef-0242ac110002"
      },
      {
       "current": "abdb041c-ee3a-11e7-80ef-0242ac110002",
       "next": "abdb041c-ee3a-11e7-80ef-0242ac110002",
       "previous": "826cb354-ee3b-11e7-80ef-0242ac110002"
      }
     ],
     "next": "17ba691c-f42f-11e7-b6b4-0242ac110002",
     "previous": "826cb354-ee3b-11e7-80ef-0242ac110002"
    },
    "run_through_control": {
     "frozen": true,
     "read_only": false
    }
   },
   "source": [
    "Cell が挿入されたと思います。\n",
    "\n",
    "次に、上で追加された Cell にフォーカスを合わせて、 dd とキーを押してください。これで Cell が削除されます。\n",
    "\n",
    "z を押すと undo されます。間違って削除したCellを復活させることができます。"
   ]
  },
  {
   "cell_type": "markdown",
   "metadata": {
    "deletable": false,
    "editable": false,
    "lc_cell_meme": {
     "current": "17ba691c-f42f-11e7-b6b4-0242ac110002",
     "history": [
      {
       "current": "17ba691c-f42f-11e7-b6b4-0242ac110002",
       "next": "f17b74ca-ee3a-11e7-80ef-0242ac110002",
       "previous": "abdb041c-ee3a-11e7-80ef-0242ac110002"
      }
     ],
     "next": "3aea423a-ee3b-11e7-80ef-0242ac110002",
     "previous": "abdb041c-ee3a-11e7-80ef-0242ac110002"
    },
    "run_through_control": {
     "frozen": true,
     "read_only": false
    }
   },
   "source": [
    "**演習中は自由にCellを追加して、処理を実行したりメモの記載を行ってください。**"
   ]
  },
  {
   "cell_type": "markdown",
   "metadata": {
    "deletable": false,
    "editable": false,
    "lc_cell_meme": {
     "current": "3aea423a-ee3b-11e7-80ef-0242ac110002",
     "history": [
      {
       "current": "3aea423a-ee3b-11e7-80ef-0242ac110002",
       "next": "abdb041c-ee3a-11e7-80ef-0242ac110002",
       "previous": "abdb01c4-ee3a-11e7-80ef-0242ac110002"
      },
      {
       "current": "3aea423a-ee3b-11e7-80ef-0242ac110002",
       "next": "826cb354-ee3b-11e7-80ef-0242ac110002",
       "previous": "abdb01c4-ee3a-11e7-80ef-0242ac110002"
      }
     ],
     "next": "d1f0840e-f6c5-11e7-a87b-0242ac110002",
     "previous": "17ba691c-f42f-11e7-b6b4-0242ac110002"
    },
    "run_through_control": {
     "frozen": true,
     "read_only": false
    }
   },
   "source": [
    "### Cell のコピーと挿入"
   ]
  },
  {
   "cell_type": "markdown",
   "metadata": {
    "deletable": false,
    "editable": false,
    "lc_cell_meme": {
     "current": "d1f0840e-f6c5-11e7-a87b-0242ac110002",
     "next": "d1f085f8-f6c5-11e7-a87b-0242ac110002",
     "previous": "3aea423a-ee3b-11e7-80ef-0242ac110002"
    },
    "run_through_control": {
     "frozen": true,
     "read_only": false
    }
   },
   "source": [
    "既に記載済みの Cell をコピーして貼り付けることができます。\n",
    "\n",
    "* c ・・・コピー\n",
    "* v ・・・貼り付け"
   ]
  },
  {
   "cell_type": "markdown",
   "metadata": {
    "deletable": false,
    "editable": false,
    "lc_cell_meme": {
     "current": "d1f085f8-f6c5-11e7-a87b-0242ac110002",
     "history": [
      {
       "current": "d1f085f8-f6c5-11e7-a87b-0242ac110002",
       "next": "f17b74ca-ee3a-11e7-80ef-0242ac110002",
       "previous": "d1f0840e-f6c5-11e7-a87b-0242ac110002"
      }
     ],
     "next": "1979d7b2-f6c6-11e7-a87b-0242ac110002",
     "previous": "d1f0840e-f6c5-11e7-a87b-0242ac110002"
    },
    "run_through_control": {
     "frozen": true,
     "read_only": false
    }
   },
   "source": [
    "この Cell にフォーカスを当てて c → v と押してください。"
   ]
  },
  {
   "cell_type": "markdown",
   "metadata": {
    "deletable": false,
    "editable": false,
    "lc_cell_meme": {
     "current": "1979d7b2-f6c6-11e7-a87b-0242ac110002",
     "history": [
      {
       "current": "1979d7b2-f6c6-11e7-a87b-0242ac110002",
       "next": "1979d960-f6c6-11e7-a87b-0242ac110002",
       "previous": "d1f085f8-f6c5-11e7-a87b-0242ac110002"
      }
     ],
     "next": "1979dc44-f6c6-11e7-a87b-0242ac110002",
     "previous": "d1f085f8-f6c5-11e7-a87b-0242ac110002"
    },
    "run_through_control": {
     "frozen": true,
     "read_only": false
    }
   },
   "source": [
    "Cell がコピーされたはずです。"
   ]
  },
  {
   "cell_type": "code",
   "execution_count": null,
   "metadata": {
    "lc_cell_meme": {
     "current": "1979dc44-f6c6-11e7-a87b-0242ac110002",
     "history": [
      {
       "current": "1979dc44-f6c6-11e7-a87b-0242ac110002",
       "next": "1979dd02-f6c6-11e7-a87b-0242ac110002",
       "previous": "1979da32-f6c6-11e7-a87b-0242ac110002"
      }
     ],
     "next": "1979dd02-f6c6-11e7-a87b-0242ac110002",
     "previous": "1979d7b2-f6c6-11e7-a87b-0242ac110002"
    }
   },
   "outputs": [],
   "source": [
    "# こちらの Cell にフォーカスを当てて、同じく c → v と押してください。\n",
    "\n",
    "hostname"
   ]
  },
  {
   "cell_type": "markdown",
   "metadata": {
    "deletable": false,
    "editable": false,
    "lc_cell_meme": {
     "current": "1979dd02-f6c6-11e7-a87b-0242ac110002",
     "history": [
      {
       "current": "1979dd02-f6c6-11e7-a87b-0242ac110002",
       "next": "f17b74ca-ee3a-11e7-80ef-0242ac110002",
       "previous": "1979dc44-f6c6-11e7-a87b-0242ac110002"
      }
     ],
     "next": "61026d42-f6c6-11e7-a87b-0242ac110002",
     "previous": "1979dc44-f6c6-11e7-a87b-0242ac110002"
    },
    "run_through_control": {
     "frozen": true,
     "read_only": false
    }
   },
   "source": [
    "こちらも Cell がコピーされたはずです。"
   ]
  },
  {
   "cell_type": "markdown",
   "metadata": {
    "deletable": false,
    "editable": false,
    "lc_cell_meme": {
     "current": "61026d42-f6c6-11e7-a87b-0242ac110002",
     "next": "6102706c-f6c6-11e7-a87b-0242ac110002",
     "previous": "1979dd02-f6c6-11e7-a87b-0242ac110002"
    },
    "run_through_control": {
     "frozen": true,
     "read_only": false
    }
   },
   "source": [
    "実行に失敗してやり直すようなケースでは、失敗した Cell は記録として残したまま、メモを残した上でコピーした Cell を修正して実行すると記録として残ります。"
   ]
  },
  {
   "cell_type": "code",
   "execution_count": 2,
   "metadata": {
    "deletable": false,
    "editable": false,
    "lc_cell_meme": {
     "current": "6102706c-f6c6-11e7-a87b-0242ac110002",
     "next": "6102715c-f6c6-11e7-a87b-0242ac110002",
     "previous": "61026d42-f6c6-11e7-a87b-0242ac110002"
    },
    "run_through_control": {
     "frozen": true,
     "read_only": false
    }
   },
   "outputs": [
    {
     "name": "stdout",
     "output_type": "stream",
     "text": [
      "ls: cannot access /aaa: No such file or directory\n"
     ]
    },
    {
     "ename": "",
     "evalue": "2",
     "output_type": "error",
     "traceback": []
    }
   ],
   "source": [
    "# 失敗例\n",
    "\n",
    "ls /aaa"
   ]
  },
  {
   "cell_type": "markdown",
   "metadata": {
    "deletable": false,
    "editable": false,
    "lc_cell_meme": {
     "current": "6102715c-f6c6-11e7-a87b-0242ac110002",
     "next": "610273b4-f6c6-11e7-a87b-0242ac110002",
     "previous": "6102706c-f6c6-11e7-a87b-0242ac110002"
    },
    "run_through_control": {
     "frozen": true,
     "read_only": false
    }
   },
   "source": [
    "メモ例）ディレクトリを間違えたので、再実行。"
   ]
  },
  {
   "cell_type": "code",
   "execution_count": 3,
   "metadata": {
    "deletable": false,
    "editable": false,
    "lc_cell_meme": {
     "current": "610273b4-f6c6-11e7-a87b-0242ac110002",
     "history": [
      {
       "current": "610273b4-f6c6-11e7-a87b-0242ac110002",
       "next": "f17b74ca-ee3a-11e7-80ef-0242ac110002",
       "previous": "6102715c-f6c6-11e7-a87b-0242ac110002"
      },
      {
       "current": "610273b4-f6c6-11e7-a87b-0242ac110002",
       "next": "f28a3dc0-1c79-11e8-a3f3-0242ac110002",
       "previous": "6102715c-f6c6-11e7-a87b-0242ac110002"
      }
     ],
     "next": "81a087e4-1c7a-11e8-a3f3-0242ac110002",
     "previous": "6102715c-f6c6-11e7-a87b-0242ac110002"
    },
    "run_through_control": {
     "frozen": true,
     "read_only": false
    },
    "scrolled": true
   },
   "outputs": [
    {
     "name": "stdout",
     "output_type": "stream",
     "text": [
      "10-custom-get_ipython_system.py  jupyter_notebook_config.py\n",
      "ansible.cfg                      kernels\n",
      "bash_env                         logo.png\n",
      "custom.css                       notebook.json\n",
      "font-awesome-4.7.0               sitecustomize.py\n",
      "font-awesome-4.7.0.zip           tmpaop0bdpb_kernels\n"
     ]
    }
   ],
   "source": [
    "# 成功例\n",
    "\n",
    "ls /tmp"
   ]
  },
  {
   "cell_type": "markdown",
   "metadata": {
    "deletable": false,
    "editable": false,
    "lc_cell_meme": {
     "current": "81a087e4-1c7a-11e8-a3f3-0242ac110002",
     "next": "f28a3dc0-1c79-11e8-a3f3-0242ac110002",
     "previous": "610273b4-f6c6-11e7-a87b-0242ac110002"
    },
    "run_through_control": {
     "frozen": true,
     "read_only": false
    }
   },
   "source": [
    "実際に試してみましょう。以下のガイドに従って操作を行ってみましょう。"
   ]
  },
  {
   "cell_type": "code",
   "execution_count": null,
   "metadata": {
    "lc_cell_meme": {
     "current": "f28a3dc0-1c79-11e8-a3f3-0242ac110002",
     "history": [
      {
       "current": "f28a3dc0-1c79-11e8-a3f3-0242ac110002",
       "next": "f28a3f8c-1c79-11e8-a3f3-0242ac110002",
       "previous": "610273b4-f6c6-11e7-a87b-0242ac110002"
      }
     ],
     "next": "f28a3f8c-1c79-11e8-a3f3-0242ac110002",
     "previous": "81a087e4-1c7a-11e8-a3f3-0242ac110002"
    }
   },
   "outputs": [],
   "source": [
    "# この Cell を実行してください。コマンド名が間違っているので失敗します。\n",
    "\n",
    "echooo test"
   ]
  },
  {
   "cell_type": "markdown",
   "metadata": {
    "lc_cell_meme": {
     "current": "f28a3f8c-1c79-11e8-a3f3-0242ac110002",
     "next": "f17b74ca-ee3a-11e7-80ef-0242ac110002",
     "previous": "f28a3dc0-1c79-11e8-a3f3-0242ac110002"
    }
   },
   "source": [
    "「XXXXX」 ← ここにメモを残して下さい。メモを書いたら Shift + Enter\n",
    "\n",
    "失敗した Cell を選択して c でコピーして、この Cell の下にコピーしてください。コピーできたらコマンドを `echo` に修正して実行してください。"
   ]
  },
  {
   "cell_type": "markdown",
   "metadata": {
    "deletable": false,
    "editable": false,
    "lc_cell_meme": {
     "current": "f17b74ca-ee3a-11e7-80ef-0242ac110002",
     "history": [
      {
       "current": "f17b74ca-ee3a-11e7-80ef-0242ac110002",
       "next": null,
       "previous": "abdb041c-ee3a-11e7-80ef-0242ac110002"
      },
      {
       "current": "f17b74ca-ee3a-11e7-80ef-0242ac110002",
       "next": "abdb030e-ee3a-11e7-80ef-0242ac110002",
       "previous": "abdb041c-ee3a-11e7-80ef-0242ac110002"
      },
      {
       "current": "f17b74ca-ee3a-11e7-80ef-0242ac110002",
       "next": "c9f67804-ee3b-11e7-80ef-0242ac110002",
       "previous": "abdb041c-ee3a-11e7-80ef-0242ac110002"
      },
      {
       "current": "f17b74ca-ee3a-11e7-80ef-0242ac110002",
       "next": "c9f67804-ee3b-11e7-80ef-0242ac110002",
       "previous": "17ba691c-f42f-11e7-b6b4-0242ac110002"
      },
      {
       "current": "f17b74ca-ee3a-11e7-80ef-0242ac110002",
       "next": "c9f67804-ee3b-11e7-80ef-0242ac110002",
       "previous": "d1f085f8-f6c5-11e7-a87b-0242ac110002"
      },
      {
       "current": "f17b74ca-ee3a-11e7-80ef-0242ac110002",
       "next": "c9f67804-ee3b-11e7-80ef-0242ac110002",
       "previous": "1979dd02-f6c6-11e7-a87b-0242ac110002"
      },
      {
       "current": "f17b74ca-ee3a-11e7-80ef-0242ac110002",
       "next": "c9f67804-ee3b-11e7-80ef-0242ac110002",
       "previous": "610273b4-f6c6-11e7-a87b-0242ac110002"
      }
     ],
     "next": "c9f67804-ee3b-11e7-80ef-0242ac110002",
     "previous": "f28a3f8c-1c79-11e8-a3f3-0242ac110002"
    },
    "run_through_control": {
     "frozen": true,
     "read_only": false
    }
   },
   "source": [
    "### モードの変更"
   ]
  },
  {
   "cell_type": "markdown",
   "metadata": {
    "deletable": false,
    "editable": false,
    "lc_cell_meme": {
     "current": "c9f67804-ee3b-11e7-80ef-0242ac110002",
     "history": [
      {
       "current": "c9f67804-ee3b-11e7-80ef-0242ac110002",
       "next": "abdb030e-ee3a-11e7-80ef-0242ac110002",
       "previous": "f17b74ca-ee3a-11e7-80ef-0242ac110002"
      },
      {
       "current": "c9f67804-ee3b-11e7-80ef-0242ac110002",
       "next": "c92bbf16-1c7a-11e8-a3f3-0242ac110002",
       "previous": "f17b74ca-ee3a-11e7-80ef-0242ac110002"
      }
     ],
     "next": "f5098610-21a0-11e8-b9c4-0242ac110002",
     "previous": "f17b74ca-ee3a-11e7-80ef-0242ac110002"
    },
    "run_through_control": {
     "frozen": true
    }
   },
   "source": [
    "ここまでの操作で気づいた方もいると思いますが Cell には Code モードと Markdown モードと2つのモードがあります。"
   ]
  },
  {
   "cell_type": "markdown",
   "metadata": {
    "deletable": false,
    "editable": false,
    "lc_cell_meme": {
     "current": "f5098610-21a0-11e8-b9c4-0242ac110002",
     "next": "c92bbf16-1c7a-11e8-a3f3-0242ac110002",
     "previous": "c9f67804-ee3b-11e7-80ef-0242ac110002"
    },
    "run_through_control": {
     "frozen": true
    }
   },
   "source": [
    "#### Code モードの例"
   ]
  },
  {
   "cell_type": "code",
   "execution_count": null,
   "metadata": {
    "deletable": false,
    "editable": false,
    "lc_cell_meme": {
     "current": "c92bbf16-1c7a-11e8-a3f3-0242ac110002",
     "history": [
      {
       "current": "c92bbf16-1c7a-11e8-a3f3-0242ac110002",
       "next": "c92bc132-1c7a-11e8-a3f3-0242ac110002",
       "previous": "c9f67804-ee3b-11e7-80ef-0242ac110002"
      },
      {
       "current": "c92bbf16-1c7a-11e8-a3f3-0242ac110002",
       "next": "c92bbf16-1c7a-11e8-a3f3-0242ac110002",
       "previous": "c9f67804-ee3b-11e7-80ef-0242ac110002"
      }
     ],
     "next": "c92bbf16-1c7a-11e8-a3f3-0242ac110002",
     "previous": "f5098610-21a0-11e8-b9c4-0242ac110002"
    },
    "run_through_control": {
     "frozen": true,
     "read_only": false
    }
   },
   "outputs": [],
   "source": [
    "# Code モードの Cell 実行前\n",
    "echo Code Mode"
   ]
  },
  {
   "cell_type": "code",
   "execution_count": 2,
   "metadata": {
    "deletable": false,
    "editable": false,
    "lc_cell_meme": {
     "current": "c92bbf16-1c7a-11e8-a3f3-0242ac110002",
     "history": [
      {
       "current": "c92bbf16-1c7a-11e8-a3f3-0242ac110002",
       "next": "c92bc132-1c7a-11e8-a3f3-0242ac110002",
       "previous": "c9f67804-ee3b-11e7-80ef-0242ac110002"
      },
      {
       "current": "c92bbf16-1c7a-11e8-a3f3-0242ac110002",
       "next": "10b50e28-1c7b-11e8-a3f3-0242ac110002",
       "previous": "c92bbf16-1c7a-11e8-a3f3-0242ac110002"
      }
     ],
     "next": "3c9ad4e8-21a1-11e8-b9c4-0242ac110002",
     "previous": "c92bbf16-1c7a-11e8-a3f3-0242ac110002"
    },
    "run_through_control": {
     "frozen": true,
     "read_only": false
    }
   },
   "outputs": [
    {
     "name": "stdout",
     "output_type": "stream",
     "text": [
      "Code Mode\n"
     ]
    }
   ],
   "source": [
    "# Code モードの Cell 実行後\n",
    "echo Code Mode"
   ]
  },
  {
   "cell_type": "markdown",
   "metadata": {
    "deletable": false,
    "editable": false,
    "lc_cell_meme": {
     "current": "3c9ad4e8-21a1-11e8-b9c4-0242ac110002",
     "next": "10b50e28-1c7b-11e8-a3f3-0242ac110002",
     "previous": "c92bbf16-1c7a-11e8-a3f3-0242ac110002"
    },
    "run_through_control": {
     "frozen": true
    }
   },
   "source": [
    "#### Markdown モードの例"
   ]
  },
  {
   "cell_type": "markdown",
   "metadata": {
    "deletable": false,
    "editable": false,
    "lc_cell_meme": {
     "current": "10b50e28-1c7b-11e8-a3f3-0242ac110002",
     "history": [
      {
       "current": "10b50e28-1c7b-11e8-a3f3-0242ac110002",
       "next": "10b5115c-1c7b-11e8-a3f3-0242ac110002",
       "previous": "c92bbf16-1c7a-11e8-a3f3-0242ac110002"
      }
     ],
     "next": "10b5115c-1c7b-11e8-a3f3-0242ac110002",
     "previous": "3c9ad4e8-21a1-11e8-b9c4-0242ac110002"
    },
    "run_through_control": {
     "frozen": true
    }
   },
   "source": [
    "Markdown Mode の Cell 実行前"
   ]
  },
  {
   "cell_type": "markdown",
   "metadata": {
    "deletable": false,
    "editable": false,
    "lc_cell_meme": {
     "current": "10b5115c-1c7b-11e8-a3f3-0242ac110002",
     "history": [
      {
       "current": "10b5115c-1c7b-11e8-a3f3-0242ac110002",
       "next": "c92bc132-1c7a-11e8-a3f3-0242ac110002",
       "previous": "10b50e28-1c7b-11e8-a3f3-0242ac110002"
      }
     ],
     "next": "3c9ad880-21a1-11e8-b9c4-0242ac110002",
     "previous": "10b50e28-1c7b-11e8-a3f3-0242ac110002"
    },
    "run_through_control": {
     "frozen": true,
     "read_only": false
    }
   },
   "source": [
    "Markdown Mode の Cell 実行後"
   ]
  },
  {
   "cell_type": "markdown",
   "metadata": {
    "deletable": false,
    "editable": false,
    "lc_cell_meme": {
     "current": "3c9ad880-21a1-11e8-b9c4-0242ac110002",
     "next": "c92bc132-1c7a-11e8-a3f3-0242ac110002",
     "previous": "10b5115c-1c7b-11e8-a3f3-0242ac110002"
    },
    "run_through_control": {
     "frozen": true
    }
   },
   "source": [
    "#### モードの切り替え"
   ]
  },
  {
   "cell_type": "markdown",
   "metadata": {
    "deletable": false,
    "editable": false,
    "lc_cell_meme": {
     "current": "c92bc132-1c7a-11e8-a3f3-0242ac110002",
     "history": [
      {
       "current": "c92bc132-1c7a-11e8-a3f3-0242ac110002",
       "next": "abdb030e-ee3a-11e7-80ef-0242ac110002",
       "previous": "c92bbf16-1c7a-11e8-a3f3-0242ac110002"
      },
      {
       "current": "c92bc132-1c7a-11e8-a3f3-0242ac110002",
       "next": "abdb030e-ee3a-11e7-80ef-0242ac110002",
       "previous": "10b5115c-1c7b-11e8-a3f3-0242ac110002"
      }
     ],
     "next": "abdb030e-ee3a-11e7-80ef-0242ac110002",
     "previous": "3c9ad880-21a1-11e8-b9c4-0242ac110002"
    },
    "run_through_control": {
     "frozen": true
    }
   },
   "source": [
    "Cell のモードを変更するにはフォーカスを合わせた状態で、\n",
    "\n",
    "- y: Codeモード → コマンド等を実行する\n",
    "- m: Markdownモード → 指示やメモ、考察等を記載する\n",
    "\n",
    "で、モードの変更が可能です。\n",
    "\n",
    "下の Cell のモードを変更してみてください。"
   ]
  },
  {
   "cell_type": "code",
   "execution_count": 1,
   "metadata": {
    "lc_cell_meme": {
     "current": "abdb030e-ee3a-11e7-80ef-0242ac110002",
     "history": [
      {
       "current": "abdb030e-ee3a-11e7-80ef-0242ac110002",
       "next": "abdb041c-ee3a-11e7-80ef-0242ac110002",
       "previous": "abdb01c4-ee3a-11e7-80ef-0242ac110002"
      },
      {
       "current": "abdb030e-ee3a-11e7-80ef-0242ac110002",
       "next": null,
       "previous": "f17b74ca-ee3a-11e7-80ef-0242ac110002"
      },
      {
       "current": "abdb030e-ee3a-11e7-80ef-0242ac110002",
       "next": null,
       "previous": "c9f67804-ee3b-11e7-80ef-0242ac110002"
      },
      {
       "current": "abdb030e-ee3a-11e7-80ef-0242ac110002",
       "next": "117e2f64-ee3c-11e7-80ef-0242ac110002",
       "previous": "c9f67804-ee3b-11e7-80ef-0242ac110002"
      },
      {
       "current": "abdb030e-ee3a-11e7-80ef-0242ac110002",
       "next": "17ba6ae8-f42f-11e7-b6b4-0242ac110002",
       "previous": "c9f67804-ee3b-11e7-80ef-0242ac110002"
      }
     ],
     "next": "17ba6ae8-f42f-11e7-b6b4-0242ac110002",
     "previous": "c92bc132-1c7a-11e8-a3f3-0242ac110002"
    }
   },
   "outputs": [],
   "source": [
    "# ここにフォーカスをあわせてキーボードの y or m\n",
    "# 今はコマンドモードです。"
   ]
  },
  {
   "cell_type": "markdown",
   "metadata": {
    "deletable": false,
    "editable": false,
    "lc_cell_meme": {
     "current": "17ba6ae8-f42f-11e7-b6b4-0242ac110002",
     "history": [
      {
       "current": "17ba6ae8-f42f-11e7-b6b4-0242ac110002",
       "next": "117e2f64-ee3c-11e7-80ef-0242ac110002",
       "previous": "abdb030e-ee3a-11e7-80ef-0242ac110002"
      }
     ],
     "next": "53e21336-f42f-11e7-b6b4-0242ac110002",
     "previous": "abdb030e-ee3a-11e7-80ef-0242ac110002"
    },
    "run_through_control": {
     "frozen": true,
     "read_only": false
    }
   },
   "source": [
    "以下の Cell を Markdown モードにして自由にメモを記載してみてください。Markdownモードでも Shift + Enter でCell を実行（表示状態に）できます。\n",
    "\n",
    "Markdown の書式は [こちら](https://ja.wikipedia.org/wiki/Markdown) を参考にしてください。"
   ]
  },
  {
   "cell_type": "code",
   "execution_count": null,
   "metadata": {
    "lc_cell_meme": {
     "current": "53e21336-f42f-11e7-b6b4-0242ac110002",
     "history": [
      {
       "current": "53e21336-f42f-11e7-b6b4-0242ac110002",
       "next": "53e2146c-f42f-11e7-b6b4-0242ac110002",
       "previous": "17ba6ae8-f42f-11e7-b6b4-0242ac110002"
      }
     ],
     "next": "117e2f64-ee3c-11e7-80ef-0242ac110002",
     "previous": "17ba6ae8-f42f-11e7-b6b4-0242ac110002"
    }
   },
   "outputs": [],
   "source": [
    "この Cell を Markdown モードに変更して、自由にメモを記載してから、実行（Shift + Enter）してください。"
   ]
  },
  {
   "cell_type": "markdown",
   "metadata": {
    "deletable": false,
    "editable": false,
    "lc_cell_meme": {
     "current": "117e2f64-ee3c-11e7-80ef-0242ac110002",
     "history": [
      {
       "current": "117e2f64-ee3c-11e7-80ef-0242ac110002",
       "next": "117e3194-ee3c-11e7-80ef-0242ac110002",
       "previous": "abdb030e-ee3a-11e7-80ef-0242ac110002"
      },
      {
       "current": "117e2f64-ee3c-11e7-80ef-0242ac110002",
       "next": "117e3194-ee3c-11e7-80ef-0242ac110002",
       "previous": "17ba6ae8-f42f-11e7-b6b4-0242ac110002"
      },
      {
       "current": "117e2f64-ee3c-11e7-80ef-0242ac110002",
       "next": "117e3194-ee3c-11e7-80ef-0242ac110002",
       "previous": "53e21534-f42f-11e7-b6b4-0242ac110002"
      }
     ],
     "next": "117e3194-ee3c-11e7-80ef-0242ac110002",
     "previous": "53e21336-f42f-11e7-b6b4-0242ac110002"
    },
    "run_through_control": {
     "frozen": true,
     "read_only": false
    }
   },
   "source": [
    "### Cell の強制終了"
   ]
  },
  {
   "cell_type": "markdown",
   "metadata": {
    "deletable": false,
    "editable": false,
    "lc_cell_meme": {
     "current": "117e3194-ee3c-11e7-80ef-0242ac110002",
     "history": [
      {
       "current": "117e3194-ee3c-11e7-80ef-0242ac110002",
       "next": null,
       "previous": "117e2f64-ee3c-11e7-80ef-0242ac110002"
      },
      {
       "current": "117e3194-ee3c-11e7-80ef-0242ac110002",
       "next": "e8132ffc-ee3c-11e7-80ef-0242ac110002",
       "previous": "117e2f64-ee3c-11e7-80ef-0242ac110002"
      }
     ],
     "next": "2f99b224-ee3d-11e7-80ef-0242ac110002",
     "previous": "117e2f64-ee3c-11e7-80ef-0242ac110002"
    },
    "run_through_control": {
     "frozen": true,
     "read_only": true
    }
   },
   "source": [
    "Cell に記述する処理に「ユーザーの応答を求める」ようなコマンドは記述できません。もし実行してしまった場合は入力プロンプトが帰ってこずに固まってしまいます。このような場合には Cell を強制終了する必要があります。\n",
    "\n",
    "以下のようの処理が Jupyter 上では行なえません。\n",
    "\n",
    "- エディタでファイルを開いて編集する。\n",
    "- ping のように Ctrl + c が押されるまで動き続けるもの。\n",
    "- 実行後に yes/no の入力を求めるもの（cp での上書きなど）。\n",
    "- fdisk コマンドのように専用のCUIメニューが起動するコマンドなど。\n",
    "\n",
    "**Cellを強制終了するには、Cell にフォーカスをあわせて ii と入力します。**"
   ]
  },
  {
   "cell_type": "markdown",
   "metadata": {
    "deletable": false,
    "editable": false,
    "lc_cell_meme": {
     "current": "2f99b224-ee3d-11e7-80ef-0242ac110002",
     "next": "e8132ffc-ee3c-11e7-80ef-0242ac110002",
     "previous": "117e3194-ee3c-11e7-80ef-0242ac110002"
    },
    "run_through_control": {
     "frozen": true,
     "read_only": false
    }
   },
   "source": [
    "下の Cell を実行してみてください。この処理は通常 Ctrl + c が押されるまで停止しませんが、 ii と入力することで SIGHUP を送信して処理を停止されられます。"
   ]
  },
  {
   "cell_type": "code",
   "execution_count": null,
   "metadata": {
    "lc_cell_meme": {
     "current": "e8132ffc-ee3c-11e7-80ef-0242ac110002",
     "history": [
      {
       "current": "e8132ffc-ee3c-11e7-80ef-0242ac110002",
       "next": "e8133204-ee3c-11e7-80ef-0242ac110002",
       "previous": "117e3194-ee3c-11e7-80ef-0242ac110002"
      }
     ],
     "next": "2f99b4f4-ee3d-11e7-80ef-0242ac110002",
     "previous": "2f99b224-ee3d-11e7-80ef-0242ac110002"
    }
   },
   "outputs": [],
   "source": [
    "# この Cell を実行後に、フォーカスを合わせて ii\n",
    "\n",
    "ping 8.8.8.8"
   ]
  },
  {
   "cell_type": "markdown",
   "metadata": {
    "deletable": false,
    "editable": false,
    "lc_cell_meme": {
     "current": "2f99b4f4-ee3d-11e7-80ef-0242ac110002",
     "next": "e8133204-ee3c-11e7-80ef-0242ac110002",
     "previous": "e8132ffc-ee3c-11e7-80ef-0242ac110002"
    },
    "run_through_control": {
     "frozen": true,
     "read_only": false
    }
   },
   "source": [
    "### インタラクティブな処理の実行"
   ]
  },
  {
   "cell_type": "markdown",
   "metadata": {
    "deletable": false,
    "editable": false,
    "lc_cell_meme": {
     "current": "e8133204-ee3c-11e7-80ef-0242ac110002",
     "history": [
      {
       "current": "e8133204-ee3c-11e7-80ef-0242ac110002",
       "next": null,
       "previous": "e8132ffc-ee3c-11e7-80ef-0242ac110002"
      },
      {
       "current": "e8133204-ee3c-11e7-80ef-0242ac110002",
       "next": null,
       "previous": "2f99b4f4-ee3d-11e7-80ef-0242ac110002"
      },
      {
       "current": "e8133204-ee3c-11e7-80ef-0242ac110002",
       "next": "771afdce-ee3d-11e7-80ef-0242ac110002",
       "previous": "2f99b4f4-ee3d-11e7-80ef-0242ac110002"
      }
     ],
     "next": "e75592b8-1c7b-11e8-a3f3-0242ac110002",
     "previous": "2f99b4f4-ee3d-11e7-80ef-0242ac110002"
    },
    "run_through_control": {
     "frozen": true,
     "read_only": false
    }
   },
   "source": [
    "どうしてもインタラクティブな操作が必要なコマンドが出て来る場合があります（後の演習でも出てきますが）\n",
    "\n",
    "その場合は、Jupyter のメイン画面から 「New] → 「Terminal」を起動して実行してください。"
   ]
  },
  {
   "cell_type": "markdown",
   "metadata": {
    "deletable": false,
    "editable": false,
    "lc_cell_meme": {
     "current": "e75592b8-1c7b-11e8-a3f3-0242ac110002",
     "next": "771afdce-ee3d-11e7-80ef-0242ac110002",
     "previous": "e8133204-ee3c-11e7-80ef-0242ac110002"
    },
    "run_through_control": {
     "frozen": true,
     "read_only": false
    }
   },
   "source": [
    "もしくは [Terminal](/terminals/1) のようなリンクでターミナルを起動できます。演習中では必要に応じてリンクでガイドします。"
   ]
  },
  {
   "cell_type": "markdown",
   "metadata": {
    "deletable": false,
    "editable": false,
    "lc_cell_meme": {
     "current": "771afdce-ee3d-11e7-80ef-0242ac110002",
     "history": [
      {
       "current": "771afdce-ee3d-11e7-80ef-0242ac110002",
       "next": "771affc2-ee3d-11e7-80ef-0242ac110002",
       "previous": "e8133204-ee3c-11e7-80ef-0242ac110002"
      }
     ],
     "next": "771affc2-ee3d-11e7-80ef-0242ac110002",
     "previous": "e75592b8-1c7b-11e8-a3f3-0242ac110002"
    },
    "run_through_control": {
     "frozen": true,
     "read_only": false
    }
   },
   "source": [
    "### ファイルの編集"
   ]
  },
  {
   "cell_type": "markdown",
   "metadata": {
    "deletable": false,
    "editable": false,
    "lc_cell_meme": {
     "current": "771affc2-ee3d-11e7-80ef-0242ac110002",
     "history": [
      {
       "current": "771affc2-ee3d-11e7-80ef-0242ac110002",
       "next": null,
       "previous": "771afdce-ee3d-11e7-80ef-0242ac110002"
      }
     ],
     "next": "bea56b8e-ee3d-11e7-80ef-0242ac110002",
     "previous": "771afdce-ee3d-11e7-80ef-0242ac110002"
    },
    "run_through_control": {
     "frozen": true,
     "read_only": false
    }
   },
   "source": [
    "ファイルの編集が必要となるケースでは、cat や echo コマンドを使ってコマンドから生成するか、「New」→「Text File」を選択してエディタを起動してファイルを編集します。"
   ]
  },
  {
   "cell_type": "markdown",
   "metadata": {
    "deletable": false,
    "editable": false,
    "lc_cell_meme": {
     "current": "bea56b8e-ee3d-11e7-80ef-0242ac110002",
     "history": [
      {
       "current": "bea56b8e-ee3d-11e7-80ef-0242ac110002",
       "next": null,
       "previous": "771affc2-ee3d-11e7-80ef-0242ac110002"
      },
      {
       "current": "bea56b8e-ee3d-11e7-80ef-0242ac110002",
       "next": "062b613e-ee3e-11e7-80ef-0242ac110002",
       "previous": "771affc2-ee3d-11e7-80ef-0242ac110002"
      }
     ],
     "next": "6bd0a80e-ee3f-11e7-80ef-0242ac110002",
     "previous": "771affc2-ee3d-11e7-80ef-0242ac110002"
    },
    "run_through_control": {
     "frozen": true,
     "read_only": false
    }
   },
   "source": [
    "以下のようなリンクを作成することでも既存ファイルをエディタから編集することが可能です。下のリンクをクリックしてください。\n",
    "\n",
    "[text_edit.txt](/edit/aitac-automation-handson/text_edit.txt)"
   ]
  },
  {
   "cell_type": "code",
   "execution_count": null,
   "metadata": {
    "lc_cell_meme": {
     "current": "6bd0a80e-ee3f-11e7-80ef-0242ac110002",
     "next": "062b613e-ee3e-11e7-80ef-0242ac110002",
     "previous": "bea56b8e-ee3d-11e7-80ef-0242ac110002"
    }
   },
   "outputs": [],
   "source": [
    "# この Cell を実行してファイルの中身を確認。\n",
    "\n",
    "cat text_edit.txt"
   ]
  },
  {
   "cell_type": "markdown",
   "metadata": {
    "lc_cell_meme": {
     "current": "062b613e-ee3e-11e7-80ef-0242ac110002",
     "history": [
      {
       "current": "062b613e-ee3e-11e7-80ef-0242ac110002",
       "next": null,
       "previous": "bea56b8e-ee3d-11e7-80ef-0242ac110002"
      },
      {
       "current": "062b613e-ee3e-11e7-80ef-0242ac110002",
       "next": "4db307c8-ee3e-11e7-80ef-0242ac110002",
       "previous": "bea56b8e-ee3d-11e7-80ef-0242ac110002"
      }
     ],
     "next": "4db307c8-ee3e-11e7-80ef-0242ac110002",
     "previous": "6bd0a80e-ee3f-11e7-80ef-0242ac110002"
    }
   },
   "source": [
    "演習中にファイルの編集が必要な場合にはつど上記の様にガイド用リンクを示します。"
   ]
  },
  {
   "cell_type": "markdown",
   "metadata": {
    "deletable": false,
    "editable": false,
    "lc_cell_meme": {
     "current": "4db307c8-ee3e-11e7-80ef-0242ac110002",
     "history": [
      {
       "current": "4db307c8-ee3e-11e7-80ef-0242ac110002",
       "next": null,
       "previous": "062b613e-ee3e-11e7-80ef-0242ac110002"
      }
     ],
     "next": "953a13de-ee3e-11e7-80ef-0242ac110002",
     "previous": "062b613e-ee3e-11e7-80ef-0242ac110002"
    },
    "run_through_control": {
     "frozen": true,
     "read_only": false
    }
   },
   "source": [
    "### ノートブックの保存と終了"
   ]
  },
  {
   "cell_type": "markdown",
   "metadata": {
    "deletable": false,
    "editable": false,
    "lc_cell_meme": {
     "current": "953a13de-ee3e-11e7-80ef-0242ac110002",
     "history": [
      {
       "current": "953a13de-ee3e-11e7-80ef-0242ac110002",
       "next": null,
       "previous": "4db307c8-ee3e-11e7-80ef-0242ac110002"
      },
      {
       "current": "953a13de-ee3e-11e7-80ef-0242ac110002",
       "next": "dcc108c0-ee3e-11e7-80ef-0242ac110002",
       "previous": "4db307c8-ee3e-11e7-80ef-0242ac110002"
      }
     ],
     "next": "bf264872-1c7c-11e8-a3f3-0242ac110002",
     "previous": "4db307c8-ee3e-11e7-80ef-0242ac110002"
    },
    "run_through_control": {
     "frozen": true,
     "read_only": false
    }
   },
   "source": [
    "ノートブックを保存するには、メニューの「File」→「Save and Checkpoint」を選択します。\n",
    "\n",
    "ノートブックを終了するには、メニューの「File」→「Close and Halt」を選択します。"
   ]
  },
  {
   "cell_type": "markdown",
   "metadata": {
    "deletable": false,
    "editable": false,
    "lc_cell_meme": {
     "current": "bf264872-1c7c-11e8-a3f3-0242ac110002",
     "history": [
      {
       "current": "bf264872-1c7c-11e8-a3f3-0242ac110002",
       "next": "dcc108c0-ee3e-11e7-80ef-0242ac110002",
       "previous": "953a13de-ee3e-11e7-80ef-0242ac110002"
      }
     ],
     "next": "06b68210-1c7d-11e8-a3f3-0242ac110002",
     "previous": "953a13de-ee3e-11e7-80ef-0242ac110002"
    },
    "run_through_control": {
     "frozen": true,
     "read_only": false
    }
   },
   "source": [
    "### ノートブックのダウンロード"
   ]
  },
  {
   "cell_type": "markdown",
   "metadata": {
    "deletable": false,
    "editable": false,
    "lc_cell_meme": {
     "current": "06b68210-1c7d-11e8-a3f3-0242ac110002",
     "next": "dcc108c0-ee3e-11e7-80ef-0242ac110002",
     "previous": "bf264872-1c7c-11e8-a3f3-0242ac110002"
    },
    "run_through_control": {
     "frozen": true,
     "read_only": false
    }
   },
   "source": [
    "演習が一通り終わったらノートブックをダウンロードしておくと便利です。メモをしながら自分の失敗や工夫を記録し、後で復習するこが可能です。\n",
    "\n",
    "ノートブックをダウンロードするには、メニューの「File」→「Download as」→ 「ダウンロードしたい形式」を選択します。\n",
    "\n",
    "- HTML形式でダウンロードしておくと、実行や編集はできませんが、このままの状態で保存できるので記録にはおすすめです。\n",
    "- 別の Jupyter 環境にファイルを持っていきたい場合には Notebook 形式でダウンロードしてください。"
   ]
  },
  {
   "cell_type": "markdown",
   "metadata": {
    "deletable": false,
    "editable": false,
    "lc_cell_meme": {
     "current": "dcc108c0-ee3e-11e7-80ef-0242ac110002",
     "history": [
      {
       "current": "dcc108c0-ee3e-11e7-80ef-0242ac110002",
       "next": "dcc10aaa-ee3e-11e7-80ef-0242ac110002",
       "previous": "953a13de-ee3e-11e7-80ef-0242ac110002"
      },
      {
       "current": "dcc108c0-ee3e-11e7-80ef-0242ac110002",
       "next": "dcc10aaa-ee3e-11e7-80ef-0242ac110002",
       "previous": "bf264872-1c7c-11e8-a3f3-0242ac110002"
      }
     ],
     "next": "dcc10aaa-ee3e-11e7-80ef-0242ac110002",
     "previous": "06b68210-1c7d-11e8-a3f3-0242ac110002"
    },
    "run_through_control": {
     "frozen": true,
     "read_only": false
    }
   },
   "source": [
    "### その他の操作方法について"
   ]
  },
  {
   "cell_type": "markdown",
   "metadata": {
    "deletable": false,
    "editable": false,
    "lc_cell_meme": {
     "current": "dcc10aaa-ee3e-11e7-80ef-0242ac110002",
     "history": [
      {
       "current": "dcc10aaa-ee3e-11e7-80ef-0242ac110002",
       "next": null,
       "previous": "dcc108c0-ee3e-11e7-80ef-0242ac110002"
      }
     ],
     "next": "244806ee-ee3f-11e7-80ef-0242ac110002",
     "previous": "dcc108c0-ee3e-11e7-80ef-0242ac110002"
    },
    "run_through_control": {
     "frozen": true,
     "read_only": false
    }
   },
   "source": [
    "メニューの「Help」→「Keyboard Shortcut」から全操作の一覧と割り当てられているショートカットを確認できます。\n",
    "\n",
    "また本Jupyter環境は拡張が施されており、通常版のJupyterよりも便利な機能を備えています。そちらの機能の使い方に関しては、以下のリンク先のノートブックを参照してください。\n",
    "\n",
    "[01_About NII Extensions - NII謹製の機能拡張について.ipynb](/notebooks/01_About%20NII%20Extensions%20-%20NII謹製の機能拡張について.ipynb)"
   ]
  },
  {
   "cell_type": "markdown",
   "metadata": {
    "deletable": false,
    "editable": false,
    "lc_cell_meme": {
     "current": "244806ee-ee3f-11e7-80ef-0242ac110002",
     "next": "244808e2-ee3f-11e7-80ef-0242ac110002",
     "previous": "dcc10aaa-ee3e-11e7-80ef-0242ac110002"
    },
    "run_through_control": {
     "frozen": true,
     "read_only": false
    }
   },
   "source": [
    "## 演習の開始"
   ]
  },
  {
   "cell_type": "markdown",
   "metadata": {
    "lc_cell_meme": {
     "current": "244808e2-ee3f-11e7-80ef-0242ac110002",
     "next": null,
     "previous": "244806ee-ee3f-11e7-80ef-0242ac110002"
    }
   },
   "source": [
    "以降の演習はこの Jupyter 上で行っていきます。\n",
    "\n",
    "01_xxx, 02_yyy, 03_zzz ... と順番にノートブックを開き、演習を進めてください。"
   ]
  }
 ],
 "metadata": {
  "kernelspec": {
   "display_name": "Bash",
   "language": "bash",
   "name": "bash"
  },
  "language_info": {
   "codemirror_mode": "shell",
   "file_extension": ".sh",
   "mimetype": "text/x-sh",
   "name": "bash"
  },
  "lc_notebook_meme": {
   "current": "742e405c-ee2f-11e7-80ef-0242ac110002",
   "lc_server_signature": {
    "current": {
     "notebook_dir": "/notebooks",
     "notebook_path": "/aitac-automation-handson",
     "server_url": "http://localhost:8888/",
     "signature_id": "bccb0938-1c76-11e8-a3f3-0242ac110002"
    },
    "history": [
     {
      "notebook_dir": "/notebooks",
      "notebook_path": "/aitac-automation-handson",
      "server_url": "http://13.112.122.31:8888/",
      "signature_id": "1ba34b78-ee23-11e7-80ef-0242ac110002"
     },
     {
      "notebook_dir": "/notebooks",
      "notebook_path": "/aitac-automation-handson",
      "server_url": "http://13.112.122.31:8888/",
      "signature_id": "a266f498-eebe-11e7-9edf-0242ac110002"
     },
     {
      "notebook_dir": "/notebooks",
      "notebook_path": "/aitac-automation-handson",
      "server_url": "http://localhost:8888/",
      "signature_id": "a30ccda8-f42e-11e7-b6b4-0242ac110002"
     }
    ]
   }
  },
  "toc": {
   "nav_menu": {},
   "number_sections": true,
   "sideBar": true,
   "skip_h1_title": true,
   "title_cell": "Table of Contents",
   "title_sidebar": "Contents",
   "toc_cell": false,
   "toc_position": {},
   "toc_section_display": true,
   "toc_window_display": true
  }
 },
 "nbformat": 4,
 "nbformat_minor": 2
}
