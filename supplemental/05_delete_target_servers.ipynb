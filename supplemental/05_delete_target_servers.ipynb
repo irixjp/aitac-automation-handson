{
 "cells": [
  {
   "cell_type": "markdown",
   "metadata": {
    "deletable": false,
    "editable": false,
    "lc_cell_meme": {
     "current": "d8207d22-f2fe-11e7-9edf-0242ac110002",
     "history": [
      {
       "current": "d8207d22-f2fe-11e7-9edf-0242ac110002",
       "next": "d8207e62-f2fe-11e7-9edf-0242ac110002",
       "previous": null
      }
     ],
     "next": "1fabf28e-f2ff-11e7-9edf-0242ac110002",
     "previous": null
    },
    "run_through_control": {
     "frozen": true,
     "read_only": false
    }
   },
   "source": [
    "# 演習サーバーの削除"
   ]
  },
  {
   "cell_type": "markdown",
   "metadata": {
    "deletable": false,
    "editable": false,
    "lc_cell_meme": {
     "current": "1fabf28e-f2ff-11e7-9edf-0242ac110002",
     "next": "1fabf4aa-f2ff-11e7-9edf-0242ac110002",
     "previous": "d8207d22-f2fe-11e7-9edf-0242ac110002"
    },
    "run_through_control": {
     "frozen": true,
     "read_only": false
    }
   },
   "source": [
    "次の演習に備えて一部のサーバーを削除しておきます。\n",
    "\n",
    "このように環境を作るだけでなく、削除や初期化を行うような処理も Ansible から行うことが可能です。"
   ]
  },
  {
   "cell_type": "markdown",
   "metadata": {
    "deletable": false,
    "editable": false,
    "lc_cell_meme": {
     "current": "1fabf4aa-f2ff-11e7-9edf-0242ac110002",
     "next": "d8207e62-f2fe-11e7-9edf-0242ac110002",
     "previous": "1fabf28e-f2ff-11e7-9edf-0242ac110002"
    },
    "run_through_control": {
     "frozen": true,
     "read_only": false
    }
   },
   "source": [
    "## Targetサーバーの削除"
   ]
  },
  {
   "cell_type": "markdown",
   "metadata": {
    "deletable": false,
    "editable": false,
    "lc_cell_meme": {
     "current": "d8207e62-f2fe-11e7-9edf-0242ac110002",
     "history": [
      {
       "current": "d8207e62-f2fe-11e7-9edf-0242ac110002",
       "next": "d8207f7a-f2fe-11e7-9edf-0242ac110002",
       "previous": "d8207d22-f2fe-11e7-9edf-0242ac110002"
      }
     ],
     "next": "d8207f7a-f2fe-11e7-9edf-0242ac110002",
     "previous": "1fabf4aa-f2ff-11e7-9edf-0242ac110002"
    },
    "run_through_control": {
     "frozen": true,
     "read_only": false
    }
   },
   "source": [
    "演習用のtargetサーバーをAnsibleから削除します。\n",
    "\n",
    "[aws_server_terminate.yml](/edit/aitac-automation-handson/aws_server_terminate.yml)\n",
    "\n",
    "このPlaybookはインスタンスのタグに、automation_group=target となっているサーバーを削除します。"
   ]
  },
  {
   "cell_type": "code",
   "execution_count": null,
   "metadata": {
    "lc_cell_meme": {
     "current": "d8207f7a-f2fe-11e7-9edf-0242ac110002",
     "history": [
      {
       "current": "d8207f7a-f2fe-11e7-9edf-0242ac110002",
       "next": null,
       "previous": "d8207e62-f2fe-11e7-9edf-0242ac110002"
      }
     ],
     "next": "67345e84-f2ff-11e7-9edf-0242ac110002",
     "previous": "d8207e62-f2fe-11e7-9edf-0242ac110002"
    },
    "scrolled": false
   },
   "outputs": [],
   "source": [
    "# この Cell を実行。1分ほどかかります。\n",
    "\n",
    "ansible-playbook aws_server_terminate.yml"
   ]
  },
  {
   "cell_type": "markdown",
   "metadata": {
    "deletable": false,
    "editable": false,
    "lc_cell_meme": {
     "current": "67345e84-f2ff-11e7-9edf-0242ac110002",
     "history": [
      {
       "current": "67345e84-f2ff-11e7-9edf-0242ac110002",
       "next": null,
       "previous": "d8207f7a-f2fe-11e7-9edf-0242ac110002"
      },
      {
       "current": "67345e84-f2ff-11e7-9edf-0242ac110002",
       "next": "9e69210a-f2ff-11e7-9edf-0242ac110002",
       "previous": "d8207f7a-f2fe-11e7-9edf-0242ac110002"
      }
     ],
     "next": "b61a8cea-f434-11e7-b6b4-0242ac110002",
     "previous": "d8207f7a-f2fe-11e7-9edf-0242ac110002"
    },
    "run_through_control": {
     "frozen": true,
     "read_only": false
    }
   },
   "source": [
    "処理の流れは以下のようになっています。\n",
    "\n",
    "* ec2.py を実行して全サーバーの情報を取得（JSON形式で出力されているが、この時点では文字列扱い）\n",
    "* 取得した情報をJSONオブジェクトへ変換（Filterを利用）\n",
    "* 必要な情報を抽出した配列に変換（Filterを利用）\n",
    "* automation_group=target の要素だけを抽出し、ec2_id を取得（Filterを利用）\n",
    "* 取得したec2_idを使ってインスタンスを削除"
   ]
  },
  {
   "cell_type": "markdown",
   "metadata": {
    "deletable": false,
    "editable": false,
    "lc_cell_meme": {
     "current": "b61a8cea-f434-11e7-b6b4-0242ac110002",
     "history": [
      {
       "current": "b61a8cea-f434-11e7-b6b4-0242ac110002",
       "next": "9e69210a-f2ff-11e7-9edf-0242ac110002",
       "previous": "67345e84-f2ff-11e7-9edf-0242ac110002"
      }
     ],
     "next": "d56c50ce-f434-11e7-b6b4-0242ac110002",
     "previous": "67345e84-f2ff-11e7-9edf-0242ac110002"
    },
    "run_through_control": {
     "frozen": true,
     "read_only": false
    }
   },
   "source": [
    "今後も、環境を削除する必要が出てきた場合は、こちらの処理を流すと automation_group=target となっているサーバーのみを削除できます。"
   ]
  },
  {
   "cell_type": "markdown",
   "metadata": {
    "deletable": false,
    "editable": false,
    "lc_cell_meme": {
     "current": "d56c50ce-f434-11e7-b6b4-0242ac110002",
     "next": "9e69210a-f2ff-11e7-9edf-0242ac110002",
     "previous": "b61a8cea-f434-11e7-b6b4-0242ac110002"
    },
    "run_through_control": {
     "frozen": true
    }
   },
   "source": [
    "EC2 のダッシュボードからサーバーが削除されたことを確認してください。"
   ]
  },
  {
   "cell_type": "markdown",
   "metadata": {
    "deletable": false,
    "editable": false,
    "lc_cell_meme": {
     "current": "9e69210a-f2ff-11e7-9edf-0242ac110002",
     "history": [
      {
       "current": "9e69210a-f2ff-11e7-9edf-0242ac110002",
       "next": null,
       "previous": "67345e84-f2ff-11e7-9edf-0242ac110002"
      },
      {
       "current": "9e69210a-f2ff-11e7-9edf-0242ac110002",
       "next": null,
       "previous": "b61a8cea-f434-11e7-b6b4-0242ac110002"
      }
     ],
     "next": null,
     "previous": "d56c50ce-f434-11e7-b6b4-0242ac110002"
    },
    "run_through_control": {
     "frozen": true,
     "read_only": false
    }
   },
   "source": [
    "本演習は短いですが以上です。"
   ]
  }
 ],
 "metadata": {
  "kernelspec": {
   "display_name": "Bash",
   "language": "bash",
   "name": "bash"
  },
  "language_info": {
   "codemirror_mode": "shell",
   "file_extension": ".sh",
   "mimetype": "text/x-sh",
   "name": "bash"
  },
  "lc_notebook_meme": {
   "current": "d8207ad4-f2fe-11e7-9edf-0242ac110002",
   "lc_server_signature": {
    "current": {
     "notebook_dir": "/notebooks",
     "notebook_path": "/aitac-automation-handson",
     "server_url": "http://localhost:8888/",
     "signature_id": "a30ccda8-f42e-11e7-b6b4-0242ac110002"
    },
    "history": [
     {
      "notebook_dir": "/notebooks",
      "notebook_path": "/aitac-automation-handson",
      "server_url": "http://13.112.122.31:8888/",
      "signature_id": "a266f498-eebe-11e7-9edf-0242ac110002"
     }
    ]
   }
  },
  "toc": {
   "nav_menu": {},
   "number_sections": true,
   "sideBar": true,
   "skip_h1_title": true,
   "title_cell": "Table of Contents",
   "title_sidebar": "Contents",
   "toc_cell": false,
   "toc_position": {},
   "toc_section_display": true,
   "toc_window_display": true
  }
 },
 "nbformat": 4,
 "nbformat_minor": 2
}
