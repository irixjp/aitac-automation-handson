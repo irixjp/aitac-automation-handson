{
 "cells": [
  {
   "cell_type": "markdown",
   "metadata": {
    "deletable": false,
    "editable": false,
    "lc_cell_meme": {
     "current": "092e54a0-f301-11e7-9edf-0242ac110002",
     "next": "092e55e0-f301-11e7-9edf-0242ac110002",
     "previous": null
    },
    "run_through_control": {
     "frozen": true,
     "read_only": false
    }
   },
   "source": [
    "# その他の情報"
   ]
  },
  {
   "cell_type": "markdown",
   "metadata": {
    "deletable": false,
    "editable": false,
    "lc_cell_meme": {
     "current": "092e55e0-f301-11e7-9edf-0242ac110002",
     "next": "092e56f8-f301-11e7-9edf-0242ac110002",
     "previous": "092e54a0-f301-11e7-9edf-0242ac110002"
    },
    "run_through_control": {
     "frozen": true,
     "read_only": false
    }
   },
   "source": [
    "基本演習の最後に、ここまで解説してこなかったいくつかの機能について解説していきます。"
   ]
  },
  {
   "cell_type": "markdown",
   "metadata": {
    "deletable": false,
    "editable": false,
    "lc_cell_meme": {
     "current": "092e56f8-f301-11e7-9edf-0242ac110002",
     "next": "092e57fc-f301-11e7-9edf-0242ac110002",
     "previous": "092e55e0-f301-11e7-9edf-0242ac110002"
    },
    "run_through_control": {
     "frozen": true,
     "read_only": false
    }
   },
   "source": [
    "## ループ処理"
   ]
  },
  {
   "cell_type": "markdown",
   "metadata": {
    "deletable": false,
    "editable": false,
    "lc_cell_meme": {
     "current": "092e57fc-f301-11e7-9edf-0242ac110002",
     "history": [
      {
       "current": "092e57fc-f301-11e7-9edf-0242ac110002",
       "next": null,
       "previous": "092e56f8-f301-11e7-9edf-0242ac110002"
      }
     ],
     "next": "dfc82afe-f301-11e7-9edf-0242ac110002",
     "previous": "092e56f8-f301-11e7-9edf-0242ac110002"
    },
    "run_through_control": {
     "frozen": true,
     "read_only": false
    }
   },
   "source": [
    "Playbook を記述する際に、いくつかのループ処理を用いると簡潔な記述が可能となります。\n",
    "\n",
    "例\n",
    "\n",
    "```\n",
    "- yum:\n",
    "    name: httpd\n",
    "    state: latest\n",
    "\n",
    "- yum:\n",
    "    name: vim\n",
    "    state: latest\n",
    "\n",
    "- yum:\n",
    "    name: emacs\n",
    "    state: latest\n",
    "```\n",
    "\n",
    "というPlaybookは、\n",
    "\n",
    "```\n",
    "- yum:\n",
    "    name: \"{{ item }}\"\n",
    "    state: latest\n",
    "  with_items:\n",
    "    - httpd\n",
    "    - vim\n",
    "    - emacs\n",
    "```\n",
    "\n",
    "と記述することができます。\n",
    "\n",
    "この他にも様々なケースで使えるループがありますので、どのようなものがあるか眺めてみてください。\n",
    "\n",
    "* [Loops](http://docs.ansible.com/ansible/latest/playbooks_loops.html)"
   ]
  },
  {
   "cell_type": "markdown",
   "metadata": {
    "deletable": false,
    "editable": false,
    "lc_cell_meme": {
     "current": "dfc82afe-f301-11e7-9edf-0242ac110002",
     "next": "dfc82da6-f301-11e7-9edf-0242ac110002",
     "previous": "092e57fc-f301-11e7-9edf-0242ac110002"
    },
    "run_through_control": {
     "frozen": true,
     "read_only": false
    }
   },
   "source": [
    "## include, import"
   ]
  },
  {
   "cell_type": "markdown",
   "metadata": {
    "deletable": false,
    "editable": false,
    "lc_cell_meme": {
     "current": "dfc82da6-f301-11e7-9edf-0242ac110002",
     "history": [
      {
       "current": "dfc82da6-f301-11e7-9edf-0242ac110002",
       "next": null,
       "previous": "dfc82afe-f301-11e7-9edf-0242ac110002"
      },
      {
       "current": "dfc82da6-f301-11e7-9edf-0242ac110002",
       "next": "45b7f154-f303-11e7-9edf-0242ac110002",
       "previous": "dfc82afe-f301-11e7-9edf-0242ac110002"
      }
     ],
     "next": "17c3d31c-f308-11e7-9edf-0242ac110002",
     "previous": "dfc82afe-f301-11e7-9edf-0242ac110002"
    },
    "run_through_control": {
     "frozen": true
    }
   },
   "source": [
    "Ansible にはPlaybookや、Taskのみを記述したYAMLファイルを別のPlaybookやTaskから呼び出すことができます。\n",
    "\n",
    "以下のような2つのYAMLを準備しました。\n",
    "\n",
    "* [import_include_playbook.yml](/edit/aitac-automation-handson/import_include_playbook.yml) ・・・単体で動作するPlaybook\n",
    "* [import_include_task.yml](/edit/aitac-automation-handson/import_include_task.yml) ・・・ Task のみを抜粋したTaskファイル\n",
    "\n",
    "これらのimport/includeを使って、上記のファイルを呼び出して実行してみます。"
   ]
  },
  {
   "cell_type": "markdown",
   "metadata": {
    "deletable": false,
    "editable": false,
    "lc_cell_meme": {
     "current": "17c3d31c-f308-11e7-9edf-0242ac110002",
     "next": "45b7f154-f303-11e7-9edf-0242ac110002",
     "previous": "dfc82da6-f301-11e7-9edf-0242ac110002"
    },
    "run_through_control": {
     "frozen": true,
     "read_only": false
    }
   },
   "source": [
    "### import_playbook"
   ]
  },
  {
   "cell_type": "markdown",
   "metadata": {
    "deletable": false,
    "editable": false,
    "lc_cell_meme": {
     "current": "45b7f154-f303-11e7-9edf-0242ac110002",
     "history": [
      {
       "current": "45b7f154-f303-11e7-9edf-0242ac110002",
       "next": "45b7f370-f303-11e7-9edf-0242ac110002",
       "previous": "dfc82da6-f301-11e7-9edf-0242ac110002"
      }
     ],
     "next": "45b7f370-f303-11e7-9edf-0242ac110002",
     "previous": "17c3d31c-f308-11e7-9edf-0242ac110002"
    },
    "run_through_control": {
     "frozen": true,
     "read_only": false
    }
   },
   "source": [
    "まず、import_playbookを使って、外部のPlaybookを呼び出してみます。\n",
    "\n",
    "* [import_include_example_playbook.yml](/edit/aitac-automation-handson/import_include_example_playbook.yml)"
   ]
  },
  {
   "cell_type": "code",
   "execution_count": null,
   "metadata": {
    "lc_cell_meme": {
     "current": "45b7f370-f303-11e7-9edf-0242ac110002",
     "history": [
      {
       "current": "45b7f370-f303-11e7-9edf-0242ac110002",
       "next": null,
       "previous": "45b7f154-f303-11e7-9edf-0242ac110002"
      },
      {
       "current": "45b7f370-f303-11e7-9edf-0242ac110002",
       "next": "1c7658d4-f304-11e7-9edf-0242ac110002",
       "previous": "45b7f154-f303-11e7-9edf-0242ac110002"
      },
      {
       "current": "45b7f370-f303-11e7-9edf-0242ac110002",
       "next": "45b7f370-f303-11e7-9edf-0242ac110002",
       "previous": "45b7f154-f303-11e7-9edf-0242ac110002"
      }
     ],
     "next": "1c7658d4-f304-11e7-9edf-0242ac110002",
     "previous": "45b7f154-f303-11e7-9edf-0242ac110002"
    }
   },
   "outputs": [],
   "source": [
    "# この Cell を実行\n",
    "\n",
    "ansible-playbook import_include_example_playbook.yml"
   ]
  },
  {
   "cell_type": "markdown",
   "metadata": {
    "deletable": false,
    "editable": false,
    "lc_cell_meme": {
     "current": "1c7658d4-f304-11e7-9edf-0242ac110002",
     "history": [
      {
       "current": "1c7658d4-f304-11e7-9edf-0242ac110002",
       "next": null,
       "previous": "45b7f370-f303-11e7-9edf-0242ac110002"
      },
      {
       "current": "1c7658d4-f304-11e7-9edf-0242ac110002",
       "next": "8220fdf0-f305-11e7-9edf-0242ac110002",
       "previous": "45b7f370-f303-11e7-9edf-0242ac110002"
      }
     ],
     "next": "17c3d54c-f308-11e7-9edf-0242ac110002",
     "previous": "45b7f370-f303-11e7-9edf-0242ac110002"
    },
    "run_through_control": {
     "frozen": true,
     "read_only": false
    }
   },
   "source": [
    "このように、import_playbookを使うと、複数のPlaybookを連続して実行するこが可能となります。また、例で実施しているように、実行時に変数の値を書き換えることも可能です。"
   ]
  },
  {
   "cell_type": "markdown",
   "metadata": {
    "deletable": false,
    "editable": false,
    "lc_cell_meme": {
     "current": "17c3d54c-f308-11e7-9edf-0242ac110002",
     "next": "8220fdf0-f305-11e7-9edf-0242ac110002",
     "previous": "1c7658d4-f304-11e7-9edf-0242ac110002"
    },
    "run_through_control": {
     "frozen": true,
     "read_only": false
    }
   },
   "source": [
    "### import/include_tasks"
   ]
  },
  {
   "cell_type": "markdown",
   "metadata": {
    "deletable": false,
    "editable": false,
    "lc_cell_meme": {
     "current": "8220fdf0-f305-11e7-9edf-0242ac110002",
     "history": [
      {
       "current": "8220fdf0-f305-11e7-9edf-0242ac110002",
       "next": null,
       "previous": "1c7658d4-f304-11e7-9edf-0242ac110002"
      },
      {
       "current": "8220fdf0-f305-11e7-9edf-0242ac110002",
       "next": "45b7f370-f303-11e7-9edf-0242ac110002",
       "previous": "1c7658d4-f304-11e7-9edf-0242ac110002"
      }
     ],
     "next": "45b7f370-f303-11e7-9edf-0242ac110002",
     "previous": "17c3d54c-f308-11e7-9edf-0242ac110002"
    },
    "run_through_control": {
     "frozen": true,
     "read_only": false
    }
   },
   "source": [
    "次に、import_tasks, include_tasks を使って、外部のTaskファイルを呼び出してみます。\n",
    "\n",
    "* [import_include_example_task.yml](/edit/aitac-automation-handson/import_include_example_task.yml)"
   ]
  },
  {
   "cell_type": "code",
   "execution_count": null,
   "metadata": {
    "lc_cell_meme": {
     "current": "45b7f370-f303-11e7-9edf-0242ac110002",
     "history": [
      {
       "current": "45b7f370-f303-11e7-9edf-0242ac110002",
       "next": null,
       "previous": "45b7f154-f303-11e7-9edf-0242ac110002"
      },
      {
       "current": "45b7f370-f303-11e7-9edf-0242ac110002",
       "next": "1c7658d4-f304-11e7-9edf-0242ac110002",
       "previous": "45b7f154-f303-11e7-9edf-0242ac110002"
      },
      {
       "current": "45b7f370-f303-11e7-9edf-0242ac110002",
       "next": "45b7f370-f303-11e7-9edf-0242ac110002",
       "previous": "45b7f154-f303-11e7-9edf-0242ac110002"
      },
      {
       "current": "45b7f370-f303-11e7-9edf-0242ac110002",
       "next": "1c7658d4-f304-11e7-9edf-0242ac110002",
       "previous": "45b7f154-f303-11e7-9edf-0242ac110002"
      },
      {
       "current": "45b7f370-f303-11e7-9edf-0242ac110002",
       "next": "6416c5be-f306-11e7-9edf-0242ac110002",
       "previous": "45b7f370-f303-11e7-9edf-0242ac110002"
      },
      {
       "current": "45b7f370-f303-11e7-9edf-0242ac110002",
       "next": "45b7f370-f303-11e7-9edf-0242ac110002",
       "previous": "8220fdf0-f305-11e7-9edf-0242ac110002"
      }
     ],
     "next": "6416c5be-f306-11e7-9edf-0242ac110002",
     "previous": "8220fdf0-f305-11e7-9edf-0242ac110002"
    }
   },
   "outputs": [],
   "source": [
    "# この Cell を実行\n",
    "\n",
    "ansible-playbook import_include_example_task.yml"
   ]
  },
  {
   "cell_type": "markdown",
   "metadata": {
    "deletable": false,
    "editable": false,
    "lc_cell_meme": {
     "current": "6416c5be-f306-11e7-9edf-0242ac110002",
     "history": [
      {
       "current": "6416c5be-f306-11e7-9edf-0242ac110002",
       "next": null,
       "previous": "45b7f370-f303-11e7-9edf-0242ac110002"
      },
      {
       "current": "6416c5be-f306-11e7-9edf-0242ac110002",
       "next": "35e64234-f309-11e7-9edf-0242ac110002",
       "previous": "45b7f370-f303-11e7-9edf-0242ac110002"
      }
     ],
     "next": "89940b32-f318-11e7-9edf-0242ac110002",
     "previous": "45b7f370-f303-11e7-9edf-0242ac110002"
    },
    "run_through_control": {
     "frozen": true
    }
   },
   "source": [
    "このように、外部に配置したTaskファイルを読み込むことが可能です。\n",
    "\n",
    "import_tasks, include_tasks の違いは、どのタイミングでTaskファイルが読み込まれるか、です。\n",
    "\n",
    "* import_tasks ・・・Playbookの実行前にファイルが読み込まれます（先読み、静的）\n",
    "* include_tasks ・・・Playbookが実行され、該当のinclude箇所まで来た時にファイルが読み込まれます（後読み、動的）\n",
    "\n",
    "ループや変数と組み合わせて動的に読み込むTaskファイルを指定する場合には include_tasks を使います。これは、先読みを行う import ではまだ変数の値やループの展開ができないからです。\n",
    "\n",
    "それ以外は import_tasks を使っておけばほぼ問題はありません。\n",
    "\n",
    "これらの詳細な違いについては以下のドキュメントで解説されています。\n",
    "\n",
    "* [Creating Reusable Playbooks](https://docs.ansible.com/ansible/2.4/playbooks_reuse.html)\n",
    "* [Including and Importing](https://docs.ansible.com/ansible/2.4/playbooks_reuse_includes.html)\n",
    "\n",
    "\n",
    "\n"
   ]
  },
  {
   "cell_type": "markdown",
   "metadata": {
    "deletable": false,
    "editable": false,
    "lc_cell_meme": {
     "current": "89940b32-f318-11e7-9edf-0242ac110002",
     "next": "89940d76-f318-11e7-9edf-0242ac110002",
     "previous": "6416c5be-f306-11e7-9edf-0242ac110002"
    },
    "run_through_control": {
     "frozen": true,
     "read_only": false
    }
   },
   "source": [
    "## role によるPlaybook管理"
   ]
  },
  {
   "cell_type": "markdown",
   "metadata": {
    "deletable": false,
    "editable": false,
    "lc_cell_meme": {
     "current": "89940d76-f318-11e7-9edf-0242ac110002",
     "history": [
      {
       "current": "89940d76-f318-11e7-9edf-0242ac110002",
       "next": "35e64234-f309-11e7-9edf-0242ac110002",
       "previous": "89940b32-f318-11e7-9edf-0242ac110002"
      },
      {
       "current": "89940d76-f318-11e7-9edf-0242ac110002",
       "next": "efff4252-f31c-11e7-9edf-0242ac110002",
       "previous": "89940b32-f318-11e7-9edf-0242ac110002"
      }
     ],
     "next": "b5185d2e-f360-11e7-9edf-0242ac110002",
     "previous": "89940b32-f318-11e7-9edf-0242ac110002"
    },
    "run_through_control": {
     "frozen": true
    }
   },
   "source": [
    "Playbook は 先の include/import を使うことで部品化と再利用が行えるようになりますが、Ansible では更に Playbook を汎用化して再利用を容易にする仕組みを持っており、それが role になります。\n",
    "\n",
    "* [roles](http://docs.ansible.com/ansible/latest/playbooks_reuse_roles.html)\n",
    "\n",
    "role を使うには 実行される Playbook と同じディレクトリに、`roles` をというディレクトリを作成し、その配下に決められた形式でファイルを配置します。"
   ]
  },
  {
   "cell_type": "markdown",
   "metadata": {
    "deletable": false,
    "editable": false,
    "lc_cell_meme": {
     "current": "b5185d2e-f360-11e7-9edf-0242ac110002",
     "next": "efff4252-f31c-11e7-9edf-0242ac110002",
     "previous": "89940d76-f318-11e7-9edf-0242ac110002"
    },
    "run_through_control": {
     "frozen": true
    }
   },
   "source": [
    "以下はサンプルのロール「sample_ping」のディレクトリ構成です。\n",
    "\n",
    "* tasks ・・・実際に処理を行うTaskを記載\n",
    "* defaults ・・・デフォルトの変数と値を定義\n",
    "* vars ・・・環境によって異なる変数を定義\n",
    "* files ・・・ copy モジュール等で配布されるファイルを配置する\n",
    "* templates ・・・ template モジュールで配布される j2 テンプレートファイルを配置する\n",
    "* meta ・・・このRoleの挙動を制御するメタデータを設定する\n",
    "* handler ・・・notifyを受け取って動作する handler を定義。handler は Task の中の changed をトリガーに実行される Task です\n",
    "* tests ・・・ role のユニットテストを記述する\n",
    "\n",
    "これら全てを記述・準備する必要はありません。必要なファイルのみを記述すれば Role を使うことができます。\n",
    "\n",
    "以下ので例では、tasks, defaults のみを使ってroleを定義していています。"
   ]
  },
  {
   "cell_type": "code",
   "execution_count": 1,
   "metadata": {
    "deletable": false,
    "editable": false,
    "lc_cell_meme": {
     "current": "efff4252-f31c-11e7-9edf-0242ac110002",
     "history": [
      {
       "current": "efff4252-f31c-11e7-9edf-0242ac110002",
       "next": "35e64234-f309-11e7-9edf-0242ac110002",
       "previous": "89940d76-f318-11e7-9edf-0242ac110002"
      },
      {
       "current": "efff4252-f31c-11e7-9edf-0242ac110002",
       "next": "35e64234-f309-11e7-9edf-0242ac110002",
       "previous": "b5185d2e-f360-11e7-9edf-0242ac110002"
      },
      {
       "current": "efff4252-f31c-11e7-9edf-0242ac110002",
       "next": "fffe44ac-f360-11e7-9edf-0242ac110002",
       "previous": "b5185d2e-f360-11e7-9edf-0242ac110002"
      }
     ],
     "next": "ad2bffec-f362-11e7-9edf-0242ac110002",
     "previous": "b5185d2e-f360-11e7-9edf-0242ac110002"
    },
    "run_through_control": {
     "frozen": true,
     "read_only": false
    }
   },
   "outputs": [
    {
     "name": "stdout",
     "output_type": "stream",
     "text": [
      "roles/sample_ping\n",
      "├── defaults\n",
      "│   └── main.yml\n",
      "├── files\n",
      "├── handlers\n",
      "│   └── main.yml\n",
      "├── meta\n",
      "│   └── main.yml\n",
      "├── README.md\n",
      "├── tasks\n",
      "│   └── main.yml\n",
      "├── templates\n",
      "├── tests\n",
      "│   ├── inventory\n",
      "│   └── test.yml\n",
      "└── vars\n",
      "    └── main.yml\n",
      "\n",
      "8 directories, 8 files\n"
     ]
    }
   ],
   "source": [
    "tree roles/sample_ping"
   ]
  },
  {
   "cell_type": "markdown",
   "metadata": {
    "deletable": false,
    "editable": false,
    "lc_cell_meme": {
     "current": "ad2bffec-f362-11e7-9edf-0242ac110002",
     "next": "fffe44ac-f360-11e7-9edf-0242ac110002",
     "previous": "efff4252-f31c-11e7-9edf-0242ac110002"
    },
    "run_through_control": {
     "frozen": true
    }
   },
   "source": [
    "上記では以下の2ファイルを編集しています。\n",
    "\n",
    "* [tasks/main.yml](/edit/aitac-automation-handson/roles/sample_ping/tasks/main.yml) ・・・ Taskを記載\n",
    "* [defaults/main.yml](/edit/aitac-automation-handson/roles/sample_ping/defaults/main.yml) ・・・デフォルトの変数値を記載\n",
    "\n",
    "この Role を利用する [role.yml](/edit/aitac-automation-handson/role.yml) を実行してみましょう。"
   ]
  },
  {
   "cell_type": "code",
   "execution_count": null,
   "metadata": {
    "lc_cell_meme": {
     "current": "fffe44ac-f360-11e7-9edf-0242ac110002",
     "history": [
      {
       "current": "fffe44ac-f360-11e7-9edf-0242ac110002",
       "next": "35e64234-f309-11e7-9edf-0242ac110002",
       "previous": "efff4252-f31c-11e7-9edf-0242ac110002"
      },
      {
       "current": "fffe44ac-f360-11e7-9edf-0242ac110002",
       "next": "35e64234-f309-11e7-9edf-0242ac110002",
       "previous": "ad2bffec-f362-11e7-9edf-0242ac110002"
      }
     ],
     "next": "8c66ff6a-f366-11e7-9edf-0242ac110002",
     "previous": "ad2bffec-f362-11e7-9edf-0242ac110002"
    }
   },
   "outputs": [],
   "source": [
    "# この Cell を実行\n",
    "\n",
    "ansible-playbook role.yml"
   ]
  },
  {
   "cell_type": "markdown",
   "metadata": {
    "deletable": false,
    "editable": false,
    "lc_cell_meme": {
     "current": "8c66ff6a-f366-11e7-9edf-0242ac110002",
     "history": [
      {
       "current": "8c66ff6a-f366-11e7-9edf-0242ac110002",
       "next": "35e64234-f309-11e7-9edf-0242ac110002",
       "previous": "fffe44ac-f360-11e7-9edf-0242ac110002"
      },
      {
       "current": "8c66ff6a-f366-11e7-9edf-0242ac110002",
       "next": "d3eebd00-f366-11e7-9edf-0242ac110002",
       "previous": "fffe44ac-f360-11e7-9edf-0242ac110002"
      }
     ],
     "next": "de365e28-f436-11e7-b6b4-0242ac110002",
     "previous": "fffe44ac-f360-11e7-9edf-0242ac110002"
    },
    "run_through_control": {
     "frozen": true
    }
   },
   "source": [
    "Playbook から ロールを指定して呼び出すことで、何度でも同じ処理を実行することが可能となります。また、必要に応じて変数の上書きなども可能です。\n",
    "\n",
    "更に、ロールには処理を記載して、それを呼び出す Playbook（上記の例では [role.yml](/edit/aitac-automation-handson/role.yml)）でインベントリのグループと紐付ける様にすると、より再利用性の高い Playbook が実行できるようになります。\n",
    "\n",
    "* コマンドラインでインベントリファイルを切り替える。\n",
    "* 実行される Playbook に実行するロールと対象となるインベントリグループを設定する。\n",
    "* ロールには実際の処理のみを記載する。"
   ]
  },
  {
   "cell_type": "markdown",
   "metadata": {
    "deletable": false,
    "editable": false,
    "lc_cell_meme": {
     "current": "de365e28-f436-11e7-b6b4-0242ac110002",
     "next": "d3eebd00-f366-11e7-9edf-0242ac110002",
     "previous": "8c66ff6a-f366-11e7-9edf-0242ac110002"
    },
    "run_through_control": {
     "frozen": true
    }
   },
   "source": [
    "また、Ansible では指定インベントリごとに与える変数を指定することが可能で、この仕組を使うと更に汎用性の高い自動化を記述できるようになります。\n",
    "\n",
    "この体系化された Playbook の管理方法を「[ベストプラクティス](http://docs.ansible.com/ansible/latest/playbooks_best_practices.html)」と呼んでおり、広く利用されています。"
   ]
  },
  {
   "cell_type": "markdown",
   "metadata": {
    "deletable": false,
    "editable": false,
    "lc_cell_meme": {
     "current": "d3eebd00-f366-11e7-9edf-0242ac110002",
     "history": [
      {
       "current": "d3eebd00-f366-11e7-9edf-0242ac110002",
       "next": "35e64234-f309-11e7-9edf-0242ac110002",
       "previous": "8c66ff6a-f366-11e7-9edf-0242ac110002"
      },
      {
       "current": "d3eebd00-f366-11e7-9edf-0242ac110002",
       "next": "0b91786a-f367-11e7-9edf-0242ac110002",
       "previous": "8c66ff6a-f366-11e7-9edf-0242ac110002"
      }
     ],
     "next": "0b91786a-f367-11e7-9edf-0242ac110002",
     "previous": "de365e28-f436-11e7-b6b4-0242ac110002"
    },
    "run_through_control": {
     "frozen": true,
     "read_only": false
    }
   },
   "source": [
    "role を作成するには、ansible-galaxy コマンドを使うと雛形を簡単に作成することができます。以下のコマンドでは roles ディレクトリ以下に、role名 `role_name` を作成してくれます。"
   ]
  },
  {
   "cell_type": "code",
   "execution_count": null,
   "metadata": {
    "deletable": false,
    "editable": false,
    "lc_cell_meme": {
     "current": "0b91786a-f367-11e7-9edf-0242ac110002",
     "history": [
      {
       "current": "0b91786a-f367-11e7-9edf-0242ac110002",
       "next": "35e64234-f309-11e7-9edf-0242ac110002",
       "previous": "d3eebd00-f366-11e7-9edf-0242ac110002"
      }
     ],
     "next": "4b266878-f367-11e7-9edf-0242ac110002",
     "previous": "d3eebd00-f366-11e7-9edf-0242ac110002"
    },
    "run_through_control": {
     "frozen": true,
     "read_only": false
    }
   },
   "outputs": [],
   "source": [
    "# 実行例\n",
    "\n",
    "ansible-galaxy init roles/role_name"
   ]
  },
  {
   "cell_type": "markdown",
   "metadata": {
    "deletable": false,
    "editable": false,
    "lc_cell_meme": {
     "current": "4b266878-f367-11e7-9edf-0242ac110002",
     "next": "4b266c06-f367-11e7-9edf-0242ac110002",
     "previous": "0b91786a-f367-11e7-9edf-0242ac110002"
    },
    "run_through_control": {
     "frozen": true,
     "read_only": false
    }
   },
   "source": [
    "## ansible galaxy"
   ]
  },
  {
   "cell_type": "markdown",
   "metadata": {
    "deletable": false,
    "editable": false,
    "lc_cell_meme": {
     "current": "4b266c06-f367-11e7-9edf-0242ac110002",
     "history": [
      {
       "current": "4b266c06-f367-11e7-9edf-0242ac110002",
       "next": "35e64234-f309-11e7-9edf-0242ac110002",
       "previous": "4b266878-f367-11e7-9edf-0242ac110002"
      }
     ],
     "next": "1941204a-f39a-11e7-9edf-0242ac110002",
     "previous": "4b266878-f367-11e7-9edf-0242ac110002"
    },
    "run_through_control": {
     "frozen": true
    }
   },
   "source": [
    "Ansible では上記の role を使う事で再利用性の高い Playbook を記述できるようになります。\n",
    "\n",
    "世界中で開発された role が登録され、自由に使うことができる [Ansible Galaxy](https://galaxy.ansible.com) というサイトもあります。このサイトに登録された role はそのまま使うこともできますし、自分のやりたい処理の参考にすることも可能です。\n",
    "\n",
    "自動化したい処理がある場合には、まず Playbook を書く前にこのサイトを検索してみると良いでしょう。"
   ]
  },
  {
   "cell_type": "markdown",
   "metadata": {
    "deletable": false,
    "editable": false,
    "lc_cell_meme": {
     "current": "1941204a-f39a-11e7-9edf-0242ac110002",
     "next": "194122b6-f39a-11e7-9edf-0242ac110002",
     "previous": "4b266c06-f367-11e7-9edf-0242ac110002"
    },
    "run_through_control": {
     "frozen": true,
     "read_only": false
    }
   },
   "source": [
    "## Playbook実行中のインベントリの動的生成"
   ]
  },
  {
   "cell_type": "markdown",
   "metadata": {
    "deletable": false,
    "editable": false,
    "lc_cell_meme": {
     "current": "194122b6-f39a-11e7-9edf-0242ac110002",
     "history": [
      {
       "current": "194122b6-f39a-11e7-9edf-0242ac110002",
       "next": "35e64234-f309-11e7-9edf-0242ac110002",
       "previous": "1941204a-f39a-11e7-9edf-0242ac110002"
      }
     ],
     "next": "c75ca040-f39b-11e7-9edf-0242ac110002",
     "previous": "1941204a-f39a-11e7-9edf-0242ac110002"
    },
    "run_through_control": {
     "frozen": true
    }
   },
   "source": [
    "通常、Ansible で Playbook を実行する際は、 `ansible-playbook -i inventory xxx` という形で1つのインベントリを指定します。ここにダイナミックインベントリを用いることで、動的にインベントリを生成することが可能だと解説しました。しかし、このダイナミックインベントリは、Playbookが実行される前にインベントリを生成するので、Playbookの実行途中にインベントリを更新することはできません。\n",
    "\n",
    "このようなケースでは、Playbook が2つに別れてしまいます。\n",
    "\n",
    "* ansible-playbook ec2_create_instance.yml\n",
    "* ansible-playbook -i ec2.py httpd_on_with_dinv.yml\n",
    "\n",
    "実際のユースケースでは、これらを1つのPlaybookで処理したいというケースがあります。\n",
    "\n",
    "つまり、Playbookの実行中にインベントリを動的に生成し、そのインベントリをターゲットに処理を行いたい場合です。\n",
    "\n",
    "* ansible-playbook ec2_create_and_httpd_on.yml\n",
    "\n",
    "このようなケースで使えるモジュールが add_host になります。"
   ]
  },
  {
   "cell_type": "markdown",
   "metadata": {
    "deletable": false,
    "editable": false,
    "lc_cell_meme": {
     "current": "c75ca040-f39b-11e7-9edf-0242ac110002",
     "next": "c75ca25c-f39b-11e7-9edf-0242ac110002",
     "previous": "194122b6-f39a-11e7-9edf-0242ac110002"
    },
    "run_through_control": {
     "frozen": true,
     "read_only": false
    }
   },
   "source": [
    "サンプルを見てみましょう。\n",
    "\n",
    "[add_host.yml](/edit/aitac-automation-handson/add_host.yml)"
   ]
  },
  {
   "cell_type": "code",
   "execution_count": null,
   "metadata": {
    "lc_cell_meme": {
     "current": "c75ca25c-f39b-11e7-9edf-0242ac110002",
     "history": [
      {
       "current": "c75ca25c-f39b-11e7-9edf-0242ac110002",
       "next": "35e64234-f309-11e7-9edf-0242ac110002",
       "previous": "c75ca040-f39b-11e7-9edf-0242ac110002"
      }
     ],
     "next": "56738e42-f39c-11e7-9edf-0242ac110002",
     "previous": "c75ca040-f39b-11e7-9edf-0242ac110002"
    }
   },
   "outputs": [],
   "source": [
    "# この Cell を実行\n",
    "\n",
    "ansible-playbook add_host.yml"
   ]
  },
  {
   "cell_type": "markdown",
   "metadata": {
    "deletable": false,
    "editable": false,
    "lc_cell_meme": {
     "current": "56738e42-f39c-11e7-9edf-0242ac110002",
     "next": "35e64234-f309-11e7-9edf-0242ac110002",
     "previous": "c75ca25c-f39b-11e7-9edf-0242ac110002"
    },
    "run_through_control": {
     "frozen": true
    }
   },
   "source": [
    "この例では、Playbookの中で 127.0.0.1 を inv01, 02, 03 という新しいインベントリに追加し、その後のタスクで inv01, 02, 03を指定して task を実行しています。"
   ]
  },
  {
   "cell_type": "markdown",
   "metadata": {
    "deletable": false,
    "editable": false,
    "lc_cell_meme": {
     "current": "35e64234-f309-11e7-9edf-0242ac110002",
     "history": [
      {
       "current": "35e64234-f309-11e7-9edf-0242ac110002",
       "next": null,
       "previous": "6416c5be-f306-11e7-9edf-0242ac110002"
      },
      {
       "current": "35e64234-f309-11e7-9edf-0242ac110002",
       "next": "7d6eecd2-f309-11e7-9edf-0242ac110002",
       "previous": "6416c5be-f306-11e7-9edf-0242ac110002"
      },
      {
       "current": "35e64234-f309-11e7-9edf-0242ac110002",
       "next": "7d6eecd2-f309-11e7-9edf-0242ac110002",
       "previous": "89940d76-f318-11e7-9edf-0242ac110002"
      },
      {
       "current": "35e64234-f309-11e7-9edf-0242ac110002",
       "next": "7d6eecd2-f309-11e7-9edf-0242ac110002",
       "previous": "efff4252-f31c-11e7-9edf-0242ac110002"
      },
      {
       "current": "35e64234-f309-11e7-9edf-0242ac110002",
       "next": "7d6eecd2-f309-11e7-9edf-0242ac110002",
       "previous": "fffe44ac-f360-11e7-9edf-0242ac110002"
      },
      {
       "current": "35e64234-f309-11e7-9edf-0242ac110002",
       "next": "7d6eecd2-f309-11e7-9edf-0242ac110002",
       "previous": "8c66ff6a-f366-11e7-9edf-0242ac110002"
      },
      {
       "current": "35e64234-f309-11e7-9edf-0242ac110002",
       "next": "7d6eecd2-f309-11e7-9edf-0242ac110002",
       "previous": "d3eebd00-f366-11e7-9edf-0242ac110002"
      },
      {
       "current": "35e64234-f309-11e7-9edf-0242ac110002",
       "next": "7d6eecd2-f309-11e7-9edf-0242ac110002",
       "previous": "0b91786a-f367-11e7-9edf-0242ac110002"
      },
      {
       "current": "35e64234-f309-11e7-9edf-0242ac110002",
       "next": "7d6eecd2-f309-11e7-9edf-0242ac110002",
       "previous": "4b266c06-f367-11e7-9edf-0242ac110002"
      },
      {
       "current": "35e64234-f309-11e7-9edf-0242ac110002",
       "next": "7d6eecd2-f309-11e7-9edf-0242ac110002",
       "previous": "194122b6-f39a-11e7-9edf-0242ac110002"
      },
      {
       "current": "35e64234-f309-11e7-9edf-0242ac110002",
       "next": "7d6eecd2-f309-11e7-9edf-0242ac110002",
       "previous": "c75ca25c-f39b-11e7-9edf-0242ac110002"
      }
     ],
     "next": "7d6eecd2-f309-11e7-9edf-0242ac110002",
     "previous": "56738e42-f39c-11e7-9edf-0242ac110002"
    },
    "run_through_control": {
     "frozen": true,
     "read_only": false
    }
   },
   "source": [
    "## その他の情報"
   ]
  },
  {
   "cell_type": "markdown",
   "metadata": {
    "deletable": false,
    "editable": false,
    "lc_cell_meme": {
     "current": "7d6eecd2-f309-11e7-9edf-0242ac110002",
     "next": "7d6eeeda-f309-11e7-9edf-0242ac110002",
     "previous": "35e64234-f309-11e7-9edf-0242ac110002"
    },
    "run_through_control": {
     "frozen": true,
     "read_only": false
    }
   },
   "source": [
    "* [Ansible公式ドキュメント](https://docs.ansible.com)\n",
    "* [Intro to Playbooks](http://docs.ansible.com/ansible/latest/playbooks_intro.html)"
   ]
  },
  {
   "cell_type": "markdown",
   "metadata": {
    "deletable": false,
    "editable": false,
    "lc_cell_meme": {
     "current": "7d6eeeda-f309-11e7-9edf-0242ac110002",
     "history": [
      {
       "current": "7d6eeeda-f309-11e7-9edf-0242ac110002",
       "next": null,
       "previous": "7d6eecd2-f309-11e7-9edf-0242ac110002"
      }
     ],
     "next": "c4f49746-f309-11e7-9edf-0242ac110002",
     "previous": "7d6eecd2-f309-11e7-9edf-0242ac110002"
    },
    "run_through_control": {
     "frozen": true,
     "read_only": false
    }
   },
   "source": [
    "## 自由演習（時間が余った方向け）"
   ]
  },
  {
   "cell_type": "markdown",
   "metadata": {
    "deletable": false,
    "editable": false,
    "lc_cell_meme": {
     "current": "c4f49746-f309-11e7-9edf-0242ac110002",
     "history": [
      {
       "current": "c4f49746-f309-11e7-9edf-0242ac110002",
       "next": null,
       "previous": "7d6eeeda-f309-11e7-9edf-0242ac110002"
      }
     ],
     "next": "0c7ff36c-f30a-11e7-9edf-0242ac110002",
     "previous": "7d6eeeda-f309-11e7-9edf-0242ac110002"
    },
    "run_through_control": {
     "frozen": true,
     "read_only": false
    }
   },
   "source": [
    "aitac-automation-handson/scratch ディレクトリに好きなPlaybookを作成して自由に実行し、これまでの内容を復習してください。\n",
    "\n",
    "新しいPlaybookを作成する際のテンプレートは以下になります。\n",
    "\n",
    "* [scratch/example.yml](/edit/aitac-automation-handson/scratch/example.yml)"
   ]
  },
  {
   "cell_type": "code",
   "execution_count": null,
   "metadata": {
    "lc_cell_meme": {
     "current": "0c7ff36c-f30a-11e7-9edf-0242ac110002",
     "next": "0c7ff5e2-f30a-11e7-9edf-0242ac110002",
     "previous": "c4f49746-f309-11e7-9edf-0242ac110002"
    }
   },
   "outputs": [],
   "source": [
    "# 実行例\n",
    "\n",
    "ansible-playbook -i inventories/01_aws_ops scratch/example.yml"
   ]
  },
  {
   "cell_type": "code",
   "execution_count": null,
   "metadata": {
    "lc_cell_meme": {
     "current": "0c7ff5e2-f30a-11e7-9edf-0242ac110002",
     "next": "0c7ff70e-f30a-11e7-9edf-0242ac110002",
     "previous": "0c7ff36c-f30a-11e7-9edf-0242ac110002"
    }
   },
   "outputs": [],
   "source": []
  },
  {
   "cell_type": "code",
   "execution_count": null,
   "metadata": {
    "lc_cell_meme": {
     "current": "0c7ff70e-f30a-11e7-9edf-0242ac110002",
     "next": "0c7ff81c-f30a-11e7-9edf-0242ac110002",
     "previous": "0c7ff5e2-f30a-11e7-9edf-0242ac110002"
    }
   },
   "outputs": [],
   "source": []
  },
  {
   "cell_type": "code",
   "execution_count": null,
   "metadata": {
    "lc_cell_meme": {
     "current": "0c7ff81c-f30a-11e7-9edf-0242ac110002",
     "next": null,
     "previous": "0c7ff70e-f30a-11e7-9edf-0242ac110002"
    }
   },
   "outputs": [],
   "source": []
  }
 ],
 "metadata": {
  "kernelspec": {
   "display_name": "Bash",
   "language": "bash",
   "name": "bash"
  },
  "language_info": {
   "codemirror_mode": "shell",
   "file_extension": ".sh",
   "mimetype": "text/x-sh",
   "name": "bash"
  },
  "lc_notebook_meme": {
   "current": "092e5248-f301-11e7-9edf-0242ac110002",
   "lc_server_signature": {
    "current": {
     "notebook_dir": "/notebooks",
     "notebook_path": "/aitac-automation-handson",
     "server_url": "http://localhost:8888/",
     "signature_id": "a30ccda8-f42e-11e7-b6b4-0242ac110002"
    },
    "history": [
     {
      "notebook_dir": "/notebooks",
      "notebook_path": "/aitac-automation-handson",
      "server_url": "http://13.112.122.31:8888/",
      "signature_id": "a266f498-eebe-11e7-9edf-0242ac110002"
     }
    ]
   }
  },
  "toc": {
   "nav_menu": {},
   "number_sections": true,
   "sideBar": true,
   "skip_h1_title": true,
   "title_cell": "Table of Contents",
   "title_sidebar": "Contents",
   "toc_cell": false,
   "toc_position": {},
   "toc_section_display": true,
   "toc_window_display": true
  }
 },
 "nbformat": 4,
 "nbformat_minor": 2
}
