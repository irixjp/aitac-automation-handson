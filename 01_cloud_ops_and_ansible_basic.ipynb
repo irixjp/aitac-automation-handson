{
 "cells": [
  {
   "cell_type": "markdown",
   "metadata": {
    "deletable": false,
    "editable": false,
    "lc_cell_meme": {
     "current": "37683170-ee41-11e7-80ef-0242ac110002",
     "next": "376832e2-ee41-11e7-80ef-0242ac110002",
     "previous": null
    },
    "run_through_control": {
     "frozen": true,
     "read_only": false
    }
   },
   "source": [
    "# Ansible によるクラウドの操作(インスタンスの起動)"
   ]
  },
  {
   "cell_type": "markdown",
   "metadata": {
    "deletable": false,
    "editable": false,
    "lc_cell_meme": {
     "current": "376832e2-ee41-11e7-80ef-0242ac110002",
     "history": [
      {
       "current": "376832e2-ee41-11e7-80ef-0242ac110002",
       "next": "376833fa-ee41-11e7-80ef-0242ac110002",
       "previous": "37683170-ee41-11e7-80ef-0242ac110002"
      }
     ],
     "next": "de0ba1f2-f6c9-11e7-a87b-0242ac110002",
     "previous": "37683170-ee41-11e7-80ef-0242ac110002"
    },
    "run_through_control": {
     "frozen": true,
     "read_only": false
    }
   },
   "source": [
    "本演習では手始めにAnsible を用いてAWS上にサーバーを構築してみます。\n",
    "\n",
    "この演習では、Ansible の使い方のイメージを掴んでもらうことが目的ですので、まだどんな処理を実行しているのかというのはあまり気にせずに演習を進めてください。"
   ]
  },
  {
   "cell_type": "markdown",
   "metadata": {
    "deletable": false,
    "editable": false,
    "lc_cell_meme": {
     "current": "de0ba1f2-f6c9-11e7-a87b-0242ac110002",
     "next": "de0ba6d4-f6c9-11e7-a87b-0242ac110002",
     "previous": "376832e2-ee41-11e7-80ef-0242ac110002"
    },
    "run_through_control": {
     "frozen": true,
     "read_only": false
    }
   },
   "source": [
    "## 演習の概要"
   ]
  },
  {
   "cell_type": "markdown",
   "metadata": {
    "deletable": false,
    "editable": false,
    "lc_cell_meme": {
     "current": "de0ba6d4-f6c9-11e7-a87b-0242ac110002",
     "next": "376833fa-ee41-11e7-80ef-0242ac110002",
     "previous": "de0ba1f2-f6c9-11e7-a87b-0242ac110002"
    },
    "run_through_control": {
     "frozen": true,
     "read_only": false
    }
   },
   "source": [
    "本演習のイメージは以下のようになります。\n",
    "\n",
    "![演習の概要](materials/image01-01.png \"演習の概要\")\n",
    "\n",
    "開いている Notebook から Ansible を起動して、AWS の API をコールしてインスタンスの作成（本演習）を行い、次の演習以降では Ansible から起動したインスタンスに対して操作を行っていきます。"
   ]
  },
  {
   "cell_type": "markdown",
   "metadata": {
    "deletable": false,
    "editable": false,
    "lc_cell_meme": {
     "current": "376833fa-ee41-11e7-80ef-0242ac110002",
     "history": [
      {
       "current": "376833fa-ee41-11e7-80ef-0242ac110002",
       "next": null,
       "previous": "376832e2-ee41-11e7-80ef-0242ac110002"
      },
      {
       "current": "376833fa-ee41-11e7-80ef-0242ac110002",
       "next": "7ef27da2-ee41-11e7-80ef-0242ac110002",
       "previous": "376832e2-ee41-11e7-80ef-0242ac110002"
      },
      {
       "current": "376833fa-ee41-11e7-80ef-0242ac110002",
       "next": "9798df2e-ee7b-11e7-80ef-0242ac110002",
       "previous": "376832e2-ee41-11e7-80ef-0242ac110002"
      }
     ],
     "next": "9798df2e-ee7b-11e7-80ef-0242ac110002",
     "previous": "de0ba6d4-f6c9-11e7-a87b-0242ac110002"
    },
    "run_through_control": {
     "frozen": true,
     "read_only": false
    }
   },
   "source": [
    "## AWSを操作する準備"
   ]
  },
  {
   "cell_type": "markdown",
   "metadata": {
    "deletable": false,
    "editable": false,
    "lc_cell_meme": {
     "current": "9798df2e-ee7b-11e7-80ef-0242ac110002",
     "next": "7ef27da2-ee41-11e7-80ef-0242ac110002",
     "previous": "376833fa-ee41-11e7-80ef-0242ac110002"
    },
    "run_through_control": {
     "frozen": true,
     "read_only": false
    }
   },
   "source": [
    "AWS を操作するための aws コマンドをセットアップしていきます。既にコマンドはインストール済みですので、必要な認証情報を設定していきます。\n",
    "\n",
    "このまま実行すると、以下のようにエラーとなります。"
   ]
  },
  {
   "cell_type": "code",
   "execution_count": 5,
   "metadata": {
    "deletable": false,
    "editable": false,
    "lc_cell_meme": {
     "current": "7ef27da2-ee41-11e7-80ef-0242ac110002",
     "history": [
      {
       "current": "7ef27da2-ee41-11e7-80ef-0242ac110002",
       "next": "7ef27f8c-ee41-11e7-80ef-0242ac110002",
       "previous": "376833fa-ee41-11e7-80ef-0242ac110002"
      }
     ],
     "next": "7ef27f8c-ee41-11e7-80ef-0242ac110002",
     "previous": "9798df2e-ee7b-11e7-80ef-0242ac110002"
    },
    "run_through_control": {
     "frozen": true,
     "read_only": false
    },
    "scrolled": false
   },
   "outputs": [
    {
     "name": "stdout",
     "output_type": "stream",
     "text": [
      "You must specify a region. You can also configure your region by running \"aws configure\".\n"
     ]
    },
    {
     "ename": "",
     "evalue": "255",
     "output_type": "error",
     "traceback": []
    }
   ],
   "source": [
    "aws ec2 describe-key-pairs"
   ]
  },
  {
   "cell_type": "markdown",
   "metadata": {
    "deletable": false,
    "editable": false,
    "lc_cell_meme": {
     "current": "7ef27f8c-ee41-11e7-80ef-0242ac110002",
     "history": [
      {
       "current": "7ef27f8c-ee41-11e7-80ef-0242ac110002",
       "next": null,
       "previous": "7ef27da2-ee41-11e7-80ef-0242ac110002"
      }
     ],
     "next": "df1d399e-ee7b-11e7-80ef-0242ac110002",
     "previous": "7ef27da2-ee41-11e7-80ef-0242ac110002"
    },
    "run_through_control": {
     "frozen": true,
     "read_only": false
    }
   },
   "source": [
    "aws コマンドをセットアップするために、以下の情報を集めます。"
   ]
  },
  {
   "cell_type": "markdown",
   "metadata": {
    "deletable": false,
    "editable": false,
    "lc_cell_meme": {
     "current": "df1d399e-ee7b-11e7-80ef-0242ac110002",
     "history": [
      {
       "current": "df1d399e-ee7b-11e7-80ef-0242ac110002",
       "next": null,
       "previous": "7ef27f8c-ee41-11e7-80ef-0242ac110002"
      },
      {
       "current": "df1d399e-ee7b-11e7-80ef-0242ac110002",
       "next": "26a4e99c-ee7c-11e7-80ef-0242ac110002",
       "previous": "7ef27f8c-ee41-11e7-80ef-0242ac110002"
      }
     ],
     "next": "3211d130-eea1-11e7-80ef-0242ac110002",
     "previous": "7ef27f8c-ee41-11e7-80ef-0242ac110002"
    },
    "run_through_control": {
     "frozen": true,
     "read_only": false
    }
   },
   "source": [
    "| 項目                  | パラメーター         | 確認方法 |\n",
    "|:---------------------|:-------------------|:-------|\n",
    "|AWS Access Key ID     |自分のアクセスキー    |事務局から発行された値を使ってください |\n",
    "|AWS Secret Access Key |自分のシークレットキー |事務局から発行された値を使ってください |\n",
    "|Default region name   |ap-northeast-1     | |\n",
    "|Default output format |json               | |"
   ]
  },
  {
   "cell_type": "markdown",
   "metadata": {
    "deletable": false,
    "editable": false,
    "lc_cell_meme": {
     "current": "3211d130-eea1-11e7-80ef-0242ac110002",
     "history": [
      {
       "current": "3211d130-eea1-11e7-80ef-0242ac110002",
       "next": "26a4e99c-ee7c-11e7-80ef-0242ac110002",
       "previous": "df1d399e-ee7b-11e7-80ef-0242ac110002"
      }
     ],
     "next": "4f9851e2-eea2-11e7-80ef-0242ac110002",
     "previous": "df1d399e-ee7b-11e7-80ef-0242ac110002"
    },
    "run_through_control": {
     "frozen": true,
     "read_only": false
    }
   },
   "source": [
    "認証情報を設定するには、 [ターミナル](/terminals/1) を起動して、以下のように実行します。\n",
    "\n",
    "*※このコマンドはノートブックからは実行しないでください*\n",
    "\n",
    "    $ aws configure\n",
    "    AWS Access Key ID [None]: AABBCCDDEEFF\n",
    "    AWS Secret Access Key [None]: 1234567890abcdefghijklmn\n",
    "    Default region name [None]: ap-northeast-1\n",
    "    Default output format [None]: json\n",
    "\n",
    "    $ exit\n",
    "\n",
    "必要な情報を入力したら Terminal は Exit してから閉じてください。"
   ]
  },
  {
   "cell_type": "markdown",
   "metadata": {
    "deletable": false,
    "editable": false,
    "lc_cell_meme": {
     "current": "4f9851e2-eea2-11e7-80ef-0242ac110002",
     "history": [
      {
       "current": "4f9851e2-eea2-11e7-80ef-0242ac110002",
       "next": "26a4e99c-ee7c-11e7-80ef-0242ac110002",
       "previous": "3211d130-eea1-11e7-80ef-0242ac110002"
      }
     ],
     "next": "971f7ca2-eea2-11e7-80ef-0242ac110002",
     "previous": "3211d130-eea1-11e7-80ef-0242ac110002"
    },
    "run_through_control": {
     "frozen": true,
     "read_only": false
    }
   },
   "source": [
    "必要な情報を設定したら以下のコマンドで設定を確認します。"
   ]
  },
  {
   "cell_type": "code",
   "execution_count": 8,
   "metadata": {
    "deletable": false,
    "editable": false,
    "lc_cell_meme": {
     "current": "971f7ca2-eea2-11e7-80ef-0242ac110002",
     "next": "971f7ea0-eea2-11e7-80ef-0242ac110002",
     "previous": "4f9851e2-eea2-11e7-80ef-0242ac110002"
    },
    "run_through_control": {
     "frozen": true,
     "read_only": false
    },
    "scrolled": true
   },
   "outputs": [
    {
     "name": "stdout",
     "output_type": "stream",
     "text": [
      "{\n",
      "    \"Reservations\": [\n",
      "        {\n",
      "            \"Instances\": [\n",
      "                {\n",
      "                    \"Monitoring\": {\n",
      "                        \"State\": \"disabled\"\n",
      "                    }, \n",
      "                    \"PublicDnsName\": \"ec2-13-112-122-31.ap-northeast-1.compute.amazonaws.com\", \n",
      "                    \"State\": {\n",
      "                        \"Code\": 16, \n",
      "                        \"Name\": \"running\"\n",
      "                    }, \n",
      "                    \"EbsOptimized\": false, \n",
      "                    \"LaunchTime\": \"2017-12-31T11:48:15.000Z\", \n",
      "                    \"PublicIpAddress\": \"13.112.122.31\", \n",
      "                    \"PrivateIpAddress\": \"172.31.26.42\", \n",
      "                    \"ProductCodes\": [\n",
      "                        {\n",
      "                            \"ProductCodeId\": \"aw0evgkw8e5c1q413zgy5pjce\", \n",
      "                            \"ProductCodeType\": \"marketplace\"\n",
      "                        }\n",
      "                    ], \n",
      "                    \"VpcId\": \"vpc-16cb0c71\", \n",
      "                    \"StateTransitionReason\": \"\", \n",
      "                    \"InstanceId\": \"i-0452e56226c443d76\", \n",
      "                    \"EnaSupport\": true, \n",
      "                    \"ImageId\": \"ami-4dd5522b\", \n",
      "                    \"PrivateDnsName\": \"ip-172-31-26-42.ap-northeast-1.compute.internal\", \n",
      "                    \"KeyName\": \"aitac-automation-key\", \n",
      "                    \"SecurityGroups\": [\n",
      "                        {\n",
      "                            \"GroupName\": \"aitac-automation-sg\", \n",
      "                            \"GroupId\": \"sg-e870c591\"\n",
      "                        }\n",
      "                    ], \n",
      "                    \"ClientToken\": \"151472089157447212\", \n",
      "                    \"SubnetId\": \"subnet-caea7083\", \n",
      "                    \"InstanceType\": \"t2.micro\", \n",
      "                    \"NetworkInterfaces\": [\n",
      "                        {\n",
      "                            \"Status\": \"in-use\", \n",
      "                            \"MacAddress\": \"06:db:f0:bf:8f:94\", \n",
      "                            \"SourceDestCheck\": true, \n",
      "                            \"VpcId\": \"vpc-16cb0c71\", \n",
      "                            \"Description\": \"\", \n",
      "                            \"NetworkInterfaceId\": \"eni-f687b0ca\", \n",
      "                            \"PrivateIpAddresses\": [\n",
      "                                {\n",
      "                                    \"PrivateDnsName\": \"ip-172-31-26-42.ap-northeast-1.compute.internal\", \n",
      "                                    \"PrivateIpAddress\": \"172.31.26.42\", \n",
      "                                    \"Primary\": true, \n",
      "                                    \"Association\": {\n",
      "                                        \"PublicIp\": \"13.112.122.31\", \n",
      "                                        \"PublicDnsName\": \"ec2-13-112-122-31.ap-northeast-1.compute.amazonaws.com\", \n",
      "                                        \"IpOwnerId\": \"amazon\"\n",
      "                                    }\n",
      "                                }\n",
      "                            ], \n",
      "                            \"PrivateDnsName\": \"ip-172-31-26-42.ap-northeast-1.compute.internal\", \n",
      "                            \"Attachment\": {\n",
      "                                \"Status\": \"attached\", \n",
      "                                \"DeviceIndex\": 0, \n",
      "                                \"DeleteOnTermination\": true, \n",
      "                                \"AttachmentId\": \"eni-attach-d1031a3a\", \n",
      "                                \"AttachTime\": \"2017-12-31T11:48:15.000Z\"\n",
      "                            }, \n",
      "                            \"Groups\": [\n",
      "                                {\n",
      "                                    \"GroupName\": \"aitac-automation-sg\", \n",
      "                                    \"GroupId\": \"sg-e870c591\"\n",
      "                                }\n",
      "                            ], \n",
      "                            \"Ipv6Addresses\": [], \n",
      "                            \"OwnerId\": \"996856287150\", \n",
      "                            \"PrivateIpAddress\": \"172.31.26.42\", \n",
      "                            \"SubnetId\": \"subnet-caea7083\", \n",
      "                            \"Association\": {\n",
      "                                \"PublicIp\": \"13.112.122.31\", \n",
      "                                \"PublicDnsName\": \"ec2-13-112-122-31.ap-northeast-1.compute.amazonaws.com\", \n",
      "                                \"IpOwnerId\": \"amazon\"\n",
      "                            }\n",
      "                        }\n",
      "                    ], \n",
      "                    \"SourceDestCheck\": true, \n",
      "                    \"Placement\": {\n",
      "                        \"Tenancy\": \"default\", \n",
      "                        \"GroupName\": \"\", \n",
      "                        \"AvailabilityZone\": \"ap-northeast-1a\"\n",
      "                    }, \n",
      "                    \"Hypervisor\": \"xen\", \n",
      "                    \"BlockDeviceMappings\": [\n",
      "                        {\n",
      "                            \"DeviceName\": \"/dev/sda1\", \n",
      "                            \"Ebs\": {\n",
      "                                \"Status\": \"attached\", \n",
      "                                \"DeleteOnTermination\": true, \n",
      "                                \"VolumeId\": \"vol-083fbe3dd88212d8b\", \n",
      "                                \"AttachTime\": \"2017-12-31T11:48:16.000Z\"\n",
      "                            }\n",
      "                        }\n",
      "                    ], \n",
      "                    \"Architecture\": \"x86_64\", \n",
      "                    \"RootDeviceType\": \"ebs\", \n",
      "                    \"RootDeviceName\": \"/dev/sda1\", \n",
      "                    \"VirtualizationType\": \"hvm\", \n",
      "                    \"Tags\": [\n",
      "                        {\n",
      "                            \"Value\": \"manager\", \n",
      "                            \"Key\": \"automation_group\"\n",
      "                        }\n",
      "                    ], \n",
      "                    \"AmiLaunchIndex\": 0\n",
      "                }\n",
      "            ], \n",
      "            \"ReservationId\": \"r-086806efd92e9b41b\", \n",
      "            \"Groups\": [], \n",
      "            \"OwnerId\": \"996856287150\"\n",
      "        }\n",
      "    ]\n",
      "}\n"
     ]
    }
   ],
   "source": [
    "# 実行例\n",
    "aws ec2 describe-instances"
   ]
  },
  {
   "cell_type": "code",
   "execution_count": null,
   "metadata": {
    "lc_cell_meme": {
     "current": "971f7ea0-eea2-11e7-80ef-0242ac110002",
     "history": [
      {
       "current": "971f7ea0-eea2-11e7-80ef-0242ac110002",
       "next": "26a4e99c-ee7c-11e7-80ef-0242ac110002",
       "previous": "971f7ca2-eea2-11e7-80ef-0242ac110002"
      },
      {
       "current": "971f7ea0-eea2-11e7-80ef-0242ac110002",
       "next": "69625492-eeac-11e7-80ef-0242ac110002",
       "previous": "971f7ca2-eea2-11e7-80ef-0242ac110002"
      }
     ],
     "next": "eb39ce7c-f42f-11e7-b6b4-0242ac110002",
     "previous": "971f7ca2-eea2-11e7-80ef-0242ac110002"
    }
   },
   "outputs": [],
   "source": [
    "# このCell を実行して、設定が正しく投入されているか確認してください。\n",
    "\n",
    "aws ec2 describe-instances"
   ]
  },
  {
   "cell_type": "markdown",
   "metadata": {
    "deletable": false,
    "editable": false,
    "lc_cell_meme": {
     "current": "eb39ce7c-f42f-11e7-b6b4-0242ac110002",
     "history": [
      {
       "current": "eb39ce7c-f42f-11e7-b6b4-0242ac110002",
       "next": "69625492-eeac-11e7-80ef-0242ac110002",
       "previous": "971f7ea0-eea2-11e7-80ef-0242ac110002"
      }
     ],
     "next": "b4b89502-f6ca-11e7-a87b-0242ac110002",
     "previous": "971f7ea0-eea2-11e7-80ef-0242ac110002"
    },
    "run_through_control": {
     "frozen": true,
     "read_only": false
    }
   },
   "source": [
    "設定が正しく行えていれば、例のような JSON が表示されます。"
   ]
  },
  {
   "cell_type": "markdown",
   "metadata": {
    "deletable": false,
    "editable": false,
    "lc_cell_meme": {
     "current": "b4b89502-f6ca-11e7-a87b-0242ac110002",
     "history": [
      {
       "current": "b4b89502-f6ca-11e7-a87b-0242ac110002",
       "next": "69625492-eeac-11e7-80ef-0242ac110002",
       "previous": "eb39ce7c-f42f-11e7-b6b4-0242ac110002"
      }
     ],
     "next": "fc4014ea-f6ca-11e7-a87b-0242ac110002",
     "previous": "eb39ce7c-f42f-11e7-b6b4-0242ac110002"
    },
    "run_through_control": {
     "frozen": true,
     "read_only": false
    }
   },
   "source": [
    "もし、入力に失敗し、うまくコマンドが実行できない場合は、以下の Cell を実行して、認証情報がが格納されたファイルを削除します。その後、再度 `aws configure` を実行してください。"
   ]
  },
  {
   "cell_type": "code",
   "execution_count": null,
   "metadata": {
    "lc_cell_meme": {
     "current": "fc4014ea-f6ca-11e7-a87b-0242ac110002",
     "next": "69625492-eeac-11e7-80ef-0242ac110002",
     "previous": "b4b89502-f6ca-11e7-a87b-0242ac110002"
    }
   },
   "outputs": [],
   "source": [
    "# 入力に失敗した場合に **のみ** 、以下の コメント＃を外して実行してください。\n",
    "\n",
    "# rm -rf ~/.aws"
   ]
  },
  {
   "cell_type": "markdown",
   "metadata": {
    "deletable": false,
    "editable": false,
    "lc_cell_meme": {
     "current": "69625492-eeac-11e7-80ef-0242ac110002",
     "history": [
      {
       "current": "69625492-eeac-11e7-80ef-0242ac110002",
       "next": null,
       "previous": "1484bc0e-ee7e-11e7-80ef-0242ac110002"
      },
      {
       "current": "69625492-eeac-11e7-80ef-0242ac110002",
       "next": "011594a4-eece-11e7-9edf-0242ac110002",
       "previous": "971f7ea0-eea2-11e7-80ef-0242ac110002"
      },
      {
       "current": "69625492-eeac-11e7-80ef-0242ac110002",
       "next": "5b6f0162-eed1-11e7-9edf-0242ac110002",
       "previous": "971f7ea0-eea2-11e7-80ef-0242ac110002"
      },
      {
       "current": "69625492-eeac-11e7-80ef-0242ac110002",
       "next": "5b6f0162-eed1-11e7-9edf-0242ac110002",
       "previous": "eb39ce7c-f42f-11e7-b6b4-0242ac110002"
      },
      {
       "current": "69625492-eeac-11e7-80ef-0242ac110002",
       "next": "5b6f0162-eed1-11e7-9edf-0242ac110002",
       "previous": "b4b89502-f6ca-11e7-a87b-0242ac110002"
      }
     ],
     "next": "5b6f0162-eed1-11e7-9edf-0242ac110002",
     "previous": "fc4014ea-f6ca-11e7-a87b-0242ac110002"
    },
    "run_through_control": {
     "frozen": true,
     "read_only": false
    }
   },
   "source": [
    "## Ansibleの実行"
   ]
  },
  {
   "cell_type": "markdown",
   "metadata": {
    "deletable": false,
    "editable": false,
    "lc_cell_meme": {
     "current": "5b6f0162-eed1-11e7-9edf-0242ac110002",
     "next": "011594a4-eece-11e7-9edf-0242ac110002",
     "previous": "69625492-eeac-11e7-80ef-0242ac110002"
    },
    "run_through_control": {
     "frozen": true,
     "read_only": false
    }
   },
   "source": [
    "### サンプルコマンドの実行"
   ]
  },
  {
   "cell_type": "markdown",
   "metadata": {
    "deletable": false,
    "editable": false,
    "lc_cell_meme": {
     "current": "011594a4-eece-11e7-9edf-0242ac110002",
     "history": [
      {
       "current": "011594a4-eece-11e7-9edf-0242ac110002",
       "next": null,
       "previous": "69625492-eeac-11e7-80ef-0242ac110002"
      },
      {
       "current": "011594a4-eece-11e7-9edf-0242ac110002",
       "next": "489c25c2-eece-11e7-9edf-0242ac110002",
       "previous": "69625492-eeac-11e7-80ef-0242ac110002"
      }
     ],
     "next": "489c25c2-eece-11e7-9edf-0242ac110002",
     "previous": "5b6f0162-eed1-11e7-9edf-0242ac110002"
    },
    "run_through_control": {
     "frozen": true,
     "read_only": false
    }
   },
   "source": [
    "Ansible による自動化を行うには、以下の2つを準備します。\n",
    "\n",
    "* Playbook ・・・自分が行いたい処理を記述（yaml形式）\n",
    "* Inventory ・・・処理の実行先を記述（iniファイル or YAML形式）"
   ]
  },
  {
   "cell_type": "markdown",
   "metadata": {
    "deletable": false,
    "editable": false,
    "lc_cell_meme": {
     "current": "489c25c2-eece-11e7-9edf-0242ac110002",
     "next": "489c27de-eece-11e7-9edf-0242ac110002",
     "previous": "011594a4-eece-11e7-9edf-0242ac110002"
    },
    "run_through_control": {
     "frozen": true,
     "read_only": false
    }
   },
   "source": [
    "既にサンプルが配置されていますので、こちらを実行してみましょう。\n",
    "\n",
    "* [Sample Playbook](/edit/aitac-automation-handson/aws_server_view.yml)\n",
    "* [Sample Inventory](/edit/aitac-automation-handson/inventories/01_aws_ops)"
   ]
  },
  {
   "cell_type": "code",
   "execution_count": 6,
   "metadata": {
    "deletable": false,
    "editable": false,
    "lc_cell_meme": {
     "current": "489c27de-eece-11e7-9edf-0242ac110002",
     "history": [
      {
       "current": "489c27de-eece-11e7-9edf-0242ac110002",
       "next": null,
       "previous": "489c25c2-eece-11e7-9edf-0242ac110002"
      },
      {
       "current": "489c27de-eece-11e7-9edf-0242ac110002",
       "next": "d7aea94c-eece-11e7-9edf-0242ac110002",
       "previous": "489c25c2-eece-11e7-9edf-0242ac110002"
      },
      {
       "current": "489c27de-eece-11e7-9edf-0242ac110002",
       "next": "f5c8df78-eecf-11e7-9edf-0242ac110002",
       "previous": "489c25c2-eece-11e7-9edf-0242ac110002"
      }
     ],
     "next": "489c27de-eece-11e7-9edf-0242ac110002",
     "previous": "489c25c2-eece-11e7-9edf-0242ac110002"
    },
    "run_through_control": {
     "frozen": true,
     "read_only": false
    }
   },
   "outputs": [
    {
     "name": "stdout",
     "output_type": "stream",
     "text": [
      "\u001b[1;35m [WARNING]: Found both group and host with same name: localhost\u001b[0m\n",
      "\u001b[1;35m\u001b[0m\n",
      "\n",
      "PLAY [all] *********************************************************************\n",
      "\n",
      "TASK [command] *****************************************************************\n",
      "\u001b[0;33mchanged: [localhost]\u001b[0m\n",
      "\n",
      "TASK [debug] *******************************************************************\n",
      "\u001b[0;32mok: [localhost] => {\u001b[0m\n",
      "\u001b[0;32m    \"result.stdout_lines\": [\u001b[0m\n",
      "\u001b[0;32m        \"[\", \u001b[0m\n",
      "\u001b[0;32m        \"    {\", \u001b[0m\n",
      "\u001b[0;32m        \"        \\\"PublicIp\\\": \\\"13.112.122.31\\\", \", \u001b[0m\n",
      "\u001b[0;32m        \"        \\\"InstanceId\\\": \\\"i-0452e56226c443d76\\\", \", \u001b[0m\n",
      "\u001b[0;32m        \"        \\\"Name\\\": [\", \u001b[0m\n",
      "\u001b[0;32m        \"            \\\"manager\\\"\", \u001b[0m\n",
      "\u001b[0;32m        \"        ], \", \u001b[0m\n",
      "\u001b[0;32m        \"        \\\"PrivateIp\\\": \\\"172.31.26.42\\\"\", \u001b[0m\n",
      "\u001b[0;32m        \"    }\", \u001b[0m\n",
      "\u001b[0;32m        \"]\"\u001b[0m\n",
      "\u001b[0;32m    ]\u001b[0m\n",
      "\u001b[0;32m}\u001b[0m\n",
      "\n",
      "TASK [ec2_instance_facts] ******************************************************\n",
      "\u001b[0;32mok: [localhost]\u001b[0m\n",
      "\n",
      "TASK [debug] *******************************************************************\n",
      "\u001b[0;32mok: [localhost] => {\u001b[0m\n",
      "\u001b[0;32m    \"result\": {\u001b[0m\n",
      "\u001b[0;32m        \"changed\": false, \u001b[0m\n",
      "\u001b[0;32m        \"failed\": false, \u001b[0m\n",
      "\u001b[0;32m        \"instances\": [\u001b[0m\n",
      "\u001b[0;32m            {\u001b[0m\n",
      "\u001b[0;32m                \"ami_launch_index\": 0, \u001b[0m\n",
      "\u001b[0;32m                \"architecture\": \"x86_64\", \u001b[0m\n",
      "\u001b[0;32m                \"block_device_mappings\": [\u001b[0m\n",
      "\u001b[0;32m                    {\u001b[0m\n",
      "\u001b[0;32m                        \"device_name\": \"/dev/sda1\", \u001b[0m\n",
      "\u001b[0;32m                        \"ebs\": {\u001b[0m\n",
      "\u001b[0;32m                            \"attach_time\": \"2017-12-31T11:48:16+00:00\", \u001b[0m\n",
      "\u001b[0;32m                            \"delete_on_termination\": true, \u001b[0m\n",
      "\u001b[0;32m                            \"status\": \"attached\", \u001b[0m\n",
      "\u001b[0;32m                            \"volume_id\": \"vol-083fbe3dd88212d8b\"\u001b[0m\n",
      "\u001b[0;32m                        }\u001b[0m\n",
      "\u001b[0;32m                    }\u001b[0m\n",
      "\u001b[0;32m                ], \u001b[0m\n",
      "\u001b[0;32m                \"client_token\": \"151472089157447212\", \u001b[0m\n",
      "\u001b[0;32m                \"ebs_optimized\": false, \u001b[0m\n",
      "\u001b[0;32m                \"ena_support\": true, \u001b[0m\n",
      "\u001b[0;32m                \"hypervisor\": \"xen\", \u001b[0m\n",
      "\u001b[0;32m                \"image_id\": \"ami-4dd5522b\", \u001b[0m\n",
      "\u001b[0;32m                \"instance_id\": \"i-0452e56226c443d76\", \u001b[0m\n",
      "\u001b[0;32m                \"instance_type\": \"t2.micro\", \u001b[0m\n",
      "\u001b[0;32m                \"key_name\": \"aitac-automation-key\", \u001b[0m\n",
      "\u001b[0;32m                \"launch_time\": \"2017-12-31T11:48:15+00:00\", \u001b[0m\n",
      "\u001b[0;32m                \"monitoring\": {\u001b[0m\n",
      "\u001b[0;32m                    \"state\": \"disabled\"\u001b[0m\n",
      "\u001b[0;32m                }, \u001b[0m\n",
      "\u001b[0;32m                \"network_interfaces\": [\u001b[0m\n",
      "\u001b[0;32m                    {\u001b[0m\n",
      "\u001b[0;32m                        \"association\": {\u001b[0m\n",
      "\u001b[0;32m                            \"ip_owner_id\": \"amazon\", \u001b[0m\n",
      "\u001b[0;32m                            \"public_dns_name\": \"ec2-13-112-122-31.ap-northeast-1.compute.amazonaws.com\", \u001b[0m\n",
      "\u001b[0;32m                            \"public_ip\": \"13.112.122.31\"\u001b[0m\n",
      "\u001b[0;32m                        }, \u001b[0m\n",
      "\u001b[0;32m                        \"attachment\": {\u001b[0m\n",
      "\u001b[0;32m                            \"attach_time\": \"2017-12-31T11:48:15+00:00\", \u001b[0m\n",
      "\u001b[0;32m                            \"attachment_id\": \"eni-attach-d1031a3a\", \u001b[0m\n",
      "\u001b[0;32m                            \"delete_on_termination\": true, \u001b[0m\n",
      "\u001b[0;32m                            \"device_index\": 0, \u001b[0m\n",
      "\u001b[0;32m                            \"status\": \"attached\"\u001b[0m\n",
      "\u001b[0;32m                        }, \u001b[0m\n",
      "\u001b[0;32m                        \"description\": \"\", \u001b[0m\n",
      "\u001b[0;32m                        \"groups\": [\u001b[0m\n",
      "\u001b[0;32m                            {\u001b[0m\n",
      "\u001b[0;32m                                \"group_id\": \"sg-e870c591\", \u001b[0m\n",
      "\u001b[0;32m                                \"group_name\": \"aitac-automation-sg\"\u001b[0m\n",
      "\u001b[0;32m                            }\u001b[0m\n",
      "\u001b[0;32m                        ], \u001b[0m\n",
      "\u001b[0;32m                        \"ipv6_addresses\": [], \u001b[0m\n",
      "\u001b[0;32m                        \"mac_address\": \"06:db:f0:bf:8f:94\", \u001b[0m\n",
      "\u001b[0;32m                        \"network_interface_id\": \"eni-f687b0ca\", \u001b[0m\n",
      "\u001b[0;32m                        \"owner_id\": \"996856287150\", \u001b[0m\n",
      "\u001b[0;32m                        \"private_dns_name\": \"ip-172-31-26-42.ap-northeast-1.compute.internal\", \u001b[0m\n",
      "\u001b[0;32m                        \"private_ip_address\": \"172.31.26.42\", \u001b[0m\n",
      "\u001b[0;32m                        \"private_ip_addresses\": [\u001b[0m\n",
      "\u001b[0;32m                            {\u001b[0m\n",
      "\u001b[0;32m                                \"association\": {\u001b[0m\n",
      "\u001b[0;32m                                    \"ip_owner_id\": \"amazon\", \u001b[0m\n",
      "\u001b[0;32m                                    \"public_dns_name\": \"ec2-13-112-122-31.ap-northeast-1.compute.amazonaws.com\", \u001b[0m\n",
      "\u001b[0;32m                                    \"public_ip\": \"13.112.122.31\"\u001b[0m\n",
      "\u001b[0;32m                                }, \u001b[0m\n",
      "\u001b[0;32m                                \"primary\": true, \u001b[0m\n",
      "\u001b[0;32m                                \"private_dns_name\": \"ip-172-31-26-42.ap-northeast-1.compute.internal\", \u001b[0m\n",
      "\u001b[0;32m                                \"private_ip_address\": \"172.31.26.42\"\u001b[0m\n",
      "\u001b[0;32m                            }\u001b[0m\n",
      "\u001b[0;32m                        ], \u001b[0m\n",
      "\u001b[0;32m                        \"source_dest_check\": true, \u001b[0m\n",
      "\u001b[0;32m                        \"status\": \"in-use\", \u001b[0m\n",
      "\u001b[0;32m                        \"subnet_id\": \"subnet-caea7083\", \u001b[0m\n",
      "\u001b[0;32m                        \"vpc_id\": \"vpc-16cb0c71\"\u001b[0m\n",
      "\u001b[0;32m                    }\u001b[0m\n",
      "\u001b[0;32m                ], \u001b[0m\n",
      "\u001b[0;32m                \"placement\": {\u001b[0m\n",
      "\u001b[0;32m                    \"availability_zone\": \"ap-northeast-1a\", \u001b[0m\n",
      "\u001b[0;32m                    \"group_name\": \"\", \u001b[0m\n",
      "\u001b[0;32m                    \"tenancy\": \"default\"\u001b[0m\n",
      "\u001b[0;32m                }, \u001b[0m\n",
      "\u001b[0;32m                \"private_dns_name\": \"ip-172-31-26-42.ap-northeast-1.compute.internal\", \u001b[0m\n",
      "\u001b[0;32m                \"private_ip_address\": \"172.31.26.42\", \u001b[0m\n",
      "\u001b[0;32m                \"product_codes\": [\u001b[0m\n",
      "\u001b[0;32m                    {\u001b[0m\n",
      "\u001b[0;32m                        \"product_code_id\": \"aw0evgkw8e5c1q413zgy5pjce\", \u001b[0m\n",
      "\u001b[0;32m                        \"product_code_type\": \"marketplace\"\u001b[0m\n",
      "\u001b[0;32m                    }\u001b[0m\n",
      "\u001b[0;32m                ], \u001b[0m\n",
      "\u001b[0;32m                \"public_dns_name\": \"ec2-13-112-122-31.ap-northeast-1.compute.amazonaws.com\", \u001b[0m\n",
      "\u001b[0;32m                \"public_ip_address\": \"13.112.122.31\", \u001b[0m\n",
      "\u001b[0;32m                \"root_device_name\": \"/dev/sda1\", \u001b[0m\n",
      "\u001b[0;32m                \"root_device_type\": \"ebs\", \u001b[0m\n",
      "\u001b[0;32m                \"security_groups\": [\u001b[0m\n",
      "\u001b[0;32m                    {\u001b[0m\n",
      "\u001b[0;32m                        \"group_id\": \"sg-e870c591\", \u001b[0m\n",
      "\u001b[0;32m                        \"group_name\": \"aitac-automation-sg\"\u001b[0m\n",
      "\u001b[0;32m                    }\u001b[0m\n",
      "\u001b[0;32m                ], \u001b[0m\n",
      "\u001b[0;32m                \"source_dest_check\": true, \u001b[0m\n",
      "\u001b[0;32m                \"state\": {\u001b[0m\n",
      "\u001b[0;32m                    \"code\": 16, \u001b[0m\n",
      "\u001b[0;32m                    \"name\": \"running\"\u001b[0m\n",
      "\u001b[0;32m                }, \u001b[0m\n",
      "\u001b[0;32m                \"state_transition_reason\": \"\", \u001b[0m\n",
      "\u001b[0;32m                \"subnet_id\": \"subnet-caea7083\", \u001b[0m\n",
      "\u001b[0;32m                \"tags\": {\u001b[0m\n",
      "\u001b[0;32m                    \"automation_group\": \"manager\"\u001b[0m\n",
      "\u001b[0;32m                }, \u001b[0m\n",
      "\u001b[0;32m                \"virtualization_type\": \"hvm\", \u001b[0m\n",
      "\u001b[0;32m                \"vpc_id\": \"vpc-16cb0c71\"\u001b[0m\n",
      "\u001b[0;32m            }\u001b[0m\n",
      "\u001b[0;32m        ]\u001b[0m\n",
      "\u001b[0;32m    }\u001b[0m\n",
      "\u001b[0;32m}\u001b[0m\n",
      "\n",
      "PLAY RECAP *********************************************************************\n",
      "\u001b[0;33mlocalhost\u001b[0m                  : \u001b[0;32mok=4   \u001b[0m \u001b[0;33mchanged=1   \u001b[0m unreachable=0    failed=0   \n",
      "\n"
     ]
    }
   ],
   "source": [
    "# 実行例\n",
    "\n",
    "ansible-playbook -i inventories/01_aws_ops aws_server_view.yml"
   ]
  },
  {
   "cell_type": "code",
   "execution_count": null,
   "metadata": {
    "lc_cell_meme": {
     "current": "489c27de-eece-11e7-9edf-0242ac110002",
     "history": [
      {
       "current": "489c27de-eece-11e7-9edf-0242ac110002",
       "next": null,
       "previous": "489c25c2-eece-11e7-9edf-0242ac110002"
      },
      {
       "current": "489c27de-eece-11e7-9edf-0242ac110002",
       "next": "d7aea94c-eece-11e7-9edf-0242ac110002",
       "previous": "489c25c2-eece-11e7-9edf-0242ac110002"
      },
      {
       "current": "489c27de-eece-11e7-9edf-0242ac110002",
       "next": "f5c8df78-eecf-11e7-9edf-0242ac110002",
       "previous": "489c25c2-eece-11e7-9edf-0242ac110002"
      }
     ],
     "next": "f5c8df78-eecf-11e7-9edf-0242ac110002",
     "previous": "489c27de-eece-11e7-9edf-0242ac110002"
    }
   },
   "outputs": [],
   "source": [
    "#このCellを実行してAnsibleを実行してください。\n",
    "\n",
    "ansible-playbook -i inventories/01_aws_ops aws_server_view.yml"
   ]
  },
  {
   "cell_type": "markdown",
   "metadata": {
    "deletable": false,
    "editable": false,
    "lc_cell_meme": {
     "current": "f5c8df78-eecf-11e7-9edf-0242ac110002",
     "history": [
      {
       "current": "f5c8df78-eecf-11e7-9edf-0242ac110002",
       "next": "d7aea94c-eece-11e7-9edf-0242ac110002",
       "previous": "489c27de-eece-11e7-9edf-0242ac110002"
      }
     ],
     "next": "13e41da0-eed1-11e7-9edf-0242ac110002",
     "previous": "489c27de-eece-11e7-9edf-0242ac110002"
    },
    "run_through_control": {
     "frozen": true,
     "read_only": false
    }
   },
   "source": [
    "ここまでの設定に問題がなければ、このコマンドは正常に終了し、自分が起動したインスタンスの情報が取得できます。"
   ]
  },
  {
   "cell_type": "markdown",
   "metadata": {
    "deletable": false,
    "editable": false,
    "lc_cell_meme": {
     "current": "13e41da0-eed1-11e7-9edf-0242ac110002",
     "next": "d7aea94c-eece-11e7-9edf-0242ac110002",
     "previous": "f5c8df78-eecf-11e7-9edf-0242ac110002"
    },
    "run_through_control": {
     "frozen": true,
     "read_only": false
    }
   },
   "source": [
    "### Ansible コマンドの構文について"
   ]
  },
  {
   "cell_type": "markdown",
   "metadata": {
    "deletable": false,
    "editable": false,
    "lc_cell_meme": {
     "current": "d7aea94c-eece-11e7-9edf-0242ac110002",
     "history": [
      {
       "current": "d7aea94c-eece-11e7-9edf-0242ac110002",
       "next": "d7aeab7c-eece-11e7-9edf-0242ac110002",
       "previous": "489c27de-eece-11e7-9edf-0242ac110002"
      },
      {
       "current": "d7aea94c-eece-11e7-9edf-0242ac110002",
       "next": "d7aeab7c-eece-11e7-9edf-0242ac110002",
       "previous": "f5c8df78-eecf-11e7-9edf-0242ac110002"
      }
     ],
     "next": "d7aeab7c-eece-11e7-9edf-0242ac110002",
     "previous": "13e41da0-eed1-11e7-9edf-0242ac110002"
    },
    "run_through_control": {
     "frozen": true,
     "read_only": false
    }
   },
   "source": [
    "ansible-playbook コマンドに -i でインベントリを指定し、最後に実行するPlaybookを指定します。\n",
    "\n",
    "その他のオプションは以下になります。"
   ]
  },
  {
   "cell_type": "code",
   "execution_count": 1,
   "metadata": {
    "deletable": false,
    "editable": false,
    "lc_cell_meme": {
     "current": "d7aeab7c-eece-11e7-9edf-0242ac110002",
     "history": [
      {
       "current": "d7aeab7c-eece-11e7-9edf-0242ac110002",
       "next": "d7aeacc6-eece-11e7-9edf-0242ac110002",
       "previous": "d7aea94c-eece-11e7-9edf-0242ac110002"
      }
     ],
     "next": "5b6f0374-eed1-11e7-9edf-0242ac110002",
     "previous": "d7aea94c-eece-11e7-9edf-0242ac110002"
    },
    "run_through_control": {
     "frozen": true,
     "read_only": false
    },
    "scrolled": true
   },
   "outputs": [
    {
     "name": "stdout",
     "output_type": "stream",
     "text": [
      "Usage: ansible-playbook [options] playbook.yml [playbook2 ...]\n",
      "\n",
      "Runs Ansible playbooks, executing the defined tasks on the targeted hosts.\n",
      "\n",
      "Options:\n",
      "  --ask-vault-pass      ask for vault password\n",
      "  -C, --check           don't make any changes; instead, try to predict some\n",
      "                        of the changes that may occur\n",
      "  -D, --diff            when changing (small) files and templates, show the\n",
      "                        differences in those files; works great with --check\n",
      "  -e EXTRA_VARS, --extra-vars=EXTRA_VARS\n",
      "                        set additional variables as key=value or YAML/JSON, if\n",
      "                        filename prepend with @\n",
      "  --flush-cache         clear the fact cache\n",
      "  --force-handlers      run handlers even if a task fails\n",
      "  -f FORKS, --forks=FORKS\n",
      "                        specify number of parallel processes to use\n",
      "                        (default=3)\n",
      "  -h, --help            show this help message and exit\n",
      "  -i INVENTORY, --inventory=INVENTORY, --inventory-file=INVENTORY\n",
      "                        specify inventory host path or comma separated host\n",
      "                        list. --inventory-file is deprecated\n",
      "  -l SUBSET, --limit=SUBSET\n",
      "                        further limit selected hosts to an additional pattern\n",
      "  --list-hosts          outputs a list of matching hosts; does not execute\n",
      "                        anything else\n",
      "  --list-tags           list all available tags\n",
      "  --list-tasks          list all tasks that would be executed\n",
      "  -M MODULE_PATH, --module-path=MODULE_PATH\n",
      "                        prepend colon-separated path(s) to module library\n",
      "                        (default=[u'/home/bit_kun/.ansible/plugins/modules',\n",
      "                        u'/usr/share/ansible/plugins/modules'])\n",
      "  --new-vault-id=NEW_VAULT_ID\n",
      "                        the new vault identity to use for rekey\n",
      "  --new-vault-password-file=NEW_VAULT_PASSWORD_FILES\n",
      "                        new vault password file for rekey\n",
      "  --skip-tags=SKIP_TAGS\n",
      "                        only run plays and tasks whose tags do not match these\n",
      "                        values\n",
      "  --start-at-task=START_AT_TASK\n",
      "                        start the playbook at the task matching this name\n",
      "  --step                one-step-at-a-time: confirm each task before running\n",
      "  --syntax-check        perform a syntax check on the playbook, but do not\n",
      "                        execute it\n",
      "  -t TAGS, --tags=TAGS  only run plays and tasks tagged with these values\n",
      "  --vault-id=VAULT_IDS  the vault identity to use\n",
      "  --vault-password-file=VAULT_PASSWORD_FILES\n",
      "                        vault password file\n",
      "  -v, --verbose         verbose mode (-vvv for more, -vvvv to enable\n",
      "                        connection debugging)\n",
      "  --version             show program's version number and exit\n",
      "\n",
      "  Connection Options:\n",
      "    control as whom and how to connect to hosts\n",
      "\n",
      "    -k, --ask-pass      ask for connection password\n",
      "    --private-key=PRIVATE_KEY_FILE, --key-file=PRIVATE_KEY_FILE\n",
      "                        use this file to authenticate the connection\n",
      "    -u REMOTE_USER, --user=REMOTE_USER\n",
      "                        connect as this user (default=None)\n",
      "    -c CONNECTION, --connection=CONNECTION\n",
      "                        connection type to use (default=smart)\n",
      "    -T TIMEOUT, --timeout=TIMEOUT\n",
      "                        override the connection timeout in seconds\n",
      "                        (default=10)\n",
      "    --ssh-common-args=SSH_COMMON_ARGS\n",
      "                        specify common arguments to pass to sftp/scp/ssh (e.g.\n",
      "                        ProxyCommand)\n",
      "    --sftp-extra-args=SFTP_EXTRA_ARGS\n",
      "                        specify extra arguments to pass to sftp only (e.g. -f,\n",
      "                        -l)\n",
      "    --scp-extra-args=SCP_EXTRA_ARGS\n",
      "                        specify extra arguments to pass to scp only (e.g. -l)\n",
      "    --ssh-extra-args=SSH_EXTRA_ARGS\n",
      "                        specify extra arguments to pass to ssh only (e.g. -R)\n",
      "\n",
      "  Privilege Escalation Options:\n",
      "    control how and which user you become as on target hosts\n",
      "\n",
      "    -s, --sudo          run operations with sudo (nopasswd) (deprecated, use\n",
      "                        become)\n",
      "    -U SUDO_USER, --sudo-user=SUDO_USER\n",
      "                        desired sudo user (default=root) (deprecated, use\n",
      "                        become)\n",
      "    -S, --su            run operations with su (deprecated, use become)\n",
      "    -R SU_USER, --su-user=SU_USER\n",
      "                        run operations with su as this user (default=None)\n",
      "                        (deprecated, use become)\n",
      "    -b, --become        run operations with become (does not imply password\n",
      "                        prompting)\n",
      "    --become-method=BECOME_METHOD\n",
      "                        privilege escalation method to use (default=sudo),\n",
      "                        valid choices: [ sudo | su | pbrun | pfexec | doas |\n",
      "                        dzdo | ksu | runas | pmrun ]\n",
      "    --become-user=BECOME_USER\n",
      "                        run operations as this user (default=root)\n",
      "    --ask-sudo-pass     ask for sudo password (deprecated, use become)\n",
      "    --ask-su-pass       ask for su password (deprecated, use become)\n",
      "    -K, --ask-become-pass\n",
      "                        ask for privilege escalation password\n"
     ]
    }
   ],
   "source": [
    "ansible-playbook --help"
   ]
  },
  {
   "cell_type": "markdown",
   "metadata": {
    "deletable": false,
    "editable": false,
    "lc_cell_meme": {
     "current": "5b6f0374-eed1-11e7-9edf-0242ac110002",
     "next": "d7aeacc6-eece-11e7-9edf-0242ac110002",
     "previous": "d7aeab7c-eece-11e7-9edf-0242ac110002"
    },
    "run_through_control": {
     "frozen": true,
     "read_only": false
    }
   },
   "source": [
    "### Playbookの構文"
   ]
  },
  {
   "cell_type": "markdown",
   "metadata": {
    "deletable": false,
    "editable": false,
    "lc_cell_meme": {
     "current": "d7aeacc6-eece-11e7-9edf-0242ac110002",
     "history": [
      {
       "current": "d7aeacc6-eece-11e7-9edf-0242ac110002",
       "next": null,
       "previous": "d7aeab7c-eece-11e7-9edf-0242ac110002"
      },
      {
       "current": "d7aeacc6-eece-11e7-9edf-0242ac110002",
       "next": "66bc4e50-eecf-11e7-9edf-0242ac110002",
       "previous": "d7aeab7c-eece-11e7-9edf-0242ac110002"
      }
     ],
     "next": "66bc4e50-eecf-11e7-9edf-0242ac110002",
     "previous": "5b6f0374-eed1-11e7-9edf-0242ac110002"
    },
    "run_through_control": {
     "frozen": true,
     "read_only": false
    }
   },
   "source": [
    "このPlaybookはシンプルです。\n",
    "\n",
    "Ansible の構文は YAMLで記述されており、\n",
    "\n",
    "* hosts には実行先のグループ（この例で all が指定され、インベントリに記載された全てに処理が行われます）\n",
    "* tasks 以下の配列には実行したい処理を記述します。\n",
    "* connection, gather_facts といった値は Ansible の動作を制御するパラメーターですがここでは割愛します。"
   ]
  },
  {
   "cell_type": "markdown",
   "metadata": {
    "deletable": false,
    "editable": false,
    "lc_cell_meme": {
     "current": "66bc4e50-eecf-11e7-9edf-0242ac110002",
     "history": [
      {
       "current": "66bc4e50-eecf-11e7-9edf-0242ac110002",
       "next": null,
       "previous": "d7aeacc6-eece-11e7-9edf-0242ac110002"
      }
     ],
     "next": "ae41f572-eecf-11e7-9edf-0242ac110002",
     "previous": "d7aeacc6-eece-11e7-9edf-0242ac110002"
    },
    "run_through_control": {
     "frozen": true,
     "read_only": false
    }
   },
   "source": [
    "ここでは tasks の部分に注目してください。\n",
    "\n",
    "このタスクの中には4つのデータが含まれています（shell → debug → ec2_instance_facts → debug）。このうち debug となっている部分は、処理した結果を人間が確認するためのものなのでここでは意識する必要はりません。\n",
    "\n",
    "残った2つが実際の処理を行っています。"
   ]
  },
  {
   "cell_type": "markdown",
   "metadata": {
    "deletable": false,
    "editable": false,
    "lc_cell_meme": {
     "current": "ae41f572-eecf-11e7-9edf-0242ac110002",
     "history": [
      {
       "current": "ae41f572-eecf-11e7-9edf-0242ac110002",
       "next": null,
       "previous": "66bc4e50-eecf-11e7-9edf-0242ac110002"
      }
     ],
     "next": "20cce8c6-eed6-11e7-9edf-0242ac110002",
     "previous": "66bc4e50-eecf-11e7-9edf-0242ac110002"
    },
    "run_through_control": {
     "frozen": true,
     "read_only": false
    }
   },
   "source": [
    "shell\n",
    "\n",
    "この部分は、シェルコマンドを実行しています。実行されているコマンドは aws ec2 ... というコマンドになっています。\n",
    "\n",
    "これは先に認証情報を設定した aws コマンドを直接実行して、自分が起動しているインスタンスの情報を取得しています。\n",
    "\n",
    "この後の debug 部分で、コマンドを実行した結果を表示しています。"
   ]
  },
  {
   "cell_type": "markdown",
   "metadata": {
    "deletable": false,
    "editable": false,
    "lc_cell_meme": {
     "current": "20cce8c6-eed6-11e7-9edf-0242ac110002",
     "history": [
      {
       "current": "20cce8c6-eed6-11e7-9edf-0242ac110002",
       "next": null,
       "previous": "ae41f572-eecf-11e7-9edf-0242ac110002"
      }
     ],
     "next": "afd7f4ca-eed6-11e7-9edf-0242ac110002",
     "previous": "ae41f572-eecf-11e7-9edf-0242ac110002"
    },
    "run_through_control": {
     "frozen": true,
     "read_only": false
    }
   },
   "source": [
    "ec2_instance_facts\n",
    "\n",
    "次に呼び出されているのがこの部分になります。これは、ec2 上のインスタンス一覧を取得してくれます。処理としては先の shell でコマンドを実行しているのとほぼ変わりはないのですが、その後の実行結果に差があります。\n",
    "\n",
    "shell の時には実行した結果がそのまま出力されておりデータがパースされていませんが、ec2_instance_facts で実行した時には取得されたデータがJSON形式で整形されておりアクセスしやすくなっています。"
   ]
  },
  {
   "cell_type": "markdown",
   "metadata": {
    "deletable": false,
    "editable": false,
    "lc_cell_meme": {
     "current": "afd7f4ca-eed6-11e7-9edf-0242ac110002",
     "history": [
      {
       "current": "afd7f4ca-eed6-11e7-9edf-0242ac110002",
       "next": null,
       "previous": "20cce8c6-eed6-11e7-9edf-0242ac110002"
      }
     ],
     "next": "3eebe3e2-eed7-11e7-9edf-0242ac110002",
     "previous": "20cce8c6-eed6-11e7-9edf-0242ac110002"
    },
    "run_through_control": {
     "frozen": true,
     "read_only": false
    }
   },
   "source": [
    "Playbook の tasks 以下に配置していく shell, ec2_instance_facts, debug といった単位は **モジュール** とよばれます。Playbookではこのモジュールをtasksに配置して様々な処理を実行していきます。"
   ]
  },
  {
   "cell_type": "markdown",
   "metadata": {
    "deletable": false,
    "editable": false,
    "lc_cell_meme": {
     "current": "3eebe3e2-eed7-11e7-9edf-0242ac110002",
     "next": "3eebe5fe-eed7-11e7-9edf-0242ac110002",
     "previous": "afd7f4ca-eed6-11e7-9edf-0242ac110002"
    },
    "run_through_control": {
     "frozen": true,
     "read_only": false
    }
   },
   "source": [
    "### モジュールとは"
   ]
  },
  {
   "cell_type": "markdown",
   "metadata": {
    "deletable": false,
    "editable": false,
    "lc_cell_meme": {
     "current": "3eebe5fe-eed7-11e7-9edf-0242ac110002",
     "history": [
      {
       "current": "3eebe5fe-eed7-11e7-9edf-0242ac110002",
       "next": null,
       "previous": "3eebe3e2-eed7-11e7-9edf-0242ac110002"
      }
     ],
     "next": "c59054b4-eee1-11e7-9edf-0242ac110002",
     "previous": "3eebe3e2-eed7-11e7-9edf-0242ac110002"
    },
    "run_through_control": {
     "frozen": true,
     "read_only": false
    }
   },
   "source": [
    "モジュールは「決められた処理を行い、データを返す」単位で、プログラムで言うところの関数のようなものです。\n",
    "\n",
    "様々なモジュールがあり、[こちら](http://docs.ansible.com/ansible/latest/modules_by_category.html) からモジュールの一覧を参照できます。\n",
    "\n",
    "これまでに出てきたモジュールは以下です。\n",
    "\n",
    "* shell コマンドを実行する\n",
    "* ec2_instance_facts AWS EC2のサーバー一覧を取得する\n",
    "* debug ユーザーに対して変数の値を表示する。"
   ]
  },
  {
   "cell_type": "markdown",
   "metadata": {
    "deletable": false,
    "editable": false,
    "lc_cell_meme": {
     "current": "c59054b4-eee1-11e7-9edf-0242ac110002",
     "history": [
      {
       "current": "c59054b4-eee1-11e7-9edf-0242ac110002",
       "next": null,
       "previous": "3eebe5fe-eed7-11e7-9edf-0242ac110002"
      }
     ],
     "next": "0d1a4efc-eee2-11e7-9edf-0242ac110002",
     "previous": "3eebe5fe-eed7-11e7-9edf-0242ac110002"
    },
    "run_through_control": {
     "frozen": true,
     "read_only": false
    }
   },
   "source": [
    "他にもモジュールは多数存在しており、合計で1000以上のモジュールをAnsibleは備えています。\n",
    "\n",
    "* copy ファイルをコピーする\n",
    "* yum パッケージをインストール・削除する\n",
    "* systemd サービスを有効化、無効化する\n",
    "* ios_config Cisco ルーター／スイッチを設定する\n",
    "\n",
    "後の演習では、これらの様々なモジュールを駆使して自動化を行っていきます。"
   ]
  },
  {
   "cell_type": "markdown",
   "metadata": {
    "deletable": false,
    "editable": false,
    "lc_cell_meme": {
     "current": "0d1a4efc-eee2-11e7-9edf-0242ac110002",
     "history": [
      {
       "current": "0d1a4efc-eee2-11e7-9edf-0242ac110002",
       "next": null,
       "previous": "c59054b4-eee1-11e7-9edf-0242ac110002"
      }
     ],
     "next": "54ab9e06-eee2-11e7-9edf-0242ac110002",
     "previous": "c59054b4-eee1-11e7-9edf-0242ac110002"
    },
    "run_through_control": {
     "frozen": true,
     "read_only": false
    }
   },
   "source": [
    "## インスタンスの作成"
   ]
  },
  {
   "cell_type": "markdown",
   "metadata": {
    "deletable": false,
    "editable": false,
    "lc_cell_meme": {
     "current": "54ab9e06-eee2-11e7-9edf-0242ac110002",
     "history": [
      {
       "current": "54ab9e06-eee2-11e7-9edf-0242ac110002",
       "next": "54aba018-eee2-11e7-9edf-0242ac110002",
       "previous": "0d1a4efc-eee2-11e7-9edf-0242ac110002"
      },
      {
       "current": "54ab9e06-eee2-11e7-9edf-0242ac110002",
       "next": "52874c24-eeec-11e7-9edf-0242ac110002",
       "previous": "0d1a4efc-eee2-11e7-9edf-0242ac110002"
      }
     ],
     "next": "4c98b3e8-203d-11e8-a3f3-0242ac110002",
     "previous": "0d1a4efc-eee2-11e7-9edf-0242ac110002"
    },
    "run_through_control": {
     "frozen": true,
     "read_only": false
    }
   },
   "source": [
    "では、インスタンスをAnsibleから起動してみます。ここで起動したインスタンスは次の演習で利用します。"
   ]
  },
  {
   "cell_type": "markdown",
   "metadata": {
    "deletable": false,
    "editable": false,
    "lc_cell_meme": {
     "current": "4c98b3e8-203d-11e8-a3f3-0242ac110002",
     "next": "52874c24-eeec-11e7-9edf-0242ac110002",
     "previous": "54ab9e06-eee2-11e7-9edf-0242ac110002"
    },
    "run_through_control": {
     "frozen": true
    }
   },
   "source": [
    "![演習の概要](materials/image01-02.png \"演習の概要\")"
   ]
  },
  {
   "cell_type": "markdown",
   "metadata": {
    "deletable": false,
    "editable": false,
    "lc_cell_meme": {
     "current": "52874c24-eeec-11e7-9edf-0242ac110002",
     "history": [
      {
       "current": "52874c24-eeec-11e7-9edf-0242ac110002",
       "next": "54aba018-eee2-11e7-9edf-0242ac110002",
       "previous": "54ab9e06-eee2-11e7-9edf-0242ac110002"
      },
      {
       "current": "52874c24-eeec-11e7-9edf-0242ac110002",
       "next": "9a0d67c2-eeec-11e7-9edf-0242ac110002",
       "previous": "54ab9e06-eee2-11e7-9edf-0242ac110002"
      }
     ],
     "next": "9a0d67c2-eeec-11e7-9edf-0242ac110002",
     "previous": "4c98b3e8-203d-11e8-a3f3-0242ac110002"
    },
    "run_through_control": {
     "frozen": true,
     "read_only": false
    }
   },
   "source": [
    "必要な情報を幾つか収集します。以下の Cell を実行してください。\n",
    "\n",
    "ここで実行している Playbook は ec2_instance_facts を使って、演習の準備時に起動したインスタンスの情報から必要部分を抽出して表示します。\n",
    "\n",
    "[aws_server_info.yml](/edit/aitac-automation-handson/aws_server_info.yml)\n",
    "\n",
    "*※ここで収集している情報は、AWSのEC2ダッシュボードからも同じ値が参照できます*"
   ]
  },
  {
   "cell_type": "code",
   "execution_count": null,
   "metadata": {
    "lc_cell_meme": {
     "current": "9a0d67c2-eeec-11e7-9edf-0242ac110002",
     "history": [
      {
       "current": "9a0d67c2-eeec-11e7-9edf-0242ac110002",
       "next": "54aba018-eee2-11e7-9edf-0242ac110002",
       "previous": "52874c24-eeec-11e7-9edf-0242ac110002"
      }
     ],
     "next": "f24eebea-eef1-11e7-9edf-0242ac110002",
     "previous": "52874c24-eeec-11e7-9edf-0242ac110002"
    },
    "scrolled": false
   },
   "outputs": [],
   "source": [
    "# この Cell を実行して、必要な情報を収集します。\n",
    "\n",
    "ansible-playbook -i inventories/01_aws_ops aws_server_info.yml"
   ]
  },
  {
   "cell_type": "markdown",
   "metadata": {
    "deletable": false,
    "editable": false,
    "lc_cell_meme": {
     "current": "f24eebea-eef1-11e7-9edf-0242ac110002",
     "next": "54aba018-eee2-11e7-9edf-0242ac110002",
     "previous": "9a0d67c2-eeec-11e7-9edf-0242ac110002"
    },
    "run_through_control": {
     "frozen": true,
     "read_only": false
    }
   },
   "source": [
    "上記の出力から、image_id, subnet_id の値を次の CELL の環境変数部分へ指定してからPlaybookを実行ください。\n",
    "\n",
    "この Playbook は設定されているEC2上へ2台のサーバーを構築します。\n",
    "\n",
    "[aws_server_launch.yml](/edit/aitac-automation-handson/aws_server_launch.yml)"
   ]
  },
  {
   "cell_type": "code",
   "execution_count": null,
   "metadata": {
    "lc_cell_meme": {
     "current": "54aba018-eee2-11e7-9edf-0242ac110002",
     "history": [
      {
       "current": "54aba018-eee2-11e7-9edf-0242ac110002",
       "next": null,
       "previous": "54ab9e06-eee2-11e7-9edf-0242ac110002"
      },
      {
       "current": "54aba018-eee2-11e7-9edf-0242ac110002",
       "next": "ac1afc80-eee3-11e7-9edf-0242ac110002",
       "previous": "54ab9e06-eee2-11e7-9edf-0242ac110002"
      },
      {
       "current": "54aba018-eee2-11e7-9edf-0242ac110002",
       "next": "ac1afc80-eee3-11e7-9edf-0242ac110002",
       "previous": "52874c24-eeec-11e7-9edf-0242ac110002"
      },
      {
       "current": "54aba018-eee2-11e7-9edf-0242ac110002",
       "next": "ac1afc80-eee3-11e7-9edf-0242ac110002",
       "previous": "9a0d67c2-eeec-11e7-9edf-0242ac110002"
      }
     ],
     "next": "ac1afc80-eee3-11e7-9edf-0242ac110002",
     "previous": "f24eebea-eef1-11e7-9edf-0242ac110002"
    }
   },
   "outputs": [],
   "source": [
    "# IMAGE_ID=ami-4dd5522b\n",
    "# SUBNET_ID=subnet-caea7083\n",
    "\n",
    "# ここに値を設定してから、CELL を実行してPlaybook を実行してください。\n",
    "IMAGE_ID=\n",
    "SUBNET_ID=\n",
    "\n",
    "ansible-playbook -i inventories/01_aws_ops \\\n",
    "                 --extra \"extra_image=${IMAGE_ID:?} extra_vpc_id=${SUBNET_ID:?}\" \\\n",
    "                 aws_server_launch.yml"
   ]
  },
  {
   "cell_type": "markdown",
   "metadata": {
    "deletable": false,
    "editable": false,
    "lc_cell_meme": {
     "current": "ac1afc80-eee3-11e7-9edf-0242ac110002",
     "history": [
      {
       "current": "ac1afc80-eee3-11e7-9edf-0242ac110002",
       "next": null,
       "previous": "54aba018-eee2-11e7-9edf-0242ac110002"
      }
     ],
     "next": "80f99606-eef2-11e7-9edf-0242ac110002",
     "previous": "54aba018-eee2-11e7-9edf-0242ac110002"
    },
    "run_through_control": {
     "frozen": true,
     "read_only": false
    }
   },
   "source": [
    "実行が正常に終わると2台のサーバーが起動しているはずです。\n",
    "\n",
    "AWSのダッシュボードからサーバー状態を確認してみてください。"
   ]
  },
  {
   "cell_type": "markdown",
   "metadata": {
    "deletable": false,
    "editable": false,
    "lc_cell_meme": {
     "current": "80f99606-eef2-11e7-9edf-0242ac110002",
     "next": null,
     "previous": "ac1afc80-eee3-11e7-9edf-0242ac110002"
    },
    "run_through_control": {
     "frozen": true,
     "read_only": false
    }
   },
   "source": [
    "本演習はここまでです。"
   ]
  }
 ],
 "metadata": {
  "kernelspec": {
   "display_name": "Bash",
   "language": "bash",
   "name": "bash"
  },
  "language_info": {
   "codemirror_mode": "shell",
   "file_extension": ".sh",
   "mimetype": "text/x-sh",
   "name": "bash"
  },
  "lc_notebook_meme": {
   "current": "37682dd8-ee41-11e7-80ef-0242ac110002",
   "lc_server_signature": {
    "current": {
     "notebook_dir": "/notebooks",
     "notebook_path": "/aitac-automation-handson",
     "server_url": "http://localhost:8888/",
     "signature_id": "bccb0938-1c76-11e8-a3f3-0242ac110002"
    },
    "history": [
     {
      "notebook_dir": "/notebooks",
      "notebook_path": "/aitac-automation-handson",
      "server_url": "http://13.112.122.31:8888/",
      "signature_id": "1ba34b78-ee23-11e7-80ef-0242ac110002"
     },
     {
      "notebook_dir": "/notebooks",
      "notebook_path": "/aitac-automation-handson",
      "server_url": "http://13.112.122.31:8888/",
      "signature_id": "a266f498-eebe-11e7-9edf-0242ac110002"
     },
     {
      "notebook_dir": "/notebooks",
      "notebook_path": "/aitac-automation-handson",
      "server_url": "http://localhost:8888/",
      "signature_id": "a30ccda8-f42e-11e7-b6b4-0242ac110002"
     }
    ]
   }
  },
  "toc": {
   "nav_menu": {},
   "number_sections": true,
   "sideBar": true,
   "skip_h1_title": true,
   "title_cell": "Table of Contents",
   "title_sidebar": "Contents",
   "toc_cell": false,
   "toc_position": {},
   "toc_section_display": true,
   "toc_window_display": true
  }
 },
 "nbformat": 4,
 "nbformat_minor": 2
}
