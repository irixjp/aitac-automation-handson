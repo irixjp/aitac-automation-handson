{
 "cells": [
  {
   "cell_type": "markdown",
   "metadata": {
    "deletable": false,
    "editable": false,
    "lc_cell_meme": {
     "current": "64e13c02-eef3-11e7-9edf-0242ac110002",
     "next": "64e13e28-eef3-11e7-9edf-0242ac110002",
     "previous": null
    },
    "run_through_control": {
     "frozen": true,
     "read_only": false
    }
   },
   "source": [
    "# Ansible によるサーバー操作"
   ]
  },
  {
   "cell_type": "markdown",
   "metadata": {
    "deletable": false,
    "editable": false,
    "lc_cell_meme": {
     "current": "64e13e28-eef3-11e7-9edf-0242ac110002",
     "history": [
      {
       "current": "64e13e28-eef3-11e7-9edf-0242ac110002",
       "next": "64e13f90-eef3-11e7-9edf-0242ac110002",
       "previous": "64e13c02-eef3-11e7-9edf-0242ac110002"
      }
     ],
     "next": "a3fde7ca-203d-11e8-a3f3-0242ac110002",
     "previous": "64e13c02-eef3-11e7-9edf-0242ac110002"
    },
    "run_through_control": {
     "frozen": true,
     "read_only": false
    }
   },
   "source": [
    "この演習では、先程起動した2台のサーバーに対して、Ansible を用いた設定の自動化を行っていきます。"
   ]
  },
  {
   "cell_type": "markdown",
   "metadata": {
    "deletable": false,
    "editable": false,
    "lc_cell_meme": {
     "current": "a3fde7ca-203d-11e8-a3f3-0242ac110002",
     "next": "64e13f90-eef3-11e7-9edf-0242ac110002",
     "previous": "64e13e28-eef3-11e7-9edf-0242ac110002"
    },
    "run_through_control": {
     "frozen": true
    }
   },
   "source": [
    "![演習の概要](materials/image02-01.png \"演習の概要\")"
   ]
  },
  {
   "cell_type": "markdown",
   "metadata": {
    "deletable": false,
    "editable": false,
    "lc_cell_meme": {
     "current": "64e13f90-eef3-11e7-9edf-0242ac110002",
     "history": [
      {
       "current": "64e13f90-eef3-11e7-9edf-0242ac110002",
       "next": "64e140ee-eef3-11e7-9edf-0242ac110002",
       "previous": "64e13e28-eef3-11e7-9edf-0242ac110002"
      }
     ],
     "next": "64e140ee-eef3-11e7-9edf-0242ac110002",
     "previous": "a3fde7ca-203d-11e8-a3f3-0242ac110002"
    },
    "run_through_control": {
     "frozen": true,
     "read_only": false
    }
   },
   "source": [
    "## 鍵のアップロード"
   ]
  },
  {
   "cell_type": "markdown",
   "metadata": {
    "deletable": false,
    "editable": false,
    "lc_cell_meme": {
     "current": "64e140ee-eef3-11e7-9edf-0242ac110002",
     "history": [
      {
       "current": "64e140ee-eef3-11e7-9edf-0242ac110002",
       "next": null,
       "previous": "64e13f90-eef3-11e7-9edf-0242ac110002"
      }
     ],
     "next": "ac64cd64-eef3-11e7-9edf-0242ac110002",
     "previous": "64e13f90-eef3-11e7-9edf-0242ac110002"
    },
    "run_through_control": {
     "frozen": true,
     "read_only": false
    }
   },
   "source": [
    "まずはじめに、aitac-automation-key.pem を Jupyter 上に登録します。Ansible はこの秘密鍵を使って操作対象のサーバーへとアクセスします。\n",
    "\n",
    "鍵の登録は以下の手順で行ってください。\n",
    "\n",
    "* Jupyter トップページの画面右の「Upload」を選択\n",
    "* アップロードする「aitac-automation-key.pem」を選んでOK\n",
    "* Jupyter 上に登録されたファイルの「Upload」ボタンを押下するとアップロードされます。"
   ]
  },
  {
   "cell_type": "markdown",
   "metadata": {
    "deletable": false,
    "editable": false,
    "lc_cell_meme": {
     "current": "ac64cd64-eef3-11e7-9edf-0242ac110002",
     "history": [
      {
       "current": "ac64cd64-eef3-11e7-9edf-0242ac110002",
       "next": null,
       "previous": "64e140ee-eef3-11e7-9edf-0242ac110002"
      }
     ],
     "next": "3b753d90-eef4-11e7-9edf-0242ac110002",
     "previous": "64e140ee-eef3-11e7-9edf-0242ac110002"
    },
    "run_through_control": {
     "frozen": true,
     "read_only": false
    }
   },
   "source": [
    "鍵の権限を設定しておきます。"
   ]
  },
  {
   "cell_type": "code",
   "execution_count": 1,
   "metadata": {
    "deletable": false,
    "editable": false,
    "lc_cell_meme": {
     "current": "3b753d90-eef4-11e7-9edf-0242ac110002",
     "next": "3b753fd4-eef4-11e7-9edf-0242ac110002",
     "previous": "ac64cd64-eef3-11e7-9edf-0242ac110002"
    },
    "run_through_control": {
     "frozen": true,
     "read_only": false
    }
   },
   "outputs": [
    {
     "name": "stdout",
     "output_type": "stream",
     "text": [
      "-r--------. 1 bit_kun users 1692 Jan  1 21:58 aitac-automation-key.pem\n"
     ]
    }
   ],
   "source": [
    "# 実行例\n",
    "\n",
    "chmod 400 aitac-automation-key.pem\n",
    "ls -alF aitac-automation-key.pem"
   ]
  },
  {
   "cell_type": "code",
   "execution_count": null,
   "metadata": {
    "lc_cell_meme": {
     "current": "3b753fd4-eef4-11e7-9edf-0242ac110002",
     "history": [
      {
       "current": "3b753fd4-eef4-11e7-9edf-0242ac110002",
       "next": null,
       "previous": "3b753d90-eef4-11e7-9edf-0242ac110002"
      }
     ],
     "next": "82f7e3c0-eef4-11e7-9edf-0242ac110002",
     "previous": "3b753d90-eef4-11e7-9edf-0242ac110002"
    }
   },
   "outputs": [],
   "source": [
    "# この Cell を実行してください。\n",
    "\n",
    "chmod 400 aitac-automation-key.pem\n",
    "ls -alF aitac-automation-key.pem"
   ]
  },
  {
   "cell_type": "markdown",
   "metadata": {
    "deletable": false,
    "editable": false,
    "lc_cell_meme": {
     "current": "82f7e3c0-eef4-11e7-9edf-0242ac110002",
     "next": "82f7e654-eef4-11e7-9edf-0242ac110002",
     "previous": "3b753fd4-eef4-11e7-9edf-0242ac110002"
    },
    "run_through_control": {
     "frozen": true,
     "read_only": false
    }
   },
   "source": [
    "## インベントリの作成"
   ]
  },
  {
   "cell_type": "markdown",
   "metadata": {
    "deletable": false,
    "editable": false,
    "lc_cell_meme": {
     "current": "82f7e654-eef4-11e7-9edf-0242ac110002",
     "history": [
      {
       "current": "82f7e654-eef4-11e7-9edf-0242ac110002",
       "next": null,
       "previous": "82f7e3c0-eef4-11e7-9edf-0242ac110002"
      }
     ],
     "next": "a208305c-eef5-11e7-9edf-0242ac110002",
     "previous": "82f7e3c0-eef4-11e7-9edf-0242ac110002"
    },
    "run_through_control": {
     "frozen": true,
     "read_only": false
    }
   },
   "source": [
    "今回の操作対象にするサーバーをインベントリへ登録します。\n",
    "\n",
    "まず、AWSのダッシュボードから「bation」「ansible-taget」のIPv4パブリックIPを確認してメモしておいてください。\n",
    "\n",
    "次に、以下のファイルを開いて例の様に編集します。\n",
    "\n",
    "[inventories/02_server_ops](/edit/aitac-automation-handson/inventories/02_server_ops)"
   ]
  },
  {
   "cell_type": "markdown",
   "metadata": {
    "deletable": false,
    "editable": false,
    "lc_cell_meme": {
     "current": "a208305c-eef5-11e7-9edf-0242ac110002",
     "next": "a208325a-eef5-11e7-9edf-0242ac110002",
     "previous": "82f7e654-eef4-11e7-9edf-0242ac110002"
    },
    "run_through_control": {
     "frozen": true,
     "read_only": false
    }
   },
   "source": [
    "例）\n",
    "\n",
    "    [bation]\n",
    "    11.22.33.44 ← bation のIPアドレス\n",
    "    \n",
    "    [target]\n",
    "    22.33.44.55 ← ansible-target 1台目のIPアドレス\n",
    "    33.44.55.66 ← ansible-target 2台目のIPアドレス\n"
   ]
  },
  {
   "cell_type": "markdown",
   "metadata": {
    "deletable": false,
    "editable": false,
    "lc_cell_meme": {
     "current": "a208325a-eef5-11e7-9edf-0242ac110002",
     "history": [
      {
       "current": "a208325a-eef5-11e7-9edf-0242ac110002",
       "next": null,
       "previous": "a208305c-eef5-11e7-9edf-0242ac110002"
      }
     ],
     "next": "e98f3e0c-eef5-11e7-9edf-0242ac110002",
     "previous": "a208305c-eef5-11e7-9edf-0242ac110002"
    },
    "run_through_control": {
     "frozen": true,
     "read_only": false
    }
   },
   "source": [
    "## テスト接続の実行"
   ]
  },
  {
   "cell_type": "markdown",
   "metadata": {
    "deletable": false,
    "editable": false,
    "lc_cell_meme": {
     "current": "e98f3e0c-eef5-11e7-9edf-0242ac110002",
     "history": [
      {
       "current": "e98f3e0c-eef5-11e7-9edf-0242ac110002",
       "next": null,
       "previous": "a208325a-eef5-11e7-9edf-0242ac110002"
      },
      {
       "current": "e98f3e0c-eef5-11e7-9edf-0242ac110002",
       "next": "31137f4a-eef6-11e7-9edf-0242ac110002",
       "previous": "a208325a-eef5-11e7-9edf-0242ac110002"
      },
      {
       "current": "e98f3e0c-eef5-11e7-9edf-0242ac110002",
       "next": "c024f9f2-eef6-11e7-9edf-0242ac110002",
       "previous": "a208325a-eef5-11e7-9edf-0242ac110002"
      }
     ],
     "next": "cfdc68a6-ef02-11e7-9edf-0242ac110002",
     "previous": "a208325a-eef5-11e7-9edf-0242ac110002"
    },
    "run_through_control": {
     "frozen": true,
     "read_only": false
    }
   },
   "source": [
    "ここまでは Playbook に記述したモジュールを ansible-playbook コマンドで実行してきました。\n",
    "\n",
    "別の方法としてモジュールを直接 ansible から実行して動作テストを行うことが可能です。"
   ]
  },
  {
   "cell_type": "markdown",
   "metadata": {
    "deletable": false,
    "editable": false,
    "lc_cell_meme": {
     "current": "cfdc68a6-ef02-11e7-9edf-0242ac110002",
     "next": "c024f9f2-eef6-11e7-9edf-0242ac110002",
     "previous": "e98f3e0c-eef5-11e7-9edf-0242ac110002"
    },
    "run_through_control": {
     "frozen": true,
     "read_only": false
    }
   },
   "source": [
    "### ansible-target サーバーへの接続テスト"
   ]
  },
  {
   "cell_type": "markdown",
   "metadata": {
    "deletable": false,
    "editable": false,
    "lc_cell_meme": {
     "current": "c024f9f2-eef6-11e7-9edf-0242ac110002",
     "history": [
      {
       "current": "c024f9f2-eef6-11e7-9edf-0242ac110002",
       "next": "31137f4a-eef6-11e7-9edf-0242ac110002",
       "previous": "e98f3e0c-eef5-11e7-9edf-0242ac110002"
      }
     ],
     "next": "31137f4a-eef6-11e7-9edf-0242ac110002",
     "previous": "cfdc68a6-ef02-11e7-9edf-0242ac110002"
    },
    "run_through_control": {
     "frozen": true,
     "read_only": false
    }
   },
   "source": [
    "以下は ping モジュールを使って、対象のホストへ接続可能かをテストしています。"
   ]
  },
  {
   "cell_type": "code",
   "execution_count": 4,
   "metadata": {
    "deletable": false,
    "editable": false,
    "lc_cell_meme": {
     "current": "31137f4a-eef6-11e7-9edf-0242ac110002",
     "history": [
      {
       "current": "31137f4a-eef6-11e7-9edf-0242ac110002",
       "next": null,
       "previous": "e98f3e0c-eef5-11e7-9edf-0242ac110002"
      },
      {
       "current": "31137f4a-eef6-11e7-9edf-0242ac110002",
       "next": "789e6a50-eef6-11e7-9edf-0242ac110002",
       "previous": "e98f3e0c-eef5-11e7-9edf-0242ac110002"
      },
      {
       "current": "31137f4a-eef6-11e7-9edf-0242ac110002",
       "next": "789e6a50-eef6-11e7-9edf-0242ac110002",
       "previous": "c024f9f2-eef6-11e7-9edf-0242ac110002"
      }
     ],
     "next": "a66e6856-ef03-11e7-9edf-0242ac110002",
     "previous": "c024f9f2-eef6-11e7-9edf-0242ac110002"
    },
    "run_through_control": {
     "frozen": true,
     "read_only": false
    },
    "scrolled": false
   },
   "outputs": [
    {
     "name": "stdout",
     "output_type": "stream",
     "text": [
      "\u001b[0;32m13.230.56.76 | SUCCESS => {\u001b[0m\n",
      "\u001b[0;32m    \"changed\": false, \u001b[0m\n",
      "\u001b[0;32m    \"ping\": \"pong\"\u001b[0m\n",
      "\u001b[0;32m}\u001b[0m\n",
      "\u001b[0;32m13.115.202.69 | SUCCESS => {\u001b[0m\n",
      "\u001b[0;32m    \"changed\": false, \u001b[0m\n",
      "\u001b[0;32m    \"ping\": \"pong\"\u001b[0m\n",
      "\u001b[0;32m}\u001b[0m\n"
     ]
    }
   ],
   "source": [
    "# 実行例\n",
    "\n",
    "ansible target -i inventories/02_server_ops -u centos --private-key aitac-automation-key.pem -b -m ping"
   ]
  },
  {
   "cell_type": "markdown",
   "metadata": {
    "deletable": false,
    "editable": false,
    "lc_cell_meme": {
     "current": "a66e6856-ef03-11e7-9edf-0242ac110002",
     "history": [
      {
       "current": "a66e6856-ef03-11e7-9edf-0242ac110002",
       "next": "789e6a50-eef6-11e7-9edf-0242ac110002",
       "previous": "31137f4a-eef6-11e7-9edf-0242ac110002"
      },
      {
       "current": "a66e6856-ef03-11e7-9edf-0242ac110002",
       "next": "7d069636-ef04-11e7-9edf-0242ac110002",
       "previous": "31137f4a-eef6-11e7-9edf-0242ac110002"
      }
     ],
     "next": "789e6a50-eef6-11e7-9edf-0242ac110002",
     "previous": "31137f4a-eef6-11e7-9edf-0242ac110002"
    },
    "run_through_control": {
     "frozen": true,
     "read_only": false
    }
   },
   "source": [
    "オプションの意味\n",
    "\n",
    "```\n",
    "ansible \\\n",
    "    target \\                                 # インベントリ内のグループを指定\n",
    "    -i inventories/02_server_ops \\           # インベントリファイルを指定\n",
    "    -u centos \\                              # 接続ユーザ\n",
    "    --private-key aitac-automation-key.pem \\ # 接続に使用する鍵ファイル\n",
    "    -b \\                                     # 接続後に root ユーザーへ\n",
    "    -m ping                                  # 使用するモジュール\n",
    "```"
   ]
  },
  {
   "cell_type": "code",
   "execution_count": null,
   "metadata": {
    "lc_cell_meme": {
     "current": "789e6a50-eef6-11e7-9edf-0242ac110002",
     "history": [
      {
       "current": "789e6a50-eef6-11e7-9edf-0242ac110002",
       "next": null,
       "previous": "31137f4a-eef6-11e7-9edf-0242ac110002"
      },
      {
       "current": "789e6a50-eef6-11e7-9edf-0242ac110002",
       "next": "07abf5f0-eef7-11e7-9edf-0242ac110002",
       "previous": "31137f4a-eef6-11e7-9edf-0242ac110002"
      },
      {
       "current": "789e6a50-eef6-11e7-9edf-0242ac110002",
       "next": "cfdc6ac2-ef02-11e7-9edf-0242ac110002",
       "previous": "31137f4a-eef6-11e7-9edf-0242ac110002"
      },
      {
       "current": "789e6a50-eef6-11e7-9edf-0242ac110002",
       "next": "cfdc6ac2-ef02-11e7-9edf-0242ac110002",
       "previous": "a66e6856-ef03-11e7-9edf-0242ac110002"
      },
      {
       "current": "789e6a50-eef6-11e7-9edf-0242ac110002",
       "next": "cfdc6ac2-ef02-11e7-9edf-0242ac110002",
       "previous": "7d069636-ef04-11e7-9edf-0242ac110002"
      }
     ],
     "next": "cfdc6ac2-ef02-11e7-9edf-0242ac110002",
     "previous": "a66e6856-ef03-11e7-9edf-0242ac110002"
    }
   },
   "outputs": [],
   "source": [
    "# 実行してください。\n",
    "\n",
    "ansible target -i inventories/02_server_ops -u centos --private-key aitac-automation-key.pem -b -m ping"
   ]
  },
  {
   "cell_type": "markdown",
   "metadata": {
    "deletable": false,
    "editable": false,
    "lc_cell_meme": {
     "current": "cfdc6ac2-ef02-11e7-9edf-0242ac110002",
     "history": [
      {
       "current": "cfdc6ac2-ef02-11e7-9edf-0242ac110002",
       "next": "07abf7da-eef7-11e7-9edf-0242ac110002",
       "previous": "789e6a50-eef6-11e7-9edf-0242ac110002"
      },
      {
       "current": "cfdc6ac2-ef02-11e7-9edf-0242ac110002",
       "next": "07abf7da-eef7-11e7-9edf-0242ac110002",
       "previous": "789e6a50-eef6-11e7-9edf-0242ac110002"
      },
      {
       "current": "cfdc6ac2-ef02-11e7-9edf-0242ac110002",
       "next": "07abf7da-eef7-11e7-9edf-0242ac110002",
       "previous": "789e6a50-eef6-11e7-9edf-0242ac110002"
      },
      {
       "current": "cfdc6ac2-ef02-11e7-9edf-0242ac110002",
       "next": "07abf7da-eef7-11e7-9edf-0242ac110002",
       "previous": "789e6a50-eef6-11e7-9edf-0242ac110002"
      },
      {
       "current": "cfdc6ac2-ef02-11e7-9edf-0242ac110002",
       "next": "07abf7da-eef7-11e7-9edf-0242ac110002",
       "previous": "789e6a50-eef6-11e7-9edf-0242ac110002"
      },
      {
       "current": "cfdc6ac2-ef02-11e7-9edf-0242ac110002",
       "next": "07abf7da-eef7-11e7-9edf-0242ac110002",
       "previous": "789e6a50-eef6-11e7-9edf-0242ac110002"
      },
      {
       "current": "cfdc6ac2-ef02-11e7-9edf-0242ac110002",
       "next": "07abf7da-eef7-11e7-9edf-0242ac110002",
       "previous": "789e6a50-eef6-11e7-9edf-0242ac110002"
      },
      {
       "current": "cfdc6ac2-ef02-11e7-9edf-0242ac110002",
       "next": "07abf7da-eef7-11e7-9edf-0242ac110002",
       "previous": "789e6a50-eef6-11e7-9edf-0242ac110002"
      },
      {
       "current": "cfdc6ac2-ef02-11e7-9edf-0242ac110002",
       "next": "07abf7da-eef7-11e7-9edf-0242ac110002",
       "previous": "789e6a50-eef6-11e7-9edf-0242ac110002"
      },
      {
       "current": "cfdc6ac2-ef02-11e7-9edf-0242ac110002",
       "next": "07abf7da-eef7-11e7-9edf-0242ac110002",
       "previous": "789e6a50-eef6-11e7-9edf-0242ac110002"
      },
      {
       "current": "cfdc6ac2-ef02-11e7-9edf-0242ac110002",
       "next": "07abf7da-eef7-11e7-9edf-0242ac110002",
       "previous": "789e6a50-eef6-11e7-9edf-0242ac110002"
      },
      {
       "current": "cfdc6ac2-ef02-11e7-9edf-0242ac110002",
       "next": "07abf7da-eef7-11e7-9edf-0242ac110002",
       "previous": "789e6a50-eef6-11e7-9edf-0242ac110002"
      },
      {
       "current": "cfdc6ac2-ef02-11e7-9edf-0242ac110002",
       "next": "07abf7da-eef7-11e7-9edf-0242ac110002",
       "previous": "789e6a50-eef6-11e7-9edf-0242ac110002"
      },
      {
       "current": "cfdc6ac2-ef02-11e7-9edf-0242ac110002",
       "next": "07abf7da-eef7-11e7-9edf-0242ac110002",
       "previous": "789e6a50-eef6-11e7-9edf-0242ac110002"
      },
      {
       "current": "cfdc6ac2-ef02-11e7-9edf-0242ac110002",
       "next": "07abf7da-eef7-11e7-9edf-0242ac110002",
       "previous": "789e6a50-eef6-11e7-9edf-0242ac110002"
      },
      {
       "current": "cfdc6ac2-ef02-11e7-9edf-0242ac110002",
       "next": "07abf7da-eef7-11e7-9edf-0242ac110002",
       "previous": "789e6a50-eef6-11e7-9edf-0242ac110002"
      },
      {
       "current": "cfdc6ac2-ef02-11e7-9edf-0242ac110002",
       "next": "07abf7da-eef7-11e7-9edf-0242ac110002",
       "previous": "789e6a50-eef6-11e7-9edf-0242ac110002"
      },
      {
       "current": "cfdc6ac2-ef02-11e7-9edf-0242ac110002",
       "next": "07abf7da-eef7-11e7-9edf-0242ac110002",
       "previous": "789e6a50-eef6-11e7-9edf-0242ac110002"
      },
      {
       "current": "cfdc6ac2-ef02-11e7-9edf-0242ac110002",
       "next": "07abf7da-eef7-11e7-9edf-0242ac110002",
       "previous": "789e6a50-eef6-11e7-9edf-0242ac110002"
      },
      {
       "current": "cfdc6ac2-ef02-11e7-9edf-0242ac110002",
       "next": "07abf7da-eef7-11e7-9edf-0242ac110002",
       "previous": "789e6a50-eef6-11e7-9edf-0242ac110002"
      },
      {
       "current": "cfdc6ac2-ef02-11e7-9edf-0242ac110002",
       "next": "07abf7da-eef7-11e7-9edf-0242ac110002",
       "previous": "789e6a50-eef6-11e7-9edf-0242ac110002"
      },
      {
       "current": "cfdc6ac2-ef02-11e7-9edf-0242ac110002",
       "next": "07abf7da-eef7-11e7-9edf-0242ac110002",
       "previous": "789e6a50-eef6-11e7-9edf-0242ac110002"
      },
      {
       "current": "cfdc6ac2-ef02-11e7-9edf-0242ac110002",
       "next": "07abf7da-eef7-11e7-9edf-0242ac110002",
       "previous": "789e6a50-eef6-11e7-9edf-0242ac110002"
      },
      {
       "current": "cfdc6ac2-ef02-11e7-9edf-0242ac110002",
       "next": "07abf7da-eef7-11e7-9edf-0242ac110002",
       "previous": "789e6a50-eef6-11e7-9edf-0242ac110002"
      },
      {
       "current": "cfdc6ac2-ef02-11e7-9edf-0242ac110002",
       "next": "07abf7da-eef7-11e7-9edf-0242ac110002",
       "previous": "789e6a50-eef6-11e7-9edf-0242ac110002"
      },
      {
       "current": "cfdc6ac2-ef02-11e7-9edf-0242ac110002",
       "next": "07abf7da-eef7-11e7-9edf-0242ac110002",
       "previous": "789e6a50-eef6-11e7-9edf-0242ac110002"
      },
      {
       "current": "cfdc6ac2-ef02-11e7-9edf-0242ac110002",
       "next": "07abf7da-eef7-11e7-9edf-0242ac110002",
       "previous": "789e6a50-eef6-11e7-9edf-0242ac110002"
      },
      {
       "current": "cfdc6ac2-ef02-11e7-9edf-0242ac110002",
       "next": "07abf7da-eef7-11e7-9edf-0242ac110002",
       "previous": "789e6a50-eef6-11e7-9edf-0242ac110002"
      },
      {
       "current": "cfdc6ac2-ef02-11e7-9edf-0242ac110002",
       "next": "07abf7da-eef7-11e7-9edf-0242ac110002",
       "previous": "789e6a50-eef6-11e7-9edf-0242ac110002"
      },
      {
       "current": "cfdc6ac2-ef02-11e7-9edf-0242ac110002",
       "next": "07abf7da-eef7-11e7-9edf-0242ac110002",
       "previous": "789e6a50-eef6-11e7-9edf-0242ac110002"
      },
      {
       "current": "cfdc6ac2-ef02-11e7-9edf-0242ac110002",
       "next": "07abf7da-eef7-11e7-9edf-0242ac110002",
       "previous": "789e6a50-eef6-11e7-9edf-0242ac110002"
      },
      {
       "current": "cfdc6ac2-ef02-11e7-9edf-0242ac110002",
       "next": "07abf7da-eef7-11e7-9edf-0242ac110002",
       "previous": "789e6a50-eef6-11e7-9edf-0242ac110002"
      },
      {
       "current": "cfdc6ac2-ef02-11e7-9edf-0242ac110002",
       "next": "07abf7da-eef7-11e7-9edf-0242ac110002",
       "previous": "789e6a50-eef6-11e7-9edf-0242ac110002"
      },
      {
       "current": "cfdc6ac2-ef02-11e7-9edf-0242ac110002",
       "next": "07abf7da-eef7-11e7-9edf-0242ac110002",
       "previous": "789e6a50-eef6-11e7-9edf-0242ac110002"
      },
      {
       "current": "cfdc6ac2-ef02-11e7-9edf-0242ac110002",
       "next": "07abf7da-eef7-11e7-9edf-0242ac110002",
       "previous": "789e6a50-eef6-11e7-9edf-0242ac110002"
      }
     ],
     "next": "07abf5f0-eef7-11e7-9edf-0242ac110002",
     "previous": "789e6a50-eef6-11e7-9edf-0242ac110002"
    },
    "run_through_control": {
     "frozen": true,
     "read_only": false
    }
   },
   "source": [
    "### bation サーバーへの接続テスト"
   ]
  },
  {
   "cell_type": "markdown",
   "metadata": {
    "deletable": false,
    "editable": false,
    "lc_cell_meme": {
     "current": "07abf5f0-eef7-11e7-9edf-0242ac110002",
     "history": [
      {
       "current": "07abf5f0-eef7-11e7-9edf-0242ac110002",
       "next": "789e6a50-eef6-11e7-9edf-0242ac110002",
       "previous": "789e6a50-eef6-11e7-9edf-0242ac110002"
      }
     ],
     "next": "789e6a50-eef6-11e7-9edf-0242ac110002",
     "previous": "cfdc6ac2-ef02-11e7-9edf-0242ac110002"
    },
    "run_through_control": {
     "frozen": true,
     "read_only": false
    }
   },
   "source": [
    "上記の例では、インベントリの中で作成した target というグループに属している2台のサーバーへの接続テストを行っています。\n",
    "\n",
    "次の例のようにすると、bation のみへの実行が可能です。"
   ]
  },
  {
   "cell_type": "code",
   "execution_count": null,
   "metadata": {
    "lc_cell_meme": {
     "current": "789e6a50-eef6-11e7-9edf-0242ac110002",
     "history": [
      {
       "current": "789e6a50-eef6-11e7-9edf-0242ac110002",
       "next": null,
       "previous": "31137f4a-eef6-11e7-9edf-0242ac110002"
      },
      {
       "current": "789e6a50-eef6-11e7-9edf-0242ac110002",
       "next": "07abf7da-eef7-11e7-9edf-0242ac110002",
       "previous": "07abf5f0-eef7-11e7-9edf-0242ac110002"
      }
     ],
     "next": "cfdc6ac2-ef02-11e7-9edf-0242ac110002",
     "previous": "07abf5f0-eef7-11e7-9edf-0242ac110002"
    }
   },
   "outputs": [],
   "source": [
    "# 実行してください。\n",
    "\n",
    "ansible bation -i inventories/02_server_ops -u centos --private-key aitac-automation-key.pem -b -m ping"
   ]
  },
  {
   "cell_type": "markdown",
   "metadata": {
    "deletable": false,
    "editable": false,
    "lc_cell_meme": {
     "current": "cfdc6ac2-ef02-11e7-9edf-0242ac110002",
     "history": [
      {
       "current": "cfdc6ac2-ef02-11e7-9edf-0242ac110002",
       "next": "07abf7da-eef7-11e7-9edf-0242ac110002",
       "previous": "789e6a50-eef6-11e7-9edf-0242ac110002"
      },
      {
       "current": "cfdc6ac2-ef02-11e7-9edf-0242ac110002",
       "next": "07abf7da-eef7-11e7-9edf-0242ac110002",
       "previous": "789e6a50-eef6-11e7-9edf-0242ac110002"
      },
      {
       "current": "cfdc6ac2-ef02-11e7-9edf-0242ac110002",
       "next": "07abf7da-eef7-11e7-9edf-0242ac110002",
       "previous": "789e6a50-eef6-11e7-9edf-0242ac110002"
      },
      {
       "current": "cfdc6ac2-ef02-11e7-9edf-0242ac110002",
       "next": "07abf7da-eef7-11e7-9edf-0242ac110002",
       "previous": "789e6a50-eef6-11e7-9edf-0242ac110002"
      },
      {
       "current": "cfdc6ac2-ef02-11e7-9edf-0242ac110002",
       "next": "07abf7da-eef7-11e7-9edf-0242ac110002",
       "previous": "789e6a50-eef6-11e7-9edf-0242ac110002"
      },
      {
       "current": "cfdc6ac2-ef02-11e7-9edf-0242ac110002",
       "next": "07abf7da-eef7-11e7-9edf-0242ac110002",
       "previous": "789e6a50-eef6-11e7-9edf-0242ac110002"
      },
      {
       "current": "cfdc6ac2-ef02-11e7-9edf-0242ac110002",
       "next": "07abf7da-eef7-11e7-9edf-0242ac110002",
       "previous": "789e6a50-eef6-11e7-9edf-0242ac110002"
      },
      {
       "current": "cfdc6ac2-ef02-11e7-9edf-0242ac110002",
       "next": "07abf7da-eef7-11e7-9edf-0242ac110002",
       "previous": "789e6a50-eef6-11e7-9edf-0242ac110002"
      },
      {
       "current": "cfdc6ac2-ef02-11e7-9edf-0242ac110002",
       "next": "07abf7da-eef7-11e7-9edf-0242ac110002",
       "previous": "789e6a50-eef6-11e7-9edf-0242ac110002"
      },
      {
       "current": "cfdc6ac2-ef02-11e7-9edf-0242ac110002",
       "next": "07abf7da-eef7-11e7-9edf-0242ac110002",
       "previous": "789e6a50-eef6-11e7-9edf-0242ac110002"
      },
      {
       "current": "cfdc6ac2-ef02-11e7-9edf-0242ac110002",
       "next": "07abf7da-eef7-11e7-9edf-0242ac110002",
       "previous": "789e6a50-eef6-11e7-9edf-0242ac110002"
      },
      {
       "current": "cfdc6ac2-ef02-11e7-9edf-0242ac110002",
       "next": "07abf7da-eef7-11e7-9edf-0242ac110002",
       "previous": "789e6a50-eef6-11e7-9edf-0242ac110002"
      },
      {
       "current": "cfdc6ac2-ef02-11e7-9edf-0242ac110002",
       "next": "07abf7da-eef7-11e7-9edf-0242ac110002",
       "previous": "789e6a50-eef6-11e7-9edf-0242ac110002"
      },
      {
       "current": "cfdc6ac2-ef02-11e7-9edf-0242ac110002",
       "next": "07abf7da-eef7-11e7-9edf-0242ac110002",
       "previous": "789e6a50-eef6-11e7-9edf-0242ac110002"
      },
      {
       "current": "cfdc6ac2-ef02-11e7-9edf-0242ac110002",
       "next": "07abf7da-eef7-11e7-9edf-0242ac110002",
       "previous": "789e6a50-eef6-11e7-9edf-0242ac110002"
      },
      {
       "current": "cfdc6ac2-ef02-11e7-9edf-0242ac110002",
       "next": "07abf7da-eef7-11e7-9edf-0242ac110002",
       "previous": "789e6a50-eef6-11e7-9edf-0242ac110002"
      },
      {
       "current": "cfdc6ac2-ef02-11e7-9edf-0242ac110002",
       "next": "07abf7da-eef7-11e7-9edf-0242ac110002",
       "previous": "789e6a50-eef6-11e7-9edf-0242ac110002"
      },
      {
       "current": "cfdc6ac2-ef02-11e7-9edf-0242ac110002",
       "next": "07abf7da-eef7-11e7-9edf-0242ac110002",
       "previous": "789e6a50-eef6-11e7-9edf-0242ac110002"
      },
      {
       "current": "cfdc6ac2-ef02-11e7-9edf-0242ac110002",
       "next": "07abf7da-eef7-11e7-9edf-0242ac110002",
       "previous": "789e6a50-eef6-11e7-9edf-0242ac110002"
      },
      {
       "current": "cfdc6ac2-ef02-11e7-9edf-0242ac110002",
       "next": "07abf7da-eef7-11e7-9edf-0242ac110002",
       "previous": "789e6a50-eef6-11e7-9edf-0242ac110002"
      },
      {
       "current": "cfdc6ac2-ef02-11e7-9edf-0242ac110002",
       "next": "07abf7da-eef7-11e7-9edf-0242ac110002",
       "previous": "789e6a50-eef6-11e7-9edf-0242ac110002"
      },
      {
       "current": "cfdc6ac2-ef02-11e7-9edf-0242ac110002",
       "next": "07abf7da-eef7-11e7-9edf-0242ac110002",
       "previous": "789e6a50-eef6-11e7-9edf-0242ac110002"
      },
      {
       "current": "cfdc6ac2-ef02-11e7-9edf-0242ac110002",
       "next": "07abf7da-eef7-11e7-9edf-0242ac110002",
       "previous": "789e6a50-eef6-11e7-9edf-0242ac110002"
      },
      {
       "current": "cfdc6ac2-ef02-11e7-9edf-0242ac110002",
       "next": "07abf7da-eef7-11e7-9edf-0242ac110002",
       "previous": "789e6a50-eef6-11e7-9edf-0242ac110002"
      },
      {
       "current": "cfdc6ac2-ef02-11e7-9edf-0242ac110002",
       "next": "07abf7da-eef7-11e7-9edf-0242ac110002",
       "previous": "789e6a50-eef6-11e7-9edf-0242ac110002"
      },
      {
       "current": "cfdc6ac2-ef02-11e7-9edf-0242ac110002",
       "next": "07abf7da-eef7-11e7-9edf-0242ac110002",
       "previous": "789e6a50-eef6-11e7-9edf-0242ac110002"
      },
      {
       "current": "cfdc6ac2-ef02-11e7-9edf-0242ac110002",
       "next": "07abf7da-eef7-11e7-9edf-0242ac110002",
       "previous": "789e6a50-eef6-11e7-9edf-0242ac110002"
      },
      {
       "current": "cfdc6ac2-ef02-11e7-9edf-0242ac110002",
       "next": "07abf7da-eef7-11e7-9edf-0242ac110002",
       "previous": "789e6a50-eef6-11e7-9edf-0242ac110002"
      },
      {
       "current": "cfdc6ac2-ef02-11e7-9edf-0242ac110002",
       "next": "07abf7da-eef7-11e7-9edf-0242ac110002",
       "previous": "789e6a50-eef6-11e7-9edf-0242ac110002"
      },
      {
       "current": "cfdc6ac2-ef02-11e7-9edf-0242ac110002",
       "next": "07abf7da-eef7-11e7-9edf-0242ac110002",
       "previous": "789e6a50-eef6-11e7-9edf-0242ac110002"
      },
      {
       "current": "cfdc6ac2-ef02-11e7-9edf-0242ac110002",
       "next": "07abf7da-eef7-11e7-9edf-0242ac110002",
       "previous": "789e6a50-eef6-11e7-9edf-0242ac110002"
      },
      {
       "current": "cfdc6ac2-ef02-11e7-9edf-0242ac110002",
       "next": "07abf7da-eef7-11e7-9edf-0242ac110002",
       "previous": "789e6a50-eef6-11e7-9edf-0242ac110002"
      },
      {
       "current": "cfdc6ac2-ef02-11e7-9edf-0242ac110002",
       "next": "07abf7da-eef7-11e7-9edf-0242ac110002",
       "previous": "789e6a50-eef6-11e7-9edf-0242ac110002"
      },
      {
       "current": "cfdc6ac2-ef02-11e7-9edf-0242ac110002",
       "next": "07abf7da-eef7-11e7-9edf-0242ac110002",
       "previous": "789e6a50-eef6-11e7-9edf-0242ac110002"
      }
     ],
     "next": "07abf7da-eef7-11e7-9edf-0242ac110002",
     "previous": "789e6a50-eef6-11e7-9edf-0242ac110002"
    },
    "run_through_control": {
     "frozen": true,
     "read_only": false
    }
   },
   "source": [
    "### インベントリ内の全てのサーバーへの接続テスト"
   ]
  },
  {
   "cell_type": "markdown",
   "metadata": {
    "deletable": false,
    "editable": false,
    "lc_cell_meme": {
     "current": "07abf7da-eef7-11e7-9edf-0242ac110002",
     "history": [
      {
       "current": "07abf7da-eef7-11e7-9edf-0242ac110002",
       "next": "789e6a50-eef6-11e7-9edf-0242ac110002",
       "previous": "789e6a50-eef6-11e7-9edf-0242ac110002"
      }
     ],
     "next": "789e6a50-eef6-11e7-9edf-0242ac110002",
     "previous": "cfdc6ac2-ef02-11e7-9edf-0242ac110002"
    },
    "run_through_control": {
     "frozen": true,
     "read_only": false
    }
   },
   "source": [
    "次の例では、all という特別なキーワードを使って、インベントリに記載されている全てのホストへの接続テストを行っています。"
   ]
  },
  {
   "cell_type": "code",
   "execution_count": null,
   "metadata": {
    "lc_cell_meme": {
     "current": "789e6a50-eef6-11e7-9edf-0242ac110002",
     "history": [
      {
       "current": "789e6a50-eef6-11e7-9edf-0242ac110002",
       "next": null,
       "previous": "31137f4a-eef6-11e7-9edf-0242ac110002"
      }
     ],
     "next": "07abf906-eef7-11e7-9edf-0242ac110002",
     "previous": "07abf7da-eef7-11e7-9edf-0242ac110002"
    }
   },
   "outputs": [],
   "source": [
    "# 実行してください。\n",
    "\n",
    "ansible all -i inventories/02_server_ops -u centos --private-key aitac-automation-key.pem -b -m ping"
   ]
  },
  {
   "cell_type": "markdown",
   "metadata": {
    "deletable": false,
    "editable": false,
    "lc_cell_meme": {
     "current": "07abf906-eef7-11e7-9edf-0242ac110002",
     "history": [
      {
       "current": "07abf906-eef7-11e7-9edf-0242ac110002",
       "next": null,
       "previous": "789e6a50-eef6-11e7-9edf-0242ac110002"
      },
      {
       "current": "07abf906-eef7-11e7-9edf-0242ac110002",
       "next": "1760f638-ef03-11e7-9edf-0242ac110002",
       "previous": "789e6a50-eef6-11e7-9edf-0242ac110002"
      }
     ],
     "next": "c48f0f7e-ef04-11e7-9edf-0242ac110002",
     "previous": "789e6a50-eef6-11e7-9edf-0242ac110002"
    },
    "run_through_control": {
     "frozen": true,
     "read_only": false
    }
   },
   "source": [
    "このように、インベントリに複数のサーバーを記載して一括して操作を実行したり、グループを作成してそのグループのみに操作を行うことが可能です。"
   ]
  },
  {
   "cell_type": "markdown",
   "metadata": {
    "deletable": false,
    "editable": false,
    "lc_cell_meme": {
     "current": "c48f0f7e-ef04-11e7-9edf-0242ac110002",
     "next": "c48f119a-ef04-11e7-9edf-0242ac110002",
     "previous": "07abf906-eef7-11e7-9edf-0242ac110002"
    },
    "run_through_control": {
     "frozen": true,
     "read_only": false
    }
   },
   "source": [
    "## ad-hoc 実行"
   ]
  },
  {
   "cell_type": "markdown",
   "metadata": {
    "deletable": false,
    "editable": false,
    "lc_cell_meme": {
     "current": "c48f119a-ef04-11e7-9edf-0242ac110002",
     "history": [
      {
       "current": "c48f119a-ef04-11e7-9edf-0242ac110002",
       "next": "1760f638-ef03-11e7-9edf-0242ac110002",
       "previous": "c48f0f7e-ef04-11e7-9edf-0242ac110002"
      }
     ],
     "next": "789e6a50-eef6-11e7-9edf-0242ac110002",
     "previous": "c48f0f7e-ef04-11e7-9edf-0242ac110002"
    },
    "run_through_control": {
     "frozen": true,
     "read_only": false
    }
   },
   "source": [
    "上記のようにモジュールを直接してして実行する方法を Ansible ではad-hoc実行と呼びます。単純なモジュールであれば例のようにワンライナーのコマンドで実行が可能です。\n",
    "\n",
    "以下は、 shell モジュールで任意のコマンドを実行する例になります。"
   ]
  },
  {
   "cell_type": "code",
   "execution_count": null,
   "metadata": {
    "lc_cell_meme": {
     "current": "789e6a50-eef6-11e7-9edf-0242ac110002",
     "history": [
      {
       "current": "789e6a50-eef6-11e7-9edf-0242ac110002",
       "next": null,
       "previous": "31137f4a-eef6-11e7-9edf-0242ac110002"
      },
      {
       "current": "789e6a50-eef6-11e7-9edf-0242ac110002",
       "next": "07abf906-eef7-11e7-9edf-0242ac110002",
       "previous": "07abf7da-eef7-11e7-9edf-0242ac110002"
      }
     ],
     "next": "789e6a50-eef6-11e7-9edf-0242ac110002",
     "previous": "c48f119a-ef04-11e7-9edf-0242ac110002"
    }
   },
   "outputs": [],
   "source": [
    "# 実行してください。\n",
    "\n",
    "ansible all -i inventories/02_server_ops -u centos --private-key aitac-automation-key.pem -b -m shell -a 'hostname'"
   ]
  },
  {
   "cell_type": "code",
   "execution_count": null,
   "metadata": {
    "lc_cell_meme": {
     "current": "789e6a50-eef6-11e7-9edf-0242ac110002",
     "history": [
      {
       "current": "789e6a50-eef6-11e7-9edf-0242ac110002",
       "next": null,
       "previous": "31137f4a-eef6-11e7-9edf-0242ac110002"
      },
      {
       "current": "789e6a50-eef6-11e7-9edf-0242ac110002",
       "next": "07abf906-eef7-11e7-9edf-0242ac110002",
       "previous": "07abf7da-eef7-11e7-9edf-0242ac110002"
      }
     ],
     "next": "789e6a50-eef6-11e7-9edf-0242ac110002",
     "previous": "789e6a50-eef6-11e7-9edf-0242ac110002"
    }
   },
   "outputs": [],
   "source": [
    "# 実行してください。\n",
    "\n",
    "ansible all -i inventories/02_server_ops -u centos --private-key aitac-automation-key.pem -b -m shell -a 'date'"
   ]
  },
  {
   "cell_type": "code",
   "execution_count": null,
   "metadata": {
    "lc_cell_meme": {
     "current": "789e6a50-eef6-11e7-9edf-0242ac110002",
     "history": [
      {
       "current": "789e6a50-eef6-11e7-9edf-0242ac110002",
       "next": null,
       "previous": "31137f4a-eef6-11e7-9edf-0242ac110002"
      },
      {
       "current": "789e6a50-eef6-11e7-9edf-0242ac110002",
       "next": "07abf906-eef7-11e7-9edf-0242ac110002",
       "previous": "07abf7da-eef7-11e7-9edf-0242ac110002"
      }
     ],
     "next": "1760f638-ef03-11e7-9edf-0242ac110002",
     "previous": "789e6a50-eef6-11e7-9edf-0242ac110002"
    }
   },
   "outputs": [],
   "source": [
    "# 実行してください。\n",
    "\n",
    "ansible all -i inventories/02_server_ops -u centos --private-key aitac-automation-key.pem -b -m shell -a 'df -h'"
   ]
  },
  {
   "cell_type": "markdown",
   "metadata": {
    "deletable": false,
    "editable": false,
    "lc_cell_meme": {
     "current": "1760f638-ef03-11e7-9edf-0242ac110002",
     "history": [
      {
       "current": "1760f638-ef03-11e7-9edf-0242ac110002",
       "next": "1760f85e-ef03-11e7-9edf-0242ac110002",
       "previous": "07abf906-eef7-11e7-9edf-0242ac110002"
      },
      {
       "current": "1760f638-ef03-11e7-9edf-0242ac110002",
       "next": "1760f85e-ef03-11e7-9edf-0242ac110002",
       "previous": "c48f119a-ef04-11e7-9edf-0242ac110002"
      }
     ],
     "next": "1760f85e-ef03-11e7-9edf-0242ac110002",
     "previous": "789e6a50-eef6-11e7-9edf-0242ac110002"
    },
    "run_through_control": {
     "frozen": true,
     "read_only": false
    }
   },
   "source": [
    "## HTTPDのセットアップ"
   ]
  },
  {
   "cell_type": "markdown",
   "metadata": {
    "deletable": false,
    "editable": false,
    "lc_cell_meme": {
     "current": "1760f85e-ef03-11e7-9edf-0242ac110002",
     "next": "1760f9a8-ef03-11e7-9edf-0242ac110002",
     "previous": "1760f638-ef03-11e7-9edf-0242ac110002"
    },
    "run_through_control": {
     "frozen": true,
     "read_only": false
    }
   },
   "source": [
    "ansible-target に対してHTTPDをインストールし有効化した上で、index.html を配置していきます。"
   ]
  },
  {
   "cell_type": "markdown",
   "metadata": {
    "deletable": false,
    "editable": false,
    "lc_cell_meme": {
     "current": "1760f9a8-ef03-11e7-9edf-0242ac110002",
     "history": [
      {
       "current": "1760f9a8-ef03-11e7-9edf-0242ac110002",
       "next": null,
       "previous": "1760f85e-ef03-11e7-9edf-0242ac110002"
      },
      {
       "current": "1760f9a8-ef03-11e7-9edf-0242ac110002",
       "next": "9b1fc47a-ef05-11e7-9edf-0242ac110002",
       "previous": "1760f85e-ef03-11e7-9edf-0242ac110002"
      }
     ],
     "next": "01802b8c-ef07-11e7-9edf-0242ac110002",
     "previous": "1760f85e-ef03-11e7-9edf-0242ac110002"
    },
    "run_through_control": {
     "frozen": true,
     "read_only": false
    }
   },
   "source": [
    "ここで利用するモジュールは以下の3つになります。\n",
    "\n",
    "* [yum モジュール](http://docs.ansible.com/ansible/latest/yum_module.html) パッケージをインストール・削除する\n",
    "* [systemd モジュール](http://docs.ansible.com/ansible/latest/systemd_module.html) サービスを有効化・無効化する\n",
    "* [template モジュール](http://docs.ansible.com/ansible/latest/template_module.html) ファイルを配置する\n",
    "* import_role これは後に出てくるので、ここでは説明を省きます。出力されるログも無視しておいてください。\n",
    "\n",
    "上記のモジュールを使った Playbook のサンプルが以下になります。\n",
    "\n",
    "[server_ops_httpd_on.yml](/edit/aitac-automation-handson/server_ops_httpd_on.yml)"
   ]
  },
  {
   "cell_type": "markdown",
   "metadata": {
    "deletable": false,
    "editable": false,
    "lc_cell_meme": {
     "current": "01802b8c-ef07-11e7-9edf-0242ac110002",
     "history": [
      {
       "current": "01802b8c-ef07-11e7-9edf-0242ac110002",
       "next": "9b1fc47a-ef05-11e7-9edf-0242ac110002",
       "previous": "1760f9a8-ef03-11e7-9edf-0242ac110002"
      }
     ],
     "next": "b563593e-ef08-11e7-9edf-0242ac110002",
     "previous": "1760f9a8-ef03-11e7-9edf-0242ac110002"
    },
    "run_through_control": {
     "frozen": true,
     "read_only": false
    }
   },
   "source": [
    "また、template モジュールは予め準備しておいたテンプレートファイルを対象サーバーへ配置する際に、テンプレート内部に記述された変数や処理を展開・実行してからサーバー上に配置します。\n",
    "\n",
    "使用できる文法は [jinja2](http://docs.ansible.com/ansible/latest/playbooks_templating.html) 形式になります。\n",
    "\n",
    "サンプルで利用するテンプレートファイルは以下になります。このファイルでは index.html.j2 内の変数が展開されてホストへ配布されます。\n",
    "\n",
    "[index.html.j2](/edit/aitac-automation-handson/index.html.j2)"
   ]
  },
  {
   "cell_type": "markdown",
   "metadata": {
    "deletable": false,
    "editable": false,
    "lc_cell_meme": {
     "current": "b563593e-ef08-11e7-9edf-0242ac110002",
     "next": "9b1fc47a-ef05-11e7-9edf-0242ac110002",
     "previous": "01802b8c-ef07-11e7-9edf-0242ac110002"
    },
    "run_through_control": {
     "frozen": true,
     "read_only": false
    }
   },
   "source": [
    "ではこのPlaybookを実行するとどうなるか確認してみましょう。"
   ]
  },
  {
   "cell_type": "code",
   "execution_count": 7,
   "metadata": {
    "deletable": false,
    "editable": false,
    "lc_cell_meme": {
     "current": "9b1fc47a-ef05-11e7-9edf-0242ac110002",
     "history": [
      {
       "current": "9b1fc47a-ef05-11e7-9edf-0242ac110002",
       "next": null,
       "previous": "1760f9a8-ef03-11e7-9edf-0242ac110002"
      },
      {
       "current": "9b1fc47a-ef05-11e7-9edf-0242ac110002",
       "next": null,
       "previous": "01802b8c-ef07-11e7-9edf-0242ac110002"
      },
      {
       "current": "9b1fc47a-ef05-11e7-9edf-0242ac110002",
       "next": "6ddf45e6-ef08-11e7-9edf-0242ac110002",
       "previous": "01802b8c-ef07-11e7-9edf-0242ac110002"
      }
     ],
     "next": "9b1fc47a-ef05-11e7-9edf-0242ac110002",
     "previous": "b563593e-ef08-11e7-9edf-0242ac110002"
    },
    "run_through_control": {
     "frozen": true,
     "read_only": false
    },
    "scrolled": false
   },
   "outputs": [
    {
     "name": "stdout",
     "output_type": "stream",
     "text": [
      "\n",
      "PLAY [target] ******************************************************************\n",
      "\n",
      "TASK [Gathering Facts] *********************************************************\n",
      "\u001b[0;32mok: [13.230.56.76]\u001b[0m\n",
      "\u001b[0;32mok: [13.115.202.69]\u001b[0m\n",
      "\n",
      "TASK [yum] *********************************************************************\n",
      "\u001b[0;33mchanged: [13.115.202.69]\u001b[0m\n",
      "\u001b[0;33mchanged: [13.230.56.76]\u001b[0m\n",
      "\n",
      "TASK [systemd] *****************************************************************\n",
      "\u001b[0;33mchanged: [13.115.202.69]\u001b[0m\n",
      "\u001b[0;33mchanged: [13.230.56.76]\u001b[0m\n",
      "\n",
      "TASK [template] ****************************************************************\n",
      "\u001b[0;33mchanged: [13.115.202.69]\u001b[0m\n",
      "\u001b[0;33mchanged: [13.230.56.76]\u001b[0m\n",
      "\n",
      "PLAY RECAP *********************************************************************\n",
      "\u001b[0;33m13.115.202.69\u001b[0m              : \u001b[0;32mok=4   \u001b[0m \u001b[0;33mchanged=3   \u001b[0m unreachable=0    failed=0   \n",
      "\u001b[0;33m13.230.56.76\u001b[0m               : \u001b[0;32mok=4   \u001b[0m \u001b[0;33mchanged=3   \u001b[0m unreachable=0    failed=0   \n",
      "\n"
     ]
    }
   ],
   "source": [
    "# 実行例\n",
    "\n",
    "ansible-playbook -i inventories/02_server_ops -u centos --private-key aitac-automation-key.pem server_ops_httpd_on.yml"
   ]
  },
  {
   "cell_type": "code",
   "execution_count": null,
   "metadata": {
    "lc_cell_meme": {
     "current": "9b1fc47a-ef05-11e7-9edf-0242ac110002",
     "history": [
      {
       "current": "9b1fc47a-ef05-11e7-9edf-0242ac110002",
       "next": null,
       "previous": "1760f9a8-ef03-11e7-9edf-0242ac110002"
      },
      {
       "current": "9b1fc47a-ef05-11e7-9edf-0242ac110002",
       "next": null,
       "previous": "01802b8c-ef07-11e7-9edf-0242ac110002"
      },
      {
       "current": "9b1fc47a-ef05-11e7-9edf-0242ac110002",
       "next": "6ddf45e6-ef08-11e7-9edf-0242ac110002",
       "previous": "01802b8c-ef07-11e7-9edf-0242ac110002"
      }
     ],
     "next": "6ddf45e6-ef08-11e7-9edf-0242ac110002",
     "previous": "9b1fc47a-ef05-11e7-9edf-0242ac110002"
    }
   },
   "outputs": [],
   "source": [
    "# 実行してください\n",
    "\n",
    "ansible-playbook -i inventories/02_server_ops -u centos --private-key aitac-automation-key.pem server_ops_httpd_on.yml"
   ]
  },
  {
   "cell_type": "markdown",
   "metadata": {
    "deletable": false,
    "editable": false,
    "lc_cell_meme": {
     "current": "6ddf45e6-ef08-11e7-9edf-0242ac110002",
     "history": [
      {
       "current": "6ddf45e6-ef08-11e7-9edf-0242ac110002",
       "next": null,
       "previous": "9b1fc47a-ef05-11e7-9edf-0242ac110002"
      }
     ],
     "next": "789e6a50-eef6-11e7-9edf-0242ac110002",
     "previous": "9b1fc47a-ef05-11e7-9edf-0242ac110002"
    },
    "run_through_control": {
     "frozen": true,
     "read_only": false
    }
   },
   "source": [
    "実行したら、それぞれのIPアドレスへブラウザでアクセスしてみてください。設定されたトップページが参照できるはずです。\n",
    "\n",
    "もしくは以下の CELL を実行するとそれぞれのサーバーの index.html を取得してくれます。"
   ]
  },
  {
   "cell_type": "code",
   "execution_count": null,
   "metadata": {
    "lc_cell_meme": {
     "current": "789e6a50-eef6-11e7-9edf-0242ac110002",
     "history": [
      {
       "current": "789e6a50-eef6-11e7-9edf-0242ac110002",
       "next": null,
       "previous": "31137f4a-eef6-11e7-9edf-0242ac110002"
      },
      {
       "current": "789e6a50-eef6-11e7-9edf-0242ac110002",
       "next": "07abf906-eef7-11e7-9edf-0242ac110002",
       "previous": "07abf7da-eef7-11e7-9edf-0242ac110002"
      },
      {
       "current": "789e6a50-eef6-11e7-9edf-0242ac110002",
       "next": "1760f638-ef03-11e7-9edf-0242ac110002",
       "previous": "789e6a50-eef6-11e7-9edf-0242ac110002"
      },
      {
       "current": "789e6a50-eef6-11e7-9edf-0242ac110002",
       "next": "fec6be9a-ef08-11e7-9edf-0242ac110002",
       "previous": "789e6a50-eef6-11e7-9edf-0242ac110002"
      }
     ],
     "next": "fec6be9a-ef08-11e7-9edf-0242ac110002",
     "previous": "6ddf45e6-ef08-11e7-9edf-0242ac110002"
    }
   },
   "outputs": [],
   "source": [
    "# 実行してください。\n",
    "\n",
    "ansible target -i inventories/02_server_ops -u centos --private-key aitac-automation-key.pem -b \\\n",
    "               -m shell -a 'curl -s localhost'"
   ]
  },
  {
   "cell_type": "markdown",
   "metadata": {
    "deletable": false,
    "editable": false,
    "lc_cell_meme": {
     "current": "fec6be9a-ef08-11e7-9edf-0242ac110002",
     "history": [
      {
       "current": "fec6be9a-ef08-11e7-9edf-0242ac110002",
       "next": null,
       "previous": "789e6a50-eef6-11e7-9edf-0242ac110002"
      }
     ],
     "next": "d55c68b0-ef09-11e7-9edf-0242ac110002",
     "previous": "789e6a50-eef6-11e7-9edf-0242ac110002"
    },
    "run_through_control": {
     "frozen": true,
     "read_only": false
    }
   },
   "source": [
    "Ansible を利用すると、このように自動化の処理を記述することができます。\n",
    "\n",
    "また、今作成した [server_ops_httpd_on.yml](/edit/aitac-automation-handson/server_ops_httpd_on.yml) は、先頭の hosts 部分で target グループを指定しています。この部分を書き換えることで、実行先を切り替えることも可能です。\n",
    "\n",
    "更に -i で指定しているインベントリファイルを書き換えることで、全く別のサーバー群に対しても処理を実行することができます。\n",
    "\n",
    "このように、Ansible では、何を実行するか（Playbook）、どこに対して実行するか（Inventory）を分けて管理することで、再利用性の高い自動化を実現することが可能です（Playbookの再利用に関しては後の演習で出てきます）"
   ]
  },
  {
   "cell_type": "markdown",
   "metadata": {
    "deletable": false,
    "editable": false,
    "lc_cell_meme": {
     "current": "d55c68b0-ef09-11e7-9edf-0242ac110002",
     "next": "d55c6a9a-ef09-11e7-9edf-0242ac110002",
     "previous": "fec6be9a-ef08-11e7-9edf-0242ac110002"
    },
    "run_through_control": {
     "frozen": true,
     "read_only": false
    }
   },
   "source": [
    "## Ansible の冪等性（べきとうせい）"
   ]
  },
  {
   "cell_type": "markdown",
   "metadata": {
    "deletable": false,
    "editable": false,
    "lc_cell_meme": {
     "current": "d55c6a9a-ef09-11e7-9edf-0242ac110002",
     "history": [
      {
       "current": "d55c6a9a-ef09-11e7-9edf-0242ac110002",
       "next": null,
       "previous": "d55c68b0-ef09-11e7-9edf-0242ac110002"
      }
     ],
     "next": "1ce1739c-ef0a-11e7-9edf-0242ac110002",
     "previous": "d55c68b0-ef09-11e7-9edf-0242ac110002"
    },
    "run_through_control": {
     "frozen": true,
     "read_only": false
    }
   },
   "source": [
    "ここまでの演習を振り返って、こう思った方もいらっしゃると思います。\n",
    "\n",
    "「こんなのシェルスクリプトを書くのと何が違うんだ？」\n",
    "\n",
    "単純な処理の実行だけであれば、わざわざシェルスクリプでできるものを Playbook にする必要はありません。では、Ansible を使うメリットは何なのかと言うと、この節のタイトルになっている「冪等性」が大きなメリットになります。"
   ]
  },
  {
   "cell_type": "markdown",
   "metadata": {
    "deletable": false,
    "editable": false,
    "lc_cell_meme": {
     "current": "1ce1739c-ef0a-11e7-9edf-0242ac110002",
     "history": [
      {
       "current": "1ce1739c-ef0a-11e7-9edf-0242ac110002",
       "next": null,
       "previous": "d55c6a9a-ef09-11e7-9edf-0242ac110002"
      },
      {
       "current": "1ce1739c-ef0a-11e7-9edf-0242ac110002",
       "next": "64691e18-ef0a-11e7-9edf-0242ac110002",
       "previous": "d55c6a9a-ef09-11e7-9edf-0242ac110002"
      }
     ],
     "next": "9b1fc47a-ef05-11e7-9edf-0242ac110002",
     "previous": "d55c6a9a-ef09-11e7-9edf-0242ac110002"
    },
    "run_through_control": {
     "frozen": true,
     "read_only": false
    }
   },
   "source": [
    "まず、先程実行したHTTPDを有効化するPlaybookをもう一度実行してみてください。\n",
    "\n",
    "処理する内容は同じですが、先程は設定前の状態で合ったのに対して、今回は全て設定済みの状態でPlaybookを実行することになります。"
   ]
  },
  {
   "cell_type": "code",
   "execution_count": 10,
   "metadata": {
    "deletable": false,
    "editable": false,
    "lc_cell_meme": {
     "current": "9b1fc47a-ef05-11e7-9edf-0242ac110002",
     "history": [
      {
       "current": "9b1fc47a-ef05-11e7-9edf-0242ac110002",
       "next": null,
       "previous": "1760f9a8-ef03-11e7-9edf-0242ac110002"
      },
      {
       "current": "9b1fc47a-ef05-11e7-9edf-0242ac110002",
       "next": null,
       "previous": "01802b8c-ef07-11e7-9edf-0242ac110002"
      },
      {
       "current": "9b1fc47a-ef05-11e7-9edf-0242ac110002",
       "next": "6ddf45e6-ef08-11e7-9edf-0242ac110002",
       "previous": "01802b8c-ef07-11e7-9edf-0242ac110002"
      },
      {
       "current": "9b1fc47a-ef05-11e7-9edf-0242ac110002",
       "next": "6ddf45e6-ef08-11e7-9edf-0242ac110002",
       "previous": "9b1fc47a-ef05-11e7-9edf-0242ac110002"
      },
      {
       "current": "9b1fc47a-ef05-11e7-9edf-0242ac110002",
       "next": "6ddf45e6-ef08-11e7-9edf-0242ac110002",
       "previous": "9b1fc47a-ef05-11e7-9edf-0242ac110002"
      },
      {
       "current": "9b1fc47a-ef05-11e7-9edf-0242ac110002",
       "next": "abf2fdc6-ef0a-11e7-9edf-0242ac110002",
       "previous": "9b1fc47a-ef05-11e7-9edf-0242ac110002"
      },
      {
       "current": "9b1fc47a-ef05-11e7-9edf-0242ac110002",
       "next": "abf2fdc6-ef0a-11e7-9edf-0242ac110002",
       "previous": "9b1fc47a-ef05-11e7-9edf-0242ac110002"
      },
      {
       "current": "9b1fc47a-ef05-11e7-9edf-0242ac110002",
       "next": "abf2fdc6-ef0a-11e7-9edf-0242ac110002",
       "previous": "9b1fc47a-ef05-11e7-9edf-0242ac110002"
      },
      {
       "current": "9b1fc47a-ef05-11e7-9edf-0242ac110002",
       "next": "abf2fdc6-ef0a-11e7-9edf-0242ac110002",
       "previous": "9b1fc47a-ef05-11e7-9edf-0242ac110002"
      },
      {
       "current": "9b1fc47a-ef05-11e7-9edf-0242ac110002",
       "next": "abf2fdc6-ef0a-11e7-9edf-0242ac110002",
       "previous": "9b1fc47a-ef05-11e7-9edf-0242ac110002"
      },
      {
       "current": "9b1fc47a-ef05-11e7-9edf-0242ac110002",
       "next": "abf2fdc6-ef0a-11e7-9edf-0242ac110002",
       "previous": "9b1fc47a-ef05-11e7-9edf-0242ac110002"
      },
      {
       "current": "9b1fc47a-ef05-11e7-9edf-0242ac110002",
       "next": "abf2fdc6-ef0a-11e7-9edf-0242ac110002",
       "previous": "9b1fc47a-ef05-11e7-9edf-0242ac110002"
      },
      {
       "current": "9b1fc47a-ef05-11e7-9edf-0242ac110002",
       "next": "abf2fdc6-ef0a-11e7-9edf-0242ac110002",
       "previous": "9b1fc47a-ef05-11e7-9edf-0242ac110002"
      },
      {
       "current": "9b1fc47a-ef05-11e7-9edf-0242ac110002",
       "next": "abf2fdc6-ef0a-11e7-9edf-0242ac110002",
       "previous": "9b1fc47a-ef05-11e7-9edf-0242ac110002"
      },
      {
       "current": "9b1fc47a-ef05-11e7-9edf-0242ac110002",
       "next": "abf2fdc6-ef0a-11e7-9edf-0242ac110002",
       "previous": "9b1fc47a-ef05-11e7-9edf-0242ac110002"
      },
      {
       "current": "9b1fc47a-ef05-11e7-9edf-0242ac110002",
       "next": "abf2fdc6-ef0a-11e7-9edf-0242ac110002",
       "previous": "9b1fc47a-ef05-11e7-9edf-0242ac110002"
      }
     ],
     "next": "9b1fc47a-ef05-11e7-9edf-0242ac110002",
     "previous": "1ce1739c-ef0a-11e7-9edf-0242ac110002"
    },
    "run_through_control": {
     "frozen": true
    },
    "scrolled": false
   },
   "outputs": [
    {
     "name": "stdout",
     "output_type": "stream",
     "text": [
      "\n",
      "PLAY [target] ******************************************************************\n",
      "\n",
      "TASK [Gathering Facts] *********************************************************\n",
      "\u001b[0;32mok: [13.115.202.69]\u001b[0m\n",
      "\u001b[0;32mok: [13.230.56.76]\u001b[0m\n",
      "\n",
      "TASK [yum] *********************************************************************\n",
      "\u001b[0;32mok: [13.115.202.69]\u001b[0m\n",
      "\u001b[0;32mok: [13.230.56.76]\u001b[0m\n",
      "\n",
      "TASK [systemd] *****************************************************************\n",
      "\u001b[0;32mok: [13.230.56.76]\u001b[0m\n",
      "\u001b[0;32mok: [13.115.202.69]\u001b[0m\n",
      "\n",
      "TASK [template] ****************************************************************\n",
      "\u001b[0;32mok: [13.115.202.69]\u001b[0m\n",
      "\u001b[0;32mok: [13.230.56.76]\u001b[0m\n",
      "\n",
      "PLAY RECAP *********************************************************************\n",
      "\u001b[0;32m13.115.202.69\u001b[0m              : \u001b[0;32mok=4   \u001b[0m changed=0    unreachable=0    failed=0   \n",
      "\u001b[0;32m13.230.56.76\u001b[0m               : \u001b[0;32mok=4   \u001b[0m changed=0    unreachable=0    failed=0   \n",
      "\n"
     ]
    }
   ],
   "source": [
    "# 実行例\n",
    "\n",
    "ansible-playbook -i inventories/02_server_ops -u centos --private-key aitac-automation-key.pem server_ops_httpd_on.yml"
   ]
  },
  {
   "cell_type": "code",
   "execution_count": null,
   "metadata": {
    "lc_cell_meme": {
     "current": "9b1fc47a-ef05-11e7-9edf-0242ac110002",
     "history": [
      {
       "current": "9b1fc47a-ef05-11e7-9edf-0242ac110002",
       "next": null,
       "previous": "1760f9a8-ef03-11e7-9edf-0242ac110002"
      },
      {
       "current": "9b1fc47a-ef05-11e7-9edf-0242ac110002",
       "next": null,
       "previous": "01802b8c-ef07-11e7-9edf-0242ac110002"
      },
      {
       "current": "9b1fc47a-ef05-11e7-9edf-0242ac110002",
       "next": "6ddf45e6-ef08-11e7-9edf-0242ac110002",
       "previous": "01802b8c-ef07-11e7-9edf-0242ac110002"
      },
      {
       "current": "9b1fc47a-ef05-11e7-9edf-0242ac110002",
       "next": "6ddf45e6-ef08-11e7-9edf-0242ac110002",
       "previous": "9b1fc47a-ef05-11e7-9edf-0242ac110002"
      },
      {
       "current": "9b1fc47a-ef05-11e7-9edf-0242ac110002",
       "next": "6ddf45e6-ef08-11e7-9edf-0242ac110002",
       "previous": "9b1fc47a-ef05-11e7-9edf-0242ac110002"
      },
      {
       "current": "9b1fc47a-ef05-11e7-9edf-0242ac110002",
       "next": "abf2fdc6-ef0a-11e7-9edf-0242ac110002",
       "previous": "9b1fc47a-ef05-11e7-9edf-0242ac110002"
      },
      {
       "current": "9b1fc47a-ef05-11e7-9edf-0242ac110002",
       "next": "abf2fdc6-ef0a-11e7-9edf-0242ac110002",
       "previous": "9b1fc47a-ef05-11e7-9edf-0242ac110002"
      },
      {
       "current": "9b1fc47a-ef05-11e7-9edf-0242ac110002",
       "next": "abf2fdc6-ef0a-11e7-9edf-0242ac110002",
       "previous": "9b1fc47a-ef05-11e7-9edf-0242ac110002"
      },
      {
       "current": "9b1fc47a-ef05-11e7-9edf-0242ac110002",
       "next": "abf2fdc6-ef0a-11e7-9edf-0242ac110002",
       "previous": "9b1fc47a-ef05-11e7-9edf-0242ac110002"
      },
      {
       "current": "9b1fc47a-ef05-11e7-9edf-0242ac110002",
       "next": "abf2fdc6-ef0a-11e7-9edf-0242ac110002",
       "previous": "9b1fc47a-ef05-11e7-9edf-0242ac110002"
      },
      {
       "current": "9b1fc47a-ef05-11e7-9edf-0242ac110002",
       "next": "abf2fdc6-ef0a-11e7-9edf-0242ac110002",
       "previous": "9b1fc47a-ef05-11e7-9edf-0242ac110002"
      },
      {
       "current": "9b1fc47a-ef05-11e7-9edf-0242ac110002",
       "next": "abf2fdc6-ef0a-11e7-9edf-0242ac110002",
       "previous": "9b1fc47a-ef05-11e7-9edf-0242ac110002"
      },
      {
       "current": "9b1fc47a-ef05-11e7-9edf-0242ac110002",
       "next": "abf2fdc6-ef0a-11e7-9edf-0242ac110002",
       "previous": "9b1fc47a-ef05-11e7-9edf-0242ac110002"
      },
      {
       "current": "9b1fc47a-ef05-11e7-9edf-0242ac110002",
       "next": "abf2fdc6-ef0a-11e7-9edf-0242ac110002",
       "previous": "9b1fc47a-ef05-11e7-9edf-0242ac110002"
      },
      {
       "current": "9b1fc47a-ef05-11e7-9edf-0242ac110002",
       "next": "abf2fdc6-ef0a-11e7-9edf-0242ac110002",
       "previous": "9b1fc47a-ef05-11e7-9edf-0242ac110002"
      }
     ],
     "next": "abf2fdc6-ef0a-11e7-9edf-0242ac110002",
     "previous": "9b1fc47a-ef05-11e7-9edf-0242ac110002"
    }
   },
   "outputs": [],
   "source": [
    "# 実行してください\n",
    "\n",
    "ansible-playbook -i inventories/02_server_ops -u centos --private-key aitac-automation-key.pem server_ops_httpd_on.yml"
   ]
  },
  {
   "cell_type": "markdown",
   "metadata": {
    "deletable": false,
    "editable": false,
    "lc_cell_meme": {
     "current": "abf2fdc6-ef0a-11e7-9edf-0242ac110002",
     "history": [
      {
       "current": "abf2fdc6-ef0a-11e7-9edf-0242ac110002",
       "next": null,
       "previous": "9b1fc47a-ef05-11e7-9edf-0242ac110002"
      },
      {
       "current": "abf2fdc6-ef0a-11e7-9edf-0242ac110002",
       "next": "3b002b74-ef0b-11e7-9edf-0242ac110002",
       "previous": "9b1fc47a-ef05-11e7-9edf-0242ac110002"
      }
     ],
     "next": "ca09dc48-ef0b-11e7-9edf-0242ac110002",
     "previous": "9b1fc47a-ef05-11e7-9edf-0242ac110002"
    },
    "run_through_control": {
     "frozen": true,
     "read_only": false
    }
   },
   "source": [
    "先程とは実行時に出力されるログに違いがあることに気づくと思います(set_fast_repo部分は一旦無視してください)\n",
    "\n",
    "1回目と2回目で異なる箇所は、それぞれの処理において「changed」と出力されたか、「ok」と出力されたかになります。\n",
    "\n",
    "* changed ・・・ Ansibleが処理を実行した結果、対象ホストの状態が変わった（Ansibleが実際に設定を行った）\n",
    "* ok ・・・ Ansibleは処理を行おうとしたが、既に想定した設定になっているので状態が変わらなかった（Ansibleは設定を行わなかった・行う必要がなかった）\n",
    "\n",
    "これが、Ansible が備える冪等性になります。つまり、Ansible は今から行おうとする処理を実行する必要があるのか、無いのかを実行前に判断してくれています。\n",
    "\n",
    "では、この冪等性は何が嬉しいのかというと、\n",
    "\n",
    "* Playbookには「処理の手順ではなく、状態を宣言的に記述できる」→ Playbook＝設定パラメータ＋手順書となる。\n",
    "* 仮に複数台のホストに対して実行した処理が途中で失敗しても、最初から流し直せる（設定が成功した部分はスキップされるため）"
   ]
  },
  {
   "cell_type": "markdown",
   "metadata": {
    "deletable": false,
    "editable": false,
    "lc_cell_meme": {
     "current": "ca09dc48-ef0b-11e7-9edf-0242ac110002",
     "next": "3b002b74-ef0b-11e7-9edf-0242ac110002",
     "previous": "abf2fdc6-ef0a-11e7-9edf-0242ac110002"
    },
    "run_through_control": {
     "frozen": true,
     "read_only": false
    }
   },
   "source": [
    "Ansible の各モジュールはこの冪等性を考慮するように作られており、このモジュールを利用することで簡単に、そして安全に自動化を記述することができるようになっています。\n",
    "\n",
    "これがスクリプトの場合、特に再実行においてはスクリプトを頭から流し直していいのか？ダメなのか？等の面倒な考慮点が生まれてしまうことは容易に想像できると思います。"
   ]
  },
  {
   "cell_type": "markdown",
   "metadata": {
    "deletable": false,
    "editable": false,
    "lc_cell_meme": {
     "current": "3b002b74-ef0b-11e7-9edf-0242ac110002",
     "history": [
      {
       "current": "3b002b74-ef0b-11e7-9edf-0242ac110002",
       "next": null,
       "previous": "abf2fdc6-ef0a-11e7-9edf-0242ac110002"
      },
      {
       "current": "3b002b74-ef0b-11e7-9edf-0242ac110002",
       "next": null,
       "previous": "ca09dc48-ef0b-11e7-9edf-0242ac110002"
      },
      {
       "current": "3b002b74-ef0b-11e7-9edf-0242ac110002",
       "next": "5917da70-ef0c-11e7-9edf-0242ac110002",
       "previous": "ca09dc48-ef0b-11e7-9edf-0242ac110002"
      }
     ],
     "next": "a09ee550-ef0c-11e7-9edf-0242ac110002",
     "previous": "ca09dc48-ef0b-11e7-9edf-0242ac110002"
    },
    "run_through_control": {
     "frozen": true,
     "read_only": false
    }
   },
   "source": [
    "*※ただし、Ansibleも全てのモジュールが完全な冪等性を保証しているわけではありません。モジュールの中には shell のように何が実行されるかわからないものや、操作対象（NW系機器やクラウド環境）によっては原理的に冪等性の確保が難しいものも存在しています。こういったモジュールを使う場合は利用者が注意を払う必要があります*"
   ]
  },
  {
   "cell_type": "markdown",
   "metadata": {
    "deletable": false,
    "editable": false,
    "lc_cell_meme": {
     "current": "a09ee550-ef0c-11e7-9edf-0242ac110002",
     "next": null,
     "previous": "3b002b74-ef0b-11e7-9edf-0242ac110002"
    },
    "run_through_control": {
     "frozen": true,
     "read_only": false
    }
   },
   "source": [
    "本演習はここまでです。"
   ]
  }
 ],
 "metadata": {
  "kernelspec": {
   "display_name": "Bash",
   "language": "bash",
   "name": "bash"
  },
  "language_info": {
   "codemirror_mode": "shell",
   "file_extension": ".sh",
   "mimetype": "text/x-sh",
   "name": "bash"
  },
  "lc_notebook_meme": {
   "current": "64e138f6-eef3-11e7-9edf-0242ac110002",
   "lc_server_signature": {
    "current": {
     "notebook_dir": "/notebooks",
     "notebook_path": "/aitac-automation-handson",
     "server_url": "http://localhost:8888/",
     "signature_id": "bccb0938-1c76-11e8-a3f3-0242ac110002"
    },
    "history": [
     {
      "notebook_dir": "/notebooks",
      "notebook_path": "/aitac-automation-handson",
      "server_url": "http://13.112.122.31:8888/",
      "signature_id": "a266f498-eebe-11e7-9edf-0242ac110002"
     },
     {
      "notebook_dir": "/notebooks",
      "notebook_path": "/aitac-automation-handson",
      "server_url": "http://localhost:8888/",
      "signature_id": "a30ccda8-f42e-11e7-b6b4-0242ac110002"
     }
    ]
   }
  },
  "toc": {
   "nav_menu": {},
   "number_sections": true,
   "sideBar": true,
   "skip_h1_title": true,
   "title_cell": "Table of Contents",
   "title_sidebar": "Contents",
   "toc_cell": false,
   "toc_position": {},
   "toc_section_display": true,
   "toc_window_display": true
  }
 },
 "nbformat": 4,
 "nbformat_minor": 2
}
